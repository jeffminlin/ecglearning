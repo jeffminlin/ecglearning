{
 "cells": [
  {
   "cell_type": "code",
   "execution_count": 1,
   "metadata": {},
   "outputs": [],
   "source": [
    "import pandas as pd\n",
    "file_mit_test = 'mitbih_test.csv'\n",
    "file_mit_train = 'mitbih_train.csv'\n",
    "file_ptbdb_ab = 'ptbdb_abnormal.csv'\n",
    "file_ptbdb_no = 'ptbdb_normal.csv'\n",
    "\n",
    "df_mit_test = pd.read_csv(file_mit_test, header=None)\n",
    "df_mit_train = pd.read_csv(file_mit_train, header=None)\n",
    "df_ptbdb_ab = pd.read_csv(file_ptbdb_ab, header=None)\n",
    "df_ptbdb_no = pd.read_csv(file_ptbdb_no, header=None)"
   ]
  },
  {
   "cell_type": "code",
   "execution_count": 2,
   "metadata": {},
   "outputs": [],
   "source": [
    "import numpy as np\n",
    "import matplotlib.pyplot as plt\n",
    "%matplotlib inline\n",
    "X_train = df_mit_train.iloc[:,:-1]\n",
    "Y_train = df_mit_train.iloc[:,-1]\n",
    "X_test = df_mit_test.iloc[:,:-1]\n",
    "Y_test = df_mit_test.iloc[:,-1]"
   ]
  },
  {
   "cell_type": "code",
   "execution_count": 3,
   "metadata": {},
   "outputs": [
    {
     "name": "stdout",
     "output_type": "stream",
     "text": [
      "k-nearest neighbors score: 0.9746939521286314\n"
     ]
    }
   ],
   "source": [
    "# (1) k-nearest neighbors\n",
    "from sklearn.neighbors import KNeighborsClassifier\n",
    "clf = KNeighborsClassifier(n_neighbors=2)\n",
    "clf.fit(X_train,Y_train)\n",
    "print('k-nearest neighbors score:', clf.score(X_test, Y_test))\n",
    "# score of the k-nearest neighbors is 0.9747 with two neighbors "
   ]
  },
  {
   "cell_type": "code",
   "execution_count": 5,
   "metadata": {},
   "outputs": [
    {
     "name": "stdout",
     "output_type": "stream",
     "text": [
      "K-neighbors regression score: 0.9336753678306022\n"
     ]
    }
   ],
   "source": [
    "# (2) K-neighbors regression\n",
    "from sklearn.neighbors import KNeighborsRegressor\n",
    "Kreg = KNeighborsRegressor(n_neighbors=3)\n",
    "Kreg.fit(X_train,Y_train)\n",
    "print('K-neighbors regression score:', Kreg.score(X_test,Y_test))\n",
    "# score with 3 neighbors is 0.9337"
   ]
  },
  {
   "cell_type": "code",
   "execution_count": 7,
   "metadata": {},
   "outputs": [
    {
     "name": "stdout",
     "output_type": "stream",
     "text": [
      "Training score: 0.6056893850937954\n",
      "Test score: 0.5986016492861155\n"
     ]
    }
   ],
   "source": [
    "# (3) Ridge regression\n",
    "from sklearn.linear_model import Ridge\n",
    "Ridgereg = Ridge().fit(X_train,Y_train)\n",
    "print('Training score:', Ridgereg.score(X_train,Y_train))\n",
    "print('Test score:',Ridgereg.score(X_test,Y_test))\n",
    "# Ridge score is 0.5986"
   ]
  },
  {
   "cell_type": "code",
   "execution_count": 9,
   "metadata": {},
   "outputs": [
    {
     "name": "stdout",
     "output_type": "stream",
     "text": [
      "Training score (alpha =10): 0.6056893850937954\n",
      "Test score(alpha = 10): 0.5986016492861155\n"
     ]
    }
   ],
   "source": [
    "Ridge10 = Ridge(alpha = 10).fit(X_train,Y_train)\n",
    "print('Training score (alpha =10):', Ridgereg.score(X_train,Y_train))\n",
    "print('Test score(alpha = 10):',Ridgereg.score(X_test,Y_test))\n",
    "#Test score(alpha = 10): 0.5986016492861155"
   ]
  },
  {
   "cell_type": "code",
   "execution_count": 10,
   "metadata": {},
   "outputs": [
    {
     "name": "stdout",
     "output_type": "stream",
     "text": [
      "Training score (alpha =10): 0.6056893850937954\n",
      "Test score(alpha = 10): 0.5986016492861155\n"
     ]
    }
   ],
   "source": [
    "Ridge01 = Ridge(alpha = 0.1).fit(X_train,Y_train)\n",
    "print('Training score (alpha =10):', Ridgereg.score(X_train,Y_train))\n",
    "print('Test score(alpha = 10):',Ridgereg.score(X_test,Y_test))\n",
    "# Test score(alpha = 10): 0.5986016492861155"
   ]
  },
  {
   "cell_type": "code",
   "execution_count": 11,
   "metadata": {},
   "outputs": [
    {
     "name": "stderr",
     "output_type": "stream",
     "text": [
      "C:\\Users\\yaotang\\Anaconda3\\lib\\site-packages\\sklearn\\linear_model\\logistic.py:433: FutureWarning: Default solver will be changed to 'lbfgs' in 0.22. Specify a solver to silence this warning.\n",
      "  FutureWarning)\n",
      "C:\\Users\\yaotang\\Anaconda3\\lib\\site-packages\\sklearn\\linear_model\\logistic.py:460: FutureWarning: Default multi_class will be changed to 'auto' in 0.22. Specify the multi_class option to silence this warning.\n",
      "  \"this warning.\", FutureWarning)\n"
     ]
    },
    {
     "name": "stdout",
     "output_type": "stream",
     "text": [
      "Training set score: 0.9059666034675743\n",
      "Test score: 0.9058560204640965\n"
     ]
    }
   ],
   "source": [
    "# (4) Linear model for classification\n",
    "from sklearn.linear_model import LogisticRegression\n",
    "\n",
    "logreg = LogisticRegression().fit(X_train, Y_train)\n",
    "print('Training set score:', logreg.score(X_train, Y_train))\n",
    "print('Test score:', logreg.score(X_test, Y_test))\n",
    "# Test score: 0.9058560204640965"
   ]
  },
  {
   "cell_type": "code",
   "execution_count": 12,
   "metadata": {},
   "outputs": [
    {
     "name": "stderr",
     "output_type": "stream",
     "text": [
      "C:\\Users\\yaotang\\Anaconda3\\lib\\site-packages\\sklearn\\linear_model\\logistic.py:433: FutureWarning: Default solver will be changed to 'lbfgs' in 0.22. Specify a solver to silence this warning.\n",
      "  FutureWarning)\n",
      "C:\\Users\\yaotang\\Anaconda3\\lib\\site-packages\\sklearn\\linear_model\\logistic.py:460: FutureWarning: Default multi_class will be changed to 'auto' in 0.22. Specify the multi_class option to silence this warning.\n",
      "  \"this warning.\", FutureWarning)\n"
     ]
    },
    {
     "name": "stdout",
     "output_type": "stream",
     "text": [
      "Training set score: 0.9084564954199694\n",
      "Test score: 0.9082313173762104\n"
     ]
    }
   ],
   "source": [
    "log100reg = LogisticRegression(C=100).fit(X_train, Y_train)\n",
    "print('Training set score:', log100reg.score(X_train, Y_train))\n",
    "print('Test score:', log100reg.score(X_test, Y_test))\n",
    "#Test score: 0.9082313173762104"
   ]
  },
  {
   "cell_type": "code",
   "execution_count": 13,
   "metadata": {},
   "outputs": [
    {
     "name": "stderr",
     "output_type": "stream",
     "text": [
      "C:\\Users\\yaotang\\Anaconda3\\lib\\site-packages\\sklearn\\linear_model\\logistic.py:433: FutureWarning: Default solver will be changed to 'lbfgs' in 0.22. Specify a solver to silence this warning.\n",
      "  FutureWarning)\n",
      "C:\\Users\\yaotang\\Anaconda3\\lib\\site-packages\\sklearn\\linear_model\\logistic.py:460: FutureWarning: Default multi_class will be changed to 'auto' in 0.22. Specify the multi_class option to silence this warning.\n",
      "  \"this warning.\", FutureWarning)\n"
     ]
    },
    {
     "name": "stdout",
     "output_type": "stream",
     "text": [
      "Training set score: 0.8914041620028782\n",
      "Test score: 0.8914215238443267\n"
     ]
    }
   ],
   "source": [
    "log001reg = LogisticRegression(C=0.01).fit(X_train, Y_train)\n",
    "print('Training set score:', log001reg.score(X_train, Y_train))\n",
    "print('Test score:', log001reg.score(X_test, Y_test))\n",
    "# Test score: 0.8914215238443267"
   ]
  },
  {
   "cell_type": "code",
   "execution_count": 14,
   "metadata": {},
   "outputs": [
    {
     "name": "stdout",
     "output_type": "stream",
     "text": [
      "Test score: 0.9040288689932395\n"
     ]
    },
    {
     "name": "stderr",
     "output_type": "stream",
     "text": [
      "C:\\Users\\yaotang\\Anaconda3\\lib\\site-packages\\sklearn\\svm\\base.py:931: ConvergenceWarning: Liblinear failed to converge, increase the number of iterations.\n",
      "  \"the number of iterations.\", ConvergenceWarning)\n"
     ]
    }
   ],
   "source": [
    "#(5) support vector machine (SVM)\n",
    "from sklearn.svm import LinearSVC\n",
    "linear_svm = LinearSVC().fit(X_train,Y_train)\n",
    "print('Test score:', linear_svm.score(X_test, Y_test))\n",
    "#Test score: 0.9040288689932395"
   ]
  },
  {
   "cell_type": "code",
   "execution_count": 15,
   "metadata": {},
   "outputs": [
    {
     "name": "stdout",
     "output_type": "stream",
     "text": [
      "Accuracy on training set: 1.000\n",
      "Accuracy on test set: 0.953\n"
     ]
    }
   ],
   "source": [
    "# (6) decision trees\n",
    "from sklearn.tree import DecisionTreeClassifier\n",
    "tree = DecisionTreeClassifier(random_state=0)\n",
    "tree.fit(X_train,Y_train)\n",
    "print(\"Accuracy on training set: {:.3f}\".format(tree.score(X_train, Y_train)))\n",
    "print(\"Accuracy on test set: {:.3f}\".format(tree.score(X_test, Y_test)))\n",
    "# Accuracy on test set: 0.953"
   ]
  },
  {
   "cell_type": "code",
   "execution_count": 16,
   "metadata": {},
   "outputs": [
    {
     "name": "stdout",
     "output_type": "stream",
     "text": [
      "Accuracy on training set: 0.913\n",
      "Accuracy on test set: 0.914\n"
     ]
    }
   ],
   "source": [
    "tree1 = DecisionTreeClassifier(max_depth = 4, random_state=0)\n",
    "tree1.fit(X_train,Y_train)\n",
    "print(\"Accuracy on training set: {:.3f}\".format(tree1.score(X_train, Y_train)))\n",
    "print(\"Accuracy on test set: {:.3f}\".format(tree1.score(X_test, Y_test)))\n",
    "# depth is 4, accuracy is 0.914"
   ]
  },
  {
   "cell_type": "code",
   "execution_count": 17,
   "metadata": {},
   "outputs": [
    {
     "name": "stdout",
     "output_type": "stream",
     "text": [
      "Accuracy on training set: 0.650\n",
      "Accuracy on test set: 0.650\n"
     ]
    }
   ],
   "source": [
    "# (7) decision tree regressor\n",
    "from sklearn.tree import DecisionTreeRegressor\n",
    "treeRegr = DecisionTreeRegressor(max_depth=3).fit(X_train, Y_train)\n",
    "print(\"Accuracy on training set: {:.3f}\".format(treeRegr.score(X_train, Y_train)))\n",
    "print(\"Accuracy on test set: {:.3f}\".format(treeRegr.score(X_test, Y_test)))\n",
    "# depth is 3, accuracy is 0.65"
   ]
  },
  {
   "cell_type": "code",
   "execution_count": 18,
   "metadata": {},
   "outputs": [
    {
     "name": "stdout",
     "output_type": "stream",
     "text": [
      "Accuracy on training set: 0.983\n",
      "Accuracy on test set: 0.957\n"
     ]
    }
   ],
   "source": [
    "# (8) Random Forest\n",
    "from sklearn.ensemble import RandomForestClassifier\n",
    "forest = RandomForestClassifier(n_estimators=2, random_state=5)\n",
    "forest.fit(X_train, Y_train)\n",
    "print(\"Accuracy on training set: {:.3f}\".format(forest.score(X_train, Y_train)))\n",
    "print(\"Accuracy on test set: {:.3f}\".format(forest.score(X_test, Y_test)))\n",
    "# Accuracy on test set: 0.957"
   ]
  },
  {
   "cell_type": "code",
   "execution_count": 19,
   "metadata": {},
   "outputs": [
    {
     "name": "stdout",
     "output_type": "stream",
     "text": [
      "Accuracy on training set: 0.997\n",
      "Accuracy on test set: 0.972\n"
     ]
    }
   ],
   "source": [
    "forest1 = RandomForestClassifier(n_estimators=10, random_state=5)\n",
    "forest1.fit(X_train, Y_train)\n",
    "print(\"Accuracy on training set: {:.3f}\".format(forest1.score(X_train, Y_train)))\n",
    "print(\"Accuracy on test set: {:.3f}\".format(forest1.score(X_test, Y_test)))\n",
    "#Accuracy on test set: 0.972"
   ]
  },
  {
   "cell_type": "code",
   "execution_count": 20,
   "metadata": {},
   "outputs": [
    {
     "name": "stdout",
     "output_type": "stream",
     "text": [
      "Accuracy on training set: 0.969\n",
      "Accuracy on test set: 0.964\n"
     ]
    }
   ],
   "source": [
    "# (9) Gradient Boosted Regression Trees\n",
    "from sklearn.ensemble import GradientBoostingClassifier\n",
    "gbrt = GradientBoostingClassifier(random_state=0)\n",
    "gbrt.fit(X_train, Y_train)\n",
    "print(\"Accuracy on training set: {:.3f}\".format(gbrt.score(X_train, Y_train)))\n",
    "print(\"Accuracy on test set: {:.3f}\".format(gbrt.score(X_test, Y_test)))\n",
    "#Accuracy on test set: 0.964"
   ]
  },
  {
   "cell_type": "code",
   "execution_count": 21,
   "metadata": {},
   "outputs": [
    {
     "name": "stdout",
     "output_type": "stream",
     "text": [
      "Accuracy on training set: 0.922\n",
      "Accuracy on test set: 0.923\n"
     ]
    }
   ],
   "source": [
    "gbrt1 = GradientBoostingClassifier(random_state=0,max_depth = 1)\n",
    "gbrt1.fit(X_train, Y_train)\n",
    "print(\"Accuracy on training set: {:.3f}\".format(gbrt1.score(X_train, Y_train)))\n",
    "print(\"Accuracy on test set: {:.3f}\".format(gbrt1.score(X_test, Y_test)))\n",
    "#Accuracy on test set: 0.923"
   ]
  },
  {
   "cell_type": "code",
   "execution_count": 22,
   "metadata": {},
   "outputs": [
    {
     "name": "stdout",
     "output_type": "stream",
     "text": [
      "Accuracy on training set: 0.926\n",
      "Accuracy on test set: 0.927\n"
     ]
    }
   ],
   "source": [
    "gbrt001 = GradientBoostingClassifier(random_state=0,learning_rate = 0.01)\n",
    "gbrt001.fit(X_train, Y_train)\n",
    "print(\"Accuracy on training set: {:.3f}\".format(gbrt001.score(X_train, Y_train)))\n",
    "print(\"Accuracy on test set: {:.3f}\".format(gbrt001.score(X_test, Y_test)))\n",
    "#Accuracy on test set: 0.927"
   ]
  },
  {
   "cell_type": "code",
   "execution_count": 23,
   "metadata": {},
   "outputs": [
    {
     "name": "stdout",
     "output_type": "stream",
     "text": [
      "Accuracy on training set: 0.978\n",
      "Accuracy on test set: 0.973\n"
     ]
    }
   ],
   "source": [
    "#(10) Neural Networks\n",
    "from sklearn.neural_network import MLPClassifier\n",
    "mlp = MLPClassifier(solver='lbfgs', random_state=0).fit(X_train, Y_train)\n",
    "print(\"Accuracy on training set: {:.3f}\".format(mlp.score(X_train, Y_train)))\n",
    "print(\"Accuracy on test set: {:.3f}\".format(mlp.score(X_test, Y_test)))\n",
    "#Accuracy on test set: 0.973"
   ]
  },
  {
   "cell_type": "code",
   "execution_count": 24,
   "metadata": {},
   "outputs": [
    {
     "name": "stdout",
     "output_type": "stream",
     "text": [
      "Accuracy on training set: 0.952\n",
      "Accuracy on test set: 0.949\n"
     ]
    }
   ],
   "source": [
    "# one hidden layer\n",
    "mlp1 = MLPClassifier(solver='lbfgs', random_state=0,hidden_layer_sizes=[10]).fit(X_train, Y_train)\n",
    "print(\"Accuracy on training set: {:.3f}\".format(mlp1.score(X_train, Y_train)))\n",
    "print(\"Accuracy on test set: {:.3f}\".format(mlp1.score(X_test, Y_test)))\n",
    "#Accuracy on test set: 0.949"
   ]
  },
  {
   "cell_type": "code",
   "execution_count": 25,
   "metadata": {},
   "outputs": [
    {
     "name": "stdout",
     "output_type": "stream",
     "text": [
      "Accuracy on training set: 0.962\n",
      "Accuracy on test set: 0.959\n"
     ]
    }
   ],
   "source": [
    "# two hidden layers\n",
    "mlp2 = MLPClassifier(solver='lbfgs', random_state=0,hidden_layer_sizes=[10,10]).fit(X_train, Y_train)\n",
    "print(\"Accuracy on training set: {:.3f}\".format(mlp2.score(X_train, Y_train)))\n",
    "print(\"Accuracy on test set: {:.3f}\".format(mlp2.score(X_test, Y_test)))\n",
    "#Accuracy on test set: 0.959"
   ]
  },
  {
   "cell_type": "code",
   "execution_count": 26,
   "metadata": {},
   "outputs": [
    {
     "name": "stdout",
     "output_type": "stream",
     "text": [
      "Accuracy on training set: 0.966\n",
      "Accuracy on test set: 0.964\n"
     ]
    }
   ],
   "source": [
    "# two hidden layers with tanh nonlinearity\n",
    "mlp2tanh = MLPClassifier(solver='lbfgs', activation='tanh', random_state=0,hidden_layer_sizes=[10,10]).fit(X_train, Y_train)\n",
    "print(\"Accuracy on training set: {:.3f}\".format(mlp2tanh.score(X_train, Y_train)))\n",
    "print(\"Accuracy on test set: {:.3f}\".format(mlp2tanh.score(X_test, Y_test)))\n",
    "#Accuracy on test set: 0.964"
   ]
  },
  {
   "cell_type": "code",
   "execution_count": 27,
   "metadata": {},
   "outputs": [
    {
     "name": "stdout",
     "output_type": "stream",
     "text": [
      "Accuracy on training set: 0.935\n",
      "Accuracy on test set: 0.935\n"
     ]
    }
   ],
   "source": [
    "# maximum iteration is 1000\n",
    "mlp1000 = MLPClassifier(max_iter=1000, alpha=1, random_state=0)\n",
    "mlp1000.fit(X_train,Y_train)\n",
    "print(\"Accuracy on training set: {:.3f}\".format(mlp1000.score(X_train, Y_train)))\n",
    "print(\"Accuracy on test set: {:.3f}\".format(mlp1000.score(X_test, Y_test)))\n",
    "#Accuracy on test set: 0.935"
   ]
  },
  {
   "cell_type": "code",
   "execution_count": null,
   "metadata": {},
   "outputs": [],
   "source": []
  }
 ],
 "metadata": {
  "kernelspec": {
   "display_name": "Python 3",
   "language": "python",
   "name": "python3"
  },
  "language_info": {
   "codemirror_mode": {
    "name": "ipython",
    "version": 3
   },
   "file_extension": ".py",
   "mimetype": "text/x-python",
   "name": "python",
   "nbconvert_exporter": "python",
   "pygments_lexer": "ipython3",
   "version": "3.7.3"
  }
 },
 "nbformat": 4,
 "nbformat_minor": 2
}
