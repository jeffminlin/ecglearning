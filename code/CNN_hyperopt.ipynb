{
 "cells": [
  {
   "cell_type": "markdown",
   "metadata": {},
   "source": [
    "## CNN (ResNet) with pooling hyperparameter optimization\n",
    "\n",
    "We'll try to find a good set of hyperparameters for a standard CNN setup."
   ]
  },
  {
   "cell_type": "code",
   "execution_count": 1,
   "metadata": {},
   "outputs": [
    {
     "name": "stderr",
     "output_type": "stream",
     "text": [
      "Using TensorFlow backend.\n"
     ]
    },
    {
     "name": "stdout",
     "output_type": "stream",
     "text": [
      "\n",
      "Train set\n",
      "Count of each class\n",
      "Classes\n",
      "0.0    72471\n",
      "1.0     2223\n",
      "2.0     5788\n",
      "3.0      641\n",
      "4.0     6431\n",
      "dtype: int64\n",
      "\n",
      "Test set\n",
      "Count of each class\n",
      "Classes\n",
      "0.0    18118\n",
      "1.0      556\n",
      "2.0     1448\n",
      "3.0      162\n",
      "4.0     1608\n",
      "dtype: int64\n"
     ]
    }
   ],
   "source": [
    "import logging\n",
    "import numpy as np\n",
    "import tensorflow as tf\n",
    "\n",
    "from tensorflow.keras import layers\n",
    "from tensorflow.keras import regularizers\n",
    "\n",
    "from hyperopt import Trials, STATUS_OK, tpe\n",
    "from hyperopt.pyll.base import scope\n",
    "from hyperas import optim\n",
    "from hyperas.distributions import choice, uniform, quniform\n",
    "from hyperas.utils import eval_hyperopt_space\n",
    "\n",
    "import tools.train as train\n",
    "import tools.models as models\n",
    "import tools.plot as plot\n",
    "\n",
    "# Suppress tensorflow warnings about internal deprecations\n",
    "logger = tf.get_logger()\n",
    "logger.setLevel(logging.ERROR)\n",
    "\n",
    "## Count data\n",
    "files = (\"../data/mitbih_train.csv\", \"../data/mitbih_test.csv\")\n",
    "inputs, labels, sparse_labels, df = train.preprocess(*files, fft=False)\n",
    "# Add a dimension for \"channels\"\n",
    "for key in inputs:\n",
    "    inputs[key] = tf.expand_dims(inputs[key], axis=2)\n",
    "train.class_count(df)"
   ]
  },
  {
   "cell_type": "code",
   "execution_count": 2,
   "metadata": {},
   "outputs": [
    {
     "name": "stdout",
     "output_type": "stream",
     "text": [
      "100%|████████████████████████████████████████████████████████████████████████████████████████████████████████| 50/50 [2:29:35<00:00, 161.06s/it, best loss: 0.06245988660128909]\n"
     ]
    }
   ],
   "source": [
    "# functions for hyperas\n",
    "def data():\n",
    "    ## Read in data\n",
    "    files = (\"../data/mitbih_train.csv\", \"../data/mitbih_test.csv\")\n",
    "    inputs, labels, sparse_labels, df = train.preprocess(*files, fft=False)\n",
    "    # Add a dimension for \"channels\"\n",
    "    for key in inputs:\n",
    "        inputs[key] = tf.expand_dims(inputs[key], axis=2)\n",
    "    \n",
    "    return inputs, labels\n",
    "\n",
    "def create_model(inputs, labels):\n",
    "    \n",
    "    nblocks = {{quniform(3.5, 5.5, 1)}}\n",
    "    nfilters = {{quniform(31.5, 150.5, 1)}}\n",
    "    filter_width = {{quniform(2.5, 11.5, 1)}}\n",
    "    batch_size = {{quniform(49.5, 500.5, 1)}}\n",
    "    pool_size = {{quniform(1.5, 5.5, 1)}}\n",
    "    conv_padding = {{choice([\"same\", \"causal\"])}}\n",
    "    l1_reg = {{uniform(0, 0.5)}}\n",
    "    l2_reg = {{uniform(0, 0.5)}}\n",
    "    \n",
    "    dilation_limit = inputs[\"train\"].shape[1]\n",
    "    \n",
    "    # Start\n",
    "    layerlist_res = [\n",
    "        (\"conv\",\n",
    "            {\n",
    "                \"filters\": int(nfilters),\n",
    "                 \"width\": int(filter_width),\n",
    "                 \"padding\": conv_padding,\n",
    "            },\n",
    "        )\n",
    "    ]\n",
    "\n",
    "    # Residual blocks\n",
    "    layerlist_res.extend(\n",
    "        [\n",
    "            (\"startskip\",),\n",
    "            (\"conv\",\n",
    "                {\n",
    "                    \"filters\": int(nfilters),\n",
    "                     \"width\": int(filter_width),\n",
    "                     \"padding\": conv_padding,\n",
    "                },\n",
    "            ),\n",
    "            (\"conv\",\n",
    "                {\n",
    "                    \"filters\": int(nfilters),\n",
    "                    \"width\": int(filter_width),\n",
    "                    \"padding\": conv_padding,\n",
    "                    \"activation\": \"linear\",\n",
    "                },\n",
    "            ),\n",
    "            (\"endskip\",),\n",
    "            (layers.Activation(\"relu\"),),\n",
    "            (\"maxpool\", int(pool_size)),\n",
    "        ] * int(nblocks)\n",
    "    )\n",
    "\n",
    "    # End\n",
    "    layerlist_res.extend([\n",
    "        (\"conv\", {\"filters\": int(nfilters), \"width\": 1, \"padding\": conv_padding}),\n",
    "        (layers.Dropout({{uniform(0, 1)}}),)\n",
    "    ])\n",
    "\n",
    "    config = {\n",
    "        \"optimizer\": \"Nadam\",\n",
    "        \"loss\": \"categorical_crossentropy\",\n",
    "        \"batch_size\": int(batch_size),\n",
    "        \"val_split\": 0.4,\n",
    "        \"epochs\": 15,\n",
    "        \"verbose\": 0,\n",
    "        \"patience\": 5,\n",
    "        \"regularizer\": regularizers.l1_l2(l1=l1_reg, l2=l2_reg),\n",
    "    }\n",
    "\n",
    "    inputsize = inputs[\"train\"].shape[1]\n",
    "    ncategories = labels[\"train\"].shape[1]\n",
    "    model_res = models.create_conv1d(inputsize, layerlist_res, ncategories, config)\n",
    "    history = train.train(model_res, inputs, labels, config)\n",
    "    \n",
    "    # get the lowest validation loss of the training epochs\n",
    "    validation_loss = np.amin(history.history['val_loss'])\n",
    "    return {'loss': validation_loss, 'status': STATUS_OK, 'model': model_res}\n",
    "\n",
    "best_run, best_model, space = optim.minimize(\n",
    "    model=create_model,\n",
    "    data=data,\n",
    "    algo=tpe.suggest,\n",
    "    max_evals=50,\n",
    "    eval_space=True,\n",
    "    return_space=True,\n",
    "    trials=Trials(),\n",
    "    notebook_name='CNN_hyperopt',\n",
    "    verbose=False,\n",
    ")"
   ]
  },
  {
   "cell_type": "markdown",
   "metadata": {},
   "source": [
    "Let's see how the \"best model\" has done after only 15 epochs of training."
   ]
  },
  {
   "cell_type": "code",
   "execution_count": 3,
   "metadata": {},
   "outputs": [
    {
     "name": "stdout",
     "output_type": "stream",
     "text": [
      "Chosen hyperparameters from the best-trained model\n",
      "{'Dropout': 0.45578186197222414, 'batch_size': 50.0, 'conv_padding': 'same', 'filter_width': 6.0, 'l1_reg': 0.0021308237877822565, 'l1_reg_1': 0.054908237513536115, 'nblocks': 5.0, 'nfilters': 75.0, 'pool_size': 5.0}\n",
      "Train acc of best performing model after 10 epochs: 0.9882473\n",
      "Test acc of best performing model after 10 epochs: 0.9842865\n",
      "Confusion matrix, without normalization\n",
      "[[18038    47    21     5     7]\n",
      " [  108   442     5     0     1]\n",
      " [   47     6  1386     4     5]\n",
      " [   36     0    33    93     0]\n",
      " [   15     0     3     1  1589]]\n"
     ]
    },
    {
     "data": {
      "image/png": "[encoded data removed]",
      "text/plain": [
       "<Figure size 432x288 with 2 Axes>"
      ]
     },
     "metadata": {
      "needs_background": "light"
     },
     "output_type": "display_data"
    }
   ],
   "source": [
    "print(\"Chosen hyperparameters from the best-trained model\")\n",
    "print(best_run)\n",
    "\n",
    "print(\n",
    "    \"Train acc of best performing model after 10 epochs:\",\n",
    "    best_model.evaluate(inputs[\"train\"], labels[\"train\"], verbose=0)[1],\n",
    ")\n",
    "print(\n",
    "    \"Test acc of best performing model after 10 epochs:\",\n",
    "    best_model.evaluate(inputs[\"test\"], labels[\"test\"], verbose=0)[1],\n",
    ")\n",
    "\n",
    "test_pred = np.argmax(best_model.predict(inputs[\"test\"]), axis=1)\n",
    "plot.plot_cm(sparse_labels[\"test\"], test_pred, classes=np.arange(5), normalize=True)"
   ]
  }
 ],
 "metadata": {
  "kernelspec": {
   "display_name": "Python 3",
   "language": "python",
   "name": "python3"
  },
  "language_info": {
   "codemirror_mode": {
    "name": "ipython",
    "version": 3
   },
   "file_extension": ".py",
   "mimetype": "text/x-python",
   "name": "python",
   "nbconvert_exporter": "python",
   "pygments_lexer": "ipython3",
   "version": "3.7.3"
  }
 },
 "nbformat": 4,
 "nbformat_minor": 2
}
