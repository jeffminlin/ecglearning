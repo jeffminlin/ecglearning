{
 "cells": [
  {
   "cell_type": "code",
   "execution_count": 1,
   "metadata": {},
   "outputs": [
    {
     "name": "stderr",
     "output_type": "stream",
     "text": [
      "Using TensorFlow backend.\n"
     ]
    }
   ],
   "source": [
    "import datetime\n",
    "import os\n",
    "import logging\n",
    "import numpy as np\n",
    "import tensorflow as tf\n",
    "\n",
    "from tensorflow.keras import layers\n",
    "from tensorflow.keras import regularizers\n",
    "\n",
    "import tools.train as train\n",
    "import tools.models as models\n",
    "import tools.plot as plot"
   ]
  },
  {
   "cell_type": "code",
   "execution_count": 2,
   "metadata": {},
   "outputs": [
    {
     "name": "stdout",
     "output_type": "stream",
     "text": [
      "\n",
      "Train set\n",
      "Count of each class\n",
      "Classes\n",
      "0.0    72471\n",
      "1.0     2223\n",
      "2.0     5788\n",
      "3.0      641\n",
      "4.0     6431\n",
      "dtype: int64\n",
      "\n",
      "Test set\n",
      "Count of each class\n",
      "Classes\n",
      "0.0    18118\n",
      "1.0      556\n",
      "2.0     1448\n",
      "3.0      162\n",
      "4.0     1608\n",
      "dtype: int64\n"
     ]
    }
   ],
   "source": [
    "# Suppress tensorflow warnings about internal deprecations\n",
    "logger = tf.get_logger()\n",
    "logger.setLevel(logging.ERROR)\n",
    "\n",
    "# Tensorboard logging\n",
    "rightnow = datetime.datetime.now().strftime(\"%Y%m%d-%H%M%S\")\n",
    "nofftpath = os.path.join(\"..\", \"logs\", rightnow, \"nofft\")\n",
    "\n",
    "## Count data\n",
    "files = (\"../data/mitbih_train.csv\", \"../data/mitbih_test.csv\")\n",
    "inputs, labels, sparse_labels, df = train.preprocess(*files, fft=False)\n",
    "# Add a dimension for \"channels\"\n",
    "for key in inputs:\n",
    "    inputs[key] = tf.expand_dims(inputs[key], axis=2)\n",
    "train.class_count(df)"
   ]
  },
  {
   "cell_type": "code",
   "execution_count": 3,
   "metadata": {
    "scrolled": true
   },
   "outputs": [
    {
     "name": "stdout",
     "output_type": "stream",
     "text": [
      "Weighting the classes: [  1.          32.60053981  12.52090532 113.05928237  11.26900949]\n",
      "\n"
     ]
    }
   ],
   "source": [
    "largest_class_count = df[\"train\"].groupby(\"Classes\").size().max()\n",
    "class_weights = np.divide(largest_class_count, df[\"train\"].groupby(\"Classes\").size().to_numpy())\n",
    "\n",
    "print(\"Weighting the classes:\", class_weights)\n",
    "\n",
    "# Make the CNN\n",
    "nblocks = 5\n",
    "nfilters = 75\n",
    "filter_width = 6\n",
    "batch_size = 50\n",
    "pool_size = 5\n",
    "conv_padding = \"same\"\n",
    "\n",
    "# Start\n",
    "layerlist_res = [\n",
    "    (\"conv\",\n",
    "        {\n",
    "            \"filters\": int(nfilters),\n",
    "            \"width\": int(filter_width),\n",
    "            \"padding\": conv_padding,\n",
    "            \"activation\": \"linear\",\n",
    "        },\n",
    "    ),\n",
    "    (layers.BatchNormalization(),),\n",
    "    (layers.Activation(\"relu\"),),\n",
    "]\n",
    "\n",
    "# Residual blocks\n",
    "for block in range(int(nblocks)):\n",
    "    layerlist_res.extend(\n",
    "        [\n",
    "            (\"startskip\",),\n",
    "            (\"conv\",\n",
    "                {\n",
    "                    \"filters\": int(nfilters),\n",
    "                    \"width\": int(filter_width),\n",
    "                    \"padding\": conv_padding,\n",
    "                    \"activation\": \"linear\",\n",
    "                },\n",
    "            ),\n",
    "            (layers.BatchNormalization(),),\n",
    "            (layers.Activation(\"relu\"),),\n",
    "            (\"conv\",\n",
    "                {\n",
    "                    \"filters\": int(nfilters),\n",
    "                    \"width\": int(filter_width),\n",
    "                    \"padding\": conv_padding,\n",
    "                    \"activation\": \"linear\",\n",
    "                },\n",
    "            ),\n",
    "            (\"endskip\",),\n",
    "            (layers.BatchNormalization(),),\n",
    "            (layers.Activation(\"relu\"),),\n",
    "            (\"maxpool\", int(pool_size)),\n",
    "        ]\n",
    "    )\n",
    "\n",
    "# End\n",
    "layerlist_res.extend([\n",
    "    (\"conv\",\n",
    "        {\n",
    "            \"filters\": int(nfilters),\n",
    "            \"width\": 1,\n",
    "            \"padding\": conv_padding,\n",
    "            \"activation\": \"linear\",\n",
    "        },\n",
    "    ),\n",
    "    (layers.BatchNormalization(),),\n",
    "    (layers.Activation(\"relu\"),),\n",
    "    (layers.Dropout(0.456),)\n",
    "])\n",
    "\n",
    "config = {\n",
    "    \"optimizer\": \"Nadam\",\n",
    "    \"loss\": \"categorical_crossentropy\",\n",
    "    \"class_weights\": class_weights,\n",
    "    \"batch_size\": int(batch_size),\n",
    "    \"val_split\": 0.05,\n",
    "    \"epochs\": 500,\n",
    "    \"verbose\": 0,\n",
    "    \"patience\": 500,\n",
    "    \"regularizer\": regularizers.l1_l2(l1=0.00213, l2=0.0549),\n",
    "}\n",
    "\n",
    "inputsize = inputs[\"train\"].shape[1]\n",
    "ncategories = labels[\"train\"].shape[1]\n",
    "model_res = models.create_conv1d(inputsize, layerlist_res, ncategories, config)\n",
    "history = train.train(model_res, inputs, labels, config)"
   ]
  },
  {
   "cell_type": "code",
   "execution_count": 4,
   "metadata": {
    "scrolled": false
   },
   "outputs": [
    {
     "name": "stdout",
     "output_type": "stream",
     "text": [
      "Train accuracy: 0.9995203\n",
      "Test accuracy: 0.98931116\n"
     ]
    },
    {
     "data": {
      "image/png": "[encoded data removed]",
      "text/plain": [
       "<Figure size 432x288 with 1 Axes>"
      ]
     },
     "metadata": {
      "needs_background": "light"
     },
     "output_type": "display_data"
    },
    {
     "name": "stdout",
     "output_type": "stream",
     "text": [
      "Confusion matrix, without normalization\n",
      "[[18062    34    14     7     1]\n",
      " [   75   469     8     3     1]\n",
      " [   29     4  1401    14     0]\n",
      " [   18     1    12   131     0]\n",
      " [   10     1     1     1  1595]]\n"
     ]
    },
    {
     "data": {
      "image/png": "[encoded data removed]",
      "text/plain": [
       "<Figure size 432x288 with 2 Axes>"
      ]
     },
     "metadata": {
      "needs_background": "light"
     },
     "output_type": "display_data"
    }
   ],
   "source": [
    "print(\n",
    "    \"Train accuracy:\",\n",
    "    model_res.evaluate(inputs[\"train\"], labels[\"train\"], verbose=0)[1],\n",
    ")\n",
    "print(\n",
    "    \"Test accuracy:\",\n",
    "    model_res.evaluate(inputs[\"test\"], labels[\"test\"], verbose=0)[1],\n",
    ")\n",
    "plot.plot_fit_history(history)\n",
    "\n",
    "test_pred = np.argmax(model_res.predict(inputs[\"test\"]), axis=1)\n",
    "plot.plot_cm(sparse_labels[\"test\"], test_pred, classes=np.array([\"N\", \"S\", \"V\", \"F\", \"Q\"]), normalize=True)"
   ]
  },
  {
   "cell_type": "markdown",
   "metadata": {},
   "source": [
    "Let's save the model with its architecture and weights."
   ]
  },
  {
   "cell_type": "code",
   "execution_count": 5,
   "metadata": {},
   "outputs": [],
   "source": [
    "if not os.path.exists(os.path.join(\"..\", \"models\", rightnow, \"nofft\")):\n",
    "    os.makedirs(os.path.join(\"..\", \"models\", rightnow, \"nofft\"))\n",
    "model_res.save(os.path.join(\"..\", \"models\", rightnow, \"nofft\", \"CNN.h5\"))"
   ]
  },
  {
   "cell_type": "code",
   "execution_count": 6,
   "metadata": {
    "scrolled": false
   },
   "outputs": [
    {
     "name": "stdout",
     "output_type": "stream",
     "text": [
      "Model: \"conv1d\"\n",
      "__________________________________________________________________________________________________\n",
      "Layer (type)                    Output Shape         Param #     Connected to                     \n",
      "==================================================================================================\n",
      "input_1 (InputLayer)            [(None, 187, 1)]     0                                            \n",
      "__________________________________________________________________________________________________\n",
      "conv1d (Conv1D)                 (None, 187, 75)      525         input_1[0][0]                    \n",
      "__________________________________________________________________________________________________\n",
      "batch_normalization (BatchNorma (None, 187, 75)      300         conv1d[0][0]                     \n",
      "__________________________________________________________________________________________________\n",
      "activation (Activation)         (None, 187, 75)      0           batch_normalization[0][0]        \n",
      "__________________________________________________________________________________________________\n",
      "conv1d_1 (Conv1D)               (None, 187, 75)      33825       activation[0][0]                 \n",
      "__________________________________________________________________________________________________\n",
      "batch_normalization_1 (BatchNor (None, 187, 75)      300         conv1d_1[0][0]                   \n",
      "__________________________________________________________________________________________________\n",
      "activation_1 (Activation)       (None, 187, 75)      0           batch_normalization_1[0][0]      \n",
      "__________________________________________________________________________________________________\n",
      "conv1d_2 (Conv1D)               (None, 187, 75)      33825       activation_1[0][0]               \n",
      "__________________________________________________________________________________________________\n",
      "add (Add)                       (None, 187, 75)      0           conv1d_2[0][0]                   \n",
      "                                                                 activation[0][0]                 \n",
      "__________________________________________________________________________________________________\n",
      "batch_normalization_2 (BatchNor (None, 187, 75)      300         add[0][0]                        \n",
      "__________________________________________________________________________________________________\n",
      "activation_2 (Activation)       (None, 187, 75)      0           batch_normalization_2[0][0]      \n",
      "__________________________________________________________________________________________________\n",
      "max_pooling1d (MaxPooling1D)    (None, 92, 75)       0           activation_2[0][0]               \n",
      "__________________________________________________________________________________________________\n",
      "conv1d_3 (Conv1D)               (None, 92, 75)       33825       max_pooling1d[0][0]              \n",
      "__________________________________________________________________________________________________\n",
      "batch_normalization_3 (BatchNor (None, 92, 75)       300         conv1d_3[0][0]                   \n",
      "__________________________________________________________________________________________________\n",
      "activation_3 (Activation)       (None, 92, 75)       0           batch_normalization_3[0][0]      \n",
      "__________________________________________________________________________________________________\n",
      "conv1d_4 (Conv1D)               (None, 92, 75)       33825       activation_3[0][0]               \n",
      "__________________________________________________________________________________________________\n",
      "add_1 (Add)                     (None, 92, 75)       0           conv1d_4[0][0]                   \n",
      "                                                                 max_pooling1d[0][0]              \n",
      "__________________________________________________________________________________________________\n",
      "batch_normalization_4 (BatchNor (None, 92, 75)       300         add_1[0][0]                      \n",
      "__________________________________________________________________________________________________\n",
      "activation_4 (Activation)       (None, 92, 75)       0           batch_normalization_4[0][0]      \n",
      "__________________________________________________________________________________________________\n",
      "max_pooling1d_1 (MaxPooling1D)  (None, 44, 75)       0           activation_4[0][0]               \n",
      "__________________________________________________________________________________________________\n",
      "conv1d_5 (Conv1D)               (None, 44, 75)       33825       max_pooling1d_1[0][0]            \n",
      "__________________________________________________________________________________________________\n",
      "batch_normalization_5 (BatchNor (None, 44, 75)       300         conv1d_5[0][0]                   \n",
      "__________________________________________________________________________________________________\n",
      "activation_5 (Activation)       (None, 44, 75)       0           batch_normalization_5[0][0]      \n",
      "__________________________________________________________________________________________________\n",
      "conv1d_6 (Conv1D)               (None, 44, 75)       33825       activation_5[0][0]               \n",
      "__________________________________________________________________________________________________\n",
      "add_2 (Add)                     (None, 44, 75)       0           conv1d_6[0][0]                   \n",
      "                                                                 max_pooling1d_1[0][0]            \n",
      "__________________________________________________________________________________________________\n",
      "batch_normalization_6 (BatchNor (None, 44, 75)       300         add_2[0][0]                      \n",
      "__________________________________________________________________________________________________\n",
      "activation_6 (Activation)       (None, 44, 75)       0           batch_normalization_6[0][0]      \n",
      "__________________________________________________________________________________________________\n",
      "max_pooling1d_2 (MaxPooling1D)  (None, 20, 75)       0           activation_6[0][0]               \n",
      "__________________________________________________________________________________________________\n",
      "conv1d_7 (Conv1D)               (None, 20, 75)       33825       max_pooling1d_2[0][0]            \n",
      "__________________________________________________________________________________________________\n",
      "batch_normalization_7 (BatchNor (None, 20, 75)       300         conv1d_7[0][0]                   \n",
      "__________________________________________________________________________________________________\n",
      "activation_7 (Activation)       (None, 20, 75)       0           batch_normalization_7[0][0]      \n",
      "__________________________________________________________________________________________________\n",
      "conv1d_8 (Conv1D)               (None, 20, 75)       33825       activation_7[0][0]               \n",
      "__________________________________________________________________________________________________\n",
      "add_3 (Add)                     (None, 20, 75)       0           conv1d_8[0][0]                   \n",
      "                                                                 max_pooling1d_2[0][0]            \n",
      "__________________________________________________________________________________________________\n",
      "batch_normalization_8 (BatchNor (None, 20, 75)       300         add_3[0][0]                      \n",
      "__________________________________________________________________________________________________\n",
      "activation_8 (Activation)       (None, 20, 75)       0           batch_normalization_8[0][0]      \n",
      "__________________________________________________________________________________________________\n",
      "max_pooling1d_3 (MaxPooling1D)  (None, 8, 75)        0           activation_8[0][0]               \n",
      "__________________________________________________________________________________________________\n",
      "conv1d_9 (Conv1D)               (None, 8, 75)        33825       max_pooling1d_3[0][0]            \n",
      "__________________________________________________________________________________________________\n",
      "batch_normalization_9 (BatchNor (None, 8, 75)        300         conv1d_9[0][0]                   \n",
      "__________________________________________________________________________________________________\n",
      "activation_9 (Activation)       (None, 8, 75)        0           batch_normalization_9[0][0]      \n",
      "__________________________________________________________________________________________________\n",
      "conv1d_10 (Conv1D)              (None, 8, 75)        33825       activation_9[0][0]               \n",
      "__________________________________________________________________________________________________\n",
      "add_4 (Add)                     (None, 8, 75)        0           conv1d_10[0][0]                  \n",
      "                                                                 max_pooling1d_3[0][0]            \n",
      "__________________________________________________________________________________________________\n",
      "batch_normalization_10 (BatchNo (None, 8, 75)        300         add_4[0][0]                      \n",
      "__________________________________________________________________________________________________\n",
      "activation_10 (Activation)      (None, 8, 75)        0           batch_normalization_10[0][0]     \n",
      "__________________________________________________________________________________________________\n",
      "max_pooling1d_4 (MaxPooling1D)  (None, 2, 75)        0           activation_10[0][0]              \n",
      "__________________________________________________________________________________________________\n",
      "conv1d_11 (Conv1D)              (None, 2, 75)        5700        max_pooling1d_4[0][0]            \n",
      "__________________________________________________________________________________________________\n",
      "batch_normalization_11 (BatchNo (None, 2, 75)        300         conv1d_11[0][0]                  \n",
      "__________________________________________________________________________________________________\n",
      "activation_11 (Activation)      (None, 2, 75)        0           batch_normalization_11[0][0]     \n",
      "__________________________________________________________________________________________________\n",
      "dropout (Dropout)               (None, 2, 75)        0           activation_11[0][0]              \n",
      "__________________________________________________________________________________________________\n",
      "flatten (Flatten)               (None, 150)          0           dropout[0][0]                    \n",
      "__________________________________________________________________________________________________\n",
      "dense (Dense)                   (None, 5)            755         flatten[0][0]                    \n",
      "==================================================================================================\n",
      "Total params: 348,830\n",
      "Trainable params: 347,030\n",
      "Non-trainable params: 1,800\n",
      "__________________________________________________________________________________________________\n"
     ]
    }
   ],
   "source": [
    "model_res.summary()"
   ]
  }
 ],
 "metadata": {
  "kernelspec": {
   "display_name": "Python 3",
   "language": "python",
   "name": "python3"
  },
  "language_info": {
   "codemirror_mode": {
    "name": "ipython",
    "version": 3
   },
   "file_extension": ".py",
   "mimetype": "text/x-python",
   "name": "python",
   "nbconvert_exporter": "python",
   "pygments_lexer": "ipython3",
   "version": "3.7.3"
  }
 },
 "nbformat": 4,
 "nbformat_minor": 2
}
