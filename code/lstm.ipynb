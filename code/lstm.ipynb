{
 "cells": [
  {
   "cell_type": "code",
   "execution_count": 1,
   "metadata": {},
   "outputs": [
    {
     "name": "stderr",
     "output_type": "stream",
     "text": [
      "Using TensorFlow backend.\n"
     ]
    }
   ],
   "source": [
    "import datetime\n",
    "import os\n",
    "import logging\n",
    "import numpy as np\n",
    "import tensorflow as tf\n",
    "\n",
    "from tensorflow.keras import layers\n",
    "from tensorflow.keras import regularizers\n",
    "\n",
    "import tools.train as train\n",
    "import tools.models as models\n",
    "import tools.plot as plot"
   ]
  },
  {
   "cell_type": "code",
   "execution_count": 2,
   "metadata": {},
   "outputs": [
    {
     "name": "stdout",
     "output_type": "stream",
     "text": [
      "\n",
      "Train set\n",
      "Count of each class\n",
      "Classes\n",
      "0.0    72471\n",
      "1.0     2223\n",
      "2.0     5788\n",
      "3.0      641\n",
      "4.0     6431\n",
      "dtype: int64\n",
      "\n",
      "Test set\n",
      "Count of each class\n",
      "Classes\n",
      "0.0    18118\n",
      "1.0      556\n",
      "2.0     1448\n",
      "3.0      162\n",
      "4.0     1608\n",
      "dtype: int64\n"
     ]
    }
   ],
   "source": [
    "# Suppress tensorflow warnings about internal deprecations\n",
    "logger = tf.get_logger()\n",
    "logger.setLevel(logging.ERROR)\n",
    "\n",
    "# Tensorboard logging\n",
    "rightnow = datetime.datetime.now().strftime(\"%Y%m%d-%H%M%S\")\n",
    "nofftpath = os.path.join(\"..\", \"logs\", rightnow, \"nofft\")\n",
    "\n",
    "## Count data\n",
    "files = (\"../data/mitbih_train.csv\", \"../data/mitbih_test.csv\")\n",
    "inputs, labels, sparse_labels, df = train.preprocess(*files, fft=False)\n",
    "# Add a dimension for \"channels\"\n",
    "for key in inputs:\n",
    "    inputs[key] = tf.expand_dims(inputs[key], axis=2)\n",
    "train.class_count(df)"
   ]
  },
  {
   "cell_type": "code",
   "execution_count": 3,
   "metadata": {},
   "outputs": [
    {
     "name": "stdout",
     "output_type": "stream",
     "text": [
      "Weighting the classes: [  1.          32.60053981  12.52090532 113.05928237  11.26900949]\n",
      "Model: \"lstm\"\n",
      "_________________________________________________________________\n",
      "Layer (type)                 Output Shape              Param #   \n",
      "=================================================================\n",
      "input_1 (InputLayer)         [(None, None, 1)]         0         \n",
      "_________________________________________________________________\n",
      "lstm (LSTM)                  (None, 94)                36096     \n",
      "_________________________________________________________________\n",
      "dense (Dense)                (None, 5)                 475       \n",
      "=================================================================\n",
      "Total params: 36,571\n",
      "Trainable params: 36,571\n",
      "Non-trainable params: 0\n",
      "_________________________________________________________________\n",
      "\n",
      "Training\n"
     ]
    },
    {
     "data": {
      "application/vnd.jupyter.widget-view+json": {
       "model_id": "c046ce6ead9344f9922147917329d86e",
       "version_major": 2,
       "version_minor": 0
      },
      "text/plain": [
       "HBox(children=(IntProgress(value=0, description='Training', max=300, style=ProgressStyle(description_width='in…"
      ]
     },
     "metadata": {},
     "output_type": "display_data"
    },
    {
     "data": {
      "application/vnd.jupyter.widget-view+json": {
       "model_id": "",
       "version_major": 2,
       "version_minor": 0
      },
      "text/plain": [
       "HBox(children=(IntProgress(value=0, description='Epoch 0', max=83176, style=ProgressStyle(description_width='i…"
      ]
     },
     "metadata": {},
     "output_type": "display_data"
    },
    {
     "data": {
      "application/vnd.jupyter.widget-view+json": {
       "model_id": "",
       "version_major": 2,
       "version_minor": 0
      },
      "text/plain": [
       "HBox(children=(IntProgress(value=0, description='Epoch 1', max=83176, style=ProgressStyle(description_width='i…"
      ]
     },
     "metadata": {},
     "output_type": "display_data"
    },
    {
     "data": {
      "application/vnd.jupyter.widget-view+json": {
       "model_id": "",
       "version_major": 2,
       "version_minor": 0
      },
      "text/plain": [
       "HBox(children=(IntProgress(value=0, description='Epoch 2', max=83176, style=ProgressStyle(description_width='i…"
      ]
     },
     "metadata": {},
     "output_type": "display_data"
    },
    {
     "data": {
      "application/vnd.jupyter.widget-view+json": {
       "model_id": "",
       "version_major": 2,
       "version_minor": 0
      },
      "text/plain": [
       "HBox(children=(IntProgress(value=0, description='Epoch 3', max=83176, style=ProgressStyle(description_width='i…"
      ]
     },
     "metadata": {},
     "output_type": "display_data"
    },
    {
     "data": {
      "application/vnd.jupyter.widget-view+json": {
       "model_id": "",
       "version_major": 2,
       "version_minor": 0
      },
      "text/plain": [
       "HBox(children=(IntProgress(value=0, description='Epoch 4', max=83176, style=ProgressStyle(description_width='i…"
      ]
     },
     "metadata": {},
     "output_type": "display_data"
    },
    {
     "data": {
      "application/vnd.jupyter.widget-view+json": {
       "model_id": "",
       "version_major": 2,
       "version_minor": 0
      },
      "text/plain": [
       "HBox(children=(IntProgress(value=0, description='Epoch 5', max=83176, style=ProgressStyle(description_width='i…"
      ]
     },
     "metadata": {},
     "output_type": "display_data"
    },
    {
     "data": {
      "application/vnd.jupyter.widget-view+json": {
       "model_id": "",
       "version_major": 2,
       "version_minor": 0
      },
      "text/plain": [
       "HBox(children=(IntProgress(value=0, description='Epoch 6', max=83176, style=ProgressStyle(description_width='i…"
      ]
     },
     "metadata": {},
     "output_type": "display_data"
    },
    {
     "data": {
      "application/vnd.jupyter.widget-view+json": {
       "model_id": "",
       "version_major": 2,
       "version_minor": 0
      },
      "text/plain": [
       "HBox(children=(IntProgress(value=0, description='Epoch 7', max=83176, style=ProgressStyle(description_width='i…"
      ]
     },
     "metadata": {},
     "output_type": "display_data"
    },
    {
     "data": {
      "application/vnd.jupyter.widget-view+json": {
       "model_id": "",
       "version_major": 2,
       "version_minor": 0
      },
      "text/plain": [
       "HBox(children=(IntProgress(value=0, description='Epoch 8', max=83176, style=ProgressStyle(description_width='i…"
      ]
     },
     "metadata": {},
     "output_type": "display_data"
    },
    {
     "data": {
      "application/vnd.jupyter.widget-view+json": {
       "model_id": "",
       "version_major": 2,
       "version_minor": 0
      },
      "text/plain": [
       "HBox(children=(IntProgress(value=0, description='Epoch 9', max=83176, style=ProgressStyle(description_width='i…"
      ]
     },
     "metadata": {},
     "output_type": "display_data"
    },
    {
     "data": {
      "application/vnd.jupyter.widget-view+json": {
       "model_id": "",
       "version_major": 2,
       "version_minor": 0
      },
      "text/plain": [
       "HBox(children=(IntProgress(value=0, description='Epoch 10', max=83176, style=ProgressStyle(description_width='…"
      ]
     },
     "metadata": {},
     "output_type": "display_data"
    },
    {
     "data": {
      "application/vnd.jupyter.widget-view+json": {
       "model_id": "",
       "version_major": 2,
       "version_minor": 0
      },
      "text/plain": [
       "HBox(children=(IntProgress(value=0, description='Epoch 11', max=83176, style=ProgressStyle(description_width='…"
      ]
     },
     "metadata": {},
     "output_type": "display_data"
    },
    {
     "data": {
      "application/vnd.jupyter.widget-view+json": {
       "model_id": "",
       "version_major": 2,
       "version_minor": 0
      },
      "text/plain": [
       "HBox(children=(IntProgress(value=0, description='Epoch 12', max=83176, style=ProgressStyle(description_width='…"
      ]
     },
     "metadata": {},
     "output_type": "display_data"
    },
    {
     "data": {
      "application/vnd.jupyter.widget-view+json": {
       "model_id": "",
       "version_major": 2,
       "version_minor": 0
      },
      "text/plain": [
       "HBox(children=(IntProgress(value=0, description='Epoch 13', max=83176, style=ProgressStyle(description_width='…"
      ]
     },
     "metadata": {},
     "output_type": "display_data"
    },
    {
     "data": {
      "application/vnd.jupyter.widget-view+json": {
       "model_id": "",
       "version_major": 2,
       "version_minor": 0
      },
      "text/plain": [
       "HBox(children=(IntProgress(value=0, description='Epoch 14', max=83176, style=ProgressStyle(description_width='…"
      ]
     },
     "metadata": {},
     "output_type": "display_data"
    },
    {
     "data": {
      "application/vnd.jupyter.widget-view+json": {
       "model_id": "",
       "version_major": 2,
       "version_minor": 0
      },
      "text/plain": [
       "HBox(children=(IntProgress(value=0, description='Epoch 15', max=83176, style=ProgressStyle(description_width='…"
      ]
     },
     "metadata": {},
     "output_type": "display_data"
    },
    {
     "data": {
      "application/vnd.jupyter.widget-view+json": {
       "model_id": "",
       "version_major": 2,
       "version_minor": 0
      },
      "text/plain": [
       "HBox(children=(IntProgress(value=0, description='Epoch 16', max=83176, style=ProgressStyle(description_width='…"
      ]
     },
     "metadata": {},
     "output_type": "display_data"
    },
    {
     "data": {
      "application/vnd.jupyter.widget-view+json": {
       "model_id": "",
       "version_major": 2,
       "version_minor": 0
      },
      "text/plain": [
       "HBox(children=(IntProgress(value=0, description='Epoch 17', max=83176, style=ProgressStyle(description_width='…"
      ]
     },
     "metadata": {},
     "output_type": "display_data"
    },
    {
     "data": {
      "application/vnd.jupyter.widget-view+json": {
       "model_id": "",
       "version_major": 2,
       "version_minor": 0
      },
      "text/plain": [
       "HBox(children=(IntProgress(value=0, description='Epoch 18', max=83176, style=ProgressStyle(description_width='…"
      ]
     },
     "metadata": {},
     "output_type": "display_data"
    },
    {
     "data": {
      "application/vnd.jupyter.widget-view+json": {
       "model_id": "",
       "version_major": 2,
       "version_minor": 0
      },
      "text/plain": [
       "HBox(children=(IntProgress(value=0, description='Epoch 19', max=83176, style=ProgressStyle(description_width='…"
      ]
     },
     "metadata": {},
     "output_type": "display_data"
    },
    {
     "data": {
      "application/vnd.jupyter.widget-view+json": {
       "model_id": "",
       "version_major": 2,
       "version_minor": 0
      },
      "text/plain": [
       "HBox(children=(IntProgress(value=0, description='Epoch 20', max=83176, style=ProgressStyle(description_width='…"
      ]
     },
     "metadata": {},
     "output_type": "display_data"
    },
    {
     "data": {
      "application/vnd.jupyter.widget-view+json": {
       "model_id": "",
       "version_major": 2,
       "version_minor": 0
      },
      "text/plain": [
       "HBox(children=(IntProgress(value=0, description='Epoch 21', max=83176, style=ProgressStyle(description_width='…"
      ]
     },
     "metadata": {},
     "output_type": "display_data"
    },
    {
     "data": {
      "application/vnd.jupyter.widget-view+json": {
       "model_id": "",
       "version_major": 2,
       "version_minor": 0
      },
      "text/plain": [
       "HBox(children=(IntProgress(value=0, description='Epoch 22', max=83176, style=ProgressStyle(description_width='…"
      ]
     },
     "metadata": {},
     "output_type": "display_data"
    },
    {
     "data": {
      "application/vnd.jupyter.widget-view+json": {
       "model_id": "",
       "version_major": 2,
       "version_minor": 0
      },
      "text/plain": [
       "HBox(children=(IntProgress(value=0, description='Epoch 23', max=83176, style=ProgressStyle(description_width='…"
      ]
     },
     "metadata": {},
     "output_type": "display_data"
    },
    {
     "data": {
      "application/vnd.jupyter.widget-view+json": {
       "model_id": "",
       "version_major": 2,
       "version_minor": 0
      },
      "text/plain": [
       "HBox(children=(IntProgress(value=0, description='Epoch 24', max=83176, style=ProgressStyle(description_width='…"
      ]
     },
     "metadata": {},
     "output_type": "display_data"
    },
    {
     "data": {
      "application/vnd.jupyter.widget-view+json": {
       "model_id": "",
       "version_major": 2,
       "version_minor": 0
      },
      "text/plain": [
       "HBox(children=(IntProgress(value=0, description='Epoch 25', max=83176, style=ProgressStyle(description_width='…"
      ]
     },
     "metadata": {},
     "output_type": "display_data"
    },
    {
     "data": {
      "application/vnd.jupyter.widget-view+json": {
       "model_id": "",
       "version_major": 2,
       "version_minor": 0
      },
      "text/plain": [
       "HBox(children=(IntProgress(value=0, description='Epoch 26', max=83176, style=ProgressStyle(description_width='…"
      ]
     },
     "metadata": {},
     "output_type": "display_data"
    },
    {
     "data": {
      "application/vnd.jupyter.widget-view+json": {
       "model_id": "",
       "version_major": 2,
       "version_minor": 0
      },
      "text/plain": [
       "HBox(children=(IntProgress(value=0, description='Epoch 27', max=83176, style=ProgressStyle(description_width='…"
      ]
     },
     "metadata": {},
     "output_type": "display_data"
    },
    {
     "data": {
      "application/vnd.jupyter.widget-view+json": {
       "model_id": "",
       "version_major": 2,
       "version_minor": 0
      },
      "text/plain": [
       "HBox(children=(IntProgress(value=0, description='Epoch 28', max=83176, style=ProgressStyle(description_width='…"
      ]
     },
     "metadata": {},
     "output_type": "display_data"
    },
    {
     "data": {
      "application/vnd.jupyter.widget-view+json": {
       "model_id": "",
       "version_major": 2,
       "version_minor": 0
      },
      "text/plain": [
       "HBox(children=(IntProgress(value=0, description='Epoch 29', max=83176, style=ProgressStyle(description_width='…"
      ]
     },
     "metadata": {},
     "output_type": "display_data"
    },
    {
     "data": {
      "application/vnd.jupyter.widget-view+json": {
       "model_id": "",
       "version_major": 2,
       "version_minor": 0
      },
      "text/plain": [
       "HBox(children=(IntProgress(value=0, description='Epoch 30', max=83176, style=ProgressStyle(description_width='…"
      ]
     },
     "metadata": {},
     "output_type": "display_data"
    },
    {
     "data": {
      "application/vnd.jupyter.widget-view+json": {
       "model_id": "",
       "version_major": 2,
       "version_minor": 0
      },
      "text/plain": [
       "HBox(children=(IntProgress(value=0, description='Epoch 31', max=83176, style=ProgressStyle(description_width='…"
      ]
     },
     "metadata": {},
     "output_type": "display_data"
    },
    {
     "data": {
      "application/vnd.jupyter.widget-view+json": {
       "model_id": "",
       "version_major": 2,
       "version_minor": 0
      },
      "text/plain": [
       "HBox(children=(IntProgress(value=0, description='Epoch 32', max=83176, style=ProgressStyle(description_width='…"
      ]
     },
     "metadata": {},
     "output_type": "display_data"
    },
    {
     "data": {
      "application/vnd.jupyter.widget-view+json": {
       "model_id": "",
       "version_major": 2,
       "version_minor": 0
      },
      "text/plain": [
       "HBox(children=(IntProgress(value=0, description='Epoch 33', max=83176, style=ProgressStyle(description_width='…"
      ]
     },
     "metadata": {},
     "output_type": "display_data"
    },
    {
     "data": {
      "application/vnd.jupyter.widget-view+json": {
       "model_id": "",
       "version_major": 2,
       "version_minor": 0
      },
      "text/plain": [
       "HBox(children=(IntProgress(value=0, description='Epoch 34', max=83176, style=ProgressStyle(description_width='…"
      ]
     },
     "metadata": {},
     "output_type": "display_data"
    },
    {
     "data": {
      "application/vnd.jupyter.widget-view+json": {
       "model_id": "",
       "version_major": 2,
       "version_minor": 0
      },
      "text/plain": [
       "HBox(children=(IntProgress(value=0, description='Epoch 35', max=83176, style=ProgressStyle(description_width='…"
      ]
     },
     "metadata": {},
     "output_type": "display_data"
    },
    {
     "data": {
      "application/vnd.jupyter.widget-view+json": {
       "model_id": "",
       "version_major": 2,
       "version_minor": 0
      },
      "text/plain": [
       "HBox(children=(IntProgress(value=0, description='Epoch 36', max=83176, style=ProgressStyle(description_width='…"
      ]
     },
     "metadata": {},
     "output_type": "display_data"
    },
    {
     "data": {
      "application/vnd.jupyter.widget-view+json": {
       "model_id": "",
       "version_major": 2,
       "version_minor": 0
      },
      "text/plain": [
       "HBox(children=(IntProgress(value=0, description='Epoch 37', max=83176, style=ProgressStyle(description_width='…"
      ]
     },
     "metadata": {},
     "output_type": "display_data"
    },
    {
     "data": {
      "application/vnd.jupyter.widget-view+json": {
       "model_id": "",
       "version_major": 2,
       "version_minor": 0
      },
      "text/plain": [
       "HBox(children=(IntProgress(value=0, description='Epoch 38', max=83176, style=ProgressStyle(description_width='…"
      ]
     },
     "metadata": {},
     "output_type": "display_data"
    },
    {
     "data": {
      "application/vnd.jupyter.widget-view+json": {
       "model_id": "",
       "version_major": 2,
       "version_minor": 0
      },
      "text/plain": [
       "HBox(children=(IntProgress(value=0, description='Epoch 39', max=83176, style=ProgressStyle(description_width='…"
      ]
     },
     "metadata": {},
     "output_type": "display_data"
    },
    {
     "data": {
      "application/vnd.jupyter.widget-view+json": {
       "model_id": "",
       "version_major": 2,
       "version_minor": 0
      },
      "text/plain": [
       "HBox(children=(IntProgress(value=0, description='Epoch 40', max=83176, style=ProgressStyle(description_width='…"
      ]
     },
     "metadata": {},
     "output_type": "display_data"
    },
    {
     "data": {
      "application/vnd.jupyter.widget-view+json": {
       "model_id": "",
       "version_major": 2,
       "version_minor": 0
      },
      "text/plain": [
       "HBox(children=(IntProgress(value=0, description='Epoch 41', max=83176, style=ProgressStyle(description_width='…"
      ]
     },
     "metadata": {},
     "output_type": "display_data"
    },
    {
     "data": {
      "application/vnd.jupyter.widget-view+json": {
       "model_id": "",
       "version_major": 2,
       "version_minor": 0
      },
      "text/plain": [
       "HBox(children=(IntProgress(value=0, description='Epoch 42', max=83176, style=ProgressStyle(description_width='…"
      ]
     },
     "metadata": {},
     "output_type": "display_data"
    },
    {
     "data": {
      "application/vnd.jupyter.widget-view+json": {
       "model_id": "",
       "version_major": 2,
       "version_minor": 0
      },
      "text/plain": [
       "HBox(children=(IntProgress(value=0, description='Epoch 43', max=83176, style=ProgressStyle(description_width='…"
      ]
     },
     "metadata": {},
     "output_type": "display_data"
    },
    {
     "data": {
      "application/vnd.jupyter.widget-view+json": {
       "model_id": "",
       "version_major": 2,
       "version_minor": 0
      },
      "text/plain": [
       "HBox(children=(IntProgress(value=0, description='Epoch 44', max=83176, style=ProgressStyle(description_width='…"
      ]
     },
     "metadata": {},
     "output_type": "display_data"
    },
    {
     "data": {
      "application/vnd.jupyter.widget-view+json": {
       "model_id": "",
       "version_major": 2,
       "version_minor": 0
      },
      "text/plain": [
       "HBox(children=(IntProgress(value=0, description='Epoch 45', max=83176, style=ProgressStyle(description_width='…"
      ]
     },
     "metadata": {},
     "output_type": "display_data"
    },
    {
     "data": {
      "application/vnd.jupyter.widget-view+json": {
       "model_id": "",
       "version_major": 2,
       "version_minor": 0
      },
      "text/plain": [
       "HBox(children=(IntProgress(value=0, description='Epoch 46', max=83176, style=ProgressStyle(description_width='…"
      ]
     },
     "metadata": {},
     "output_type": "display_data"
    },
    {
     "data": {
      "application/vnd.jupyter.widget-view+json": {
       "model_id": "",
       "version_major": 2,
       "version_minor": 0
      },
      "text/plain": [
       "HBox(children=(IntProgress(value=0, description='Epoch 47', max=83176, style=ProgressStyle(description_width='…"
      ]
     },
     "metadata": {},
     "output_type": "display_data"
    },
    {
     "data": {
      "application/vnd.jupyter.widget-view+json": {
       "model_id": "",
       "version_major": 2,
       "version_minor": 0
      },
      "text/plain": [
       "HBox(children=(IntProgress(value=0, description='Epoch 48', max=83176, style=ProgressStyle(description_width='…"
      ]
     },
     "metadata": {},
     "output_type": "display_data"
    },
    {
     "data": {
      "application/vnd.jupyter.widget-view+json": {
       "model_id": "",
       "version_major": 2,
       "version_minor": 0
      },
      "text/plain": [
       "HBox(children=(IntProgress(value=0, description='Epoch 49', max=83176, style=ProgressStyle(description_width='…"
      ]
     },
     "metadata": {},
     "output_type": "display_data"
    },
    {
     "data": {
      "application/vnd.jupyter.widget-view+json": {
       "model_id": "",
       "version_major": 2,
       "version_minor": 0
      },
      "text/plain": [
       "HBox(children=(IntProgress(value=0, description='Epoch 50', max=83176, style=ProgressStyle(description_width='…"
      ]
     },
     "metadata": {},
     "output_type": "display_data"
    },
    {
     "data": {
      "application/vnd.jupyter.widget-view+json": {
       "model_id": "",
       "version_major": 2,
       "version_minor": 0
      },
      "text/plain": [
       "HBox(children=(IntProgress(value=0, description='Epoch 51', max=83176, style=ProgressStyle(description_width='…"
      ]
     },
     "metadata": {},
     "output_type": "display_data"
    },
    {
     "data": {
      "application/vnd.jupyter.widget-view+json": {
       "model_id": "",
       "version_major": 2,
       "version_minor": 0
      },
      "text/plain": [
       "HBox(children=(IntProgress(value=0, description='Epoch 52', max=83176, style=ProgressStyle(description_width='…"
      ]
     },
     "metadata": {},
     "output_type": "display_data"
    },
    {
     "data": {
      "application/vnd.jupyter.widget-view+json": {
       "model_id": "",
       "version_major": 2,
       "version_minor": 0
      },
      "text/plain": [
       "HBox(children=(IntProgress(value=0, description='Epoch 53', max=83176, style=ProgressStyle(description_width='…"
      ]
     },
     "metadata": {},
     "output_type": "display_data"
    },
    {
     "data": {
      "application/vnd.jupyter.widget-view+json": {
       "model_id": "",
       "version_major": 2,
       "version_minor": 0
      },
      "text/plain": [
       "HBox(children=(IntProgress(value=0, description='Epoch 54', max=83176, style=ProgressStyle(description_width='…"
      ]
     },
     "metadata": {},
     "output_type": "display_data"
    },
    {
     "data": {
      "application/vnd.jupyter.widget-view+json": {
       "model_id": "",
       "version_major": 2,
       "version_minor": 0
      },
      "text/plain": [
       "HBox(children=(IntProgress(value=0, description='Epoch 55', max=83176, style=ProgressStyle(description_width='…"
      ]
     },
     "metadata": {},
     "output_type": "display_data"
    },
    {
     "data": {
      "application/vnd.jupyter.widget-view+json": {
       "model_id": "",
       "version_major": 2,
       "version_minor": 0
      },
      "text/plain": [
       "HBox(children=(IntProgress(value=0, description='Epoch 56', max=83176, style=ProgressStyle(description_width='…"
      ]
     },
     "metadata": {},
     "output_type": "display_data"
    },
    {
     "data": {
      "application/vnd.jupyter.widget-view+json": {
       "model_id": "",
       "version_major": 2,
       "version_minor": 0
      },
      "text/plain": [
       "HBox(children=(IntProgress(value=0, description='Epoch 57', max=83176, style=ProgressStyle(description_width='…"
      ]
     },
     "metadata": {},
     "output_type": "display_data"
    },
    {
     "data": {
      "application/vnd.jupyter.widget-view+json": {
       "model_id": "",
       "version_major": 2,
       "version_minor": 0
      },
      "text/plain": [
       "HBox(children=(IntProgress(value=0, description='Epoch 58', max=83176, style=ProgressStyle(description_width='…"
      ]
     },
     "metadata": {},
     "output_type": "display_data"
    },
    {
     "data": {
      "application/vnd.jupyter.widget-view+json": {
       "model_id": "",
       "version_major": 2,
       "version_minor": 0
      },
      "text/plain": [
       "HBox(children=(IntProgress(value=0, description='Epoch 59', max=83176, style=ProgressStyle(description_width='…"
      ]
     },
     "metadata": {},
     "output_type": "display_data"
    },
    {
     "data": {
      "application/vnd.jupyter.widget-view+json": {
       "model_id": "",
       "version_major": 2,
       "version_minor": 0
      },
      "text/plain": [
       "HBox(children=(IntProgress(value=0, description='Epoch 60', max=83176, style=ProgressStyle(description_width='…"
      ]
     },
     "metadata": {},
     "output_type": "display_data"
    },
    {
     "data": {
      "application/vnd.jupyter.widget-view+json": {
       "model_id": "",
       "version_major": 2,
       "version_minor": 0
      },
      "text/plain": [
       "HBox(children=(IntProgress(value=0, description='Epoch 61', max=83176, style=ProgressStyle(description_width='…"
      ]
     },
     "metadata": {},
     "output_type": "display_data"
    },
    {
     "data": {
      "application/vnd.jupyter.widget-view+json": {
       "model_id": "",
       "version_major": 2,
       "version_minor": 0
      },
      "text/plain": [
       "HBox(children=(IntProgress(value=0, description='Epoch 62', max=83176, style=ProgressStyle(description_width='…"
      ]
     },
     "metadata": {},
     "output_type": "display_data"
    },
    {
     "data": {
      "application/vnd.jupyter.widget-view+json": {
       "model_id": "",
       "version_major": 2,
       "version_minor": 0
      },
      "text/plain": [
       "HBox(children=(IntProgress(value=0, description='Epoch 63', max=83176, style=ProgressStyle(description_width='…"
      ]
     },
     "metadata": {},
     "output_type": "display_data"
    },
    {
     "data": {
      "application/vnd.jupyter.widget-view+json": {
       "model_id": "",
       "version_major": 2,
       "version_minor": 0
      },
      "text/plain": [
       "HBox(children=(IntProgress(value=0, description='Epoch 64', max=83176, style=ProgressStyle(description_width='…"
      ]
     },
     "metadata": {},
     "output_type": "display_data"
    },
    {
     "data": {
      "application/vnd.jupyter.widget-view+json": {
       "model_id": "",
       "version_major": 2,
       "version_minor": 0
      },
      "text/plain": [
       "HBox(children=(IntProgress(value=0, description='Epoch 65', max=83176, style=ProgressStyle(description_width='…"
      ]
     },
     "metadata": {},
     "output_type": "display_data"
    },
    {
     "data": {
      "application/vnd.jupyter.widget-view+json": {
       "model_id": "",
       "version_major": 2,
       "version_minor": 0
      },
      "text/plain": [
       "HBox(children=(IntProgress(value=0, description='Epoch 66', max=83176, style=ProgressStyle(description_width='…"
      ]
     },
     "metadata": {},
     "output_type": "display_data"
    },
    {
     "data": {
      "application/vnd.jupyter.widget-view+json": {
       "model_id": "",
       "version_major": 2,
       "version_minor": 0
      },
      "text/plain": [
       "HBox(children=(IntProgress(value=0, description='Epoch 67', max=83176, style=ProgressStyle(description_width='…"
      ]
     },
     "metadata": {},
     "output_type": "display_data"
    },
    {
     "data": {
      "application/vnd.jupyter.widget-view+json": {
       "model_id": "",
       "version_major": 2,
       "version_minor": 0
      },
      "text/plain": [
       "HBox(children=(IntProgress(value=0, description='Epoch 68', max=83176, style=ProgressStyle(description_width='…"
      ]
     },
     "metadata": {},
     "output_type": "display_data"
    },
    {
     "data": {
      "application/vnd.jupyter.widget-view+json": {
       "model_id": "",
       "version_major": 2,
       "version_minor": 0
      },
      "text/plain": [
       "HBox(children=(IntProgress(value=0, description='Epoch 69', max=83176, style=ProgressStyle(description_width='…"
      ]
     },
     "metadata": {},
     "output_type": "display_data"
    },
    {
     "data": {
      "application/vnd.jupyter.widget-view+json": {
       "model_id": "",
       "version_major": 2,
       "version_minor": 0
      },
      "text/plain": [
       "HBox(children=(IntProgress(value=0, description='Epoch 70', max=83176, style=ProgressStyle(description_width='…"
      ]
     },
     "metadata": {},
     "output_type": "display_data"
    },
    {
     "data": {
      "application/vnd.jupyter.widget-view+json": {
       "model_id": "",
       "version_major": 2,
       "version_minor": 0
      },
      "text/plain": [
       "HBox(children=(IntProgress(value=0, description='Epoch 71', max=83176, style=ProgressStyle(description_width='…"
      ]
     },
     "metadata": {},
     "output_type": "display_data"
    },
    {
     "data": {
      "application/vnd.jupyter.widget-view+json": {
       "model_id": "",
       "version_major": 2,
       "version_minor": 0
      },
      "text/plain": [
       "HBox(children=(IntProgress(value=0, description='Epoch 72', max=83176, style=ProgressStyle(description_width='…"
      ]
     },
     "metadata": {},
     "output_type": "display_data"
    },
    {
     "data": {
      "application/vnd.jupyter.widget-view+json": {
       "model_id": "",
       "version_major": 2,
       "version_minor": 0
      },
      "text/plain": [
       "HBox(children=(IntProgress(value=0, description='Epoch 73', max=83176, style=ProgressStyle(description_width='…"
      ]
     },
     "metadata": {},
     "output_type": "display_data"
    },
    {
     "data": {
      "application/vnd.jupyter.widget-view+json": {
       "model_id": "",
       "version_major": 2,
       "version_minor": 0
      },
      "text/plain": [
       "HBox(children=(IntProgress(value=0, description='Epoch 74', max=83176, style=ProgressStyle(description_width='…"
      ]
     },
     "metadata": {},
     "output_type": "display_data"
    },
    {
     "data": {
      "application/vnd.jupyter.widget-view+json": {
       "model_id": "",
       "version_major": 2,
       "version_minor": 0
      },
      "text/plain": [
       "HBox(children=(IntProgress(value=0, description='Epoch 75', max=83176, style=ProgressStyle(description_width='…"
      ]
     },
     "metadata": {},
     "output_type": "display_data"
    },
    {
     "data": {
      "application/vnd.jupyter.widget-view+json": {
       "model_id": "",
       "version_major": 2,
       "version_minor": 0
      },
      "text/plain": [
       "HBox(children=(IntProgress(value=0, description='Epoch 76', max=83176, style=ProgressStyle(description_width='…"
      ]
     },
     "metadata": {},
     "output_type": "display_data"
    },
    {
     "data": {
      "application/vnd.jupyter.widget-view+json": {
       "model_id": "",
       "version_major": 2,
       "version_minor": 0
      },
      "text/plain": [
       "HBox(children=(IntProgress(value=0, description='Epoch 77', max=83176, style=ProgressStyle(description_width='…"
      ]
     },
     "metadata": {},
     "output_type": "display_data"
    },
    {
     "data": {
      "application/vnd.jupyter.widget-view+json": {
       "model_id": "",
       "version_major": 2,
       "version_minor": 0
      },
      "text/plain": [
       "HBox(children=(IntProgress(value=0, description='Epoch 78', max=83176, style=ProgressStyle(description_width='…"
      ]
     },
     "metadata": {},
     "output_type": "display_data"
    },
    {
     "data": {
      "application/vnd.jupyter.widget-view+json": {
       "model_id": "",
       "version_major": 2,
       "version_minor": 0
      },
      "text/plain": [
       "HBox(children=(IntProgress(value=0, description='Epoch 79', max=83176, style=ProgressStyle(description_width='…"
      ]
     },
     "metadata": {},
     "output_type": "display_data"
    },
    {
     "data": {
      "application/vnd.jupyter.widget-view+json": {
       "model_id": "",
       "version_major": 2,
       "version_minor": 0
      },
      "text/plain": [
       "HBox(children=(IntProgress(value=0, description='Epoch 80', max=83176, style=ProgressStyle(description_width='…"
      ]
     },
     "metadata": {},
     "output_type": "display_data"
    },
    {
     "data": {
      "application/vnd.jupyter.widget-view+json": {
       "model_id": "",
       "version_major": 2,
       "version_minor": 0
      },
      "text/plain": [
       "HBox(children=(IntProgress(value=0, description='Epoch 81', max=83176, style=ProgressStyle(description_width='…"
      ]
     },
     "metadata": {},
     "output_type": "display_data"
    },
    {
     "data": {
      "application/vnd.jupyter.widget-view+json": {
       "model_id": "",
       "version_major": 2,
       "version_minor": 0
      },
      "text/plain": [
       "HBox(children=(IntProgress(value=0, description='Epoch 82', max=83176, style=ProgressStyle(description_width='…"
      ]
     },
     "metadata": {},
     "output_type": "display_data"
    },
    {
     "data": {
      "application/vnd.jupyter.widget-view+json": {
       "model_id": "",
       "version_major": 2,
       "version_minor": 0
      },
      "text/plain": [
       "HBox(children=(IntProgress(value=0, description='Epoch 83', max=83176, style=ProgressStyle(description_width='…"
      ]
     },
     "metadata": {},
     "output_type": "display_data"
    },
    {
     "data": {
      "application/vnd.jupyter.widget-view+json": {
       "model_id": "",
       "version_major": 2,
       "version_minor": 0
      },
      "text/plain": [
       "HBox(children=(IntProgress(value=0, description='Epoch 84', max=83176, style=ProgressStyle(description_width='…"
      ]
     },
     "metadata": {},
     "output_type": "display_data"
    },
    {
     "data": {
      "application/vnd.jupyter.widget-view+json": {
       "model_id": "",
       "version_major": 2,
       "version_minor": 0
      },
      "text/plain": [
       "HBox(children=(IntProgress(value=0, description='Epoch 85', max=83176, style=ProgressStyle(description_width='…"
      ]
     },
     "metadata": {},
     "output_type": "display_data"
    },
    {
     "data": {
      "application/vnd.jupyter.widget-view+json": {
       "model_id": "",
       "version_major": 2,
       "version_minor": 0
      },
      "text/plain": [
       "HBox(children=(IntProgress(value=0, description='Epoch 86', max=83176, style=ProgressStyle(description_width='…"
      ]
     },
     "metadata": {},
     "output_type": "display_data"
    },
    {
     "data": {
      "application/vnd.jupyter.widget-view+json": {
       "model_id": "",
       "version_major": 2,
       "version_minor": 0
      },
      "text/plain": [
       "HBox(children=(IntProgress(value=0, description='Epoch 87', max=83176, style=ProgressStyle(description_width='…"
      ]
     },
     "metadata": {},
     "output_type": "display_data"
    },
    {
     "data": {
      "application/vnd.jupyter.widget-view+json": {
       "model_id": "",
       "version_major": 2,
       "version_minor": 0
      },
      "text/plain": [
       "HBox(children=(IntProgress(value=0, description='Epoch 88', max=83176, style=ProgressStyle(description_width='…"
      ]
     },
     "metadata": {},
     "output_type": "display_data"
    },
    {
     "data": {
      "application/vnd.jupyter.widget-view+json": {
       "model_id": "",
       "version_major": 2,
       "version_minor": 0
      },
      "text/plain": [
       "HBox(children=(IntProgress(value=0, description='Epoch 89', max=83176, style=ProgressStyle(description_width='…"
      ]
     },
     "metadata": {},
     "output_type": "display_data"
    },
    {
     "data": {
      "application/vnd.jupyter.widget-view+json": {
       "model_id": "",
       "version_major": 2,
       "version_minor": 0
      },
      "text/plain": [
       "HBox(children=(IntProgress(value=0, description='Epoch 90', max=83176, style=ProgressStyle(description_width='…"
      ]
     },
     "metadata": {},
     "output_type": "display_data"
    },
    {
     "data": {
      "application/vnd.jupyter.widget-view+json": {
       "model_id": "",
       "version_major": 2,
       "version_minor": 0
      },
      "text/plain": [
       "HBox(children=(IntProgress(value=0, description='Epoch 91', max=83176, style=ProgressStyle(description_width='…"
      ]
     },
     "metadata": {},
     "output_type": "display_data"
    },
    {
     "data": {
      "application/vnd.jupyter.widget-view+json": {
       "model_id": "",
       "version_major": 2,
       "version_minor": 0
      },
      "text/plain": [
       "HBox(children=(IntProgress(value=0, description='Epoch 92', max=83176, style=ProgressStyle(description_width='…"
      ]
     },
     "metadata": {},
     "output_type": "display_data"
    },
    {
     "data": {
      "application/vnd.jupyter.widget-view+json": {
       "model_id": "",
       "version_major": 2,
       "version_minor": 0
      },
      "text/plain": [
       "HBox(children=(IntProgress(value=0, description='Epoch 93', max=83176, style=ProgressStyle(description_width='…"
      ]
     },
     "metadata": {},
     "output_type": "display_data"
    },
    {
     "data": {
      "application/vnd.jupyter.widget-view+json": {
       "model_id": "",
       "version_major": 2,
       "version_minor": 0
      },
      "text/plain": [
       "HBox(children=(IntProgress(value=0, description='Epoch 94', max=83176, style=ProgressStyle(description_width='…"
      ]
     },
     "metadata": {},
     "output_type": "display_data"
    },
    {
     "data": {
      "application/vnd.jupyter.widget-view+json": {
       "model_id": "",
       "version_major": 2,
       "version_minor": 0
      },
      "text/plain": [
       "HBox(children=(IntProgress(value=0, description='Epoch 95', max=83176, style=ProgressStyle(description_width='…"
      ]
     },
     "metadata": {},
     "output_type": "display_data"
    },
    {
     "data": {
      "application/vnd.jupyter.widget-view+json": {
       "model_id": "",
       "version_major": 2,
       "version_minor": 0
      },
      "text/plain": [
       "HBox(children=(IntProgress(value=0, description='Epoch 96', max=83176, style=ProgressStyle(description_width='…"
      ]
     },
     "metadata": {},
     "output_type": "display_data"
    },
    {
     "data": {
      "application/vnd.jupyter.widget-view+json": {
       "model_id": "",
       "version_major": 2,
       "version_minor": 0
      },
      "text/plain": [
       "HBox(children=(IntProgress(value=0, description='Epoch 97', max=83176, style=ProgressStyle(description_width='…"
      ]
     },
     "metadata": {},
     "output_type": "display_data"
    },
    {
     "data": {
      "application/vnd.jupyter.widget-view+json": {
       "model_id": "",
       "version_major": 2,
       "version_minor": 0
      },
      "text/plain": [
       "HBox(children=(IntProgress(value=0, description='Epoch 98', max=83176, style=ProgressStyle(description_width='…"
      ]
     },
     "metadata": {},
     "output_type": "display_data"
    },
    {
     "data": {
      "application/vnd.jupyter.widget-view+json": {
       "model_id": "",
       "version_major": 2,
       "version_minor": 0
      },
      "text/plain": [
       "HBox(children=(IntProgress(value=0, description='Epoch 99', max=83176, style=ProgressStyle(description_width='…"
      ]
     },
     "metadata": {},
     "output_type": "display_data"
    },
    {
     "data": {
      "application/vnd.jupyter.widget-view+json": {
       "model_id": "",
       "version_major": 2,
       "version_minor": 0
      },
      "text/plain": [
       "HBox(children=(IntProgress(value=0, description='Epoch 100', max=83176, style=ProgressStyle(description_width=…"
      ]
     },
     "metadata": {},
     "output_type": "display_data"
    },
    {
     "data": {
      "application/vnd.jupyter.widget-view+json": {
       "model_id": "",
       "version_major": 2,
       "version_minor": 0
      },
      "text/plain": [
       "HBox(children=(IntProgress(value=0, description='Epoch 101', max=83176, style=ProgressStyle(description_width=…"
      ]
     },
     "metadata": {},
     "output_type": "display_data"
    },
    {
     "data": {
      "application/vnd.jupyter.widget-view+json": {
       "model_id": "",
       "version_major": 2,
       "version_minor": 0
      },
      "text/plain": [
       "HBox(children=(IntProgress(value=0, description='Epoch 102', max=83176, style=ProgressStyle(description_width=…"
      ]
     },
     "metadata": {},
     "output_type": "display_data"
    },
    {
     "data": {
      "application/vnd.jupyter.widget-view+json": {
       "model_id": "",
       "version_major": 2,
       "version_minor": 0
      },
      "text/plain": [
       "HBox(children=(IntProgress(value=0, description='Epoch 103', max=83176, style=ProgressStyle(description_width=…"
      ]
     },
     "metadata": {},
     "output_type": "display_data"
    },
    {
     "data": {
      "application/vnd.jupyter.widget-view+json": {
       "model_id": "",
       "version_major": 2,
       "version_minor": 0
      },
      "text/plain": [
       "HBox(children=(IntProgress(value=0, description='Epoch 104', max=83176, style=ProgressStyle(description_width=…"
      ]
     },
     "metadata": {},
     "output_type": "display_data"
    },
    {
     "data": {
      "application/vnd.jupyter.widget-view+json": {
       "model_id": "",
       "version_major": 2,
       "version_minor": 0
      },
      "text/plain": [
       "HBox(children=(IntProgress(value=0, description='Epoch 105', max=83176, style=ProgressStyle(description_width=…"
      ]
     },
     "metadata": {},
     "output_type": "display_data"
    },
    {
     "data": {
      "application/vnd.jupyter.widget-view+json": {
       "model_id": "",
       "version_major": 2,
       "version_minor": 0
      },
      "text/plain": [
       "HBox(children=(IntProgress(value=0, description='Epoch 106', max=83176, style=ProgressStyle(description_width=…"
      ]
     },
     "metadata": {},
     "output_type": "display_data"
    },
    {
     "data": {
      "application/vnd.jupyter.widget-view+json": {
       "model_id": "",
       "version_major": 2,
       "version_minor": 0
      },
      "text/plain": [
       "HBox(children=(IntProgress(value=0, description='Epoch 107', max=83176, style=ProgressStyle(description_width=…"
      ]
     },
     "metadata": {},
     "output_type": "display_data"
    },
    {
     "data": {
      "application/vnd.jupyter.widget-view+json": {
       "model_id": "",
       "version_major": 2,
       "version_minor": 0
      },
      "text/plain": [
       "HBox(children=(IntProgress(value=0, description='Epoch 108', max=83176, style=ProgressStyle(description_width=…"
      ]
     },
     "metadata": {},
     "output_type": "display_data"
    },
    {
     "data": {
      "application/vnd.jupyter.widget-view+json": {
       "model_id": "",
       "version_major": 2,
       "version_minor": 0
      },
      "text/plain": [
       "HBox(children=(IntProgress(value=0, description='Epoch 109', max=83176, style=ProgressStyle(description_width=…"
      ]
     },
     "metadata": {},
     "output_type": "display_data"
    },
    {
     "data": {
      "application/vnd.jupyter.widget-view+json": {
       "model_id": "",
       "version_major": 2,
       "version_minor": 0
      },
      "text/plain": [
       "HBox(children=(IntProgress(value=0, description='Epoch 110', max=83176, style=ProgressStyle(description_width=…"
      ]
     },
     "metadata": {},
     "output_type": "display_data"
    },
    {
     "data": {
      "application/vnd.jupyter.widget-view+json": {
       "model_id": "",
       "version_major": 2,
       "version_minor": 0
      },
      "text/plain": [
       "HBox(children=(IntProgress(value=0, description='Epoch 111', max=83176, style=ProgressStyle(description_width=…"
      ]
     },
     "metadata": {},
     "output_type": "display_data"
    },
    {
     "data": {
      "application/vnd.jupyter.widget-view+json": {
       "model_id": "",
       "version_major": 2,
       "version_minor": 0
      },
      "text/plain": [
       "HBox(children=(IntProgress(value=0, description='Epoch 112', max=83176, style=ProgressStyle(description_width=…"
      ]
     },
     "metadata": {},
     "output_type": "display_data"
    },
    {
     "data": {
      "application/vnd.jupyter.widget-view+json": {
       "model_id": "",
       "version_major": 2,
       "version_minor": 0
      },
      "text/plain": [
       "HBox(children=(IntProgress(value=0, description='Epoch 113', max=83176, style=ProgressStyle(description_width=…"
      ]
     },
     "metadata": {},
     "output_type": "display_data"
    },
    {
     "data": {
      "application/vnd.jupyter.widget-view+json": {
       "model_id": "",
       "version_major": 2,
       "version_minor": 0
      },
      "text/plain": [
       "HBox(children=(IntProgress(value=0, description='Epoch 114', max=83176, style=ProgressStyle(description_width=…"
      ]
     },
     "metadata": {},
     "output_type": "display_data"
    },
    {
     "data": {
      "application/vnd.jupyter.widget-view+json": {
       "model_id": "",
       "version_major": 2,
       "version_minor": 0
      },
      "text/plain": [
       "HBox(children=(IntProgress(value=0, description='Epoch 115', max=83176, style=ProgressStyle(description_width=…"
      ]
     },
     "metadata": {},
     "output_type": "display_data"
    },
    {
     "data": {
      "application/vnd.jupyter.widget-view+json": {
       "model_id": "",
       "version_major": 2,
       "version_minor": 0
      },
      "text/plain": [
       "HBox(children=(IntProgress(value=0, description='Epoch 116', max=83176, style=ProgressStyle(description_width=…"
      ]
     },
     "metadata": {},
     "output_type": "display_data"
    },
    {
     "data": {
      "application/vnd.jupyter.widget-view+json": {
       "model_id": "",
       "version_major": 2,
       "version_minor": 0
      },
      "text/plain": [
       "HBox(children=(IntProgress(value=0, description='Epoch 117', max=83176, style=ProgressStyle(description_width=…"
      ]
     },
     "metadata": {},
     "output_type": "display_data"
    },
    {
     "data": {
      "application/vnd.jupyter.widget-view+json": {
       "model_id": "",
       "version_major": 2,
       "version_minor": 0
      },
      "text/plain": [
       "HBox(children=(IntProgress(value=0, description='Epoch 118', max=83176, style=ProgressStyle(description_width=…"
      ]
     },
     "metadata": {},
     "output_type": "display_data"
    },
    {
     "data": {
      "application/vnd.jupyter.widget-view+json": {
       "model_id": "",
       "version_major": 2,
       "version_minor": 0
      },
      "text/plain": [
       "HBox(children=(IntProgress(value=0, description='Epoch 119', max=83176, style=ProgressStyle(description_width=…"
      ]
     },
     "metadata": {},
     "output_type": "display_data"
    },
    {
     "data": {
      "application/vnd.jupyter.widget-view+json": {
       "model_id": "",
       "version_major": 2,
       "version_minor": 0
      },
      "text/plain": [
       "HBox(children=(IntProgress(value=0, description='Epoch 120', max=83176, style=ProgressStyle(description_width=…"
      ]
     },
     "metadata": {},
     "output_type": "display_data"
    },
    {
     "data": {
      "application/vnd.jupyter.widget-view+json": {
       "model_id": "",
       "version_major": 2,
       "version_minor": 0
      },
      "text/plain": [
       "HBox(children=(IntProgress(value=0, description='Epoch 121', max=83176, style=ProgressStyle(description_width=…"
      ]
     },
     "metadata": {},
     "output_type": "display_data"
    },
    {
     "data": {
      "application/vnd.jupyter.widget-view+json": {
       "model_id": "",
       "version_major": 2,
       "version_minor": 0
      },
      "text/plain": [
       "HBox(children=(IntProgress(value=0, description='Epoch 122', max=83176, style=ProgressStyle(description_width=…"
      ]
     },
     "metadata": {},
     "output_type": "display_data"
    },
    {
     "data": {
      "application/vnd.jupyter.widget-view+json": {
       "model_id": "",
       "version_major": 2,
       "version_minor": 0
      },
      "text/plain": [
       "HBox(children=(IntProgress(value=0, description='Epoch 123', max=83176, style=ProgressStyle(description_width=…"
      ]
     },
     "metadata": {},
     "output_type": "display_data"
    },
    {
     "data": {
      "application/vnd.jupyter.widget-view+json": {
       "model_id": "",
       "version_major": 2,
       "version_minor": 0
      },
      "text/plain": [
       "HBox(children=(IntProgress(value=0, description='Epoch 124', max=83176, style=ProgressStyle(description_width=…"
      ]
     },
     "metadata": {},
     "output_type": "display_data"
    },
    {
     "data": {
      "application/vnd.jupyter.widget-view+json": {
       "model_id": "",
       "version_major": 2,
       "version_minor": 0
      },
      "text/plain": [
       "HBox(children=(IntProgress(value=0, description='Epoch 125', max=83176, style=ProgressStyle(description_width=…"
      ]
     },
     "metadata": {},
     "output_type": "display_data"
    },
    {
     "data": {
      "application/vnd.jupyter.widget-view+json": {
       "model_id": "",
       "version_major": 2,
       "version_minor": 0
      },
      "text/plain": [
       "HBox(children=(IntProgress(value=0, description='Epoch 126', max=83176, style=ProgressStyle(description_width=…"
      ]
     },
     "metadata": {},
     "output_type": "display_data"
    },
    {
     "data": {
      "application/vnd.jupyter.widget-view+json": {
       "model_id": "",
       "version_major": 2,
       "version_minor": 0
      },
      "text/plain": [
       "HBox(children=(IntProgress(value=0, description='Epoch 127', max=83176, style=ProgressStyle(description_width=…"
      ]
     },
     "metadata": {},
     "output_type": "display_data"
    },
    {
     "data": {
      "application/vnd.jupyter.widget-view+json": {
       "model_id": "",
       "version_major": 2,
       "version_minor": 0
      },
      "text/plain": [
       "HBox(children=(IntProgress(value=0, description='Epoch 128', max=83176, style=ProgressStyle(description_width=…"
      ]
     },
     "metadata": {},
     "output_type": "display_data"
    },
    {
     "data": {
      "application/vnd.jupyter.widget-view+json": {
       "model_id": "",
       "version_major": 2,
       "version_minor": 0
      },
      "text/plain": [
       "HBox(children=(IntProgress(value=0, description='Epoch 129', max=83176, style=ProgressStyle(description_width=…"
      ]
     },
     "metadata": {},
     "output_type": "display_data"
    },
    {
     "data": {
      "application/vnd.jupyter.widget-view+json": {
       "model_id": "",
       "version_major": 2,
       "version_minor": 0
      },
      "text/plain": [
       "HBox(children=(IntProgress(value=0, description='Epoch 130', max=83176, style=ProgressStyle(description_width=…"
      ]
     },
     "metadata": {},
     "output_type": "display_data"
    },
    {
     "data": {
      "application/vnd.jupyter.widget-view+json": {
       "model_id": "",
       "version_major": 2,
       "version_minor": 0
      },
      "text/plain": [
       "HBox(children=(IntProgress(value=0, description='Epoch 131', max=83176, style=ProgressStyle(description_width=…"
      ]
     },
     "metadata": {},
     "output_type": "display_data"
    },
    {
     "data": {
      "application/vnd.jupyter.widget-view+json": {
       "model_id": "",
       "version_major": 2,
       "version_minor": 0
      },
      "text/plain": [
       "HBox(children=(IntProgress(value=0, description='Epoch 132', max=83176, style=ProgressStyle(description_width=…"
      ]
     },
     "metadata": {},
     "output_type": "display_data"
    },
    {
     "data": {
      "application/vnd.jupyter.widget-view+json": {
       "model_id": "",
       "version_major": 2,
       "version_minor": 0
      },
      "text/plain": [
       "HBox(children=(IntProgress(value=0, description='Epoch 133', max=83176, style=ProgressStyle(description_width=…"
      ]
     },
     "metadata": {},
     "output_type": "display_data"
    },
    {
     "data": {
      "application/vnd.jupyter.widget-view+json": {
       "model_id": "",
       "version_major": 2,
       "version_minor": 0
      },
      "text/plain": [
       "HBox(children=(IntProgress(value=0, description='Epoch 134', max=83176, style=ProgressStyle(description_width=…"
      ]
     },
     "metadata": {},
     "output_type": "display_data"
    },
    {
     "data": {
      "application/vnd.jupyter.widget-view+json": {
       "model_id": "",
       "version_major": 2,
       "version_minor": 0
      },
      "text/plain": [
       "HBox(children=(IntProgress(value=0, description='Epoch 135', max=83176, style=ProgressStyle(description_width=…"
      ]
     },
     "metadata": {},
     "output_type": "display_data"
    },
    {
     "data": {
      "application/vnd.jupyter.widget-view+json": {
       "model_id": "",
       "version_major": 2,
       "version_minor": 0
      },
      "text/plain": [
       "HBox(children=(IntProgress(value=0, description='Epoch 136', max=83176, style=ProgressStyle(description_width=…"
      ]
     },
     "metadata": {},
     "output_type": "display_data"
    },
    {
     "data": {
      "application/vnd.jupyter.widget-view+json": {
       "model_id": "",
       "version_major": 2,
       "version_minor": 0
      },
      "text/plain": [
       "HBox(children=(IntProgress(value=0, description='Epoch 137', max=83176, style=ProgressStyle(description_width=…"
      ]
     },
     "metadata": {},
     "output_type": "display_data"
    },
    {
     "data": {
      "application/vnd.jupyter.widget-view+json": {
       "model_id": "",
       "version_major": 2,
       "version_minor": 0
      },
      "text/plain": [
       "HBox(children=(IntProgress(value=0, description='Epoch 138', max=83176, style=ProgressStyle(description_width=…"
      ]
     },
     "metadata": {},
     "output_type": "display_data"
    },
    {
     "data": {
      "application/vnd.jupyter.widget-view+json": {
       "model_id": "",
       "version_major": 2,
       "version_minor": 0
      },
      "text/plain": [
       "HBox(children=(IntProgress(value=0, description='Epoch 139', max=83176, style=ProgressStyle(description_width=…"
      ]
     },
     "metadata": {},
     "output_type": "display_data"
    },
    {
     "data": {
      "application/vnd.jupyter.widget-view+json": {
       "model_id": "",
       "version_major": 2,
       "version_minor": 0
      },
      "text/plain": [
       "HBox(children=(IntProgress(value=0, description='Epoch 140', max=83176, style=ProgressStyle(description_width=…"
      ]
     },
     "metadata": {},
     "output_type": "display_data"
    },
    {
     "data": {
      "application/vnd.jupyter.widget-view+json": {
       "model_id": "",
       "version_major": 2,
       "version_minor": 0
      },
      "text/plain": [
       "HBox(children=(IntProgress(value=0, description='Epoch 141', max=83176, style=ProgressStyle(description_width=…"
      ]
     },
     "metadata": {},
     "output_type": "display_data"
    },
    {
     "data": {
      "application/vnd.jupyter.widget-view+json": {
       "model_id": "",
       "version_major": 2,
       "version_minor": 0
      },
      "text/plain": [
       "HBox(children=(IntProgress(value=0, description='Epoch 142', max=83176, style=ProgressStyle(description_width=…"
      ]
     },
     "metadata": {},
     "output_type": "display_data"
    },
    {
     "data": {
      "application/vnd.jupyter.widget-view+json": {
       "model_id": "",
       "version_major": 2,
       "version_minor": 0
      },
      "text/plain": [
       "HBox(children=(IntProgress(value=0, description='Epoch 143', max=83176, style=ProgressStyle(description_width=…"
      ]
     },
     "metadata": {},
     "output_type": "display_data"
    },
    {
     "name": "stdout",
     "output_type": "stream",
     "text": [
      "\n",
      "Train acc: 0.9924047\n",
      "Test acc: 0.9831902\n"
     ]
    }
   ],
   "source": [
    "largest_class_count = df[\"train\"].groupby(\"Classes\").size().max()\n",
    "class_weights = np.divide(largest_class_count, df[\"train\"].groupby(\"Classes\").size().to_numpy())\n",
    "\n",
    "print(\"Weighting the classes:\", class_weights)\n",
    "\n",
    "config = {\n",
    "    \"optimizer\": \"Nadam\",\n",
    "    \"loss\": \"sparse_categorical_crossentropy\",\n",
    "    \"class_weights\": class_weights,\n",
    "    \"batch_size\": 50,\n",
    "    \"val_split\": 0.05,\n",
    "    \"epochs\": 300,\n",
    "    \"verbose\": 0,\n",
    "    \"patience\": 50,\n",
    "    \"metrics\": [\"accuracy\"],\n",
    "    \"progbar\": True,\n",
    "}\n",
    "\n",
    "inputsize = inputs[\"train\"].shape[1]\n",
    "ncategories = labels[\"train\"].shape[1]\n",
    "\n",
    "LSTM_list = [(94,)]\n",
    "\n",
    "# Make the LSTM network\n",
    "model = models.create_lstm(LSTM_list, ncategories, config)\n",
    "\n",
    "# Train\n",
    "history = train.train_print(model, inputs, sparse_labels, config)"
   ]
  },
  {
   "cell_type": "code",
   "execution_count": 6,
   "metadata": {},
   "outputs": [
    {
     "data": {
      "image/png": "[encoded data removed]",
      "text/plain": [
       "<Figure size 432x288 with 1 Axes>"
      ]
     },
     "metadata": {
      "needs_background": "light"
     },
     "output_type": "display_data"
    },
    {
     "name": "stdout",
     "output_type": "stream",
     "text": [
      "Confusion matrix, without normalization\n",
      "[[18004    64    25     4    21]\n",
      " [  115   429    11     0     1]\n",
      " [   44     5  1380    15     4]\n",
      " [   26     1    15   120     0]\n",
      " [   13     1     3     0  1591]]\n"
     ]
    },
    {
     "data": {
      "image/png": "[encoded data removed]",
      "text/plain": [
       "<Figure size 432x288 with 2 Axes>"
      ]
     },
     "metadata": {
      "needs_background": "light"
     },
     "output_type": "display_data"
    }
   ],
   "source": [
    "plot.plot_fit_history(history)\n",
    "\n",
    "test_pred = np.argmax(model.predict(inputs[\"test\"]), axis=1)\n",
    "plot.plot_cm(sparse_labels[\"test\"], test_pred, classes=np.array([\"N\", \"S\", \"V\", \"F\", \"Q\"]), normalize=True)\n",
    "\n",
    "# Save the model\n",
    "if not os.path.exists(os.path.join(\"..\", \"models\", rightnow, \"nofft\")):\n",
    "    os.makedirs(os.path.join(\"..\", \"models\", rightnow, \"nofft\"))\n",
    "model.save(os.path.join(\"..\", \"models\", rightnow, \"nofft\", \"LSTM.h5\"))"
   ]
  }
 ],
 "metadata": {
  "kernelspec": {
   "display_name": "Python 3",
   "language": "python",
   "name": "python3"
  },
  "language_info": {
   "codemirror_mode": {
    "name": "ipython",
    "version": 3
   },
   "file_extension": ".py",
   "mimetype": "text/x-python",
   "name": "python",
   "nbconvert_exporter": "python",
   "pygments_lexer": "ipython3",
   "version": "3.7.3"
  },
  "widgets": {
   "application/vnd.jupyter.widget-state+json": {
    "state": {
     "003fabcfc68843a4a926cf23eba56e3b": {
      "model_module": "@jupyter-widgets/controls",
      "model_module_version": "1.5.0",
      "model_name": "DescriptionStyleModel",
      "state": {
       "description_width": ""
      }
     },
     "008118d06fa34a98973bb80541255c7d": {
      "model_module": "@jupyter-widgets/base",
      "model_module_version": "1.2.0",
      "model_name": "LayoutModel",
      "state": {}
     },
     "0081bb073d1e48c3ae30028571b7903c": {
      "model_module": "@jupyter-widgets/controls",
      "model_module_version": "1.5.0",
      "model_name": "DescriptionStyleModel",
      "state": {
       "description_width": ""
      }
     },
     "00c95bcba41b4239a40ed9d1d7be346e": {
      "model_module": "@jupyter-widgets/controls",
      "model_module_version": "1.5.0",
      "model_name": "HTMLModel",
      "state": {
       "layout": "IPY_MODEL_f1cb31b12e584becbf2e4a18aaf5a23d",
       "style": "IPY_MODEL_8617a7fef8144f5691c9dd9771d86e48",
       "value": "[loss: 0.023, accuracy: 0.992, val_loss: 0.059, val_accuracy: 0.987] : 100% 83176/83176 [00:26&lt;00:00, 1093.37it/s]"
      }
     },
     "00e0ee94cdf644a9ae66fb92e0b3505a": {
      "model_module": "@jupyter-widgets/controls",
      "model_module_version": "1.5.0",
      "model_name": "ProgressStyleModel",
      "state": {
       "description_width": "initial"
      }
     },
     "0180ebd8592f4393847dd9d6a8c91351": {
      "model_module": "@jupyter-widgets/controls",
      "model_module_version": "1.5.0",
      "model_name": "ProgressStyleModel",
      "state": {
       "description_width": "initial"
      }
     },
     "01bc671ec55c413d86c8e8c59d5cb404": {
      "model_module": "@jupyter-widgets/controls",
      "model_module_version": "1.5.0",
      "model_name": "ProgressStyleModel",
      "state": {
       "description_width": "initial"
      }
     },
     "044ab53a8f3a438f9a3c6cd076a07c98": {
      "model_module": "@jupyter-widgets/base",
      "model_module_version": "1.2.0",
      "model_name": "LayoutModel",
      "state": {}
     },
     "04be80edb88b4cb3a788a2d8ed9851ee": {
      "model_module": "@jupyter-widgets/base",
      "model_module_version": "1.2.0",
      "model_name": "LayoutModel",
      "state": {}
     },
     "04dd2730c2c443ee843d572aadef087b": {
      "model_module": "@jupyter-widgets/controls",
      "model_module_version": "1.5.0",
      "model_name": "DescriptionStyleModel",
      "state": {
       "description_width": ""
      }
     },
     "04f0e52fb6ea435380a1fc76c12206bc": {
      "model_module": "@jupyter-widgets/base",
      "model_module_version": "1.2.0",
      "model_name": "LayoutModel",
      "state": {}
     },
     "05230ced906740d6b9a8cec2041ee583": {
      "model_module": "@jupyter-widgets/base",
      "model_module_version": "1.2.0",
      "model_name": "LayoutModel",
      "state": {}
     },
     "05db531af18c49bcac5dfe535d39e39e": {
      "model_module": "@jupyter-widgets/base",
      "model_module_version": "1.2.0",
      "model_name": "LayoutModel",
      "state": {}
     },
     "05e5a4f1dbbd48c19aff242c565d1967": {
      "model_module": "@jupyter-widgets/base",
      "model_module_version": "1.2.0",
      "model_name": "LayoutModel",
      "state": {}
     },
     "0685452d4c3e44479a402a328df21c20": {
      "model_module": "@jupyter-widgets/base",
      "model_module_version": "1.2.0",
      "model_name": "LayoutModel",
      "state": {}
     },
     "06c095f6b88c4c4b97817b4ac45803b2": {
      "model_module": "@jupyter-widgets/base",
      "model_module_version": "1.2.0",
      "model_name": "LayoutModel",
      "state": {}
     },
     "0723354c2a9447db8fc59b715515bca2": {
      "model_module": "@jupyter-widgets/base",
      "model_module_version": "1.2.0",
      "model_name": "LayoutModel",
      "state": {}
     },
     "078cabdb5fd741b1954c797a21de129c": {
      "model_module": "@jupyter-widgets/controls",
      "model_module_version": "1.5.0",
      "model_name": "IntProgressModel",
      "state": {
       "description": "Epoch 122",
       "layout": "IPY_MODEL_b1f966dbf69342b7a72e1515d2a9cad5",
       "max": 83176,
       "style": "IPY_MODEL_0906d9e6c32a4180be757b883b7f532e",
       "value": 83176
      }
     },
     "07b216413e92488f9d4c24dcbb0ad32e": {
      "model_module": "@jupyter-widgets/base",
      "model_module_version": "1.2.0",
      "model_name": "LayoutModel",
      "state": {}
     },
     "07cd2f88fdf54069be475456c8b61ade": {
      "model_module": "@jupyter-widgets/base",
      "model_module_version": "1.2.0",
      "model_name": "LayoutModel",
      "state": {}
     },
     "080da1252fc84890b26b5f844bace9d8": {
      "model_module": "@jupyter-widgets/controls",
      "model_module_version": "1.5.0",
      "model_name": "IntProgressModel",
      "state": {
       "description": "Epoch 23",
       "layout": "IPY_MODEL_1772ee244d66403db7c5fa41c6d5fc0e",
       "max": 83176,
       "style": "IPY_MODEL_0e3796015fd0469d9e63d026e9a0a5fa",
       "value": 83176
      }
     },
     "0849831102484a23bfb3aa529a204029": {
      "model_module": "@jupyter-widgets/base",
      "model_module_version": "1.2.0",
      "model_name": "LayoutModel",
      "state": {}
     },
     "0850fb8b79ac4078a54fb1d4bf8f0974": {
      "model_module": "@jupyter-widgets/controls",
      "model_module_version": "1.5.0",
      "model_name": "DescriptionStyleModel",
      "state": {
       "description_width": ""
      }
     },
     "08975540d29f4d74a994f00bd18633e1": {
      "model_module": "@jupyter-widgets/controls",
      "model_module_version": "1.5.0",
      "model_name": "ProgressStyleModel",
      "state": {
       "description_width": "initial"
      }
     },
     "08df2ff7b81146dca45c2d1f5d350a5c": {
      "model_module": "@jupyter-widgets/controls",
      "model_module_version": "1.5.0",
      "model_name": "ProgressStyleModel",
      "state": {
       "description_width": "initial"
      }
     },
     "0906d9e6c32a4180be757b883b7f532e": {
      "model_module": "@jupyter-widgets/controls",
      "model_module_version": "1.5.0",
      "model_name": "ProgressStyleModel",
      "state": {
       "description_width": "initial"
      }
     },
     "0933396c71e14a4fb36b5610442b055f": {
      "model_module": "@jupyter-widgets/controls",
      "model_module_version": "1.5.0",
      "model_name": "IntProgressModel",
      "state": {
       "description": "Epoch 104",
       "layout": "IPY_MODEL_45805a67184d45dda2c1e4688da9bde1",
       "max": 83176,
       "style": "IPY_MODEL_5d888ddc6d674e38b334b3d749a0a620",
       "value": 83176
      }
     },
     "09aac115522e4576ac435a6e0abfa95e": {
      "model_module": "@jupyter-widgets/base",
      "model_module_version": "1.2.0",
      "model_name": "LayoutModel",
      "state": {}
     },
     "09aaed477f2b4d4985493bb6cc28b090": {
      "model_module": "@jupyter-widgets/controls",
      "model_module_version": "1.5.0",
      "model_name": "HTMLModel",
      "state": {
       "layout": "IPY_MODEL_b7efcd6371eb4aababb2130e427cb459",
       "style": "IPY_MODEL_9e83edae22b342f8b331ffad62d5cc90",
       "value": "[loss: 0.022, accuracy: 0.992, val_loss: 0.060, val_accuracy: 0.987] : 100% 83176/83176 [00:26&lt;00:00, 1078.04it/s]"
      }
     },
     "09fc439ff7d9462f9a7f7a1cc06f4809": {
      "model_module": "@jupyter-widgets/controls",
      "model_module_version": "1.5.0",
      "model_name": "ProgressStyleModel",
      "state": {
       "description_width": "initial"
      }
     },
     "09fd46d2bd4f4217931033ec3e5fccaf": {
      "model_module": "@jupyter-widgets/base",
      "model_module_version": "1.2.0",
      "model_name": "LayoutModel",
      "state": {}
     },
     "0ac6d786d15c42bb90059b81c7c131ec": {
      "model_module": "@jupyter-widgets/controls",
      "model_module_version": "1.5.0",
      "model_name": "IntProgressModel",
      "state": {
       "description": "Epoch 99",
       "layout": "IPY_MODEL_9e343ae9477242cdb3805717e70ff860",
       "max": 83176,
       "style": "IPY_MODEL_dace618ee2c14638b2c8e68f3c10af93",
       "value": 83176
      }
     },
     "0aec20146ad04906ba145e086ff6d4c7": {
      "model_module": "@jupyter-widgets/controls",
      "model_module_version": "1.5.0",
      "model_name": "IntProgressModel",
      "state": {
       "description": "Epoch 51",
       "layout": "IPY_MODEL_4646adce74304aa1a815d8ceb9047406",
       "max": 83176,
       "style": "IPY_MODEL_f18f9357a0f64be5bea8a4517b8c2706",
       "value": 83176
      }
     },
     "0b26a62a38fb45dcba2f537316eb47c8": {
      "model_module": "@jupyter-widgets/base",
      "model_module_version": "1.2.0",
      "model_name": "LayoutModel",
      "state": {}
     },
     "0b338c4a59f0475ba2702847bfdc1a77": {
      "model_module": "@jupyter-widgets/controls",
      "model_module_version": "1.5.0",
      "model_name": "HTMLModel",
      "state": {
       "layout": "IPY_MODEL_30608645fe7d44b18fbd51d18eb01047",
       "style": "IPY_MODEL_8b82841ff85e43798b3ffbbae75d7211",
       "value": "[loss: 0.052, accuracy: 0.984, val_loss: 0.066, val_accuracy: 0.981] : 100% 83176/83176 [00:24&lt;00:00, 423.09it/s]"
      }
     },
     "0b35819291fd4027b73d37395265b25d": {
      "model_module": "@jupyter-widgets/controls",
      "model_module_version": "1.5.0",
      "model_name": "HTMLModel",
      "state": {
       "layout": "IPY_MODEL_79c620c410384e67aaa9bbffcbb65151",
       "style": "IPY_MODEL_d8095852f5e9407ab9f7f345a73459e3",
       "value": "[loss: 0.035, accuracy: 0.989, val_loss: 0.057, val_accuracy: 0.985] : 100% 83176/83176 [00:25&lt;00:00, 1116.39it/s]"
      }
     },
     "0b4740ad1da04540a0a26a88e3dd9234": {
      "model_module": "@jupyter-widgets/base",
      "model_module_version": "1.2.0",
      "model_name": "LayoutModel",
      "state": {}
     },
     "0c548ed0c4bc4262b82a9644feaf2e5d": {
      "model_module": "@jupyter-widgets/controls",
      "model_module_version": "1.5.0",
      "model_name": "DescriptionStyleModel",
      "state": {
       "description_width": ""
      }
     },
     "0c9238adab904c99869879057622d6b8": {
      "model_module": "@jupyter-widgets/base",
      "model_module_version": "1.2.0",
      "model_name": "LayoutModel",
      "state": {}
     },
     "0cb5ee3c3628453aa8243149c7a5f0df": {
      "model_module": "@jupyter-widgets/base",
      "model_module_version": "1.2.0",
      "model_name": "LayoutModel",
      "state": {}
     },
     "0cfbff0761e5453ca574895fe6ff540c": {
      "model_module": "@jupyter-widgets/controls",
      "model_module_version": "1.5.0",
      "model_name": "DescriptionStyleModel",
      "state": {
       "description_width": ""
      }
     },
     "0d1e8956e8904a9cabf0b94852a13e23": {
      "model_module": "@jupyter-widgets/base",
      "model_module_version": "1.2.0",
      "model_name": "LayoutModel",
      "state": {}
     },
     "0d3ae57b53c64464b4b814a868a67eaa": {
      "model_module": "@jupyter-widgets/controls",
      "model_module_version": "1.5.0",
      "model_name": "IntProgressModel",
      "state": {
       "description": "Epoch 133",
       "layout": "IPY_MODEL_84aad1bd3875488d88c38592f130553c",
       "max": 83176,
       "style": "IPY_MODEL_5918cde59f994b2ba666f350d60fbc72",
       "value": 83176
      }
     },
     "0d3d29762fec4d8d8cfb95916cc12337": {
      "model_module": "@jupyter-widgets/base",
      "model_module_version": "1.2.0",
      "model_name": "LayoutModel",
      "state": {}
     },
     "0dcc0f7c1f874ce68eabc18c3472a5ca": {
      "model_module": "@jupyter-widgets/controls",
      "model_module_version": "1.5.0",
      "model_name": "IntProgressModel",
      "state": {
       "description": "Epoch 143",
       "layout": "IPY_MODEL_4f89199d0e584224a1056dc05d3ac51b",
       "max": 83176,
       "style": "IPY_MODEL_9286a7dd39f345728da2e021d2ecad4f",
       "value": 83176
      }
     },
     "0dcf0a26980241fd80e67c417a434557": {
      "model_module": "@jupyter-widgets/controls",
      "model_module_version": "1.5.0",
      "model_name": "IntProgressModel",
      "state": {
       "description": "Epoch 139",
       "layout": "IPY_MODEL_3d090c6cf46c46cea42f908b3c97f29f",
       "max": 83176,
       "style": "IPY_MODEL_9e2cd995e31e4e37910906e51b6d07c2",
       "value": 83176
      }
     },
     "0e2206bccaa64d988d9497210f95a336": {
      "model_module": "@jupyter-widgets/base",
      "model_module_version": "1.2.0",
      "model_name": "LayoutModel",
      "state": {}
     },
     "0e3796015fd0469d9e63d026e9a0a5fa": {
      "model_module": "@jupyter-widgets/controls",
      "model_module_version": "1.5.0",
      "model_name": "ProgressStyleModel",
      "state": {
       "description_width": "initial"
      }
     },
     "0e44a1f5b2784b23bf237263c3f616f8": {
      "model_module": "@jupyter-widgets/base",
      "model_module_version": "1.2.0",
      "model_name": "LayoutModel",
      "state": {}
     },
     "0ec4111e51004eec9014c7304c11c3a3": {
      "model_module": "@jupyter-widgets/controls",
      "model_module_version": "1.5.0",
      "model_name": "DescriptionStyleModel",
      "state": {
       "description_width": ""
      }
     },
     "0eed75738bab4d0f9858ed14da8ef4a0": {
      "model_module": "@jupyter-widgets/controls",
      "model_module_version": "1.5.0",
      "model_name": "HTMLModel",
      "state": {
       "layout": "IPY_MODEL_dfbd9c1698fc4e1ca4a23fb6e0fd76db",
       "style": "IPY_MODEL_3421e20a1726434ca2a964cab7065a9a",
       "value": "[loss: 0.062, accuracy: 0.982, val_loss: 0.077, val_accuracy: 0.979] : 100% 83176/83176 [00:24&lt;00:00, 160.99it/s]"
      }
     },
     "0f9ea9383dc4439f865a2c98f6967860": {
      "model_module": "@jupyter-widgets/controls",
      "model_module_version": "1.5.0",
      "model_name": "HTMLModel",
      "state": {
       "layout": "IPY_MODEL_37bd3a29034b4a53aa6d21e821bd6eae",
       "style": "IPY_MODEL_af82669d2f3348e6a34afc7bf4db6183",
       "value": "[loss: 0.031, accuracy: 0.990, val_loss: 0.063, val_accuracy: 0.983] : 100% 83176/83176 [00:24&lt;00:00, 662.64it/s]"
      }
     },
     "0ff1e22f58d2426c9873b9d26ea5dc90": {
      "model_module": "@jupyter-widgets/controls",
      "model_module_version": "1.5.0",
      "model_name": "IntProgressModel",
      "state": {
       "description": "Epoch 48",
       "layout": "IPY_MODEL_27ce52bde44543a7b725c4e54d280286",
       "max": 83176,
       "style": "IPY_MODEL_9fcf7c69511c44b1bb3016f9a5da097e",
       "value": 83176
      }
     },
     "101c2b87ab454bc18415991c7813eec7": {
      "model_module": "@jupyter-widgets/controls",
      "model_module_version": "1.5.0",
      "model_name": "DescriptionStyleModel",
      "state": {
       "description_width": ""
      }
     },
     "1023897b91844b7b98b0ab0369cdf8e9": {
      "model_module": "@jupyter-widgets/controls",
      "model_module_version": "1.5.0",
      "model_name": "IntProgressModel",
      "state": {
       "description": "Epoch 18",
       "layout": "IPY_MODEL_fe0b5242dd7c48658803f72f66fad377",
       "max": 83176,
       "style": "IPY_MODEL_2cac952e22b546449a5e34e800771f23",
       "value": 83176
      }
     },
     "10272b459ea74c7b911af5a8bf341b96": {
      "model_module": "@jupyter-widgets/controls",
      "model_module_version": "1.5.0",
      "model_name": "HTMLModel",
      "state": {
       "layout": "IPY_MODEL_2b26e64999664ee981c3fc6ab3d96281",
       "style": "IPY_MODEL_c6d6c0c5c5e7442ea607547a9ae64141",
       "value": "[loss: 0.020, accuracy: 0.993, val_loss: 0.060, val_accuracy: 0.985] : 100% 83176/83176 [00:26&lt;00:00, 931.02it/s]"
      }
     },
     "10a8b1a60b824e94b99c99e2618e39d7": {
      "model_module": "@jupyter-widgets/controls",
      "model_module_version": "1.5.0",
      "model_name": "IntProgressModel",
      "state": {
       "description": "Epoch 15",
       "layout": "IPY_MODEL_1ff65dcc2c1c40a18297a717419c01e2",
       "max": 83176,
       "style": "IPY_MODEL_39fb2a93e9f04a9bb6aa88256fda26e7",
       "value": 83176
      }
     },
     "11059d4beb484030a04d9bcc4dc9404a": {
      "model_module": "@jupyter-widgets/base",
      "model_module_version": "1.2.0",
      "model_name": "LayoutModel",
      "state": {}
     },
     "113365aab36544b79281f7b88030350c": {
      "model_module": "@jupyter-widgets/controls",
      "model_module_version": "1.5.0",
      "model_name": "HTMLModel",
      "state": {
       "layout": "IPY_MODEL_ea175b6a4ef940dd8f445c974344e7e1",
       "style": "IPY_MODEL_8b1abc8b65db400088f738fc44a96c7e",
       "value": " 48% 144/300 [1:00:40&lt;1:10:07, 26.97s/it]"
      }
     },
     "113d81c57d0347a4b6727e00df6ae9f0": {
      "model_module": "@jupyter-widgets/base",
      "model_module_version": "1.2.0",
      "model_name": "LayoutModel",
      "state": {}
     },
     "11e906f5a3544b3a9c52908c5d62dd5b": {
      "model_module": "@jupyter-widgets/controls",
      "model_module_version": "1.5.0",
      "model_name": "ProgressStyleModel",
      "state": {
       "description_width": "initial"
      }
     },
     "123f31e5b93a4b7b9425cfb93c8602e2": {
      "model_module": "@jupyter-widgets/base",
      "model_module_version": "1.2.0",
      "model_name": "LayoutModel",
      "state": {}
     },
     "1242a1041a4643a688a03cc7704f726b": {
      "model_module": "@jupyter-widgets/base",
      "model_module_version": "1.2.0",
      "model_name": "LayoutModel",
      "state": {}
     },
     "12819e1642b64e0f81274b16613bcbb4": {
      "model_module": "@jupyter-widgets/base",
      "model_module_version": "1.2.0",
      "model_name": "LayoutModel",
      "state": {}
     },
     "12bc5f09384c4187ad9a97e5140406a2": {
      "model_module": "@jupyter-widgets/base",
      "model_module_version": "1.2.0",
      "model_name": "LayoutModel",
      "state": {}
     },
     "12cb30bfe8394fefb1b4c7c5fa326ea2": {
      "model_module": "@jupyter-widgets/base",
      "model_module_version": "1.2.0",
      "model_name": "LayoutModel",
      "state": {}
     },
     "12f22ad05c544540b589dfe4bfb54916": {
      "model_module": "@jupyter-widgets/base",
      "model_module_version": "1.2.0",
      "model_name": "LayoutModel",
      "state": {}
     },
     "13151352710f463f85fa8e568df52b20": {
      "model_module": "@jupyter-widgets/base",
      "model_module_version": "1.2.0",
      "model_name": "LayoutModel",
      "state": {}
     },
     "138f7ec12b814bc8998a719dfc288db1": {
      "model_module": "@jupyter-widgets/controls",
      "model_module_version": "1.5.0",
      "model_name": "ProgressStyleModel",
      "state": {
       "description_width": "initial"
      }
     },
     "13aa818e76184aafbd174ba1b5a096c8": {
      "model_module": "@jupyter-widgets/base",
      "model_module_version": "1.2.0",
      "model_name": "LayoutModel",
      "state": {}
     },
     "13d6c252525540368611b46856a1615f": {
      "model_module": "@jupyter-widgets/controls",
      "model_module_version": "1.5.0",
      "model_name": "DescriptionStyleModel",
      "state": {
       "description_width": ""
      }
     },
     "14a04f64c50d482f878d9f560deac927": {
      "model_module": "@jupyter-widgets/base",
      "model_module_version": "1.2.0",
      "model_name": "LayoutModel",
      "state": {}
     },
     "1503af96b08943f19e7eac2db74a4f1f": {
      "model_module": "@jupyter-widgets/controls",
      "model_module_version": "1.5.0",
      "model_name": "IntProgressModel",
      "state": {
       "description": "Epoch 22",
       "layout": "IPY_MODEL_6b28fa16fc6a4f9595a743bc83c73b8a",
       "max": 83176,
       "style": "IPY_MODEL_f43eab00e5b6466394f0a1dafaf8abef",
       "value": 83176
      }
     },
     "1526ac19a1f442408d76ef14dd476e9d": {
      "model_module": "@jupyter-widgets/controls",
      "model_module_version": "1.5.0",
      "model_name": "HTMLModel",
      "state": {
       "layout": "IPY_MODEL_2818ad7f250049f981881e4050a59fef",
       "style": "IPY_MODEL_50e57653d47e49e98de1e81a58c145e3",
       "value": "[loss: 0.024, accuracy: 0.992, val_loss: 0.055, val_accuracy: 0.986] : 100% 83176/83176 [00:26&lt;00:00, 1120.18it/s]"
      }
     },
     "156ff41536584fbe9803aad1ef7fc954": {
      "model_module": "@jupyter-widgets/controls",
      "model_module_version": "1.5.0",
      "model_name": "IntProgressModel",
      "state": {
       "description": "Epoch 57",
       "layout": "IPY_MODEL_2d628b3eaee946b39a7ef090b28c8ee9",
       "max": 83176,
       "style": "IPY_MODEL_443263afe6384e7e8e0193e52c8e6e1a",
       "value": 83176
      }
     },
     "16c4a2833bbb4eb3a25157c9e5a5d21e": {
      "model_module": "@jupyter-widgets/base",
      "model_module_version": "1.2.0",
      "model_name": "LayoutModel",
      "state": {}
     },
     "1738249117ec4b58b04ca45899c0b595": {
      "model_module": "@jupyter-widgets/base",
      "model_module_version": "1.2.0",
      "model_name": "LayoutModel",
      "state": {}
     },
     "173ce586f18a4f259e5b5555ddad4694": {
      "model_module": "@jupyter-widgets/base",
      "model_module_version": "1.2.0",
      "model_name": "LayoutModel",
      "state": {}
     },
     "1772ee244d66403db7c5fa41c6d5fc0e": {
      "model_module": "@jupyter-widgets/base",
      "model_module_version": "1.2.0",
      "model_name": "LayoutModel",
      "state": {}
     },
     "17899c5ec7674140a6bd509c553eb78d": {
      "model_module": "@jupyter-widgets/controls",
      "model_module_version": "1.5.0",
      "model_name": "DescriptionStyleModel",
      "state": {
       "description_width": ""
      }
     },
     "17af4d0213e94cb390215c227ce527a9": {
      "model_module": "@jupyter-widgets/base",
      "model_module_version": "1.2.0",
      "model_name": "LayoutModel",
      "state": {}
     },
     "17b5bdb6ba464c7fb3552a08f748e8eb": {
      "model_module": "@jupyter-widgets/controls",
      "model_module_version": "1.5.0",
      "model_name": "HTMLModel",
      "state": {
       "layout": "IPY_MODEL_f7b87378c0d04baf8a00faeca34edf9c",
       "style": "IPY_MODEL_1a0972f5cf20498bbc2a308cf1f8f89a",
       "value": "[loss: 0.376, accuracy: 0.898, val_loss: 0.338, val_accuracy: 0.908] : 100% 83176/83176 [00:24&lt;00:00, 998.32it/s]"
      }
     },
     "17b86535e7f7444495b6fabe33ccbe17": {
      "model_module": "@jupyter-widgets/base",
      "model_module_version": "1.2.0",
      "model_name": "LayoutModel",
      "state": {}
     },
     "183e100bf0eb40168dfbf1b9785a140e": {
      "model_module": "@jupyter-widgets/base",
      "model_module_version": "1.2.0",
      "model_name": "LayoutModel",
      "state": {}
     },
     "18b4bcfc30fa4105b2cf0531976032b0": {
      "model_module": "@jupyter-widgets/base",
      "model_module_version": "1.2.0",
      "model_name": "LayoutModel",
      "state": {}
     },
     "1906cb909b304568bf752978a5929572": {
      "model_module": "@jupyter-widgets/base",
      "model_module_version": "1.2.0",
      "model_name": "LayoutModel",
      "state": {}
     },
     "193d9b00b480455a95b3454ea3800682": {
      "model_module": "@jupyter-widgets/base",
      "model_module_version": "1.2.0",
      "model_name": "LayoutModel",
      "state": {}
     },
     "1947c65122b24d7c83609bc7e824cdee": {
      "model_module": "@jupyter-widgets/base",
      "model_module_version": "1.2.0",
      "model_name": "LayoutModel",
      "state": {}
     },
     "1988b6dae63641a4bcf9b08415d78e9a": {
      "model_module": "@jupyter-widgets/base",
      "model_module_version": "1.2.0",
      "model_name": "LayoutModel",
      "state": {}
     },
     "19f2ae069a7d433890b5aa10b5261468": {
      "model_module": "@jupyter-widgets/controls",
      "model_module_version": "1.5.0",
      "model_name": "IntProgressModel",
      "state": {
       "description": "Epoch 40",
       "layout": "IPY_MODEL_e15e64b9dd534df793a88f29d1b4cfdb",
       "max": 83176,
       "style": "IPY_MODEL_f6e74a4e25724013a2c4745682023704",
       "value": 83176
      }
     },
     "19f4bce712fb451e9b2d7bf1b1eb19f8": {
      "model_module": "@jupyter-widgets/controls",
      "model_module_version": "1.5.0",
      "model_name": "DescriptionStyleModel",
      "state": {
       "description_width": ""
      }
     },
     "1a0972f5cf20498bbc2a308cf1f8f89a": {
      "model_module": "@jupyter-widgets/controls",
      "model_module_version": "1.5.0",
      "model_name": "DescriptionStyleModel",
      "state": {
       "description_width": ""
      }
     },
     "1a11f41d79c34302a3ff77a292febdb7": {
      "model_module": "@jupyter-widgets/base",
      "model_module_version": "1.2.0",
      "model_name": "LayoutModel",
      "state": {}
     },
     "1a2356a796394b7cb9e41be270d71cc7": {
      "model_module": "@jupyter-widgets/base",
      "model_module_version": "1.2.0",
      "model_name": "LayoutModel",
      "state": {}
     },
     "1a70a96e92524528abaaf628b3307a02": {
      "model_module": "@jupyter-widgets/controls",
      "model_module_version": "1.5.0",
      "model_name": "HTMLModel",
      "state": {
       "layout": "IPY_MODEL_ab4eee9e20d2418a87b34828270db51a",
       "style": "IPY_MODEL_d79dcf82e58b46cf8315b73d02938a4a",
       "value": "[loss: 0.028, accuracy: 0.991, val_loss: 0.055, val_accuracy: 0.986] : 100% 83176/83176 [00:26&lt;00:00, 1072.47it/s]"
      }
     },
     "1ac2138694c74c8694c281c11759476c": {
      "model_module": "@jupyter-widgets/controls",
      "model_module_version": "1.5.0",
      "model_name": "ProgressStyleModel",
      "state": {
       "description_width": "initial"
      }
     },
     "1acd8905362f49b58db55dae44cd4d19": {
      "model_module": "@jupyter-widgets/base",
      "model_module_version": "1.2.0",
      "model_name": "LayoutModel",
      "state": {}
     },
     "1af1c89aed684e3a93e07a6a32c8d7a2": {
      "model_module": "@jupyter-widgets/base",
      "model_module_version": "1.2.0",
      "model_name": "LayoutModel",
      "state": {}
     },
     "1af383b4fe84487c80d9f2b1d006e2e0": {
      "model_module": "@jupyter-widgets/controls",
      "model_module_version": "1.5.0",
      "model_name": "DescriptionStyleModel",
      "state": {
       "description_width": ""
      }
     },
     "1bb0ad828f2f4f7b811c400bfa3f3c26": {
      "model_module": "@jupyter-widgets/controls",
      "model_module_version": "1.5.0",
      "model_name": "HTMLModel",
      "state": {
       "layout": "IPY_MODEL_ee2065259c9347f4ac2ef48b575b3c09",
       "style": "IPY_MODEL_90c470ec67964867b33494a82bf69d9c",
       "value": "[loss: 0.165, accuracy: 0.953, val_loss: 0.177, val_accuracy: 0.952] : 100% 83176/83176 [00:24&lt;00:00, 1307.55it/s]"
      }
     },
     "1be1b7b45d1a4d20b41a19f8cbe01079": {
      "model_module": "@jupyter-widgets/controls",
      "model_module_version": "1.5.0",
      "model_name": "IntProgressModel",
      "state": {
       "description": "Epoch 3",
       "layout": "IPY_MODEL_359cf32febd046d6ad89a4e10327d190",
       "max": 83176,
       "style": "IPY_MODEL_82362b4a07024a189724e2f9de4a66d3",
       "value": 83176
      }
     },
     "1c1b0e93546c4eccb66ea116581a894f": {
      "model_module": "@jupyter-widgets/base",
      "model_module_version": "1.2.0",
      "model_name": "LayoutModel",
      "state": {}
     },
     "1c3addcc741c43b2b20d262c27f44f0e": {
      "model_module": "@jupyter-widgets/controls",
      "model_module_version": "1.5.0",
      "model_name": "ProgressStyleModel",
      "state": {
       "description_width": "initial"
      }
     },
     "1c7721b588a44364a869d1b00e630db3": {
      "model_module": "@jupyter-widgets/controls",
      "model_module_version": "1.5.0",
      "model_name": "HTMLModel",
      "state": {
       "layout": "IPY_MODEL_6190173e8e6846c08409020638334737",
       "style": "IPY_MODEL_287226df45d44207894e18781309ba44",
       "value": "[loss: 0.019, accuracy: 0.993, val_loss: 0.058, val_accuracy: 0.986] : 100% 83176/83176 [00:26&lt;00:00, 1052.85it/s]"
      }
     },
     "1cc1437c15f446cd80603623628572f7": {
      "model_module": "@jupyter-widgets/controls",
      "model_module_version": "1.5.0",
      "model_name": "IntProgressModel",
      "state": {
       "description": "Epoch 78",
       "layout": "IPY_MODEL_0d1e8956e8904a9cabf0b94852a13e23",
       "max": 83176,
       "style": "IPY_MODEL_f0fcf258978248ac81954825160dc8de",
       "value": 83176
      }
     },
     "1d1fe1cced554bc6a4b70fb3f8f5c1e5": {
      "model_module": "@jupyter-widgets/controls",
      "model_module_version": "1.5.0",
      "model_name": "ProgressStyleModel",
      "state": {
       "description_width": "initial"
      }
     },
     "1e93596fe8bb4835afab9e28079f540a": {
      "model_module": "@jupyter-widgets/controls",
      "model_module_version": "1.5.0",
      "model_name": "ProgressStyleModel",
      "state": {
       "description_width": "initial"
      }
     },
     "1f0cba9275ff4bd08ea3b9ce1cbad04e": {
      "model_module": "@jupyter-widgets/controls",
      "model_module_version": "1.5.0",
      "model_name": "HTMLModel",
      "state": {
       "layout": "IPY_MODEL_550bf5183e0b49a18fad9ffccbc7d289",
       "style": "IPY_MODEL_cf5136cb0bf64267aec9f2b16ccf0c63",
       "value": "[loss: 0.078, accuracy: 0.977, val_loss: 0.116, val_accuracy: 0.968] : 100% 83176/83176 [00:24&lt;00:00, 1390.81it/s]"
      }
     },
     "1f30303098154e2abc2a989257c8b453": {
      "model_module": "@jupyter-widgets/base",
      "model_module_version": "1.2.0",
      "model_name": "LayoutModel",
      "state": {}
     },
     "1f4c252ebb274788bc2d1ca06c109325": {
      "model_module": "@jupyter-widgets/base",
      "model_module_version": "1.2.0",
      "model_name": "LayoutModel",
      "state": {}
     },
     "1f6c1216977d4ae6930eec0f384c243a": {
      "model_module": "@jupyter-widgets/controls",
      "model_module_version": "1.5.0",
      "model_name": "ProgressStyleModel",
      "state": {
       "description_width": "initial"
      }
     },
     "1fa386fa69534bc298c842c0c6e2d3f5": {
      "model_module": "@jupyter-widgets/base",
      "model_module_version": "1.2.0",
      "model_name": "LayoutModel",
      "state": {}
     },
     "1fdbc4d865be42389d2ddbe2ffa96498": {
      "model_module": "@jupyter-widgets/controls",
      "model_module_version": "1.5.0",
      "model_name": "IntProgressModel",
      "state": {
       "description": "Epoch 69",
       "layout": "IPY_MODEL_a7d954a2672740d18656af179f474bb2",
       "max": 83176,
       "style": "IPY_MODEL_93874ea5234a4018bbdd197615cc1bb5",
       "value": 83176
      }
     },
     "1fe9cf210cab498c985bc5555d0d3413": {
      "model_module": "@jupyter-widgets/base",
      "model_module_version": "1.2.0",
      "model_name": "LayoutModel",
      "state": {}
     },
     "1ff65dcc2c1c40a18297a717419c01e2": {
      "model_module": "@jupyter-widgets/base",
      "model_module_version": "1.2.0",
      "model_name": "LayoutModel",
      "state": {}
     },
     "20554f387c9848299d33a840d7e278c8": {
      "model_module": "@jupyter-widgets/controls",
      "model_module_version": "1.5.0",
      "model_name": "DescriptionStyleModel",
      "state": {
       "description_width": ""
      }
     },
     "20b973015c174ce3a4551458310fb2a9": {
      "model_module": "@jupyter-widgets/controls",
      "model_module_version": "1.5.0",
      "model_name": "HTMLModel",
      "state": {
       "layout": "IPY_MODEL_5cddf0b0f3f14bfcae1c65752aa76db8",
       "style": "IPY_MODEL_324680ccabfe4b60b97d7e2783c56e6f",
       "value": "[loss: 0.021, accuracy: 0.993, val_loss: 0.073, val_accuracy: 0.984] : 100% 83176/83176 [00:26&lt;00:00, 1110.21it/s]"
      }
     },
     "20eccab045f84b9882b4c761bbb9ef37": {
      "model_module": "@jupyter-widgets/controls",
      "model_module_version": "1.5.0",
      "model_name": "IntProgressModel",
      "state": {
       "description": "Epoch 16",
       "layout": "IPY_MODEL_a6cf883ddad445808112133d09b81701",
       "max": 83176,
       "style": "IPY_MODEL_09fc439ff7d9462f9a7f7a1cc06f4809",
       "value": 83176
      }
     },
     "20fb7870dbd948a8b65fbfefd62873bb": {
      "model_module": "@jupyter-widgets/base",
      "model_module_version": "1.2.0",
      "model_name": "LayoutModel",
      "state": {}
     },
     "21cd7108e2ea45c5b25124a85f60903f": {
      "model_module": "@jupyter-widgets/base",
      "model_module_version": "1.2.0",
      "model_name": "LayoutModel",
      "state": {}
     },
     "221d492cbe7a4232b97615c8e5303193": {
      "model_module": "@jupyter-widgets/controls",
      "model_module_version": "1.5.0",
      "model_name": "DescriptionStyleModel",
      "state": {
       "description_width": ""
      }
     },
     "228130b9ad824d93a5f21a222cb07435": {
      "model_module": "@jupyter-widgets/controls",
      "model_module_version": "1.5.0",
      "model_name": "HTMLModel",
      "state": {
       "layout": "IPY_MODEL_0b26a62a38fb45dcba2f537316eb47c8",
       "style": "IPY_MODEL_73df061eb1ae49928b9cea56ce8ee374",
       "value": "[loss: 0.044, accuracy: 0.987, val_loss: 0.064, val_accuracy: 0.982] : 100% 83176/83176 [00:24&lt;00:00, 664.75it/s]"
      }
     },
     "231ddfdf0ba74bdaa4e78054205ef087": {
      "model_module": "@jupyter-widgets/base",
      "model_module_version": "1.2.0",
      "model_name": "LayoutModel",
      "state": {}
     },
     "24542930a5474bbf93e5f1ad9dcf6c80": {
      "model_module": "@jupyter-widgets/controls",
      "model_module_version": "1.5.0",
      "model_name": "ProgressStyleModel",
      "state": {
       "description_width": "initial"
      }
     },
     "24ca42c90582406aadb5e13e111ad64a": {
      "model_module": "@jupyter-widgets/base",
      "model_module_version": "1.2.0",
      "model_name": "LayoutModel",
      "state": {}
     },
     "24da311631df49a0b3a83c284c77a4a0": {
      "model_module": "@jupyter-widgets/base",
      "model_module_version": "1.2.0",
      "model_name": "LayoutModel",
      "state": {}
     },
     "24fdabbc1dd843219c1adc27f21e8ef0": {
      "model_module": "@jupyter-widgets/controls",
      "model_module_version": "1.5.0",
      "model_name": "HTMLModel",
      "state": {
       "layout": "IPY_MODEL_7e002910c9044cc4982b53661da6adac",
       "style": "IPY_MODEL_5073075fc63b4453ad4f87a6de3646e6",
       "value": "[loss: 0.147, accuracy: 0.959, val_loss: 0.163, val_accuracy: 0.953] : 100% 83176/83176 [00:25&lt;00:00, 1295.98it/s]"
      }
     },
     "252dae0a67244d25ad0e012137db4bce": {
      "model_module": "@jupyter-widgets/controls",
      "model_module_version": "1.5.0",
      "model_name": "ProgressStyleModel",
      "state": {
       "description_width": "initial"
      }
     },
     "2530242b886643e4b46f1cc595a1acdb": {
      "model_module": "@jupyter-widgets/base",
      "model_module_version": "1.2.0",
      "model_name": "LayoutModel",
      "state": {}
     },
     "256240ff8cab4242a82925d11d7c546a": {
      "model_module": "@jupyter-widgets/base",
      "model_module_version": "1.2.0",
      "model_name": "LayoutModel",
      "state": {}
     },
     "259de78fae7c493b95493040ab676182": {
      "model_module": "@jupyter-widgets/base",
      "model_module_version": "1.2.0",
      "model_name": "LayoutModel",
      "state": {}
     },
     "2632b619a4d649fc867648a4e6a88c2b": {
      "model_module": "@jupyter-widgets/base",
      "model_module_version": "1.2.0",
      "model_name": "LayoutModel",
      "state": {}
     },
     "2674a09718264832befbde7cdf90f6d7": {
      "model_module": "@jupyter-widgets/base",
      "model_module_version": "1.2.0",
      "model_name": "LayoutModel",
      "state": {}
     },
     "26d34b3c98f6488d847f41a5b052aa17": {
      "model_module": "@jupyter-widgets/controls",
      "model_module_version": "1.5.0",
      "model_name": "HTMLModel",
      "state": {
       "layout": "IPY_MODEL_a643ff25bf89434daeb538231e8361dd",
       "style": "IPY_MODEL_4b714d409d9149eaa84584c4ad697de6",
       "value": "[loss: 0.594, accuracy: 0.829, val_loss: 0.517, val_accuracy: 0.845] : 100% 83176/83176 [00:24&lt;00:00, 830.53it/s]"
      }
     },
     "26eda7de99b6457ea726231d1e8a46f7": {
      "model_module": "@jupyter-widgets/base",
      "model_module_version": "1.2.0",
      "model_name": "LayoutModel",
      "state": {}
     },
     "26fd68a6f12d430c95a607be48cb841a": {
      "model_module": "@jupyter-widgets/controls",
      "model_module_version": "1.5.0",
      "model_name": "DescriptionStyleModel",
      "state": {
       "description_width": ""
      }
     },
     "26fea5aa639a4ba3a5fab22d58d5025c": {
      "model_module": "@jupyter-widgets/controls",
      "model_module_version": "1.5.0",
      "model_name": "DescriptionStyleModel",
      "state": {
       "description_width": ""
      }
     },
     "2739bcfe51c54fc3a6918beffd77695f": {
      "model_module": "@jupyter-widgets/base",
      "model_module_version": "1.2.0",
      "model_name": "LayoutModel",
      "state": {}
     },
     "273eb3d144b948c6927e7f92829ee579": {
      "model_module": "@jupyter-widgets/controls",
      "model_module_version": "1.5.0",
      "model_name": "IntProgressModel",
      "state": {
       "description": "Epoch 59",
       "layout": "IPY_MODEL_07cd2f88fdf54069be475456c8b61ade",
       "max": 83176,
       "style": "IPY_MODEL_73c0651e3302454ba9ceaac832037943",
       "value": 83176
      }
     },
     "2744a27b073c4bc0a52a0c8cdeb9e51f": {
      "model_module": "@jupyter-widgets/base",
      "model_module_version": "1.2.0",
      "model_name": "LayoutModel",
      "state": {}
     },
     "27a8b52de24748b69abe0de1ca365ade": {
      "model_module": "@jupyter-widgets/controls",
      "model_module_version": "1.5.0",
      "model_name": "HTMLModel",
      "state": {
       "layout": "IPY_MODEL_231ddfdf0ba74bdaa4e78054205ef087",
       "style": "IPY_MODEL_46808498d28241e095ea80cb14dc990a",
       "value": "[loss: 0.043, accuracy: 0.986, val_loss: 0.060, val_accuracy: 0.982] : 100% 83176/83176 [00:24&lt;00:00, 654.14it/s]"
      }
     },
     "27bfc06b7eb247419a481cafeff67ce4": {
      "model_module": "@jupyter-widgets/controls",
      "model_module_version": "1.5.0",
      "model_name": "DescriptionStyleModel",
      "state": {
       "description_width": ""
      }
     },
     "27ce52bde44543a7b725c4e54d280286": {
      "model_module": "@jupyter-widgets/base",
      "model_module_version": "1.2.0",
      "model_name": "LayoutModel",
      "state": {}
     },
     "2802a93b49b94a9c9ebc361cf628438e": {
      "model_module": "@jupyter-widgets/base",
      "model_module_version": "1.2.0",
      "model_name": "LayoutModel",
      "state": {}
     },
     "2818ad7f250049f981881e4050a59fef": {
      "model_module": "@jupyter-widgets/base",
      "model_module_version": "1.2.0",
      "model_name": "LayoutModel",
      "state": {}
     },
     "287226df45d44207894e18781309ba44": {
      "model_module": "@jupyter-widgets/controls",
      "model_module_version": "1.5.0",
      "model_name": "DescriptionStyleModel",
      "state": {
       "description_width": ""
      }
     },
     "28adb1b6c17c423ea972fda3489cd415": {
      "model_module": "@jupyter-widgets/controls",
      "model_module_version": "1.5.0",
      "model_name": "ProgressStyleModel",
      "state": {
       "description_width": "initial"
      }
     },
     "28b50eda83194f539d5f41bc7916306d": {
      "model_module": "@jupyter-widgets/base",
      "model_module_version": "1.2.0",
      "model_name": "LayoutModel",
      "state": {}
     },
     "28d33cd6b5c741efb90180cd2953c65e": {
      "model_module": "@jupyter-widgets/controls",
      "model_module_version": "1.5.0",
      "model_name": "IntProgressModel",
      "state": {
       "description": "Epoch 31",
       "layout": "IPY_MODEL_c8129450cab24e4a81d6d83c350f1bf2",
       "max": 83176,
       "style": "IPY_MODEL_a13736f23dd4425893995642c73c9906",
       "value": 83176
      }
     },
     "28f24fec0ed94aec80fff98f5fa83c01": {
      "model_module": "@jupyter-widgets/base",
      "model_module_version": "1.2.0",
      "model_name": "LayoutModel",
      "state": {}
     },
     "2915d22bb234401bb047c68b897b8ae3": {
      "model_module": "@jupyter-widgets/base",
      "model_module_version": "1.2.0",
      "model_name": "LayoutModel",
      "state": {}
     },
     "29cee625954a4b0fa4b9d525955c5c47": {
      "model_module": "@jupyter-widgets/controls",
      "model_module_version": "1.5.0",
      "model_name": "HTMLModel",
      "state": {
       "layout": "IPY_MODEL_113d81c57d0347a4b6727e00df6ae9f0",
       "style": "IPY_MODEL_4fb079d452ed47a1b7ccfdb5c29767c1",
       "value": "[loss: 0.032, accuracy: 0.989, val_loss: 0.061, val_accuracy: 0.984] : 100% 83176/83176 [00:24&lt;00:00, 1030.09it/s]"
      }
     },
     "29f7301e09e14001b7ce5e38ed844810": {
      "model_module": "@jupyter-widgets/base",
      "model_module_version": "1.2.0",
      "model_name": "LayoutModel",
      "state": {}
     },
     "2aefed47d8d84c60999da6088df92c14": {
      "model_module": "@jupyter-widgets/controls",
      "model_module_version": "1.5.0",
      "model_name": "IntProgressModel",
      "state": {
       "description": "Epoch 102",
       "layout": "IPY_MODEL_b7ab0de29e014f75b546d216102536d2",
       "max": 83176,
       "style": "IPY_MODEL_f8005f2b62cb418198db4e3578b7e218",
       "value": 83176
      }
     },
     "2af7df0a8a2f4014b74abf9179d80f70": {
      "model_module": "@jupyter-widgets/base",
      "model_module_version": "1.2.0",
      "model_name": "LayoutModel",
      "state": {}
     },
     "2b26e64999664ee981c3fc6ab3d96281": {
      "model_module": "@jupyter-widgets/base",
      "model_module_version": "1.2.0",
      "model_name": "LayoutModel",
      "state": {}
     },
     "2b2cb60aee2240858b340be067e33d56": {
      "model_module": "@jupyter-widgets/controls",
      "model_module_version": "1.5.0",
      "model_name": "DescriptionStyleModel",
      "state": {
       "description_width": ""
      }
     },
     "2b49e0c580334a9b8b4656eb15c4df91": {
      "model_module": "@jupyter-widgets/controls",
      "model_module_version": "1.5.0",
      "model_name": "DescriptionStyleModel",
      "state": {
       "description_width": ""
      }
     },
     "2b8d4228263c4143b31467eae7ee529d": {
      "model_module": "@jupyter-widgets/base",
      "model_module_version": "1.2.0",
      "model_name": "LayoutModel",
      "state": {}
     },
     "2bb0561731104dcfa8e36229c6c05313": {
      "model_module": "@jupyter-widgets/controls",
      "model_module_version": "1.5.0",
      "model_name": "DescriptionStyleModel",
      "state": {
       "description_width": ""
      }
     },
     "2bf798561db349dfb0ee84ae70808a2c": {
      "model_module": "@jupyter-widgets/controls",
      "model_module_version": "1.5.0",
      "model_name": "HTMLModel",
      "state": {
       "layout": "IPY_MODEL_9bc3dd13c1fd4ee09f161f47805286f7",
       "style": "IPY_MODEL_2e81d7c37d304f6c8a8338bb3a820361",
       "value": "[loss: 0.044, accuracy: 0.986, val_loss: 0.059, val_accuracy: 0.983] : 100% 83176/83176 [00:24&lt;00:00, 1011.32it/s]"
      }
     },
     "2c1f04a3e18c4d4d9070100d2d03b6e4": {
      "model_module": "@jupyter-widgets/base",
      "model_module_version": "1.2.0",
      "model_name": "LayoutModel",
      "state": {}
     },
     "2cac952e22b546449a5e34e800771f23": {
      "model_module": "@jupyter-widgets/controls",
      "model_module_version": "1.5.0",
      "model_name": "ProgressStyleModel",
      "state": {
       "description_width": "initial"
      }
     },
     "2cad1cedf3eb4639b8300208f63c5457": {
      "model_module": "@jupyter-widgets/base",
      "model_module_version": "1.2.0",
      "model_name": "LayoutModel",
      "state": {}
     },
     "2cf76ac6f67a44d4952656dfa53334a9": {
      "model_module": "@jupyter-widgets/controls",
      "model_module_version": "1.5.0",
      "model_name": "ProgressStyleModel",
      "state": {
       "description_width": "initial"
      }
     },
     "2d628b3eaee946b39a7ef090b28c8ee9": {
      "model_module": "@jupyter-widgets/base",
      "model_module_version": "1.2.0",
      "model_name": "LayoutModel",
      "state": {}
     },
     "2db54e2c16764d6f8c773fd4df263041": {
      "model_module": "@jupyter-widgets/controls",
      "model_module_version": "1.5.0",
      "model_name": "IntProgressModel",
      "state": {
       "description": "Epoch 36",
       "layout": "IPY_MODEL_7c86803d9226405b92843309dad67e2e",
       "max": 83176,
       "style": "IPY_MODEL_a868590abc7744cfbf164fad9686e3c0",
       "value": 83176
      }
     },
     "2e26e52955a043799f9af96c92abbba5": {
      "model_module": "@jupyter-widgets/controls",
      "model_module_version": "1.5.0",
      "model_name": "ProgressStyleModel",
      "state": {
       "description_width": "initial"
      }
     },
     "2e81d7c37d304f6c8a8338bb3a820361": {
      "model_module": "@jupyter-widgets/controls",
      "model_module_version": "1.5.0",
      "model_name": "DescriptionStyleModel",
      "state": {
       "description_width": ""
      }
     },
     "2ef47baae7444a109882e575ee286b3c": {
      "model_module": "@jupyter-widgets/controls",
      "model_module_version": "1.5.0",
      "model_name": "IntProgressModel",
      "state": {
       "description": "Epoch 7",
       "layout": "IPY_MODEL_ca0b2846a0e5471f9f20916e532eff1b",
       "max": 83176,
       "style": "IPY_MODEL_fefb1246011d477a99622ce99015bb4b",
       "value": 83176
      }
     },
     "2f1e2a02788b456a812a6e8ca0d1d654": {
      "model_module": "@jupyter-widgets/controls",
      "model_module_version": "1.5.0",
      "model_name": "ProgressStyleModel",
      "state": {
       "description_width": "initial"
      }
     },
     "2f359c4cb2314184947cf96dd2262195": {
      "model_module": "@jupyter-widgets/controls",
      "model_module_version": "1.5.0",
      "model_name": "ProgressStyleModel",
      "state": {
       "description_width": "initial"
      }
     },
     "2f7b4acc264f45c99cd54aa3b15f15d5": {
      "model_module": "@jupyter-widgets/controls",
      "model_module_version": "1.5.0",
      "model_name": "DescriptionStyleModel",
      "state": {
       "description_width": ""
      }
     },
     "2fc76f01efea476fa95d8787186e6c5c": {
      "model_module": "@jupyter-widgets/controls",
      "model_module_version": "1.5.0",
      "model_name": "HTMLModel",
      "state": {
       "layout": "IPY_MODEL_e263e221491c46819cce920738617e22",
       "style": "IPY_MODEL_d508678de22e4535a06c8efd4f4cc846",
       "value": "[loss: 0.039, accuracy: 0.987, val_loss: 0.063, val_accuracy: 0.983] : 100% 83176/83176 [00:24&lt;00:00, 1285.74it/s]"
      }
     },
     "2fe57a558a0b49efb6781aa201522d6f": {
      "model_module": "@jupyter-widgets/base",
      "model_module_version": "1.2.0",
      "model_name": "LayoutModel",
      "state": {}
     },
     "2ff023841e4d42738d4d9fb6c8322255": {
      "model_module": "@jupyter-widgets/controls",
      "model_module_version": "1.5.0",
      "model_name": "ProgressStyleModel",
      "state": {
       "description_width": "initial"
      }
     },
     "303f46a81fc94d4dbb811473b9eb3dbe": {
      "model_module": "@jupyter-widgets/controls",
      "model_module_version": "1.5.0",
      "model_name": "ProgressStyleModel",
      "state": {
       "description_width": "initial"
      }
     },
     "30608645fe7d44b18fbd51d18eb01047": {
      "model_module": "@jupyter-widgets/base",
      "model_module_version": "1.2.0",
      "model_name": "LayoutModel",
      "state": {}
     },
     "3070924d569b4f049dad3d12aaff06e9": {
      "model_module": "@jupyter-widgets/controls",
      "model_module_version": "1.5.0",
      "model_name": "HTMLModel",
      "state": {
       "layout": "IPY_MODEL_57424da8942c433b8f4e292c2aad6852",
       "style": "IPY_MODEL_d36a7fb15ae846998b6d9ca7718f7cfe",
       "value": "[loss: 0.305, accuracy: 0.919, val_loss: 0.375, val_accuracy: 0.907] : 100% 83176/83176 [00:24&lt;00:00, 1030.66it/s]"
      }
     },
     "3072ea46d4694ed8846d160cdfde1565": {
      "model_module": "@jupyter-widgets/base",
      "model_module_version": "1.2.0",
      "model_name": "LayoutModel",
      "state": {}
     },
     "31038da5b3b14fffb3d60759d9481238": {
      "model_module": "@jupyter-widgets/controls",
      "model_module_version": "1.5.0",
      "model_name": "ProgressStyleModel",
      "state": {
       "description_width": "initial"
      }
     },
     "3111778a9bb04d28848b89460e2df94d": {
      "model_module": "@jupyter-widgets/controls",
      "model_module_version": "1.5.0",
      "model_name": "DescriptionStyleModel",
      "state": {
       "description_width": ""
      }
     },
     "313ce4f0acac44c8aa3231b8b5abbbd8": {
      "model_module": "@jupyter-widgets/controls",
      "model_module_version": "1.5.0",
      "model_name": "IntProgressModel",
      "state": {
       "description": "Epoch 83",
       "layout": "IPY_MODEL_1f4c252ebb274788bc2d1ca06c109325",
       "max": 83176,
       "style": "IPY_MODEL_5d9692f771274de2874f8640e5aa34ea",
       "value": 83176
      }
     },
     "31e420f63e484418860d5c3108f2237d": {
      "model_module": "@jupyter-widgets/controls",
      "model_module_version": "1.5.0",
      "model_name": "HTMLModel",
      "state": {
       "layout": "IPY_MODEL_b2c9803035214fe6a06b0c169426af77",
       "style": "IPY_MODEL_bfbd401193fb43ebabce8572fe6a6fb4",
       "value": "[loss: 0.018, accuracy: 0.994, val_loss: 0.067, val_accuracy: 0.986] : 100% 83176/83176 [00:26&lt;00:00, 1065.79it/s]"
      }
     },
     "31fc869cf87848f8a4ebcf1edcd2c777": {
      "model_module": "@jupyter-widgets/controls",
      "model_module_version": "1.5.0",
      "model_name": "ProgressStyleModel",
      "state": {
       "description_width": "initial"
      }
     },
     "320b6a053e9a44c1b3280f06d375c7cb": {
      "model_module": "@jupyter-widgets/base",
      "model_module_version": "1.2.0",
      "model_name": "LayoutModel",
      "state": {}
     },
     "3224f04d6e8b43bf8401c6d65982272d": {
      "model_module": "@jupyter-widgets/controls",
      "model_module_version": "1.5.0",
      "model_name": "DescriptionStyleModel",
      "state": {
       "description_width": ""
      }
     },
     "323e0b6d67bc40da8fdc6fe6f5d9d223": {
      "model_module": "@jupyter-widgets/controls",
      "model_module_version": "1.5.0",
      "model_name": "IntProgressModel",
      "state": {
       "description": "Epoch 21",
       "layout": "IPY_MODEL_4f934edc46354bf3ba469e2c768ec3e0",
       "max": 83176,
       "style": "IPY_MODEL_252dae0a67244d25ad0e012137db4bce",
       "value": 83176
      }
     },
     "324680ccabfe4b60b97d7e2783c56e6f": {
      "model_module": "@jupyter-widgets/controls",
      "model_module_version": "1.5.0",
      "model_name": "DescriptionStyleModel",
      "state": {
       "description_width": ""
      }
     },
     "328cc7c8a45b45b9b089cbc27c4fc7a8": {
      "model_module": "@jupyter-widgets/controls",
      "model_module_version": "1.5.0",
      "model_name": "DescriptionStyleModel",
      "state": {
       "description_width": ""
      }
     },
     "330d425bc01d4c1aab9dd34fcc73904b": {
      "model_module": "@jupyter-widgets/controls",
      "model_module_version": "1.5.0",
      "model_name": "ProgressStyleModel",
      "state": {
       "description_width": "initial"
      }
     },
     "33647704596b46ffaba240998c40d044": {
      "model_module": "@jupyter-widgets/base",
      "model_module_version": "1.2.0",
      "model_name": "LayoutModel",
      "state": {}
     },
     "33ab617f710e4fdd81bde6fb3ba663ad": {
      "model_module": "@jupyter-widgets/controls",
      "model_module_version": "1.5.0",
      "model_name": "ProgressStyleModel",
      "state": {
       "description_width": "initial"
      }
     },
     "33f07ced8f4f4868a9dcb96934ce8a60": {
      "model_module": "@jupyter-widgets/controls",
      "model_module_version": "1.5.0",
      "model_name": "IntProgressModel",
      "state": {
       "description": "Epoch 114",
       "layout": "IPY_MODEL_fa4e47300e4a413aaee1ebcb725be299",
       "max": 83176,
       "style": "IPY_MODEL_b0b9f3eca44049bc80b0621a1647fe32",
       "value": 83176
      }
     },
     "3421e20a1726434ca2a964cab7065a9a": {
      "model_module": "@jupyter-widgets/controls",
      "model_module_version": "1.5.0",
      "model_name": "DescriptionStyleModel",
      "state": {
       "description_width": ""
      }
     },
     "342a0763a0424b0ab85335869cc82928": {
      "model_module": "@jupyter-widgets/base",
      "model_module_version": "1.2.0",
      "model_name": "LayoutModel",
      "state": {}
     },
     "34598e56dc854325a7f68d07a70f67c7": {
      "model_module": "@jupyter-widgets/base",
      "model_module_version": "1.2.0",
      "model_name": "LayoutModel",
      "state": {}
     },
     "346a6eb18c2b41d18efa5e14b74500a0": {
      "model_module": "@jupyter-widgets/controls",
      "model_module_version": "1.5.0",
      "model_name": "ProgressStyleModel",
      "state": {
       "description_width": "initial"
      }
     },
     "34707572a1ce4ec78086a11fd204442b": {
      "model_module": "@jupyter-widgets/controls",
      "model_module_version": "1.5.0",
      "model_name": "IntProgressModel",
      "state": {
       "description": "Epoch 1",
       "layout": "IPY_MODEL_8fc14667bf624b6abf79b03e1601fe41",
       "max": 83176,
       "style": "IPY_MODEL_68b9b095843a45e4a46df54ccdb0abee",
       "value": 83176
      }
     },
     "34c8d7a82d594b7b86ead4c64473c62a": {
      "model_module": "@jupyter-widgets/base",
      "model_module_version": "1.2.0",
      "model_name": "LayoutModel",
      "state": {}
     },
     "34e130930bb2413587a875c2bd5ec84d": {
      "model_module": "@jupyter-widgets/controls",
      "model_module_version": "1.5.0",
      "model_name": "DescriptionStyleModel",
      "state": {
       "description_width": ""
      }
     },
     "352fe81454e343a29b6fbb81744a39ad": {
      "model_module": "@jupyter-widgets/base",
      "model_module_version": "1.2.0",
      "model_name": "LayoutModel",
      "state": {}
     },
     "354fc7af4345496a81f3c2c8afbe3c05": {
      "model_module": "@jupyter-widgets/controls",
      "model_module_version": "1.5.0",
      "model_name": "DescriptionStyleModel",
      "state": {
       "description_width": ""
      }
     },
     "355b1b00bf834b10ba25a788855ac97f": {
      "model_module": "@jupyter-widgets/base",
      "model_module_version": "1.2.0",
      "model_name": "LayoutModel",
      "state": {}
     },
     "35762d2b47fe4576a7af077719368dc1": {
      "model_module": "@jupyter-widgets/controls",
      "model_module_version": "1.5.0",
      "model_name": "IntProgressModel",
      "state": {
       "description": "Epoch 11",
       "layout": "IPY_MODEL_7fe1d86d6b3a402589b58d72d2f5e681",
       "max": 83176,
       "style": "IPY_MODEL_9cef71f3315d4706a118cfa9d9d4f5ad",
       "value": 83176
      }
     },
     "359cf32febd046d6ad89a4e10327d190": {
      "model_module": "@jupyter-widgets/base",
      "model_module_version": "1.2.0",
      "model_name": "LayoutModel",
      "state": {}
     },
     "35a52a37f5d84019bbff254627c31e42": {
      "model_module": "@jupyter-widgets/controls",
      "model_module_version": "1.5.0",
      "model_name": "HTMLModel",
      "state": {
       "layout": "IPY_MODEL_c59096d1a3704678857ccfc11279ce9f",
       "style": "IPY_MODEL_973ad639ba944171a26c991f48df95f9",
       "value": "[loss: 0.022, accuracy: 0.993, val_loss: 0.060, val_accuracy: 0.987] : 100% 83176/83176 [00:26&lt;00:00, 1111.23it/s]"
      }
     },
     "35ccd86dde0b4df8ab0fde81d3f46ed9": {
      "model_module": "@jupyter-widgets/controls",
      "model_module_version": "1.5.0",
      "model_name": "HTMLModel",
      "state": {
       "layout": "IPY_MODEL_f2265d868c114b63a8a519777085c061",
       "style": "IPY_MODEL_d82ef4e05f2a43d9b8c682b2a8b8fcfe",
       "value": "[loss: 0.046, accuracy: 0.986, val_loss: 0.061, val_accuracy: 0.982] : 100% 83176/83176 [00:24&lt;00:00, 1168.77it/s]"
      }
     },
     "36bffe01939b48c9b69cab7621ddb99c": {
      "model_module": "@jupyter-widgets/base",
      "model_module_version": "1.2.0",
      "model_name": "LayoutModel",
      "state": {}
     },
     "37bd3a29034b4a53aa6d21e821bd6eae": {
      "model_module": "@jupyter-widgets/base",
      "model_module_version": "1.2.0",
      "model_name": "LayoutModel",
      "state": {}
     },
     "37d2840c7e9a462cb53014ff6dc093bf": {
      "model_module": "@jupyter-widgets/base",
      "model_module_version": "1.2.0",
      "model_name": "LayoutModel",
      "state": {}
     },
     "37faeddbe9dc4feb9b4551eff1c160b2": {
      "model_module": "@jupyter-widgets/controls",
      "model_module_version": "1.5.0",
      "model_name": "DescriptionStyleModel",
      "state": {
       "description_width": ""
      }
     },
     "3836d3bdb4ef441ca4b06653c84853f7": {
      "model_module": "@jupyter-widgets/controls",
      "model_module_version": "1.5.0",
      "model_name": "DescriptionStyleModel",
      "state": {
       "description_width": ""
      }
     },
     "3852d2e42b2f4939be6eea62a5f21581": {
      "model_module": "@jupyter-widgets/controls",
      "model_module_version": "1.5.0",
      "model_name": "ProgressStyleModel",
      "state": {
       "description_width": "initial"
      }
     },
     "389c51c0dd704f75985be7287ffe6af6": {
      "model_module": "@jupyter-widgets/controls",
      "model_module_version": "1.5.0",
      "model_name": "IntProgressModel",
      "state": {
       "description": "Epoch 100",
       "layout": "IPY_MODEL_0c9238adab904c99869879057622d6b8",
       "max": 83176,
       "style": "IPY_MODEL_5f2eb20c378c4892bbff3d369442ab4e",
       "value": 83176
      }
     },
     "38d2baa505dd40259fe48ef0005861c4": {
      "model_module": "@jupyter-widgets/base",
      "model_module_version": "1.2.0",
      "model_name": "LayoutModel",
      "state": {}
     },
     "392cedb011284a0d85fe78c60c0d46cd": {
      "model_module": "@jupyter-widgets/controls",
      "model_module_version": "1.5.0",
      "model_name": "IntProgressModel",
      "state": {
       "description": "Epoch 73",
       "layout": "IPY_MODEL_7da914375d7c467bb82666397800db01",
       "max": 83176,
       "style": "IPY_MODEL_f09166ebb44944348d03ac62330e7c12",
       "value": 83176
      }
     },
     "39fb2a93e9f04a9bb6aa88256fda26e7": {
      "model_module": "@jupyter-widgets/controls",
      "model_module_version": "1.5.0",
      "model_name": "ProgressStyleModel",
      "state": {
       "description_width": "initial"
      }
     },
     "3a32e59776204792be94fd720e42a596": {
      "model_module": "@jupyter-widgets/controls",
      "model_module_version": "1.5.0",
      "model_name": "ProgressStyleModel",
      "state": {
       "description_width": "initial"
      }
     },
     "3a3452322b2d4d7a8df15a4f32fb19df": {
      "model_module": "@jupyter-widgets/controls",
      "model_module_version": "1.5.0",
      "model_name": "ProgressStyleModel",
      "state": {
       "description_width": "initial"
      }
     },
     "3a85e661d772458c81b787ed1b09461f": {
      "model_module": "@jupyter-widgets/controls",
      "model_module_version": "1.5.0",
      "model_name": "ProgressStyleModel",
      "state": {
       "description_width": "initial"
      }
     },
     "3ab200fa1657408484e66f3192873617": {
      "model_module": "@jupyter-widgets/controls",
      "model_module_version": "1.5.0",
      "model_name": "ProgressStyleModel",
      "state": {
       "description_width": "initial"
      }
     },
     "3af11c7e96eb4e28abebfbddf16c7362": {
      "model_module": "@jupyter-widgets/controls",
      "model_module_version": "1.5.0",
      "model_name": "IntProgressModel",
      "state": {
       "description": "Epoch 4",
       "layout": "IPY_MODEL_04be80edb88b4cb3a788a2d8ed9851ee",
       "max": 83176,
       "style": "IPY_MODEL_e3cf68dbe0764236b7f1541852613716",
       "value": 83176
      }
     },
     "3afc3400e8014483938177f917574395": {
      "model_module": "@jupyter-widgets/controls",
      "model_module_version": "1.5.0",
      "model_name": "HTMLModel",
      "state": {
       "layout": "IPY_MODEL_b74bd994ba0f4d778c4e8bde1a76fb9c",
       "style": "IPY_MODEL_73fbfb41162b4edf984e6f392ccfb0c9",
       "value": "[loss: 0.158, accuracy: 0.955, val_loss: 0.173, val_accuracy: 0.951] : 100% 83176/83176 [00:24&lt;00:00, 158.94it/s]"
      }
     },
     "3b27ab62c0a846a28b4a753a74bd40ed": {
      "model_module": "@jupyter-widgets/controls",
      "model_module_version": "1.5.0",
      "model_name": "ProgressStyleModel",
      "state": {
       "description_width": "initial"
      }
     },
     "3b37db38aa524970a453b269d8d29343": {
      "model_module": "@jupyter-widgets/controls",
      "model_module_version": "1.5.0",
      "model_name": "ProgressStyleModel",
      "state": {
       "description_width": "initial"
      }
     },
     "3b83bbafc0ad48afa3cca85c980ecfa2": {
      "model_module": "@jupyter-widgets/base",
      "model_module_version": "1.2.0",
      "model_name": "LayoutModel",
      "state": {}
     },
     "3bdcbe1ce0f74a1e97ab03f2789694d0": {
      "model_module": "@jupyter-widgets/controls",
      "model_module_version": "1.5.0",
      "model_name": "ProgressStyleModel",
      "state": {
       "description_width": "initial"
      }
     },
     "3c1517cf46a3493895e9186c16dcdee5": {
      "model_module": "@jupyter-widgets/controls",
      "model_module_version": "1.5.0",
      "model_name": "IntProgressModel",
      "state": {
       "description": "Epoch 129",
       "layout": "IPY_MODEL_af9f5976c06e4d1785426b66be4d5d0e",
       "max": 83176,
       "style": "IPY_MODEL_00e0ee94cdf644a9ae66fb92e0b3505a",
       "value": 83176
      }
     },
     "3c4fcb8636bd4dee8cd1831741d67af4": {
      "model_module": "@jupyter-widgets/base",
      "model_module_version": "1.2.0",
      "model_name": "LayoutModel",
      "state": {}
     },
     "3c7ad4b5d0dd4419a4ebbe6c869f2154": {
      "model_module": "@jupyter-widgets/base",
      "model_module_version": "1.2.0",
      "model_name": "LayoutModel",
      "state": {}
     },
     "3d090c6cf46c46cea42f908b3c97f29f": {
      "model_module": "@jupyter-widgets/base",
      "model_module_version": "1.2.0",
      "model_name": "LayoutModel",
      "state": {}
     },
     "3d4aae2c0d65435f99977a158b278620": {
      "model_module": "@jupyter-widgets/controls",
      "model_module_version": "1.5.0",
      "model_name": "HTMLModel",
      "state": {
       "layout": "IPY_MODEL_9345c4a047f04040b26c69cfa7b5d337",
       "style": "IPY_MODEL_3111778a9bb04d28848b89460e2df94d",
       "value": "[loss: 0.024, accuracy: 0.992, val_loss: 0.068, val_accuracy: 0.983] : 100% 83176/83176 [00:27&lt;00:00, 1162.02it/s]"
      }
     },
     "3d63077a6f7e45c0af7ba07b09fcb673": {
      "model_module": "@jupyter-widgets/controls",
      "model_module_version": "1.5.0",
      "model_name": "IntProgressModel",
      "state": {
       "description": "Epoch 127",
       "layout": "IPY_MODEL_c08eacd78a5c4717a738c8045e949605",
       "max": 83176,
       "style": "IPY_MODEL_d6f48cc61d214a6688a54602b6377bc4",
       "value": 83176
      }
     },
     "3d75dfd406ab4f7b9621c2f677afb39d": {
      "model_module": "@jupyter-widgets/controls",
      "model_module_version": "1.5.0",
      "model_name": "ProgressStyleModel",
      "state": {
       "description_width": "initial"
      }
     },
     "3f23e051c98d4f0f901ae24e9ae2e129": {
      "model_module": "@jupyter-widgets/controls",
      "model_module_version": "1.5.0",
      "model_name": "HTMLModel",
      "state": {
       "layout": "IPY_MODEL_5f145cd05b514ff2b5efb556de624d0a",
       "style": "IPY_MODEL_69aef7efdef44d87be09f7ccbd5e07e0",
       "value": "[loss: 0.018, accuracy: 0.994, val_loss: 0.066, val_accuracy: 0.984] : 100% 83176/83176 [00:26&lt;00:00, 1176.38it/s]"
      }
     },
     "3f30a0a6399f4fd8a040f4428cd5b46b": {
      "model_module": "@jupyter-widgets/controls",
      "model_module_version": "1.5.0",
      "model_name": "IntProgressModel",
      "state": {
       "description": "Epoch 106",
       "layout": "IPY_MODEL_5653a1d2be45420890e7d5283ab9cea6",
       "max": 83176,
       "style": "IPY_MODEL_c557d8f4df00488386889ae5bce038b6",
       "value": 83176
      }
     },
     "3f338c05fd834df2a31238ad59c081bb": {
      "model_module": "@jupyter-widgets/base",
      "model_module_version": "1.2.0",
      "model_name": "LayoutModel",
      "state": {}
     },
     "3fbb901ecd6e40da8c98845c0caaf378": {
      "model_module": "@jupyter-widgets/controls",
      "model_module_version": "1.5.0",
      "model_name": "DescriptionStyleModel",
      "state": {
       "description_width": ""
      }
     },
     "4022e13a09644d38815ab25f9c26b86b": {
      "model_module": "@jupyter-widgets/controls",
      "model_module_version": "1.5.0",
      "model_name": "HTMLModel",
      "state": {
       "layout": "IPY_MODEL_66b75057b2f54f1f9cbdb1a144dddbb2",
       "style": "IPY_MODEL_c707b8ba5ec74336aa2c612d8b26d51f",
       "value": "[loss: 0.076, accuracy: 0.978, val_loss: 0.090, val_accuracy: 0.974] : 100% 83176/83176 [00:24&lt;00:00, 652.57it/s]"
      }
     },
     "40471fba8f7e4858bbfffb195ecbfd8e": {
      "model_module": "@jupyter-widgets/controls",
      "model_module_version": "1.5.0",
      "model_name": "HTMLModel",
      "state": {
       "layout": "IPY_MODEL_c4d6e413669e4765b6d5760a3bfb19ed",
       "style": "IPY_MODEL_8983373140de4097ba5c7ea29132257d",
       "value": "[loss: 0.039, accuracy: 0.988, val_loss: 0.058, val_accuracy: 0.983] : 100% 83176/83176 [00:24&lt;00:00, 1301.99it/s]"
      }
     },
     "40bda63eeec6456ca945b04374cedcc8": {
      "model_module": "@jupyter-widgets/base",
      "model_module_version": "1.2.0",
      "model_name": "LayoutModel",
      "state": {}
     },
     "40be5978996542acbc7aa662fe01fb89": {
      "model_module": "@jupyter-widgets/controls",
      "model_module_version": "1.5.0",
      "model_name": "HTMLModel",
      "state": {
       "layout": "IPY_MODEL_cdb5c7b9758049fdbbd5c2718e1a1400",
       "style": "IPY_MODEL_93bdb7a9d7464f2e99a6d5f9523a0b4f",
       "value": "[loss: 0.018, accuracy: 0.994, val_loss: 0.056, val_accuracy: 0.985] : 100% 83176/83176 [00:27&lt;00:00, 1063.39it/s]"
      }
     },
     "40c4ac9fa75141e1b4172b28a4b98e4e": {
      "model_module": "@jupyter-widgets/controls",
      "model_module_version": "1.5.0",
      "model_name": "DescriptionStyleModel",
      "state": {
       "description_width": ""
      }
     },
     "4167ace7394b437796c7aeb19bec6480": {
      "model_module": "@jupyter-widgets/controls",
      "model_module_version": "1.5.0",
      "model_name": "HTMLModel",
      "state": {
       "layout": "IPY_MODEL_1fa386fa69534bc298c842c0c6e2d3f5",
       "style": "IPY_MODEL_8ec499c8d0834592a755e297cbae495c",
       "value": "[loss: 0.035, accuracy: 0.988, val_loss: 0.054, val_accuracy: 0.984] : 100% 83176/83176 [00:24&lt;00:00, 933.54it/s]"
      }
     },
     "418ab56add5f4e84906439188d16702e": {
      "model_module": "@jupyter-widgets/controls",
      "model_module_version": "1.5.0",
      "model_name": "IntProgressModel",
      "state": {
       "description": "Epoch 53",
       "layout": "IPY_MODEL_4afdcd27d4c249c494477e52184bea55",
       "max": 83176,
       "style": "IPY_MODEL_3a3452322b2d4d7a8df15a4f32fb19df",
       "value": 83176
      }
     },
     "425f16eee84e42b4bea6f5c1bcc779d4": {
      "model_module": "@jupyter-widgets/controls",
      "model_module_version": "1.5.0",
      "model_name": "HTMLModel",
      "state": {
       "layout": "IPY_MODEL_762364686fed46a688d4f9b43756bd21",
       "style": "IPY_MODEL_4e6ea0de0210470284dac9644905ff41",
       "value": "[loss: 0.070, accuracy: 0.979, val_loss: 0.075, val_accuracy: 0.977] : 100% 83176/83176 [00:24&lt;00:00, 981.45it/s]"
      }
     },
     "42cc8a50ebfb41a2a031b50188172195": {
      "model_module": "@jupyter-widgets/base",
      "model_module_version": "1.2.0",
      "model_name": "LayoutModel",
      "state": {}
     },
     "42d75b2af15a4a749d9f954cbf40b618": {
      "model_module": "@jupyter-widgets/controls",
      "model_module_version": "1.5.0",
      "model_name": "ProgressStyleModel",
      "state": {
       "description_width": "initial"
      }
     },
     "42e5d0cd3dd24c5c9cccc9c9fbcafa7f": {
      "model_module": "@jupyter-widgets/base",
      "model_module_version": "1.2.0",
      "model_name": "LayoutModel",
      "state": {}
     },
     "436f4da79d00458da41ca78fdcb64745": {
      "model_module": "@jupyter-widgets/controls",
      "model_module_version": "1.5.0",
      "model_name": "HTMLModel",
      "state": {
       "layout": "IPY_MODEL_2802a93b49b94a9c9ebc361cf628438e",
       "style": "IPY_MODEL_2bb0561731104dcfa8e36229c6c05313",
       "value": "[loss: 0.027, accuracy: 0.991, val_loss: 0.066, val_accuracy: 0.982] : 100% 83176/83176 [00:24&lt;00:00, 1163.17it/s]"
      }
     },
     "43d56d8056344e13b6fe97935ae82291": {
      "model_module": "@jupyter-widgets/base",
      "model_module_version": "1.2.0",
      "model_name": "LayoutModel",
      "state": {}
     },
     "440b54295269485697899d60d3514f17": {
      "model_module": "@jupyter-widgets/controls",
      "model_module_version": "1.5.0",
      "model_name": "ProgressStyleModel",
      "state": {
       "description_width": "initial"
      }
     },
     "443263afe6384e7e8e0193e52c8e6e1a": {
      "model_module": "@jupyter-widgets/controls",
      "model_module_version": "1.5.0",
      "model_name": "ProgressStyleModel",
      "state": {
       "description_width": "initial"
      }
     },
     "443e093fdef34e9ab90639482cca1349": {
      "model_module": "@jupyter-widgets/controls",
      "model_module_version": "1.5.0",
      "model_name": "HTMLModel",
      "state": {
       "layout": "IPY_MODEL_aec48855efed48c99d718b9abb08008f",
       "style": "IPY_MODEL_75d5d18e8aa74caab90ed5c7249a2d67",
       "value": "[loss: 0.121, accuracy: 0.966, val_loss: 0.154, val_accuracy: 0.958] : 100% 83176/83176 [00:24&lt;00:00, 844.48it/s]"
      }
     },
     "44516bda763e4049a9077bbbbe7245ed": {
      "model_module": "@jupyter-widgets/base",
      "model_module_version": "1.2.0",
      "model_name": "LayoutModel",
      "state": {}
     },
     "4454c241d5b24dcf88b8ef59a4ebcccd": {
      "model_module": "@jupyter-widgets/base",
      "model_module_version": "1.2.0",
      "model_name": "LayoutModel",
      "state": {}
     },
     "446be2c8a1314345a6cb62166d73986e": {
      "model_module": "@jupyter-widgets/controls",
      "model_module_version": "1.5.0",
      "model_name": "IntProgressModel",
      "state": {
       "description": "Epoch 116",
       "layout": "IPY_MODEL_cf32b2dff4244c2181d3da560a61e55a",
       "max": 83176,
       "style": "IPY_MODEL_8772563b01ad49a6af8968038db3873b",
       "value": 83176
      }
     },
     "45022e62e89846a2b893575fd9201b07": {
      "model_module": "@jupyter-widgets/base",
      "model_module_version": "1.2.0",
      "model_name": "LayoutModel",
      "state": {}
     },
     "456c2bb25dd742d0ae0a28959a278442": {
      "model_module": "@jupyter-widgets/controls",
      "model_module_version": "1.5.0",
      "model_name": "HTMLModel",
      "state": {
       "layout": "IPY_MODEL_eb3dbb2971f244a286605597af39c71f",
       "style": "IPY_MODEL_f7c430645b1d48e7937b9152552eecaa",
       "value": "[loss: 0.080, accuracy: 0.977, val_loss: 0.097, val_accuracy: 0.972] : 100% 83176/83176 [00:24&lt;00:00, 999.81it/s]"
      }
     },
     "457b35aef3e840ad812cd4593556a07c": {
      "model_module": "@jupyter-widgets/base",
      "model_module_version": "1.2.0",
      "model_name": "LayoutModel",
      "state": {}
     },
     "45805a67184d45dda2c1e4688da9bde1": {
      "model_module": "@jupyter-widgets/base",
      "model_module_version": "1.2.0",
      "model_name": "LayoutModel",
      "state": {}
     },
     "4646adce74304aa1a815d8ceb9047406": {
      "model_module": "@jupyter-widgets/base",
      "model_module_version": "1.2.0",
      "model_name": "LayoutModel",
      "state": {}
     },
     "4679b658dd55463fb7e42935a5a3ffa2": {
      "model_module": "@jupyter-widgets/controls",
      "model_module_version": "1.5.0",
      "model_name": "IntProgressModel",
      "state": {
       "description": "Epoch 54",
       "layout": "IPY_MODEL_a39636d8e0f4436490177dabb0c341d8",
       "max": 83176,
       "style": "IPY_MODEL_e4711b5fe5944b0fbc64f9a25e91ce4a",
       "value": 83176
      }
     },
     "46808498d28241e095ea80cb14dc990a": {
      "model_module": "@jupyter-widgets/controls",
      "model_module_version": "1.5.0",
      "model_name": "DescriptionStyleModel",
      "state": {
       "description_width": ""
      }
     },
     "4681b1d40f684155b897b6cf457ed547": {
      "model_module": "@jupyter-widgets/controls",
      "model_module_version": "1.5.0",
      "model_name": "IntProgressModel",
      "state": {
       "description": "Epoch 37",
       "layout": "IPY_MODEL_c8bb84b100e74331b818c801432590bd",
       "max": 83176,
       "style": "IPY_MODEL_46fac760748f4f17bdcbe1bae5c86288",
       "value": 83176
      }
     },
     "46ee7c58198947eab164d64f4189079c": {
      "model_module": "@jupyter-widgets/base",
      "model_module_version": "1.2.0",
      "model_name": "LayoutModel",
      "state": {}
     },
     "46fac760748f4f17bdcbe1bae5c86288": {
      "model_module": "@jupyter-widgets/controls",
      "model_module_version": "1.5.0",
      "model_name": "ProgressStyleModel",
      "state": {
       "description_width": "initial"
      }
     },
     "473bb88823974b2094862cfcfd8c6c4f": {
      "model_module": "@jupyter-widgets/base",
      "model_module_version": "1.2.0",
      "model_name": "LayoutModel",
      "state": {}
     },
     "47524c9ade854a54874d4310b85811f9": {
      "model_module": "@jupyter-widgets/controls",
      "model_module_version": "1.5.0",
      "model_name": "HTMLModel",
      "state": {
       "layout": "IPY_MODEL_8957b204b6d04438aec5023160e318af",
       "style": "IPY_MODEL_34e130930bb2413587a875c2bd5ec84d",
       "value": "[loss: 0.020, accuracy: 0.993, val_loss: 0.064, val_accuracy: 0.985] : 100% 83176/83176 [00:26&lt;00:00, 1053.13it/s]"
      }
     },
     "47a0a42fa863405d882ff69c6371bca9": {
      "model_module": "@jupyter-widgets/base",
      "model_module_version": "1.2.0",
      "model_name": "LayoutModel",
      "state": {}
     },
     "47a37bcf95e84a15a84ade2a81fafa4f": {
      "model_module": "@jupyter-widgets/controls",
      "model_module_version": "1.5.0",
      "model_name": "ProgressStyleModel",
      "state": {
       "description_width": "initial"
      }
     },
     "47a52d1f9f0549709d9711ff8c340eb6": {
      "model_module": "@jupyter-widgets/base",
      "model_module_version": "1.2.0",
      "model_name": "LayoutModel",
      "state": {}
     },
     "48821c36bab444aca835dbcb7ebe180b": {
      "model_module": "@jupyter-widgets/base",
      "model_module_version": "1.2.0",
      "model_name": "LayoutModel",
      "state": {}
     },
     "488789f3b8c247cbbbc9b9ff2c9b8c96": {
      "model_module": "@jupyter-widgets/controls",
      "model_module_version": "1.5.0",
      "model_name": "HTMLModel",
      "state": {
       "layout": "IPY_MODEL_c5dbd96488c64515b55f5d09416bb9c3",
       "style": "IPY_MODEL_d521d835361d4e64bc8c92806b9743fd",
       "value": "[loss: 0.052, accuracy: 0.984, val_loss: 0.068, val_accuracy: 0.981] : 100% 83176/83176 [00:24&lt;00:00, 1042.02it/s]"
      }
     },
     "488c4b7f9eb540408a7c682501c82613": {
      "model_module": "@jupyter-widgets/base",
      "model_module_version": "1.2.0",
      "model_name": "LayoutModel",
      "state": {}
     },
     "48a9cf22787f4c09997ccd6e4f7b3f18": {
      "model_module": "@jupyter-widgets/base",
      "model_module_version": "1.2.0",
      "model_name": "LayoutModel",
      "state": {}
     },
     "48f0a994b0e4461b9c8ecf501c83d2c8": {
      "model_module": "@jupyter-widgets/controls",
      "model_module_version": "1.5.0",
      "model_name": "HTMLModel",
      "state": {
       "layout": "IPY_MODEL_a37d9b415dfd44659678f599efb0c899",
       "style": "IPY_MODEL_101c2b87ab454bc18415991c7813eec7",
       "value": "[loss: 0.022, accuracy: 0.993, val_loss: 0.063, val_accuracy: 0.984] : 100% 83176/83176 [00:26&lt;00:00, 1213.80it/s]"
      }
     },
     "4a53973242a94ab29d4c2a6b31bc4871": {
      "model_module": "@jupyter-widgets/controls",
      "model_module_version": "1.5.0",
      "model_name": "HTMLModel",
      "state": {
       "layout": "IPY_MODEL_607b58b02b614c6cb1355f4727382eca",
       "style": "IPY_MODEL_7b54235417a54032bd06f8037599bddd",
       "value": "[loss: 0.071, accuracy: 0.979, val_loss: 0.078, val_accuracy: 0.977] : 100% 83176/83176 [00:24&lt;00:00, 162.20it/s]"
      }
     },
     "4a7522bf59fb41ef9e05eed71f91b57d": {
      "model_module": "@jupyter-widgets/base",
      "model_module_version": "1.2.0",
      "model_name": "LayoutModel",
      "state": {}
     },
     "4a9650fdfe714c37819cab352d59d50f": {
      "model_module": "@jupyter-widgets/controls",
      "model_module_version": "1.5.0",
      "model_name": "DescriptionStyleModel",
      "state": {
       "description_width": ""
      }
     },
     "4a9c13da49334a64859b2b04d484151b": {
      "model_module": "@jupyter-widgets/controls",
      "model_module_version": "1.5.0",
      "model_name": "HTMLModel",
      "state": {
       "layout": "IPY_MODEL_d3c71bc1574a401e80e3a48992049375",
       "style": "IPY_MODEL_f596700a7afc43d28a756a8f5e6791e3",
       "value": "[loss: 0.033, accuracy: 0.989, val_loss: 0.068, val_accuracy: 0.982] : 100% 83176/83176 [00:25&lt;00:00, 1144.80it/s]"
      }
     },
     "4aaf4a13bc554b2a8abdcc901accb519": {
      "model_module": "@jupyter-widgets/base",
      "model_module_version": "1.2.0",
      "model_name": "LayoutModel",
      "state": {}
     },
     "4aafa7f5ff854383b01fc91d2de7c9d6": {
      "model_module": "@jupyter-widgets/controls",
      "model_module_version": "1.5.0",
      "model_name": "ProgressStyleModel",
      "state": {
       "description_width": "initial"
      }
     },
     "4ac39eccf3ef4f629a4831201053b007": {
      "model_module": "@jupyter-widgets/controls",
      "model_module_version": "1.5.0",
      "model_name": "IntProgressModel",
      "state": {
       "description": "Epoch 66",
       "layout": "IPY_MODEL_9a268be66891434ab387a6e13fa9838e",
       "max": 83176,
       "style": "IPY_MODEL_3d75dfd406ab4f7b9621c2f677afb39d",
       "value": 83176
      }
     },
     "4afdcd27d4c249c494477e52184bea55": {
      "model_module": "@jupyter-widgets/base",
      "model_module_version": "1.2.0",
      "model_name": "LayoutModel",
      "state": {}
     },
     "4b2402512f1a4f62b0231e0b3eb68656": {
      "model_module": "@jupyter-widgets/base",
      "model_module_version": "1.2.0",
      "model_name": "LayoutModel",
      "state": {}
     },
     "4b392fe387ae4996b098356eceafa569": {
      "model_module": "@jupyter-widgets/controls",
      "model_module_version": "1.5.0",
      "model_name": "DescriptionStyleModel",
      "state": {
       "description_width": ""
      }
     },
     "4b714d409d9149eaa84584c4ad697de6": {
      "model_module": "@jupyter-widgets/controls",
      "model_module_version": "1.5.0",
      "model_name": "DescriptionStyleModel",
      "state": {
       "description_width": ""
      }
     },
     "4bba807c4f2f4fa1886e52ed257a08c7": {
      "model_module": "@jupyter-widgets/controls",
      "model_module_version": "1.5.0",
      "model_name": "ProgressStyleModel",
      "state": {
       "description_width": "initial"
      }
     },
     "4c4c3ceef7b64fafb689e6753ed015e7": {
      "model_module": "@jupyter-widgets/controls",
      "model_module_version": "1.5.0",
      "model_name": "HTMLModel",
      "state": {
       "layout": "IPY_MODEL_43d56d8056344e13b6fe97935ae82291",
       "style": "IPY_MODEL_6d156c57e3954f7f8da6dd08bdfc8c0c",
       "value": "[loss: 0.034, accuracy: 0.989, val_loss: 0.058, val_accuracy: 0.985] : 100% 83176/83176 [00:25&lt;00:00, 1265.97it/s]"
      }
     },
     "4c7e7b8607ae4829a067a08bb1642e61": {
      "model_module": "@jupyter-widgets/base",
      "model_module_version": "1.2.0",
      "model_name": "LayoutModel",
      "state": {}
     },
     "4c9bf4f37263430eb6fc14b899855146": {
      "model_module": "@jupyter-widgets/controls",
      "model_module_version": "1.5.0",
      "model_name": "HTMLModel",
      "state": {
       "layout": "IPY_MODEL_14a04f64c50d482f878d9f560deac927",
       "style": "IPY_MODEL_2b49e0c580334a9b8b4656eb15c4df91",
       "value": "[loss: 0.023, accuracy: 0.992, val_loss: 0.065, val_accuracy: 0.982] : 100% 83176/83176 [00:26&lt;00:00, 1083.96it/s]"
      }
     },
     "4cd2d92423154e05843870234cfc2f9f": {
      "model_module": "@jupyter-widgets/controls",
      "model_module_version": "1.5.0",
      "model_name": "IntProgressModel",
      "state": {
       "description": "Epoch 121",
       "layout": "IPY_MODEL_f6cbe39e32064a879e6cdb7d7fc05023",
       "max": 83176,
       "style": "IPY_MODEL_1c3addcc741c43b2b20d262c27f44f0e",
       "value": 83176
      }
     },
     "4cf141ff4fc7405c977cc676fcfbff79": {
      "model_module": "@jupyter-widgets/base",
      "model_module_version": "1.2.0",
      "model_name": "LayoutModel",
      "state": {}
     },
     "4d161e15983d400d9258177411dbf52b": {
      "model_module": "@jupyter-widgets/base",
      "model_module_version": "1.2.0",
      "model_name": "LayoutModel",
      "state": {}
     },
     "4d2099cf4d334fc1bb0269a06964090f": {
      "model_module": "@jupyter-widgets/controls",
      "model_module_version": "1.5.0",
      "model_name": "ProgressStyleModel",
      "state": {
       "description_width": "initial"
      }
     },
     "4d676c5380444728adddd69da961b60b": {
      "model_module": "@jupyter-widgets/controls",
      "model_module_version": "1.5.0",
      "model_name": "ProgressStyleModel",
      "state": {
       "description_width": "initial"
      }
     },
     "4d74425b80ee4a009f444411ae70c1f1": {
      "model_module": "@jupyter-widgets/base",
      "model_module_version": "1.2.0",
      "model_name": "LayoutModel",
      "state": {}
     },
     "4dac72147ba645dca2f1569fd1dd0de0": {
      "model_module": "@jupyter-widgets/base",
      "model_module_version": "1.2.0",
      "model_name": "LayoutModel",
      "state": {}
     },
     "4e4fbb121dd8433bb50ee60494f3434e": {
      "model_module": "@jupyter-widgets/controls",
      "model_module_version": "1.5.0",
      "model_name": "IntProgressModel",
      "state": {
       "description": "Epoch 13",
       "layout": "IPY_MODEL_0d3d29762fec4d8d8cfb95916cc12337",
       "max": 83176,
       "style": "IPY_MODEL_346a6eb18c2b41d18efa5e14b74500a0",
       "value": 83176
      }
     },
     "4e6ea0de0210470284dac9644905ff41": {
      "model_module": "@jupyter-widgets/controls",
      "model_module_version": "1.5.0",
      "model_name": "DescriptionStyleModel",
      "state": {
       "description_width": ""
      }
     },
     "4f146dc5d73941ffb553a42c81d6fe87": {
      "model_module": "@jupyter-widgets/controls",
      "model_module_version": "1.5.0",
      "model_name": "HTMLModel",
      "state": {
       "layout": "IPY_MODEL_dce3dbf669ae486fa902dd2b81e74c25",
       "style": "IPY_MODEL_d6269acdac724af08627b6c4891e4b79",
       "value": "[loss: 0.041, accuracy: 0.987, val_loss: 0.058, val_accuracy: 0.985] : 100% 83176/83176 [00:24&lt;00:00, 646.28it/s]"
      }
     },
     "4f3bb0104fd143f4a7cf3bddfdc1a9c7": {
      "model_module": "@jupyter-widgets/controls",
      "model_module_version": "1.5.0",
      "model_name": "ProgressStyleModel",
      "state": {
       "description_width": "initial"
      }
     },
     "4f89199d0e584224a1056dc05d3ac51b": {
      "model_module": "@jupyter-widgets/base",
      "model_module_version": "1.2.0",
      "model_name": "LayoutModel",
      "state": {}
     },
     "4f934edc46354bf3ba469e2c768ec3e0": {
      "model_module": "@jupyter-widgets/base",
      "model_module_version": "1.2.0",
      "model_name": "LayoutModel",
      "state": {}
     },
     "4fb079d452ed47a1b7ccfdb5c29767c1": {
      "model_module": "@jupyter-widgets/controls",
      "model_module_version": "1.5.0",
      "model_name": "DescriptionStyleModel",
      "state": {
       "description_width": ""
      }
     },
     "4fd6fecc510843e5a8c2f2237f587944": {
      "model_module": "@jupyter-widgets/base",
      "model_module_version": "1.2.0",
      "model_name": "LayoutModel",
      "state": {}
     },
     "502cb6b3df1d47fd966de8ae22d6aea1": {
      "model_module": "@jupyter-widgets/controls",
      "model_module_version": "1.5.0",
      "model_name": "DescriptionStyleModel",
      "state": {
       "description_width": ""
      }
     },
     "5073075fc63b4453ad4f87a6de3646e6": {
      "model_module": "@jupyter-widgets/controls",
      "model_module_version": "1.5.0",
      "model_name": "DescriptionStyleModel",
      "state": {
       "description_width": ""
      }
     },
     "50e57653d47e49e98de1e81a58c145e3": {
      "model_module": "@jupyter-widgets/controls",
      "model_module_version": "1.5.0",
      "model_name": "DescriptionStyleModel",
      "state": {
       "description_width": ""
      }
     },
     "50eea15fee5d42ed961e9240fcf437e9": {
      "model_module": "@jupyter-widgets/controls",
      "model_module_version": "1.5.0",
      "model_name": "DescriptionStyleModel",
      "state": {
       "description_width": ""
      }
     },
     "5161b1acdd694cffa6546b383c7931db": {
      "model_module": "@jupyter-widgets/controls",
      "model_module_version": "1.5.0",
      "model_name": "IntProgressModel",
      "state": {
       "description": "Epoch 14",
       "layout": "IPY_MODEL_e2b14c7ae4594c1eb28d61e40133add1",
       "max": 83176,
       "style": "IPY_MODEL_4aafa7f5ff854383b01fc91d2de7c9d6",
       "value": 83176
      }
     },
     "51de3f9fcb904d6294b4055dd199b6ea": {
      "model_module": "@jupyter-widgets/controls",
      "model_module_version": "1.5.0",
      "model_name": "DescriptionStyleModel",
      "state": {
       "description_width": ""
      }
     },
     "51f93a148ec641678ad500cb7a0f06dd": {
      "model_module": "@jupyter-widgets/controls",
      "model_module_version": "1.5.0",
      "model_name": "DescriptionStyleModel",
      "state": {
       "description_width": ""
      }
     },
     "51fc1e70616841b49065fed322b297ab": {
      "model_module": "@jupyter-widgets/controls",
      "model_module_version": "1.5.0",
      "model_name": "DescriptionStyleModel",
      "state": {
       "description_width": ""
      }
     },
     "52264fe7fd0a4a85818b987ac575038a": {
      "model_module": "@jupyter-widgets/controls",
      "model_module_version": "1.5.0",
      "model_name": "IntProgressModel",
      "state": {
       "description": "Epoch 2",
       "layout": "IPY_MODEL_5736a7c6fcf14ed8aa606c7ab17d07ad",
       "max": 83176,
       "style": "IPY_MODEL_303f46a81fc94d4dbb811473b9eb3dbe",
       "value": 83176
      }
     },
     "5232c3a25a234d5592941c4ffd2c9172": {
      "model_module": "@jupyter-widgets/controls",
      "model_module_version": "1.5.0",
      "model_name": "HTMLModel",
      "state": {
       "layout": "IPY_MODEL_926e1a47fe584a9ba07ffc4d5db6a6cb",
       "style": "IPY_MODEL_51fc1e70616841b49065fed322b297ab",
       "value": "[loss: 0.054, accuracy: 0.984, val_loss: 0.068, val_accuracy: 0.979] : 100% 83176/83176 [00:24&lt;00:00, 655.07it/s]"
      }
     },
     "5242054f196347dc930640ddcb55fed9": {
      "model_module": "@jupyter-widgets/base",
      "model_module_version": "1.2.0",
      "model_name": "LayoutModel",
      "state": {}
     },
     "52465caf070e4e4486c9bc68cb01533c": {
      "model_module": "@jupyter-widgets/base",
      "model_module_version": "1.2.0",
      "model_name": "LayoutModel",
      "state": {}
     },
     "5255ed650f89450f94660b06c8ca91e7": {
      "model_module": "@jupyter-widgets/base",
      "model_module_version": "1.2.0",
      "model_name": "LayoutModel",
      "state": {}
     },
     "52ca4c5095754ac2a1bd3d771182058b": {
      "model_module": "@jupyter-widgets/controls",
      "model_module_version": "1.5.0",
      "model_name": "DescriptionStyleModel",
      "state": {
       "description_width": ""
      }
     },
     "534a5dc1b8224d4b80caa8ff516dfbb0": {
      "model_module": "@jupyter-widgets/base",
      "model_module_version": "1.2.0",
      "model_name": "LayoutModel",
      "state": {}
     },
     "53502c60027440ec9ca4c30db1a45ff3": {
      "model_module": "@jupyter-widgets/controls",
      "model_module_version": "1.5.0",
      "model_name": "HTMLModel",
      "state": {
       "layout": "IPY_MODEL_b029b152c3854a0c85412074dcf975d9",
       "style": "IPY_MODEL_17899c5ec7674140a6bd509c553eb78d",
       "value": "[loss: 0.021, accuracy: 0.993, val_loss: 0.066, val_accuracy: 0.984] : 100% 83176/83176 [00:26&lt;00:00, 146.60it/s]"
      }
     },
     "53935626514347ecb756a752d6ca297e": {
      "model_module": "@jupyter-widgets/controls",
      "model_module_version": "1.5.0",
      "model_name": "IntProgressModel",
      "state": {
       "description": "Epoch 115",
       "layout": "IPY_MODEL_5242054f196347dc930640ddcb55fed9",
       "max": 83176,
       "style": "IPY_MODEL_81fe2fe672494a68b414abb6ea16e349",
       "value": 83176
      }
     },
     "53a798e080234c4a94c85e9ce1f362ee": {
      "model_module": "@jupyter-widgets/controls",
      "model_module_version": "1.5.0",
      "model_name": "ProgressStyleModel",
      "state": {
       "description_width": "initial"
      }
     },
     "541d43cbb4c0402bb770fb8737afd371": {
      "model_module": "@jupyter-widgets/controls",
      "model_module_version": "1.5.0",
      "model_name": "IntProgressModel",
      "state": {
       "description": "Epoch 96",
       "layout": "IPY_MODEL_640dcfc9e64c435bbefda78bfa8d8183",
       "max": 83176,
       "style": "IPY_MODEL_1d1fe1cced554bc6a4b70fb3f8f5c1e5",
       "value": 83176
      }
     },
     "54256a71e6e34bbca59b96349e6e9344": {
      "model_module": "@jupyter-widgets/controls",
      "model_module_version": "1.5.0",
      "model_name": "ProgressStyleModel",
      "state": {
       "description_width": "initial"
      }
     },
     "542f1bc4d9284c64b87a489e2ae27269": {
      "model_module": "@jupyter-widgets/controls",
      "model_module_version": "1.5.0",
      "model_name": "DescriptionStyleModel",
      "state": {
       "description_width": ""
      }
     },
     "5438018cdc4f49d3836d339f1a451606": {
      "model_module": "@jupyter-widgets/controls",
      "model_module_version": "1.5.0",
      "model_name": "DescriptionStyleModel",
      "state": {
       "description_width": ""
      }
     },
     "5454a981c5ce45be8a4754aacff65b60": {
      "model_module": "@jupyter-widgets/controls",
      "model_module_version": "1.5.0",
      "model_name": "IntProgressModel",
      "state": {
       "description": "Epoch 52",
       "layout": "IPY_MODEL_c0ea47aaf3a84958986146f48c11dc5b",
       "max": 83176,
       "style": "IPY_MODEL_4f3bb0104fd143f4a7cf3bddfdc1a9c7",
       "value": 83176
      }
     },
     "545e4848e64842a9beaefbb918c911db": {
      "model_module": "@jupyter-widgets/controls",
      "model_module_version": "1.5.0",
      "model_name": "IntProgressModel",
      "state": {
       "description": "Epoch 110",
       "layout": "IPY_MODEL_0e44a1f5b2784b23bf237263c3f616f8",
       "max": 83176,
       "style": "IPY_MODEL_9f4985e2a9c1407d8cef2c72d463355a",
       "value": 83176
      }
     },
     "545fc08500474b51b4b6e5ac0afe05ce": {
      "model_module": "@jupyter-widgets/controls",
      "model_module_version": "1.5.0",
      "model_name": "HTMLModel",
      "state": {
       "layout": "IPY_MODEL_473bb88823974b2094862cfcfd8c6c4f",
       "style": "IPY_MODEL_a0510748621c4dda87ea8dc175b333a5",
       "value": "[loss: 0.026, accuracy: 0.991, val_loss: 0.061, val_accuracy: 0.985] : 100% 83176/83176 [00:26&lt;00:00, 1204.66it/s]"
      }
     },
     "54ad1b4c4d694fb8a137a55532837a95": {
      "model_module": "@jupyter-widgets/controls",
      "model_module_version": "1.5.0",
      "model_name": "DescriptionStyleModel",
      "state": {
       "description_width": ""
      }
     },
     "550bf5183e0b49a18fad9ffccbc7d289": {
      "model_module": "@jupyter-widgets/base",
      "model_module_version": "1.2.0",
      "model_name": "LayoutModel",
      "state": {}
     },
     "55740a7da8424b94951f0a762b034805": {
      "model_module": "@jupyter-widgets/controls",
      "model_module_version": "1.5.0",
      "model_name": "DescriptionStyleModel",
      "state": {
       "description_width": ""
      }
     },
     "55bcb14033c84cbabedd679fbcf8e88c": {
      "model_module": "@jupyter-widgets/base",
      "model_module_version": "1.2.0",
      "model_name": "LayoutModel",
      "state": {}
     },
     "560591d57ca9458fbb10adc6bd3dfa06": {
      "model_module": "@jupyter-widgets/controls",
      "model_module_version": "1.5.0",
      "model_name": "HTMLModel",
      "state": {
       "layout": "IPY_MODEL_950540d9385c429a93ac6803a9d83a02",
       "style": "IPY_MODEL_80d9094ffffb42c895c512e1d18a1991",
       "value": "[loss: 0.133, accuracy: 0.963, val_loss: 0.138, val_accuracy: 0.962] : 100% 83176/83176 [00:24&lt;00:00, 160.72it/s]"
      }
     },
     "562ff78977844158bd8737035ec617d0": {
      "model_module": "@jupyter-widgets/base",
      "model_module_version": "1.2.0",
      "model_name": "LayoutModel",
      "state": {}
     },
     "5653a1d2be45420890e7d5283ab9cea6": {
      "model_module": "@jupyter-widgets/base",
      "model_module_version": "1.2.0",
      "model_name": "LayoutModel",
      "state": {}
     },
     "566fbe83d5ef46e0a212a27a8322e6bf": {
      "model_module": "@jupyter-widgets/controls",
      "model_module_version": "1.5.0",
      "model_name": "HTMLModel",
      "state": {
       "layout": "IPY_MODEL_f58f840bb204479aad51b856ae6ad306",
       "style": "IPY_MODEL_649caf4cea5945f69035f2d8d9efd021",
       "value": "[loss: 0.058, accuracy: 0.982, val_loss: 0.071, val_accuracy: 0.980] : 100% 83176/83176 [00:24&lt;00:00, 1161.35it/s]"
      }
     },
     "5688db4ac4d243149e4bdde38b4d12b1": {
      "model_module": "@jupyter-widgets/base",
      "model_module_version": "1.2.0",
      "model_name": "LayoutModel",
      "state": {}
     },
     "572cfcc9ffb24c729f7ce0b90eab7047": {
      "model_module": "@jupyter-widgets/controls",
      "model_module_version": "1.5.0",
      "model_name": "ProgressStyleModel",
      "state": {
       "description_width": "initial"
      }
     },
     "5736a7c6fcf14ed8aa606c7ab17d07ad": {
      "model_module": "@jupyter-widgets/base",
      "model_module_version": "1.2.0",
      "model_name": "LayoutModel",
      "state": {}
     },
     "57424da8942c433b8f4e292c2aad6852": {
      "model_module": "@jupyter-widgets/base",
      "model_module_version": "1.2.0",
      "model_name": "LayoutModel",
      "state": {}
     },
     "577e314401e94d0fad15b7afdf82d7bb": {
      "model_module": "@jupyter-widgets/base",
      "model_module_version": "1.2.0",
      "model_name": "LayoutModel",
      "state": {}
     },
     "5782f1f40e3c4b3fb20602c3dec760a9": {
      "model_module": "@jupyter-widgets/controls",
      "model_module_version": "1.5.0",
      "model_name": "HTMLModel",
      "state": {
       "layout": "IPY_MODEL_577e314401e94d0fad15b7afdf82d7bb",
       "style": "IPY_MODEL_2f7b4acc264f45c99cd54aa3b15f15d5",
       "value": "[loss: 0.028, accuracy: 0.991, val_loss: 0.053, val_accuracy: 0.986] : 100% 83176/83176 [00:24&lt;00:00, 419.30it/s]"
      }
     },
     "5785039f07354bc195965b1757795d23": {
      "model_module": "@jupyter-widgets/controls",
      "model_module_version": "1.5.0",
      "model_name": "IntProgressModel",
      "state": {
       "description": "Epoch 72",
       "layout": "IPY_MODEL_457b35aef3e840ad812cd4593556a07c",
       "max": 83176,
       "style": "IPY_MODEL_da5d4bebafb54c18bf0badd6826d47f8",
       "value": 83176
      }
     },
     "57c91f1253f94ee39cb23f0a0a583e22": {
      "model_module": "@jupyter-widgets/base",
      "model_module_version": "1.2.0",
      "model_name": "LayoutModel",
      "state": {}
     },
     "57db14cd951147bc9ab7b9857903c177": {
      "model_module": "@jupyter-widgets/controls",
      "model_module_version": "1.5.0",
      "model_name": "IntProgressModel",
      "state": {
       "description": "Epoch 46",
       "layout": "IPY_MODEL_33647704596b46ffaba240998c40d044",
       "max": 83176,
       "style": "IPY_MODEL_24542930a5474bbf93e5f1ad9dcf6c80",
       "value": 83176
      }
     },
     "587c7932b93f463d9d07bd1cf4364c72": {
      "model_module": "@jupyter-widgets/base",
      "model_module_version": "1.2.0",
      "model_name": "LayoutModel",
      "state": {}
     },
     "58bb4c68056b473ab5a68db3e7413b13": {
      "model_module": "@jupyter-widgets/base",
      "model_module_version": "1.2.0",
      "model_name": "LayoutModel",
      "state": {}
     },
     "58dfde6b99b34d08a934e53d85053931": {
      "model_module": "@jupyter-widgets/base",
      "model_module_version": "1.2.0",
      "model_name": "LayoutModel",
      "state": {}
     },
     "5918cde59f994b2ba666f350d60fbc72": {
      "model_module": "@jupyter-widgets/controls",
      "model_module_version": "1.5.0",
      "model_name": "ProgressStyleModel",
      "state": {
       "description_width": "initial"
      }
     },
     "592206421b0b4c009dccc2befcd249fb": {
      "model_module": "@jupyter-widgets/controls",
      "model_module_version": "1.5.0",
      "model_name": "IntProgressModel",
      "state": {
       "description": "Epoch 71",
       "layout": "IPY_MODEL_3b83bbafc0ad48afa3cca85c980ecfa2",
       "max": 83176,
       "style": "IPY_MODEL_5a4deba2bc7b46f38b2e171298327a7f",
       "value": 83176
      }
     },
     "594c89e43a4c48e58046b160d72ad50f": {
      "model_module": "@jupyter-widgets/controls",
      "model_module_version": "1.5.0",
      "model_name": "IntProgressModel",
      "state": {
       "description": "Epoch 137",
       "layout": "IPY_MODEL_2915d22bb234401bb047c68b897b8ae3",
       "max": 83176,
       "style": "IPY_MODEL_3ab200fa1657408484e66f3192873617",
       "value": 83176
      }
     },
     "5a466c6a31614009a7b2fb351ea7f383": {
      "model_module": "@jupyter-widgets/base",
      "model_module_version": "1.2.0",
      "model_name": "LayoutModel",
      "state": {}
     },
     "5a4deba2bc7b46f38b2e171298327a7f": {
      "model_module": "@jupyter-widgets/controls",
      "model_module_version": "1.5.0",
      "model_name": "ProgressStyleModel",
      "state": {
       "description_width": "initial"
      }
     },
     "5a9eeb726e76483faa6c31d71a7a6646": {
      "model_module": "@jupyter-widgets/controls",
      "model_module_version": "1.5.0",
      "model_name": "ProgressStyleModel",
      "state": {
       "description_width": "initial"
      }
     },
     "5aad468cea8447bca1b1ad9a0c66eee1": {
      "model_module": "@jupyter-widgets/base",
      "model_module_version": "1.2.0",
      "model_name": "LayoutModel",
      "state": {}
     },
     "5b2550ad6ccb4272bcc76f85facaf6e0": {
      "model_module": "@jupyter-widgets/base",
      "model_module_version": "1.2.0",
      "model_name": "LayoutModel",
      "state": {}
     },
     "5b5961ee38bc4e0eb39e09d8d99e9861": {
      "model_module": "@jupyter-widgets/controls",
      "model_module_version": "1.5.0",
      "model_name": "IntProgressModel",
      "state": {
       "description": "Epoch 128",
       "layout": "IPY_MODEL_c5561316c6134173b16c513803f03d10",
       "max": 83176,
       "style": "IPY_MODEL_1f6c1216977d4ae6930eec0f384c243a",
       "value": 83176
      }
     },
     "5b5f47c63cad4f4cacfc23a916dee244": {
      "model_module": "@jupyter-widgets/controls",
      "model_module_version": "1.5.0",
      "model_name": "IntProgressModel",
      "state": {
       "description": "Epoch 35",
       "layout": "IPY_MODEL_bd562463a3f74e878c4ff5369dc0393f",
       "max": 83176,
       "style": "IPY_MODEL_705114581c304121aa1cc1ee72da7279",
       "value": 83176
      }
     },
     "5b6546b06e6e4ade9354ce1ae9ac3e17": {
      "model_module": "@jupyter-widgets/controls",
      "model_module_version": "1.5.0",
      "model_name": "IntProgressModel",
      "state": {
       "description": "Epoch 39",
       "layout": "IPY_MODEL_eb4f14f1c2d7437da727f7dbc3a81e90",
       "max": 83176,
       "style": "IPY_MODEL_b2cc7a882050442ca01577eed144abeb",
       "value": 83176
      }
     },
     "5ba5d6ecbd2643c0b93b746581861b05": {
      "model_module": "@jupyter-widgets/controls",
      "model_module_version": "1.5.0",
      "model_name": "IntProgressModel",
      "state": {
       "description": "Epoch 30",
       "layout": "IPY_MODEL_934138c44cc44206b2973f3ea3efa58e",
       "max": 83176,
       "style": "IPY_MODEL_9e0e7387c43f4c33a3cde01de0ec6197",
       "value": 83176
      }
     },
     "5c137fa32c4549788f070f162ba2552b": {
      "model_module": "@jupyter-widgets/controls",
      "model_module_version": "1.5.0",
      "model_name": "IntProgressModel",
      "state": {
       "description": "Epoch 47",
       "layout": "IPY_MODEL_05e5a4f1dbbd48c19aff242c565d1967",
       "max": 83176,
       "style": "IPY_MODEL_31fc869cf87848f8a4ebcf1edcd2c777",
       "value": 83176
      }
     },
     "5c85c7eefb66446e8baccafdba5b2ad1": {
      "model_module": "@jupyter-widgets/controls",
      "model_module_version": "1.5.0",
      "model_name": "HTMLModel",
      "state": {
       "layout": "IPY_MODEL_da9e743ce93b420295cc94057a755592",
       "style": "IPY_MODEL_8e99b32221bf4c5da1ae832660c61002",
       "value": "[loss: 0.023, accuracy: 0.993, val_loss: 0.064, val_accuracy: 0.984] : 100% 83176/83176 [00:26&lt;00:00, 1066.17it/s]"
      }
     },
     "5cdbfb9119a2421b9bd180b80d873204": {
      "model_module": "@jupyter-widgets/base",
      "model_module_version": "1.2.0",
      "model_name": "LayoutModel",
      "state": {}
     },
     "5cddf0b0f3f14bfcae1c65752aa76db8": {
      "model_module": "@jupyter-widgets/base",
      "model_module_version": "1.2.0",
      "model_name": "LayoutModel",
      "state": {}
     },
     "5d1c12d66cb04c9e83a0dc6454576c25": {
      "model_module": "@jupyter-widgets/controls",
      "model_module_version": "1.5.0",
      "model_name": "IntProgressModel",
      "state": {
       "description": "Epoch 101",
       "layout": "IPY_MODEL_b3196504b8d34db0a8fed2e47936d388",
       "max": 83176,
       "style": "IPY_MODEL_f310ca359bf544c7b889060b9d73e1d2",
       "value": 83176
      }
     },
     "5d64632360ce4f2e9ece02c9f470dc36": {
      "model_module": "@jupyter-widgets/controls",
      "model_module_version": "1.5.0",
      "model_name": "IntProgressModel",
      "state": {
       "description": "Epoch 141",
       "layout": "IPY_MODEL_68566bb4c8514b74a13682e45d79fd5c",
       "max": 83176,
       "style": "IPY_MODEL_f2f2f185cca644ce928204bd24ee43f7",
       "value": 83176
      }
     },
     "5d7c56bf3b594fa7ab84969217720c9c": {
      "model_module": "@jupyter-widgets/controls",
      "model_module_version": "1.5.0",
      "model_name": "HTMLModel",
      "state": {
       "layout": "IPY_MODEL_3072ea46d4694ed8846d160cdfde1565",
       "style": "IPY_MODEL_bee975c4a4c940a2a66e018009ebabb7",
       "value": "[loss: 0.096, accuracy: 0.973, val_loss: 0.100, val_accuracy: 0.973] : 100% 83176/83176 [00:24&lt;00:00, 1170.71it/s]"
      }
     },
     "5d800650ca38450e8a4c973516f5636e": {
      "model_module": "@jupyter-widgets/base",
      "model_module_version": "1.2.0",
      "model_name": "LayoutModel",
      "state": {}
     },
     "5d888ddc6d674e38b334b3d749a0a620": {
      "model_module": "@jupyter-widgets/controls",
      "model_module_version": "1.5.0",
      "model_name": "ProgressStyleModel",
      "state": {
       "description_width": "initial"
      }
     },
     "5d9692f771274de2874f8640e5aa34ea": {
      "model_module": "@jupyter-widgets/controls",
      "model_module_version": "1.5.0",
      "model_name": "ProgressStyleModel",
      "state": {
       "description_width": "initial"
      }
     },
     "5dd8efe4a8244800a5dcdf630ecf2961": {
      "model_module": "@jupyter-widgets/controls",
      "model_module_version": "1.5.0",
      "model_name": "DescriptionStyleModel",
      "state": {
       "description_width": ""
      }
     },
     "5df859222b5e4dd281152333d932df02": {
      "model_module": "@jupyter-widgets/controls",
      "model_module_version": "1.5.0",
      "model_name": "IntProgressModel",
      "state": {
       "description": "Epoch 136",
       "layout": "IPY_MODEL_5cdbfb9119a2421b9bd180b80d873204",
       "max": 83176,
       "style": "IPY_MODEL_c22b200d34f4468c8d15fef5b19a6611",
       "value": 83176
      }
     },
     "5e7596d6756849a38b1deaf7f8c2dc2a": {
      "model_module": "@jupyter-widgets/controls",
      "model_module_version": "1.5.0",
      "model_name": "HTMLModel",
      "state": {
       "layout": "IPY_MODEL_46ee7c58198947eab164d64f4189079c",
       "style": "IPY_MODEL_d4a3a65ad9aa4d5399093f560fb7c1a7",
       "value": "[loss: 0.060, accuracy: 0.982, val_loss: 0.075, val_accuracy: 0.980] : 100% 83176/83176 [00:24&lt;00:00, 1142.23it/s]"
      }
     },
     "5e97d43ffc034bbabb78a719336785cf": {
      "model_module": "@jupyter-widgets/base",
      "model_module_version": "1.2.0",
      "model_name": "LayoutModel",
      "state": {}
     },
     "5e9e22427ad14b29810e6398c3073db6": {
      "model_module": "@jupyter-widgets/controls",
      "model_module_version": "1.5.0",
      "model_name": "IntProgressModel",
      "state": {
       "description": "Epoch 124",
       "layout": "IPY_MODEL_dbfe70bf2d9b45dcbd1042f78b81a482",
       "max": 83176,
       "style": "IPY_MODEL_4bba807c4f2f4fa1886e52ed257a08c7",
       "value": 83176
      }
     },
     "5ea0af5ab2be4bb79cc46bf0377ce200": {
      "model_module": "@jupyter-widgets/controls",
      "model_module_version": "1.5.0",
      "model_name": "ProgressStyleModel",
      "state": {
       "description_width": "initial"
      }
     },
     "5f145cd05b514ff2b5efb556de624d0a": {
      "model_module": "@jupyter-widgets/base",
      "model_module_version": "1.2.0",
      "model_name": "LayoutModel",
      "state": {}
     },
     "5f2eb20c378c4892bbff3d369442ab4e": {
      "model_module": "@jupyter-widgets/controls",
      "model_module_version": "1.5.0",
      "model_name": "ProgressStyleModel",
      "state": {
       "description_width": "initial"
      }
     },
     "5f924d6603b74d20abbb6568420188ae": {
      "model_module": "@jupyter-widgets/base",
      "model_module_version": "1.2.0",
      "model_name": "LayoutModel",
      "state": {}
     },
     "600c8194424a4dbcb93faf809ff143f1": {
      "model_module": "@jupyter-widgets/base",
      "model_module_version": "1.2.0",
      "model_name": "LayoutModel",
      "state": {}
     },
     "607b58b02b614c6cb1355f4727382eca": {
      "model_module": "@jupyter-widgets/base",
      "model_module_version": "1.2.0",
      "model_name": "LayoutModel",
      "state": {}
     },
     "607ce5e61e0642d08e05556859b75969": {
      "model_module": "@jupyter-widgets/base",
      "model_module_version": "1.2.0",
      "model_name": "LayoutModel",
      "state": {}
     },
     "616d655f488047088a360aa60f313e05": {
      "model_module": "@jupyter-widgets/base",
      "model_module_version": "1.2.0",
      "model_name": "LayoutModel",
      "state": {}
     },
     "618025df5803443b920e5f4effafb0db": {
      "model_module": "@jupyter-widgets/controls",
      "model_module_version": "1.5.0",
      "model_name": "IntProgressModel",
      "state": {
       "description": "Epoch 33",
       "layout": "IPY_MODEL_a807903c8cd5434b821fecc6ce3e8a15",
       "max": 83176,
       "style": "IPY_MODEL_138f7ec12b814bc8998a719dfc288db1",
       "value": 83176
      }
     },
     "6190173e8e6846c08409020638334737": {
      "model_module": "@jupyter-widgets/base",
      "model_module_version": "1.2.0",
      "model_name": "LayoutModel",
      "state": {}
     },
     "6190c906ad26434ba5297daabec9dc46": {
      "model_module": "@jupyter-widgets/base",
      "model_module_version": "1.2.0",
      "model_name": "LayoutModel",
      "state": {}
     },
     "61ec22784e3e402080972aa453a25190": {
      "model_module": "@jupyter-widgets/controls",
      "model_module_version": "1.5.0",
      "model_name": "HTMLModel",
      "state": {
       "layout": "IPY_MODEL_d6ed2654a728471d971348b80e22b5cf",
       "style": "IPY_MODEL_eaba8b618cb34e76baf9e1f25c299461",
       "value": "[loss: 0.018, accuracy: 0.994, val_loss: 0.075, val_accuracy: 0.981] : 100% 83176/83176 [00:26&lt;00:00, 1051.29it/s]"
      }
     },
     "62164326d36b409abec0aab1882c3aa6": {
      "model_module": "@jupyter-widgets/controls",
      "model_module_version": "1.5.0",
      "model_name": "HTMLModel",
      "state": {
       "layout": "IPY_MODEL_2674a09718264832befbde7cdf90f6d7",
       "style": "IPY_MODEL_e6e85f7b1e9d4d9cbfcecf149e2ef90a",
       "value": "[loss: 0.062, accuracy: 0.982, val_loss: 0.081, val_accuracy: 0.977] : 100% 83176/83176 [00:24&lt;00:00, 995.98it/s]"
      }
     },
     "62422ba82d3541cc94ec00b4cc143ecd": {
      "model_module": "@jupyter-widgets/controls",
      "model_module_version": "1.5.0",
      "model_name": "ProgressStyleModel",
      "state": {
       "description_width": "initial"
      }
     },
     "625dc6c5434748d7a9a2fbd2507db33e": {
      "model_module": "@jupyter-widgets/controls",
      "model_module_version": "1.5.0",
      "model_name": "IntProgressModel",
      "state": {
       "description": "Epoch 119",
       "layout": "IPY_MODEL_008118d06fa34a98973bb80541255c7d",
       "max": 83176,
       "style": "IPY_MODEL_ff44f96be3cb41b89c54124f00b05e5f",
       "value": 83176
      }
     },
     "62736543b88346d58f1ea2071066e2cb": {
      "model_module": "@jupyter-widgets/controls",
      "model_module_version": "1.5.0",
      "model_name": "ProgressStyleModel",
      "state": {
       "description_width": "initial"
      }
     },
     "62a5df94aab54e6eb37d7b374051ac7e": {
      "model_module": "@jupyter-widgets/base",
      "model_module_version": "1.2.0",
      "model_name": "LayoutModel",
      "state": {}
     },
     "6329df2856f24a57bcfcb42e6111d384": {
      "model_module": "@jupyter-widgets/base",
      "model_module_version": "1.2.0",
      "model_name": "LayoutModel",
      "state": {}
     },
     "6339161be55f4ef2ae97cd24ae50ee8a": {
      "model_module": "@jupyter-widgets/base",
      "model_module_version": "1.2.0",
      "model_name": "LayoutModel",
      "state": {}
     },
     "63bd832d0013436a9d9e667d7d71de2f": {
      "model_module": "@jupyter-widgets/base",
      "model_module_version": "1.2.0",
      "model_name": "LayoutModel",
      "state": {}
     },
     "640dcfc9e64c435bbefda78bfa8d8183": {
      "model_module": "@jupyter-widgets/base",
      "model_module_version": "1.2.0",
      "model_name": "LayoutModel",
      "state": {}
     },
     "64238f1dd80844d2b6a9100a6b7fa98c": {
      "model_module": "@jupyter-widgets/base",
      "model_module_version": "1.2.0",
      "model_name": "LayoutModel",
      "state": {}
     },
     "649caf4cea5945f69035f2d8d9efd021": {
      "model_module": "@jupyter-widgets/controls",
      "model_module_version": "1.5.0",
      "model_name": "DescriptionStyleModel",
      "state": {
       "description_width": ""
      }
     },
     "64af8e95fa6c4b16b3fa79f1b2913030": {
      "model_module": "@jupyter-widgets/base",
      "model_module_version": "1.2.0",
      "model_name": "LayoutModel",
      "state": {}
     },
     "64c77f43e8f44209ae28344c66c861a8": {
      "model_module": "@jupyter-widgets/controls",
      "model_module_version": "1.5.0",
      "model_name": "HTMLModel",
      "state": {
       "layout": "IPY_MODEL_0849831102484a23bfb3aa529a204029",
       "style": "IPY_MODEL_f4b717054ec746a7bc84c71203286052",
       "value": "[loss: 0.105, accuracy: 0.970, val_loss: 0.114, val_accuracy: 0.970] : 100% 83176/83176 [00:25&lt;00:00, 826.64it/s]"
      }
     },
     "64e913a11a16485ba82efabd3cfa299e": {
      "model_module": "@jupyter-widgets/controls",
      "model_module_version": "1.5.0",
      "model_name": "HTMLModel",
      "state": {
       "layout": "IPY_MODEL_0e2206bccaa64d988d9497210f95a336",
       "style": "IPY_MODEL_d2f9d324e09f4e7aa10f533e230a009d",
       "value": "[loss: 0.026, accuracy: 0.991, val_loss: 0.053, val_accuracy: 0.984] : 100% 83176/83176 [00:26&lt;00:00, 1071.76it/s]"
      }
     },
     "65137a2ef6114564a8ed36dbd906b6d5": {
      "model_module": "@jupyter-widgets/controls",
      "model_module_version": "1.5.0",
      "model_name": "DescriptionStyleModel",
      "state": {
       "description_width": ""
      }
     },
     "658e5f8f75c44b7e9c8e454e8194c90b": {
      "model_module": "@jupyter-widgets/base",
      "model_module_version": "1.2.0",
      "model_name": "LayoutModel",
      "state": {}
     },
     "66078e4ff66546549ddb5c8f4f7babcd": {
      "model_module": "@jupyter-widgets/base",
      "model_module_version": "1.2.0",
      "model_name": "LayoutModel",
      "state": {}
     },
     "662b7cd310a84009851284b53214c10e": {
      "model_module": "@jupyter-widgets/controls",
      "model_module_version": "1.5.0",
      "model_name": "IntProgressModel",
      "state": {
       "description": "Epoch 28",
       "layout": "IPY_MODEL_8df9531668e3417bad847c9c9fb6b13f",
       "max": 83176,
       "style": "IPY_MODEL_5ea0af5ab2be4bb79cc46bf0377ce200",
       "value": 83176
      }
     },
     "662fc4cf424a4aa9b45c316e3ee55425": {
      "model_module": "@jupyter-widgets/base",
      "model_module_version": "1.2.0",
      "model_name": "LayoutModel",
      "state": {}
     },
     "6630847bd5d04c4b8e61b1bc0a2bf716": {
      "model_module": "@jupyter-widgets/controls",
      "model_module_version": "1.5.0",
      "model_name": "DescriptionStyleModel",
      "state": {
       "description_width": ""
      }
     },
     "663e16130f8c40908ca1bba7eb56e3b0": {
      "model_module": "@jupyter-widgets/controls",
      "model_module_version": "1.5.0",
      "model_name": "IntProgressModel",
      "state": {
       "description": "Epoch 58",
       "layout": "IPY_MODEL_34c8d7a82d594b7b86ead4c64473c62a",
       "max": 83176,
       "style": "IPY_MODEL_42d75b2af15a4a749d9f954cbf40b618",
       "value": 83176
      }
     },
     "6641c198e6bd4e50ad7349b78e21333d": {
      "model_module": "@jupyter-widgets/base",
      "model_module_version": "1.2.0",
      "model_name": "LayoutModel",
      "state": {}
     },
     "664502e78f88450abc51fde865b47ece": {
      "model_module": "@jupyter-widgets/controls",
      "model_module_version": "1.5.0",
      "model_name": "ProgressStyleModel",
      "state": {
       "description_width": "initial"
      }
     },
     "66b75057b2f54f1f9cbdb1a144dddbb2": {
      "model_module": "@jupyter-widgets/base",
      "model_module_version": "1.2.0",
      "model_name": "LayoutModel",
      "state": {}
     },
     "66d29808e30e43a1a78d778805811a77": {
      "model_module": "@jupyter-widgets/controls",
      "model_module_version": "1.5.0",
      "model_name": "DescriptionStyleModel",
      "state": {
       "description_width": ""
      }
     },
     "674c60be37d248a5b917ab206d56d20e": {
      "model_module": "@jupyter-widgets/base",
      "model_module_version": "1.2.0",
      "model_name": "LayoutModel",
      "state": {}
     },
     "6767d8c6167a41e3828f2f4543ea688d": {
      "model_module": "@jupyter-widgets/controls",
      "model_module_version": "1.5.0",
      "model_name": "IntProgressModel",
      "state": {
       "description": "Epoch 10",
       "layout": "IPY_MODEL_cc8e8c27e69b47cdaf9ae2f73a26ecf6",
       "max": 83176,
       "style": "IPY_MODEL_2f359c4cb2314184947cf96dd2262195",
       "value": 83176
      }
     },
     "68566bb4c8514b74a13682e45d79fd5c": {
      "model_module": "@jupyter-widgets/base",
      "model_module_version": "1.2.0",
      "model_name": "LayoutModel",
      "state": {}
     },
     "68b9b095843a45e4a46df54ccdb0abee": {
      "model_module": "@jupyter-widgets/controls",
      "model_module_version": "1.5.0",
      "model_name": "ProgressStyleModel",
      "state": {
       "description_width": "initial"
      }
     },
     "68ded7c2879a45c5b990332972cff815": {
      "model_module": "@jupyter-widgets/controls",
      "model_module_version": "1.5.0",
      "model_name": "DescriptionStyleModel",
      "state": {
       "description_width": ""
      }
     },
     "68e66007a6884a16a0ebc8c6fef4f672": {
      "model_module": "@jupyter-widgets/controls",
      "model_module_version": "1.5.0",
      "model_name": "HTMLModel",
      "state": {
       "layout": "IPY_MODEL_ce6647ebc88e42bea1d0ff47450e115a",
       "style": "IPY_MODEL_7bc9fd4692ed4e139d8534de6d79e940",
       "value": "[loss: 0.040, accuracy: 0.987, val_loss: 0.061, val_accuracy: 0.983] : 100% 83176/83176 [00:24&lt;00:00, 1414.27it/s]"
      }
     },
     "6933c3c9324f48ae93efcd3d5696f3f5": {
      "model_module": "@jupyter-widgets/base",
      "model_module_version": "1.2.0",
      "model_name": "LayoutModel",
      "state": {}
     },
     "694eda430830480f978694ec05ccb5f1": {
      "model_module": "@jupyter-widgets/controls",
      "model_module_version": "1.5.0",
      "model_name": "IntProgressModel",
      "state": {
       "description": "Epoch 25",
       "layout": "IPY_MODEL_5255ed650f89450f94660b06c8ca91e7",
       "max": 83176,
       "style": "IPY_MODEL_08df2ff7b81146dca45c2d1f5d350a5c",
       "value": 83176
      }
     },
     "69937ed488e945198f64df08d7de8f61": {
      "model_module": "@jupyter-widgets/controls",
      "model_module_version": "1.5.0",
      "model_name": "IntProgressModel",
      "state": {
       "description": "Epoch 65",
       "layout": "IPY_MODEL_37d2840c7e9a462cb53014ff6dc093bf",
       "max": 83176,
       "style": "IPY_MODEL_da77e987d20042b48d0075881bf00501",
       "value": 83176
      }
     },
     "69a3af9e8a3c4595ad80feef01db45a7": {
      "model_module": "@jupyter-widgets/base",
      "model_module_version": "1.2.0",
      "model_name": "LayoutModel",
      "state": {}
     },
     "69aef7efdef44d87be09f7ccbd5e07e0": {
      "model_module": "@jupyter-widgets/controls",
      "model_module_version": "1.5.0",
      "model_name": "DescriptionStyleModel",
      "state": {
       "description_width": ""
      }
     },
     "69bc532ddc4648cface044b81648b1ed": {
      "model_module": "@jupyter-widgets/controls",
      "model_module_version": "1.5.0",
      "model_name": "DescriptionStyleModel",
      "state": {
       "description_width": ""
      }
     },
     "69dc3db4c9e440f6a8807710b1e0d1a0": {
      "model_module": "@jupyter-widgets/base",
      "model_module_version": "1.2.0",
      "model_name": "LayoutModel",
      "state": {}
     },
     "6a64a55d24614d27855f9c1feb3c75f8": {
      "model_module": "@jupyter-widgets/controls",
      "model_module_version": "1.5.0",
      "model_name": "HTMLModel",
      "state": {
       "layout": "IPY_MODEL_5e97d43ffc034bbabb78a719336785cf",
       "style": "IPY_MODEL_c6e69c65958b48c3a39773cae1852982",
       "value": "[loss: 0.084, accuracy: 0.976, val_loss: 0.100, val_accuracy: 0.975] : 100% 83176/83176 [00:24&lt;00:00, 159.19it/s]"
      }
     },
     "6b28fa16fc6a4f9595a743bc83c73b8a": {
      "model_module": "@jupyter-widgets/base",
      "model_module_version": "1.2.0",
      "model_name": "LayoutModel",
      "state": {}
     },
     "6b8bc6298b7e42f7ada99c73903abed1": {
      "model_module": "@jupyter-widgets/controls",
      "model_module_version": "1.5.0",
      "model_name": "IntProgressModel",
      "state": {
       "description": "Epoch 131",
       "layout": "IPY_MODEL_c88f1a5efae8490cbbf29af9efa061a0",
       "max": 83176,
       "style": "IPY_MODEL_f058dfc21a1a484681254cdb651c2e2d",
       "value": 83176
      }
     },
     "6bd1c4c974304b7e90a80866ae2fe07b": {
      "model_module": "@jupyter-widgets/base",
      "model_module_version": "1.2.0",
      "model_name": "LayoutModel",
      "state": {}
     },
     "6bea263d84954a549c6f8ed5e691ecae": {
      "model_module": "@jupyter-widgets/controls",
      "model_module_version": "1.5.0",
      "model_name": "HTMLModel",
      "state": {
       "layout": "IPY_MODEL_fda02ad0163846a18ee26471304c643c",
       "style": "IPY_MODEL_5438018cdc4f49d3836d339f1a451606",
       "value": "[loss: 0.017, accuracy: 0.994, val_loss: 0.066, val_accuracy: 0.985] : 100% 83176/83176 [00:27&lt;00:00, 1180.04it/s]"
      }
     },
     "6bf49d9fb23042c1aa41439a6720bff5": {
      "model_module": "@jupyter-widgets/controls",
      "model_module_version": "1.5.0",
      "model_name": "DescriptionStyleModel",
      "state": {
       "description_width": ""
      }
     },
     "6ca60b49d3424db68dda4ad8da80c5f2": {
      "model_module": "@jupyter-widgets/base",
      "model_module_version": "1.2.0",
      "model_name": "LayoutModel",
      "state": {}
     },
     "6d156c57e3954f7f8da6dd08bdfc8c0c": {
      "model_module": "@jupyter-widgets/controls",
      "model_module_version": "1.5.0",
      "model_name": "DescriptionStyleModel",
      "state": {
       "description_width": ""
      }
     },
     "6ea7fb2f50f546c7bfa58958d58e9504": {
      "model_module": "@jupyter-widgets/controls",
      "model_module_version": "1.5.0",
      "model_name": "IntProgressModel",
      "state": {
       "description": "Epoch 70",
       "layout": "IPY_MODEL_c255fd09f48f4ef1a4c95e699a21fd76",
       "max": 83176,
       "style": "IPY_MODEL_62736543b88346d58f1ea2071066e2cb",
       "value": 83176
      }
     },
     "6ed2f36e6f6b469aad740f8b527d9c9b": {
      "model_module": "@jupyter-widgets/base",
      "model_module_version": "1.2.0",
      "model_name": "LayoutModel",
      "state": {}
     },
     "6f2b3114cc74421a8952d5f27ce74999": {
      "model_module": "@jupyter-widgets/base",
      "model_module_version": "1.2.0",
      "model_name": "LayoutModel",
      "state": {}
     },
     "6ff7efa6878b4737beedde75bce563d1": {
      "model_module": "@jupyter-widgets/controls",
      "model_module_version": "1.5.0",
      "model_name": "HTMLModel",
      "state": {
       "layout": "IPY_MODEL_884ac251722c4fb3959c498f6572fc43",
       "style": "IPY_MODEL_c1c725348b1e4fc6b294b8495b845564",
       "value": "[loss: 0.057, accuracy: 0.983, val_loss: 0.070, val_accuracy: 0.980] : 100% 83176/83176 [00:24&lt;00:00, 1035.43it/s]"
      }
     },
     "7048c43655dd48db9d86a11ba5d10106": {
      "model_module": "@jupyter-widgets/controls",
      "model_module_version": "1.5.0",
      "model_name": "IntProgressModel",
      "state": {
       "description": "Epoch 87",
       "layout": "IPY_MODEL_0cb5ee3c3628453aa8243149c7a5f0df",
       "max": 83176,
       "style": "IPY_MODEL_9072f9a6d95a420ba34eea9cc9fd99b0",
       "value": 83176
      }
     },
     "705114581c304121aa1cc1ee72da7279": {
      "model_module": "@jupyter-widgets/controls",
      "model_module_version": "1.5.0",
      "model_name": "ProgressStyleModel",
      "state": {
       "description_width": "initial"
      }
     },
     "710c68aca28041089e445dddc25f251f": {
      "model_module": "@jupyter-widgets/controls",
      "model_module_version": "1.5.0",
      "model_name": "HTMLModel",
      "state": {
       "layout": "IPY_MODEL_38d2baa505dd40259fe48ef0005861c4",
       "style": "IPY_MODEL_b308b3f5e22a4bf7a07f5a2e02d1f0d5",
       "value": "[loss: 0.045, accuracy: 0.986, val_loss: 0.064, val_accuracy: 0.981] : 100% 83176/83176 [00:24&lt;00:00, 422.89it/s]"
      }
     },
     "71558367df524d2caa9d48aae07f621a": {
      "model_module": "@jupyter-widgets/base",
      "model_module_version": "1.2.0",
      "model_name": "LayoutModel",
      "state": {}
     },
     "716de7bf9e8e4aca804a5fb0b5e99a35": {
      "model_module": "@jupyter-widgets/controls",
      "model_module_version": "1.5.0",
      "model_name": "IntProgressModel",
      "state": {
       "description": "Epoch 108",
       "layout": "IPY_MODEL_562ff78977844158bd8737035ec617d0",
       "max": 83176,
       "style": "IPY_MODEL_3bdcbe1ce0f74a1e97ab03f2789694d0",
       "value": 83176
      }
     },
     "716f5d04e08443a686b3a8220bbea9b5": {
      "model_module": "@jupyter-widgets/controls",
      "model_module_version": "1.5.0",
      "model_name": "HTMLModel",
      "state": {
       "layout": "IPY_MODEL_c4ca81cfc48f4db3a33e61b12f70d6d4",
       "style": "IPY_MODEL_0c548ed0c4bc4262b82a9644feaf2e5d",
       "value": "[loss: 0.047, accuracy: 0.985, val_loss: 0.062, val_accuracy: 0.983] : 100% 83176/83176 [00:24&lt;00:00, 1309.77it/s]"
      }
     },
     "719901e59eff4694a7a3a88f12654ce1": {
      "model_module": "@jupyter-widgets/controls",
      "model_module_version": "1.5.0",
      "model_name": "IntProgressModel",
      "state": {
       "description": "Epoch 26",
       "layout": "IPY_MODEL_b3e1527fa9404f339fa26b8855a6ef52",
       "max": 83176,
       "style": "IPY_MODEL_ef9c99789e224a8dbed615d7b77f61cd",
       "value": 83176
      }
     },
     "719969ab9ad349f4929b62a18806452a": {
      "model_module": "@jupyter-widgets/controls",
      "model_module_version": "1.5.0",
      "model_name": "IntProgressModel",
      "state": {
       "description": "Epoch 62",
       "layout": "IPY_MODEL_d7b2320ec0734654905c7f122cb7d80d",
       "max": 83176,
       "style": "IPY_MODEL_da6fa9aa03ae4283ab2bb1fc07693bce",
       "value": 83176
      }
     },
     "724bbf5618714fd580c7671cd414d966": {
      "model_module": "@jupyter-widgets/base",
      "model_module_version": "1.2.0",
      "model_name": "LayoutModel",
      "state": {}
     },
     "7278f1caeb15425c96befaa18818df4f": {
      "model_module": "@jupyter-widgets/base",
      "model_module_version": "1.2.0",
      "model_name": "LayoutModel",
      "state": {}
     },
     "730c0937cb394fc18883b0a2dbc0d761": {
      "model_module": "@jupyter-widgets/base",
      "model_module_version": "1.2.0",
      "model_name": "LayoutModel",
      "state": {}
     },
     "736549bc717b402ea2c7ede4e02f942e": {
      "model_module": "@jupyter-widgets/base",
      "model_module_version": "1.2.0",
      "model_name": "LayoutModel",
      "state": {}
     },
     "73abc674c3f04e8db21046756b1734bd": {
      "model_module": "@jupyter-widgets/base",
      "model_module_version": "1.2.0",
      "model_name": "LayoutModel",
      "state": {}
     },
     "73b033a97a2a4984812b4e2842ad17d1": {
      "model_module": "@jupyter-widgets/controls",
      "model_module_version": "1.5.0",
      "model_name": "ProgressStyleModel",
      "state": {
       "description_width": "initial"
      }
     },
     "73c0651e3302454ba9ceaac832037943": {
      "model_module": "@jupyter-widgets/controls",
      "model_module_version": "1.5.0",
      "model_name": "ProgressStyleModel",
      "state": {
       "description_width": "initial"
      }
     },
     "73c50dcf6e484372b0b37327bdb3b9dd": {
      "model_module": "@jupyter-widgets/controls",
      "model_module_version": "1.5.0",
      "model_name": "DescriptionStyleModel",
      "state": {
       "description_width": ""
      }
     },
     "73da117d857245d8a0c757821f611699": {
      "model_module": "@jupyter-widgets/controls",
      "model_module_version": "1.5.0",
      "model_name": "IntProgressModel",
      "state": {
       "description": "Epoch 20",
       "layout": "IPY_MODEL_6ed2f36e6f6b469aad740f8b527d9c9b",
       "max": 83176,
       "style": "IPY_MODEL_742de1994a454be59bcdee206dd35515",
       "value": 83176
      }
     },
     "73df061eb1ae49928b9cea56ce8ee374": {
      "model_module": "@jupyter-widgets/controls",
      "model_module_version": "1.5.0",
      "model_name": "DescriptionStyleModel",
      "state": {
       "description_width": ""
      }
     },
     "73fbfb41162b4edf984e6f392ccfb0c9": {
      "model_module": "@jupyter-widgets/controls",
      "model_module_version": "1.5.0",
      "model_name": "DescriptionStyleModel",
      "state": {
       "description_width": ""
      }
     },
     "741e31943ab9410297ac3f0ea6b058d7": {
      "model_module": "@jupyter-widgets/base",
      "model_module_version": "1.2.0",
      "model_name": "LayoutModel",
      "state": {}
     },
     "742de1994a454be59bcdee206dd35515": {
      "model_module": "@jupyter-widgets/controls",
      "model_module_version": "1.5.0",
      "model_name": "ProgressStyleModel",
      "state": {
       "description_width": "initial"
      }
     },
     "743e5b17847d49a0a497015389bf59ca": {
      "model_module": "@jupyter-widgets/base",
      "model_module_version": "1.2.0",
      "model_name": "LayoutModel",
      "state": {}
     },
     "7460bf284cc04e9e943b924a0eea4d75": {
      "model_module": "@jupyter-widgets/base",
      "model_module_version": "1.2.0",
      "model_name": "LayoutModel",
      "state": {}
     },
     "7487848a226c42509bd476324607e665": {
      "model_module": "@jupyter-widgets/controls",
      "model_module_version": "1.5.0",
      "model_name": "HTMLModel",
      "state": {
       "layout": "IPY_MODEL_6f2b3114cc74421a8952d5f27ce74999",
       "style": "IPY_MODEL_ef259be93ad94d8da170462bf52620a9",
       "value": "[loss: 0.027, accuracy: 0.991, val_loss: 0.060, val_accuracy: 0.983] : 100% 83176/83176 [00:26&lt;00:00, 1093.09it/s]"
      }
     },
     "74da1d8196b642b69d059b218e14c945": {
      "model_module": "@jupyter-widgets/base",
      "model_module_version": "1.2.0",
      "model_name": "LayoutModel",
      "state": {}
     },
     "74fcc2c0bd9a491cb116a146648ffa64": {
      "model_module": "@jupyter-widgets/controls",
      "model_module_version": "1.5.0",
      "model_name": "IntProgressModel",
      "state": {
       "description": "Epoch 27",
       "layout": "IPY_MODEL_66078e4ff66546549ddb5c8f4f7babcd",
       "max": 83176,
       "style": "IPY_MODEL_fd8f9dffca7f4d12b4753493ac9ee60f",
       "value": 83176
      }
     },
     "75384d25648b484e94bff6a1b8b94ce5": {
      "model_module": "@jupyter-widgets/base",
      "model_module_version": "1.2.0",
      "model_name": "LayoutModel",
      "state": {}
     },
     "75542818c021440ab2b2b0f2b7a51b7a": {
      "model_module": "@jupyter-widgets/base",
      "model_module_version": "1.2.0",
      "model_name": "LayoutModel",
      "state": {}
     },
     "75d5d18e8aa74caab90ed5c7249a2d67": {
      "model_module": "@jupyter-widgets/controls",
      "model_module_version": "1.5.0",
      "model_name": "DescriptionStyleModel",
      "state": {
       "description_width": ""
      }
     },
     "75f9638159b0442fae2a664788861479": {
      "model_module": "@jupyter-widgets/base",
      "model_module_version": "1.2.0",
      "model_name": "LayoutModel",
      "state": {}
     },
     "762364686fed46a688d4f9b43756bd21": {
      "model_module": "@jupyter-widgets/base",
      "model_module_version": "1.2.0",
      "model_name": "LayoutModel",
      "state": {}
     },
     "76cc22e225764cfda7829efa3b16ea20": {
      "model_module": "@jupyter-widgets/controls",
      "model_module_version": "1.5.0",
      "model_name": "HTMLModel",
      "state": {
       "layout": "IPY_MODEL_850e981ab3424408821c70a5169a700b",
       "style": "IPY_MODEL_7e07ad35086245f39b6c4af220bb21b2",
       "value": "[loss: 0.022, accuracy: 0.992, val_loss: 0.059, val_accuracy: 0.985] : 100% 83176/83176 [00:26&lt;00:00, 1083.98it/s]"
      }
     },
     "76f6b9846f494e51a85342fc55fd7aac": {
      "model_module": "@jupyter-widgets/base",
      "model_module_version": "1.2.0",
      "model_name": "LayoutModel",
      "state": {}
     },
     "77e3e222a284466583aebe06f729a0f6": {
      "model_module": "@jupyter-widgets/controls",
      "model_module_version": "1.5.0",
      "model_name": "HTMLModel",
      "state": {
       "layout": "IPY_MODEL_2739bcfe51c54fc3a6918beffd77695f",
       "style": "IPY_MODEL_354fc7af4345496a81f3c2c8afbe3c05",
       "value": "[loss: 0.662, accuracy: 0.828, val_loss: 0.667, val_accuracy: 0.826] : 100% 83176/83176 [00:26&lt;00:00, 176.23it/s]"
      }
     },
     "780e67f0fc0543dfa3f45c84c49a3c1e": {
      "model_module": "@jupyter-widgets/controls",
      "model_module_version": "1.5.0",
      "model_name": "DescriptionStyleModel",
      "state": {
       "description_width": ""
      }
     },
     "781e300d3b4940ca8711d01d705f1f82": {
      "model_module": "@jupyter-widgets/controls",
      "model_module_version": "1.5.0",
      "model_name": "DescriptionStyleModel",
      "state": {
       "description_width": ""
      }
     },
     "781f9ac06036412d9b74c8b69ecca9b9": {
      "model_module": "@jupyter-widgets/controls",
      "model_module_version": "1.5.0",
      "model_name": "DescriptionStyleModel",
      "state": {
       "description_width": ""
      }
     },
     "789eafb84f3449a79105c13d7a823572": {
      "model_module": "@jupyter-widgets/base",
      "model_module_version": "1.2.0",
      "model_name": "LayoutModel",
      "state": {}
     },
     "78f695bc2d664e3e85e487a78a5b5fa2": {
      "model_module": "@jupyter-widgets/controls",
      "model_module_version": "1.5.0",
      "model_name": "DescriptionStyleModel",
      "state": {
       "description_width": ""
      }
     },
     "79159405ff2d4b888583a9b719431d17": {
      "model_module": "@jupyter-widgets/controls",
      "model_module_version": "1.5.0",
      "model_name": "ProgressStyleModel",
      "state": {
       "description_width": "initial"
      }
     },
     "7945b52ccc6a4b6584798605118669b6": {
      "model_module": "@jupyter-widgets/controls",
      "model_module_version": "1.5.0",
      "model_name": "HTMLModel",
      "state": {
       "layout": "IPY_MODEL_ed01f619b9654b549a95c7101a9a3a19",
       "style": "IPY_MODEL_aeb7b2420a2a44b095c280cb6f0582bd",
       "value": "[loss: 0.065, accuracy: 0.981, val_loss: 0.090, val_accuracy: 0.975] : 100% 83176/83176 [00:24&lt;00:00, 673.73it/s]"
      }
     },
     "797e75554c584f828176966c2ce1a165": {
      "model_module": "@jupyter-widgets/controls",
      "model_module_version": "1.5.0",
      "model_name": "IntProgressModel",
      "state": {
       "description": "Epoch 68",
       "layout": "IPY_MODEL_5d800650ca38450e8a4c973516f5636e",
       "max": 83176,
       "style": "IPY_MODEL_2cf76ac6f67a44d4952656dfa53334a9",
       "value": 83176
      }
     },
     "79c620c410384e67aaa9bbffcbb65151": {
      "model_module": "@jupyter-widgets/base",
      "model_module_version": "1.2.0",
      "model_name": "LayoutModel",
      "state": {}
     },
     "7a08604278564c7cb9acf2e9a36e9682": {
      "model_module": "@jupyter-widgets/controls",
      "model_module_version": "1.5.0",
      "model_name": "IntProgressModel",
      "state": {
       "description": "Epoch 92",
       "layout": "IPY_MODEL_24ca42c90582406aadb5e13e111ad64a",
       "max": 83176,
       "style": "IPY_MODEL_8e177b3ef46a4f56be60292c9f21d2fc",
       "value": 83176
      }
     },
     "7aa06d60454b46d1b7a60d62bf21afd7": {
      "model_module": "@jupyter-widgets/base",
      "model_module_version": "1.2.0",
      "model_name": "LayoutModel",
      "state": {}
     },
     "7b527adcd4fd4141a4b0a0263bf0997e": {
      "model_module": "@jupyter-widgets/controls",
      "model_module_version": "1.5.0",
      "model_name": "HTMLModel",
      "state": {
       "layout": "IPY_MODEL_ef8ff7bfc9134a90a5c618e20cfabce7",
       "style": "IPY_MODEL_bdacdcc1eccc486aa067e03f1e8d2698",
       "value": "[loss: 0.266, accuracy: 0.927, val_loss: 0.257, val_accuracy: 0.926] : 100% 83176/83176 [00:24&lt;00:00, 672.50it/s]"
      }
     },
     "7b54235417a54032bd06f8037599bddd": {
      "model_module": "@jupyter-widgets/controls",
      "model_module_version": "1.5.0",
      "model_name": "DescriptionStyleModel",
      "state": {
       "description_width": ""
      }
     },
     "7bc8660ac40f42d5b229d0e759d3be9c": {
      "model_module": "@jupyter-widgets/controls",
      "model_module_version": "1.5.0",
      "model_name": "IntProgressModel",
      "state": {
       "description": "Epoch 50",
       "layout": "IPY_MODEL_1f30303098154e2abc2a989257c8b453",
       "max": 83176,
       "style": "IPY_MODEL_8a2fc891aa434014867bfe2748923a78",
       "value": 83176
      }
     },
     "7bc9fd4692ed4e139d8534de6d79e940": {
      "model_module": "@jupyter-widgets/controls",
      "model_module_version": "1.5.0",
      "model_name": "DescriptionStyleModel",
      "state": {
       "description_width": ""
      }
     },
     "7c344b3b6adf4c738bc42d5df62c9aba": {
      "model_module": "@jupyter-widgets/controls",
      "model_module_version": "1.5.0",
      "model_name": "HTMLModel",
      "state": {
       "layout": "IPY_MODEL_db539b2023d94c2db22b545b3ce0fdff",
       "style": "IPY_MODEL_04dd2730c2c443ee843d572aadef087b",
       "value": "[loss: 0.037, accuracy: 0.988, val_loss: 0.056, val_accuracy: 0.984] : 100% 83176/83176 [00:24&lt;00:00, 660.38it/s]"
      }
     },
     "7c60c93205c8465db6ec448ef029a612": {
      "model_module": "@jupyter-widgets/base",
      "model_module_version": "1.2.0",
      "model_name": "LayoutModel",
      "state": {}
     },
     "7c86803d9226405b92843309dad67e2e": {
      "model_module": "@jupyter-widgets/base",
      "model_module_version": "1.2.0",
      "model_name": "LayoutModel",
      "state": {}
     },
     "7c91651e30154b30880e15a611483664": {
      "model_module": "@jupyter-widgets/controls",
      "model_module_version": "1.5.0",
      "model_name": "IntProgressModel",
      "state": {
       "description": "Epoch 117",
       "layout": "IPY_MODEL_df1877a65f684a67ad44c1477021d54b",
       "max": 83176,
       "style": "IPY_MODEL_fe20cf4775cc4ab895618f2d08d17655",
       "value": 83176
      }
     },
     "7cada89b46734cf08abe6608f7f243f1": {
      "model_module": "@jupyter-widgets/controls",
      "model_module_version": "1.5.0",
      "model_name": "DescriptionStyleModel",
      "state": {
       "description_width": ""
      }
     },
     "7cbde73ef0fd4b799ef9433d471ef9fd": {
      "model_module": "@jupyter-widgets/base",
      "model_module_version": "1.2.0",
      "model_name": "LayoutModel",
      "state": {}
     },
     "7d7e0ee0ed4f4c6c94959ca742fee9c8": {
      "model_module": "@jupyter-widgets/controls",
      "model_module_version": "1.5.0",
      "model_name": "IntProgressModel",
      "state": {
       "description": "Epoch 120",
       "layout": "IPY_MODEL_e95f82b8a0964d61a4a80e91e435c8c1",
       "max": 83176,
       "style": "IPY_MODEL_f0b8d0e922e74535b8ba5e15f165cdb2",
       "value": 83176
      }
     },
     "7da914375d7c467bb82666397800db01": {
      "model_module": "@jupyter-widgets/base",
      "model_module_version": "1.2.0",
      "model_name": "LayoutModel",
      "state": {}
     },
     "7df00ad94ded4533bec4e076e9bc5b5f": {
      "model_module": "@jupyter-widgets/base",
      "model_module_version": "1.2.0",
      "model_name": "LayoutModel",
      "state": {}
     },
     "7dfdc916f33a40709bca601b71f0a488": {
      "model_module": "@jupyter-widgets/base",
      "model_module_version": "1.2.0",
      "model_name": "LayoutModel",
      "state": {}
     },
     "7e002910c9044cc4982b53661da6adac": {
      "model_module": "@jupyter-widgets/base",
      "model_module_version": "1.2.0",
      "model_name": "LayoutModel",
      "state": {}
     },
     "7e07ad35086245f39b6c4af220bb21b2": {
      "model_module": "@jupyter-widgets/controls",
      "model_module_version": "1.5.0",
      "model_name": "DescriptionStyleModel",
      "state": {
       "description_width": ""
      }
     },
     "7e9e11d8ed8c428092069c941124e4c6": {
      "model_module": "@jupyter-widgets/base",
      "model_module_version": "1.2.0",
      "model_name": "LayoutModel",
      "state": {}
     },
     "7f24acea99ec4c6a9123d75f58e404b7": {
      "model_module": "@jupyter-widgets/base",
      "model_module_version": "1.2.0",
      "model_name": "LayoutModel",
      "state": {}
     },
     "7f7c8b58a0e24a278015f5b31d0a4e42": {
      "model_module": "@jupyter-widgets/controls",
      "model_module_version": "1.5.0",
      "model_name": "DescriptionStyleModel",
      "state": {
       "description_width": ""
      }
     },
     "7fe1d86d6b3a402589b58d72d2f5e681": {
      "model_module": "@jupyter-widgets/base",
      "model_module_version": "1.2.0",
      "model_name": "LayoutModel",
      "state": {}
     },
     "8034d4b612214285bf2f1f51306742b5": {
      "model_module": "@jupyter-widgets/controls",
      "model_module_version": "1.5.0",
      "model_name": "HTMLModel",
      "state": {
       "layout": "IPY_MODEL_044ab53a8f3a438f9a3c6cd076a07c98",
       "style": "IPY_MODEL_328cc7c8a45b45b9b089cbc27c4fc7a8",
       "value": "[loss: 0.650, accuracy: 0.828, val_loss: 0.649, val_accuracy: 0.827] : 100% 83176/83176 [00:24&lt;00:00, 1025.82it/s]"
      }
     },
     "804a4d0116294caa8fe6a288dcb3d125": {
      "model_module": "@jupyter-widgets/base",
      "model_module_version": "1.2.0",
      "model_name": "LayoutModel",
      "state": {}
     },
     "80cb7019bccb403abb3341036f1252d8": {
      "model_module": "@jupyter-widgets/controls",
      "model_module_version": "1.5.0",
      "model_name": "DescriptionStyleModel",
      "state": {
       "description_width": ""
      }
     },
     "80d9094ffffb42c895c512e1d18a1991": {
      "model_module": "@jupyter-widgets/controls",
      "model_module_version": "1.5.0",
      "model_name": "DescriptionStyleModel",
      "state": {
       "description_width": ""
      }
     },
     "8110e9931cd94f369dcdf9e735a274d8": {
      "model_module": "@jupyter-widgets/base",
      "model_module_version": "1.2.0",
      "model_name": "LayoutModel",
      "state": {}
     },
     "811d7ee8734f4485917d683b7c9648eb": {
      "model_module": "@jupyter-widgets/controls",
      "model_module_version": "1.5.0",
      "model_name": "ProgressStyleModel",
      "state": {
       "description_width": "initial"
      }
     },
     "812e86fbb89249c6b0206abd8c946726": {
      "model_module": "@jupyter-widgets/controls",
      "model_module_version": "1.5.0",
      "model_name": "IntProgressModel",
      "state": {
       "description": "Epoch 34",
       "layout": "IPY_MODEL_34598e56dc854325a7f68d07a70f67c7",
       "max": 83176,
       "style": "IPY_MODEL_01bc671ec55c413d86c8e8c59d5cb404",
       "value": 83176
      }
     },
     "81395e26c6094a1cbffdba65ccf5de1b": {
      "model_module": "@jupyter-widgets/base",
      "model_module_version": "1.2.0",
      "model_name": "LayoutModel",
      "state": {}
     },
     "816431bf7ffc42a9b3fccb349ad9bd4d": {
      "model_module": "@jupyter-widgets/base",
      "model_module_version": "1.2.0",
      "model_name": "LayoutModel",
      "state": {}
     },
     "81e0cdace269405799066bcd6c0edb2a": {
      "model_module": "@jupyter-widgets/base",
      "model_module_version": "1.2.0",
      "model_name": "LayoutModel",
      "state": {}
     },
     "81f2928e4982451ba91622e474e01118": {
      "model_module": "@jupyter-widgets/base",
      "model_module_version": "1.2.0",
      "model_name": "LayoutModel",
      "state": {}
     },
     "81fe2fe672494a68b414abb6ea16e349": {
      "model_module": "@jupyter-widgets/controls",
      "model_module_version": "1.5.0",
      "model_name": "ProgressStyleModel",
      "state": {
       "description_width": "initial"
      }
     },
     "82362b4a07024a189724e2f9de4a66d3": {
      "model_module": "@jupyter-widgets/controls",
      "model_module_version": "1.5.0",
      "model_name": "ProgressStyleModel",
      "state": {
       "description_width": "initial"
      }
     },
     "839307f31f664feabad58cbcfcaa9786": {
      "model_module": "@jupyter-widgets/controls",
      "model_module_version": "1.5.0",
      "model_name": "ProgressStyleModel",
      "state": {
       "description_width": "initial"
      }
     },
     "83b9163526c04f03844f3466a5467f0d": {
      "model_module": "@jupyter-widgets/base",
      "model_module_version": "1.2.0",
      "model_name": "LayoutModel",
      "state": {}
     },
     "8444d4c93c184e1fa416cbadd6feda3b": {
      "model_module": "@jupyter-widgets/controls",
      "model_module_version": "1.5.0",
      "model_name": "DescriptionStyleModel",
      "state": {
       "description_width": ""
      }
     },
     "84a5e6ee0d3c4e9388a0a7faf95de5d7": {
      "model_module": "@jupyter-widgets/controls",
      "model_module_version": "1.5.0",
      "model_name": "HTMLModel",
      "state": {
       "layout": "IPY_MODEL_cc450652534447488da60c9cff0d10a8",
       "style": "IPY_MODEL_8b7d5e2f3dbf41c7bcd2b19eb502edaa",
       "value": "[loss: 0.089, accuracy: 0.975, val_loss: 0.097, val_accuracy: 0.973] : 100% 83176/83176 [00:24&lt;00:00, 1183.78it/s]"
      }
     },
     "84aad1bd3875488d88c38592f130553c": {
      "model_module": "@jupyter-widgets/base",
      "model_module_version": "1.2.0",
      "model_name": "LayoutModel",
      "state": {}
     },
     "850e779ee888426bae1db1a49b63ddc8": {
      "model_module": "@jupyter-widgets/base",
      "model_module_version": "1.2.0",
      "model_name": "LayoutModel",
      "state": {}
     },
     "850e981ab3424408821c70a5169a700b": {
      "model_module": "@jupyter-widgets/base",
      "model_module_version": "1.2.0",
      "model_name": "LayoutModel",
      "state": {}
     },
     "85221b790ec64eee9106ada8d9cdd0fe": {
      "model_module": "@jupyter-widgets/controls",
      "model_module_version": "1.5.0",
      "model_name": "IntProgressModel",
      "state": {
       "description": "Epoch 67",
       "layout": "IPY_MODEL_13151352710f463f85fa8e568df52b20",
       "max": 83176,
       "style": "IPY_MODEL_4d676c5380444728adddd69da961b60b",
       "value": 83176
      }
     },
     "853fdcfe3a6b4439915c8081cbb0bcb5": {
      "model_module": "@jupyter-widgets/controls",
      "model_module_version": "1.5.0",
      "model_name": "IntProgressModel",
      "state": {
       "description": "Epoch 76",
       "layout": "IPY_MODEL_dcbbedea1ff943d3a60179872f7c7f6a",
       "max": 83176,
       "style": "IPY_MODEL_1e93596fe8bb4835afab9e28079f540a",
       "value": 83176
      }
     },
     "85961d8e211c4314b52d5d9f51716667": {
      "model_module": "@jupyter-widgets/controls",
      "model_module_version": "1.5.0",
      "model_name": "HTMLModel",
      "state": {
       "layout": "IPY_MODEL_05db531af18c49bcac5dfe535d39e39e",
       "style": "IPY_MODEL_66d29808e30e43a1a78d778805811a77",
       "value": "[loss: 0.040, accuracy: 0.987, val_loss: 0.068, val_accuracy: 0.980] : 100% 83176/83176 [00:24&lt;00:00, 164.41it/s]"
      }
     },
     "8617a7fef8144f5691c9dd9771d86e48": {
      "model_module": "@jupyter-widgets/controls",
      "model_module_version": "1.5.0",
      "model_name": "DescriptionStyleModel",
      "state": {
       "description_width": ""
      }
     },
     "863929786e70464d9eda6533819376f3": {
      "model_module": "@jupyter-widgets/controls",
      "model_module_version": "1.5.0",
      "model_name": "ProgressStyleModel",
      "state": {
       "description_width": "initial"
      }
     },
     "875e28ea5f3e42fa8f78889a5f89bc53": {
      "model_module": "@jupyter-widgets/base",
      "model_module_version": "1.2.0",
      "model_name": "LayoutModel",
      "state": {}
     },
     "8772563b01ad49a6af8968038db3873b": {
      "model_module": "@jupyter-widgets/controls",
      "model_module_version": "1.5.0",
      "model_name": "ProgressStyleModel",
      "state": {
       "description_width": "initial"
      }
     },
     "879997ebbba64b11a1b0bf7baed6c677": {
      "model_module": "@jupyter-widgets/controls",
      "model_module_version": "1.5.0",
      "model_name": "ProgressStyleModel",
      "state": {
       "description_width": "initial"
      }
     },
     "87af4f22c2dd44faa07f0f186a7f0a37": {
      "model_module": "@jupyter-widgets/controls",
      "model_module_version": "1.5.0",
      "model_name": "IntProgressModel",
      "state": {
       "description": "Epoch 44",
       "layout": "IPY_MODEL_7e9e11d8ed8c428092069c941124e4c6",
       "max": 83176,
       "style": "IPY_MODEL_8896836eb6fd460c8876da16024a81c7",
       "value": 83176
      }
     },
     "87c4319541ab4e9ba943bbe928f5310d": {
      "model_module": "@jupyter-widgets/controls",
      "model_module_version": "1.5.0",
      "model_name": "IntProgressModel",
      "state": {
       "description": "Epoch 132",
       "layout": "IPY_MODEL_2cad1cedf3eb4639b8300208f63c5457",
       "max": 83176,
       "style": "IPY_MODEL_c8b5685f51b34195b20a4c40bbd384ec",
       "value": 83176
      }
     },
     "8806a7a9a36c489a9e4702591f6af030": {
      "model_module": "@jupyter-widgets/base",
      "model_module_version": "1.2.0",
      "model_name": "LayoutModel",
      "state": {}
     },
     "881c006a554b4fe2915609694ac35729": {
      "model_module": "@jupyter-widgets/base",
      "model_module_version": "1.2.0",
      "model_name": "LayoutModel",
      "state": {}
     },
     "884ac251722c4fb3959c498f6572fc43": {
      "model_module": "@jupyter-widgets/base",
      "model_module_version": "1.2.0",
      "model_name": "LayoutModel",
      "state": {}
     },
     "887c632439ae438b99821498be9b73b7": {
      "model_module": "@jupyter-widgets/base",
      "model_module_version": "1.2.0",
      "model_name": "LayoutModel",
      "state": {}
     },
     "888284caa9c94b92972242ffbdf4a652": {
      "model_module": "@jupyter-widgets/base",
      "model_module_version": "1.2.0",
      "model_name": "LayoutModel",
      "state": {}
     },
     "8896836eb6fd460c8876da16024a81c7": {
      "model_module": "@jupyter-widgets/controls",
      "model_module_version": "1.5.0",
      "model_name": "ProgressStyleModel",
      "state": {
       "description_width": "initial"
      }
     },
     "88eda3f638994960bebe0bf81ad4eeec": {
      "model_module": "@jupyter-widgets/base",
      "model_module_version": "1.2.0",
      "model_name": "LayoutModel",
      "state": {}
     },
     "891ad701f66744139c2db933d88e0e9a": {
      "model_module": "@jupyter-widgets/controls",
      "model_module_version": "1.5.0",
      "model_name": "DescriptionStyleModel",
      "state": {
       "description_width": ""
      }
     },
     "8951f095b4a64e79a9d3851debe7447c": {
      "model_module": "@jupyter-widgets/controls",
      "model_module_version": "1.5.0",
      "model_name": "HTMLModel",
      "state": {
       "layout": "IPY_MODEL_aa6d063877ec4fceb7a84ac2a8c2cfaa",
       "style": "IPY_MODEL_a0f65a02ff904317bda80d9e4bc3924d",
       "value": "[loss: 0.208, accuracy: 0.941, val_loss: 0.218, val_accuracy: 0.932] : 100% 83176/83176 [00:24&lt;00:00, 159.27it/s]"
      }
     },
     "8957b204b6d04438aec5023160e318af": {
      "model_module": "@jupyter-widgets/base",
      "model_module_version": "1.2.0",
      "model_name": "LayoutModel",
      "state": {}
     },
     "8983373140de4097ba5c7ea29132257d": {
      "model_module": "@jupyter-widgets/controls",
      "model_module_version": "1.5.0",
      "model_name": "DescriptionStyleModel",
      "state": {
       "description_width": ""
      }
     },
     "8a2fc891aa434014867bfe2748923a78": {
      "model_module": "@jupyter-widgets/controls",
      "model_module_version": "1.5.0",
      "model_name": "ProgressStyleModel",
      "state": {
       "description_width": "initial"
      }
     },
     "8a92dfc7f6d04d5387bb4546dcdc7fb8": {
      "model_module": "@jupyter-widgets/base",
      "model_module_version": "1.2.0",
      "model_name": "LayoutModel",
      "state": {}
     },
     "8aa5b2b3f45d4b9ba82eec3f9f87611d": {
      "model_module": "@jupyter-widgets/base",
      "model_module_version": "1.2.0",
      "model_name": "LayoutModel",
      "state": {}
     },
     "8b1abc8b65db400088f738fc44a96c7e": {
      "model_module": "@jupyter-widgets/controls",
      "model_module_version": "1.5.0",
      "model_name": "DescriptionStyleModel",
      "state": {
       "description_width": ""
      }
     },
     "8b4fce5ad12c48f6848c3cebf9f6fe04": {
      "model_module": "@jupyter-widgets/base",
      "model_module_version": "1.2.0",
      "model_name": "LayoutModel",
      "state": {}
     },
     "8b7d5e2f3dbf41c7bcd2b19eb502edaa": {
      "model_module": "@jupyter-widgets/controls",
      "model_module_version": "1.5.0",
      "model_name": "DescriptionStyleModel",
      "state": {
       "description_width": ""
      }
     },
     "8b82841ff85e43798b3ffbbae75d7211": {
      "model_module": "@jupyter-widgets/controls",
      "model_module_version": "1.5.0",
      "model_name": "DescriptionStyleModel",
      "state": {
       "description_width": ""
      }
     },
     "8c2b49beac73422ca07c0173080d076a": {
      "model_module": "@jupyter-widgets/controls",
      "model_module_version": "1.5.0",
      "model_name": "HTMLModel",
      "state": {
       "layout": "IPY_MODEL_06c095f6b88c4c4b97817b4ac45803b2",
       "style": "IPY_MODEL_781e300d3b4940ca8711d01d705f1f82",
       "value": "[loss: 0.045, accuracy: 0.986, val_loss: 0.063, val_accuracy: 0.982] : 100% 83176/83176 [00:24&lt;00:00, 675.78it/s]"
      }
     },
     "8c3c8ffb4b8543fea1a28d8c6ee55e6f": {
      "model_module": "@jupyter-widgets/controls",
      "model_module_version": "1.5.0",
      "model_name": "IntProgressModel",
      "state": {
       "description": "Epoch 45",
       "layout": "IPY_MODEL_256240ff8cab4242a82925d11d7c546a",
       "max": 83176,
       "style": "IPY_MODEL_330d425bc01d4c1aab9dd34fcc73904b",
       "value": 83176
      }
     },
     "8c4daf53dd47496c9269aa3b24e244d5": {
      "model_module": "@jupyter-widgets/controls",
      "model_module_version": "1.5.0",
      "model_name": "HTMLModel",
      "state": {
       "layout": "IPY_MODEL_af67c7da8dd84c559e0dfa90e1163b52",
       "style": "IPY_MODEL_003fabcfc68843a4a926cf23eba56e3b",
       "value": "[loss: 0.109, accuracy: 0.969, val_loss: 0.123, val_accuracy: 0.967] : 100% 83176/83176 [00:25&lt;00:00, 652.99it/s]"
      }
     },
     "8d22ba2c891647c68ad50f4f76ce02b1": {
      "model_module": "@jupyter-widgets/controls",
      "model_module_version": "1.5.0",
      "model_name": "IntProgressModel",
      "state": {
       "description": "Epoch 135",
       "layout": "IPY_MODEL_e699665266f043e5bb63f9b22d18fc81",
       "max": 83176,
       "style": "IPY_MODEL_cce1b73d794d433b9c9295e4846ada28",
       "value": 83176
      }
     },
     "8d5f499a4b984e19a1e1581d3759b8af": {
      "model_module": "@jupyter-widgets/base",
      "model_module_version": "1.2.0",
      "model_name": "LayoutModel",
      "state": {}
     },
     "8dcbcb5216f246f18774593449e98aaf": {
      "model_module": "@jupyter-widgets/base",
      "model_module_version": "1.2.0",
      "model_name": "LayoutModel",
      "state": {}
     },
     "8de53be870a64c3a9c41ef8eaee509a9": {
      "model_module": "@jupyter-widgets/base",
      "model_module_version": "1.2.0",
      "model_name": "LayoutModel",
      "state": {}
     },
     "8df9531668e3417bad847c9c9fb6b13f": {
      "model_module": "@jupyter-widgets/base",
      "model_module_version": "1.2.0",
      "model_name": "LayoutModel",
      "state": {}
     },
     "8e0d633e15d1440ab63d6c04732be6a7": {
      "model_module": "@jupyter-widgets/controls",
      "model_module_version": "1.5.0",
      "model_name": "HTMLModel",
      "state": {
       "layout": "IPY_MODEL_4d161e15983d400d9258177411dbf52b",
       "style": "IPY_MODEL_f6cb989701da4f2e9cb3780e6d039b09",
       "value": "[loss: 0.025, accuracy: 0.992, val_loss: 0.067, val_accuracy: 0.986] : 100% 83176/83176 [00:26&lt;00:00, 1073.63it/s]"
      }
     },
     "8e177b3ef46a4f56be60292c9f21d2fc": {
      "model_module": "@jupyter-widgets/controls",
      "model_module_version": "1.5.0",
      "model_name": "ProgressStyleModel",
      "state": {
       "description_width": "initial"
      }
     },
     "8e187bcc7a9741a7bd95f9b1c913f8d5": {
      "model_module": "@jupyter-widgets/base",
      "model_module_version": "1.2.0",
      "model_name": "LayoutModel",
      "state": {}
     },
     "8e99b32221bf4c5da1ae832660c61002": {
      "model_module": "@jupyter-widgets/controls",
      "model_module_version": "1.5.0",
      "model_name": "DescriptionStyleModel",
      "state": {
       "description_width": ""
      }
     },
     "8eb227be5a65437cba7364d938429398": {
      "model_module": "@jupyter-widgets/base",
      "model_module_version": "1.2.0",
      "model_name": "LayoutModel",
      "state": {}
     },
     "8ec499c8d0834592a755e297cbae495c": {
      "model_module": "@jupyter-widgets/controls",
      "model_module_version": "1.5.0",
      "model_name": "DescriptionStyleModel",
      "state": {
       "description_width": ""
      }
     },
     "8ed615f2ef1b45eb8a2dbc8d33baf0c7": {
      "model_module": "@jupyter-widgets/base",
      "model_module_version": "1.2.0",
      "model_name": "LayoutModel",
      "state": {}
     },
     "8f3ca86577424238bb5527a78e2bc720": {
      "model_module": "@jupyter-widgets/controls",
      "model_module_version": "1.5.0",
      "model_name": "HTMLModel",
      "state": {
       "layout": "IPY_MODEL_850e779ee888426bae1db1a49b63ddc8",
       "style": "IPY_MODEL_bf536e54b14d4b208e3c5cf63a69d2e6",
       "value": "[loss: 0.042, accuracy: 0.987, val_loss: 0.062, val_accuracy: 0.983] : 100% 83176/83176 [00:24&lt;00:00, 163.79it/s]"
      }
     },
     "8fc14667bf624b6abf79b03e1601fe41": {
      "model_module": "@jupyter-widgets/base",
      "model_module_version": "1.2.0",
      "model_name": "LayoutModel",
      "state": {}
     },
     "8fca5fa2fe9e4f5787e17f9024cf4747": {
      "model_module": "@jupyter-widgets/controls",
      "model_module_version": "1.5.0",
      "model_name": "IntProgressModel",
      "state": {
       "description": "Epoch 38",
       "layout": "IPY_MODEL_8ed615f2ef1b45eb8a2dbc8d33baf0c7",
       "max": 83176,
       "style": "IPY_MODEL_a26cd77d3f0e475b8766e0b4ba7c34e1",
       "value": 83176
      }
     },
     "9026df537bbc4e88b1667aca890888ed": {
      "model_module": "@jupyter-widgets/controls",
      "model_module_version": "1.5.0",
      "model_name": "HTMLModel",
      "state": {
       "layout": "IPY_MODEL_f1204f3867dd4dc8bd9877657040fdcb",
       "style": "IPY_MODEL_992013590bac43439d9519578aba0cba",
       "value": "[loss: 0.067, accuracy: 0.980, val_loss: 0.066, val_accuracy: 0.984] : 100% 83176/83176 [00:24&lt;00:00, 1447.32it/s]"
      }
     },
     "9072f9a6d95a420ba34eea9cc9fd99b0": {
      "model_module": "@jupyter-widgets/controls",
      "model_module_version": "1.5.0",
      "model_name": "ProgressStyleModel",
      "state": {
       "description_width": "initial"
      }
     },
     "907ffa12b38b4916862274a1e20ea4bb": {
      "model_module": "@jupyter-widgets/base",
      "model_module_version": "1.2.0",
      "model_name": "LayoutModel",
      "state": {}
     },
     "90c470ec67964867b33494a82bf69d9c": {
      "model_module": "@jupyter-widgets/controls",
      "model_module_version": "1.5.0",
      "model_name": "DescriptionStyleModel",
      "state": {
       "description_width": ""
      }
     },
     "90cc19837c2b41af9e329291b3a35599": {
      "model_module": "@jupyter-widgets/controls",
      "model_module_version": "1.5.0",
      "model_name": "IntProgressModel",
      "state": {
       "description": "Epoch 61",
       "layout": "IPY_MODEL_c16c913da9374432b84de80b4f646e2d",
       "max": 83176,
       "style": "IPY_MODEL_664502e78f88450abc51fde865b47ece",
       "value": 83176
      }
     },
     "90d775d4360a4ef3803ab8c16eb434b9": {
      "model_module": "@jupyter-widgets/base",
      "model_module_version": "1.2.0",
      "model_name": "LayoutModel",
      "state": {}
     },
     "91a74e5518aa4166a08c6e3c6ca8227b": {
      "model_module": "@jupyter-widgets/base",
      "model_module_version": "1.2.0",
      "model_name": "LayoutModel",
      "state": {}
     },
     "9269942e6e754e33bd2dac38337459d7": {
      "model_module": "@jupyter-widgets/base",
      "model_module_version": "1.2.0",
      "model_name": "LayoutModel",
      "state": {}
     },
     "926e1a47fe584a9ba07ffc4d5db6a6cb": {
      "model_module": "@jupyter-widgets/base",
      "model_module_version": "1.2.0",
      "model_name": "LayoutModel",
      "state": {}
     },
     "927ad662b93a425d972b5a5c93d3d6bf": {
      "model_module": "@jupyter-widgets/base",
      "model_module_version": "1.2.0",
      "model_name": "LayoutModel",
      "state": {}
     },
     "9286a7dd39f345728da2e021d2ecad4f": {
      "model_module": "@jupyter-widgets/controls",
      "model_module_version": "1.5.0",
      "model_name": "ProgressStyleModel",
      "state": {
       "description_width": "initial"
      }
     },
     "92b5fcd940b241b1bb68991044592bf5": {
      "model_module": "@jupyter-widgets/controls",
      "model_module_version": "1.5.0",
      "model_name": "IntProgressModel",
      "state": {
       "description": "Epoch 130",
       "layout": "IPY_MODEL_2744a27b073c4bc0a52a0c8cdeb9e51f",
       "max": 83176,
       "style": "IPY_MODEL_3b37db38aa524970a453b269d8d29343",
       "value": 83176
      }
     },
     "92be6e9041144b49a0d27cb63082ef0c": {
      "model_module": "@jupyter-widgets/controls",
      "model_module_version": "1.5.0",
      "model_name": "IntProgressModel",
      "state": {
       "description": "Epoch 97",
       "layout": "IPY_MODEL_bd2f74ce4690402e8d7de6fe2b1507b7",
       "max": 83176,
       "style": "IPY_MODEL_2ff023841e4d42738d4d9fb6c8322255",
       "value": 83176
      }
     },
     "92cc6d93d8824c7797ebc876f2915d5b": {
      "model_module": "@jupyter-widgets/base",
      "model_module_version": "1.2.0",
      "model_name": "LayoutModel",
      "state": {}
     },
     "92d35b1dee014667a0b6cd3c85795756": {
      "model_module": "@jupyter-widgets/controls",
      "model_module_version": "1.5.0",
      "model_name": "HTMLModel",
      "state": {
       "layout": "IPY_MODEL_57c91f1253f94ee39cb23f0a0a583e22",
       "style": "IPY_MODEL_780e67f0fc0543dfa3f45c84c49a3c1e",
       "value": "[loss: 0.017, accuracy: 0.994, val_loss: 0.060, val_accuracy: 0.988] : 100% 83176/83176 [00:27&lt;00:00, 1060.62it/s]"
      }
     },
     "932e69bc50ca4c548da8fbfa080a5c5f": {
      "model_module": "@jupyter-widgets/controls",
      "model_module_version": "1.5.0",
      "model_name": "DescriptionStyleModel",
      "state": {
       "description_width": ""
      }
     },
     "933af4273f4847beb3ed59c7800eb748": {
      "model_module": "@jupyter-widgets/controls",
      "model_module_version": "1.5.0",
      "model_name": "HTMLModel",
      "state": {
       "layout": "IPY_MODEL_1988b6dae63641a4bcf9b08415d78e9a",
       "style": "IPY_MODEL_68ded7c2879a45c5b990332972cff815",
       "value": "[loss: 0.055, accuracy: 0.984, val_loss: 0.071, val_accuracy: 0.980] : 100% 83176/83176 [00:24&lt;00:00, 646.16it/s]"
      }
     },
     "934138c44cc44206b2973f3ea3efa58e": {
      "model_module": "@jupyter-widgets/base",
      "model_module_version": "1.2.0",
      "model_name": "LayoutModel",
      "state": {}
     },
     "9345c4a047f04040b26c69cfa7b5d337": {
      "model_module": "@jupyter-widgets/base",
      "model_module_version": "1.2.0",
      "model_name": "LayoutModel",
      "state": {}
     },
     "9359668020d040318de69b76843bbf56": {
      "model_module": "@jupyter-widgets/controls",
      "model_module_version": "1.5.0",
      "model_name": "HTMLModel",
      "state": {
       "layout": "IPY_MODEL_1947c65122b24d7c83609bc7e824cdee",
       "style": "IPY_MODEL_69bc532ddc4648cface044b81648b1ed",
       "value": "[loss: 0.024, accuracy: 0.992, val_loss: 0.057, val_accuracy: 0.987] : 100% 83176/83176 [00:26&lt;00:00, 1083.68it/s]"
      }
     },
     "936bb800355d4b3c83a31f49836c5083": {
      "model_module": "@jupyter-widgets/controls",
      "model_module_version": "1.5.0",
      "model_name": "HTMLModel",
      "state": {
       "layout": "IPY_MODEL_b1b099822d71443988c9dde4db44fc17",
       "style": "IPY_MODEL_8444d4c93c184e1fa416cbadd6feda3b",
       "value": "[loss: 0.026, accuracy: 0.991, val_loss: 0.066, val_accuracy: 0.985] : 100% 83176/83176 [00:26&lt;00:00, 1074.54it/s]"
      }
     },
     "93874ea5234a4018bbdd197615cc1bb5": {
      "model_module": "@jupyter-widgets/controls",
      "model_module_version": "1.5.0",
      "model_name": "ProgressStyleModel",
      "state": {
       "description_width": "initial"
      }
     },
     "93bbbd90cb8647f88843e5e26071a65c": {
      "model_module": "@jupyter-widgets/controls",
      "model_module_version": "1.5.0",
      "model_name": "IntProgressModel",
      "state": {
       "description": "Epoch 19",
       "layout": "IPY_MODEL_17af4d0213e94cb390215c227ce527a9",
       "max": 83176,
       "style": "IPY_MODEL_bd6985d401bf4aa7840736c07ce208e6",
       "value": 83176
      }
     },
     "93bdb7a9d7464f2e99a6d5f9523a0b4f": {
      "model_module": "@jupyter-widgets/controls",
      "model_module_version": "1.5.0",
      "model_name": "DescriptionStyleModel",
      "state": {
       "description_width": ""
      }
     },
     "9448e85c77ad49a796c9e32c7820880a": {
      "model_module": "@jupyter-widgets/base",
      "model_module_version": "1.2.0",
      "model_name": "LayoutModel",
      "state": {}
     },
     "947bc735126848528a77986168739af7": {
      "model_module": "@jupyter-widgets/controls",
      "model_module_version": "1.5.0",
      "model_name": "HTMLModel",
      "state": {
       "layout": "IPY_MODEL_736549bc717b402ea2c7ede4e02f942e",
       "style": "IPY_MODEL_f33a048a74084baab15cb8d789463803",
       "value": "[loss: 0.021, accuracy: 0.992, val_loss: 0.062, val_accuracy: 0.982] : 100% 83176/83176 [00:26&lt;00:00, 1102.38it/s]"
      }
     },
     "949e7c1809ce437c8410b40b19fe6e09": {
      "model_module": "@jupyter-widgets/base",
      "model_module_version": "1.2.0",
      "model_name": "LayoutModel",
      "state": {}
     },
     "94d79328f2d54aa484c18e7c36e4e0e0": {
      "model_module": "@jupyter-widgets/base",
      "model_module_version": "1.2.0",
      "model_name": "LayoutModel",
      "state": {}
     },
     "950540d9385c429a93ac6803a9d83a02": {
      "model_module": "@jupyter-widgets/base",
      "model_module_version": "1.2.0",
      "model_name": "LayoutModel",
      "state": {}
     },
     "95066b45b77f41abab98aa2f8e4727d8": {
      "model_module": "@jupyter-widgets/base",
      "model_module_version": "1.2.0",
      "model_name": "LayoutModel",
      "state": {}
     },
     "955bd636e44047ea8e3c827b09c467b3": {
      "model_module": "@jupyter-widgets/controls",
      "model_module_version": "1.5.0",
      "model_name": "DescriptionStyleModel",
      "state": {
       "description_width": ""
      }
     },
     "95796ebfc6da48f09e73b0446439c648": {
      "model_module": "@jupyter-widgets/base",
      "model_module_version": "1.2.0",
      "model_name": "LayoutModel",
      "state": {}
     },
     "95dba0afc299480ba8285b01c30a1281": {
      "model_module": "@jupyter-widgets/base",
      "model_module_version": "1.2.0",
      "model_name": "LayoutModel",
      "state": {}
     },
     "95e4e811680d45e3b66a57a2ab7dd5a1": {
      "model_module": "@jupyter-widgets/base",
      "model_module_version": "1.2.0",
      "model_name": "LayoutModel",
      "state": {}
     },
     "96228e28550043e9a336c03e918d985c": {
      "model_module": "@jupyter-widgets/controls",
      "model_module_version": "1.5.0",
      "model_name": "IntProgressModel",
      "state": {
       "description": "Epoch 112",
       "layout": "IPY_MODEL_587c7932b93f463d9d07bd1cf4364c72",
       "max": 83176,
       "style": "IPY_MODEL_863929786e70464d9eda6533819376f3",
       "value": 83176
      }
     },
     "965a99a08ce747a2a272139035a1f7d4": {
      "model_module": "@jupyter-widgets/controls",
      "model_module_version": "1.5.0",
      "model_name": "IntProgressModel",
      "state": {
       "description": "Epoch 80",
       "layout": "IPY_MODEL_cc1ee80ca1b74538bdc87da1dee3d90d",
       "max": 83176,
       "style": "IPY_MODEL_9d12c6d2dd9344f99d9f84dc0507563f",
       "value": 83176
      }
     },
     "973ad639ba944171a26c991f48df95f9": {
      "model_module": "@jupyter-widgets/controls",
      "model_module_version": "1.5.0",
      "model_name": "DescriptionStyleModel",
      "state": {
       "description_width": ""
      }
     },
     "9786ab5e7dbf4becae04167dc2d75c6e": {
      "model_module": "@jupyter-widgets/controls",
      "model_module_version": "1.5.0",
      "model_name": "IntProgressModel",
      "state": {
       "description": "Epoch 74",
       "layout": "IPY_MODEL_d2e743d06487487bb95c8cc627515502",
       "max": 83176,
       "style": "IPY_MODEL_d2f52e3c55104e6e91e957a68792495c",
       "value": 83176
      }
     },
     "97a01397444e4ca295194c3af08c5daf": {
      "model_module": "@jupyter-widgets/controls",
      "model_module_version": "1.5.0",
      "model_name": "HTMLModel",
      "state": {
       "layout": "IPY_MODEL_dfb2e5cf17ca4e0098dea23a5c4e0cde",
       "style": "IPY_MODEL_b028f19471f94adcb0950d3c59a65b67",
       "value": "[loss: 0.045, accuracy: 0.986, val_loss: 0.065, val_accuracy: 0.981] : 100% 83176/83176 [00:24&lt;00:00, 1167.50it/s]"
      }
     },
     "98578f6d6f344e6facfaa5ba177eefef": {
      "model_module": "@jupyter-widgets/controls",
      "model_module_version": "1.5.0",
      "model_name": "ProgressStyleModel",
      "state": {
       "description_width": "initial"
      }
     },
     "988b067018d04c9aacdc7ba9e3184748": {
      "model_module": "@jupyter-widgets/controls",
      "model_module_version": "1.5.0",
      "model_name": "ProgressStyleModel",
      "state": {
       "description_width": "initial"
      }
     },
     "98c588705e9b4bd58b597acbbe4ebd9f": {
      "model_module": "@jupyter-widgets/controls",
      "model_module_version": "1.5.0",
      "model_name": "DescriptionStyleModel",
      "state": {
       "description_width": ""
      }
     },
     "98cc8f761462434b89fe1f075c335f16": {
      "model_module": "@jupyter-widgets/controls",
      "model_module_version": "1.5.0",
      "model_name": "HTMLModel",
      "state": {
       "layout": "IPY_MODEL_d6ec171ebb014041ab0c03c3a5ac2b5c",
       "style": "IPY_MODEL_ec5b91c0b6d34d7b9747543ce42ff673",
       "value": "[loss: 0.018, accuracy: 0.994, val_loss: 0.071, val_accuracy: 0.983] : 100% 83176/83176 [00:26&lt;00:00, 1077.89it/s]"
      }
     },
     "992013590bac43439d9519578aba0cba": {
      "model_module": "@jupyter-widgets/controls",
      "model_module_version": "1.5.0",
      "model_name": "DescriptionStyleModel",
      "state": {
       "description_width": ""
      }
     },
     "996999cd74eb4f3ca54b5b71fc6db8f3": {
      "model_module": "@jupyter-widgets/base",
      "model_module_version": "1.2.0",
      "model_name": "LayoutModel",
      "state": {}
     },
     "9a2486bead5d442fa5561881a73943dc": {
      "model_module": "@jupyter-widgets/controls",
      "model_module_version": "1.5.0",
      "model_name": "HTMLModel",
      "state": {
       "layout": "IPY_MODEL_76f6b9846f494e51a85342fc55fd7aac",
       "style": "IPY_MODEL_a525c736395342ce9f77572da1f4f6b5",
       "value": "[loss: 0.019, accuracy: 0.994, val_loss: 0.057, val_accuracy: 0.987] : 100% 83176/83176 [00:27&lt;00:00, 1185.93it/s]"
      }
     },
     "9a268be66891434ab387a6e13fa9838e": {
      "model_module": "@jupyter-widgets/base",
      "model_module_version": "1.2.0",
      "model_name": "LayoutModel",
      "state": {}
     },
     "9a4ffde65528405db146ef3fdcdb991e": {
      "model_module": "@jupyter-widgets/base",
      "model_module_version": "1.2.0",
      "model_name": "LayoutModel",
      "state": {}
     },
     "9adf0d551b754ee0a11a09abe060af13": {
      "model_module": "@jupyter-widgets/controls",
      "model_module_version": "1.5.0",
      "model_name": "IntProgressModel",
      "state": {
       "description": "Epoch 81",
       "layout": "IPY_MODEL_28f24fec0ed94aec80fff98f5fa83c01",
       "max": 83176,
       "style": "IPY_MODEL_3a85e661d772458c81b787ed1b09461f",
       "value": 83176
      }
     },
     "9b1320dfbe7f4910ab073f3c0d360f53": {
      "model_module": "@jupyter-widgets/controls",
      "model_module_version": "1.5.0",
      "model_name": "HTMLModel",
      "state": {
       "layout": "IPY_MODEL_9fcd28a99d3e4142b5ff998617c19205",
       "style": "IPY_MODEL_65137a2ef6114564a8ed36dbd906b6d5",
       "value": "[loss: 0.028, accuracy: 0.991, val_loss: 0.050, val_accuracy: 0.987] : 100% 83176/83176 [00:24&lt;00:00, 163.69it/s]"
      }
     },
     "9b4352acefc04004963f78021a673086": {
      "model_module": "@jupyter-widgets/controls",
      "model_module_version": "1.5.0",
      "model_name": "HTMLModel",
      "state": {
       "layout": "IPY_MODEL_724bbf5618714fd580c7671cd414d966",
       "style": "IPY_MODEL_9d7c795ac6e24783879327cd43c61df7",
       "value": "[loss: 0.036, accuracy: 0.988, val_loss: 0.056, val_accuracy: 0.985] : 100% 83176/83176 [00:25&lt;00:00, 1123.19it/s]"
      }
     },
     "9bbd52631607477ab9f8786a1fbf7e90": {
      "model_module": "@jupyter-widgets/controls",
      "model_module_version": "1.5.0",
      "model_name": "IntProgressModel",
      "state": {
       "description": "Epoch 77",
       "layout": "IPY_MODEL_e789d24b76154223b592cec687e5e627",
       "max": 83176,
       "style": "IPY_MODEL_b7a9482a16be49328a7074bdfe7026e2",
       "value": 83176
      }
     },
     "9bc3dd13c1fd4ee09f161f47805286f7": {
      "model_module": "@jupyter-widgets/base",
      "model_module_version": "1.2.0",
      "model_name": "LayoutModel",
      "state": {}
     },
     "9c13cff24adb4ad1b128f8c1b4c3c55e": {
      "model_module": "@jupyter-widgets/controls",
      "model_module_version": "1.5.0",
      "model_name": "DescriptionStyleModel",
      "state": {
       "description_width": ""
      }
     },
     "9c1d9f47d9a04650be5a39d2a974c842": {
      "model_module": "@jupyter-widgets/controls",
      "model_module_version": "1.5.0",
      "model_name": "HTMLModel",
      "state": {
       "layout": "IPY_MODEL_48a9cf22787f4c09997ccd6e4f7b3f18",
       "style": "IPY_MODEL_955bd636e44047ea8e3c827b09c467b3",
       "value": "[loss: 0.023, accuracy: 0.992, val_loss: 0.058, val_accuracy: 0.985] : 100% 83176/83176 [00:26&lt;00:00, 1105.93it/s]"
      }
     },
     "9c54b5a4d6884c9a8a746092292cb238": {
      "model_module": "@jupyter-widgets/controls",
      "model_module_version": "1.5.0",
      "model_name": "IntProgressModel",
      "state": {
       "description": "Epoch 94",
       "layout": "IPY_MODEL_662fc4cf424a4aa9b45c316e3ee55425",
       "max": 83176,
       "style": "IPY_MODEL_0180ebd8592f4393847dd9d6a8c91351",
       "value": 83176
      }
     },
     "9cb0558b1ea54d9997d1ed8fd861ccde": {
      "model_module": "@jupyter-widgets/base",
      "model_module_version": "1.2.0",
      "model_name": "LayoutModel",
      "state": {}
     },
     "9cc217c218004c458d33ba7db10bdf59": {
      "model_module": "@jupyter-widgets/base",
      "model_module_version": "1.2.0",
      "model_name": "LayoutModel",
      "state": {}
     },
     "9cef71f3315d4706a118cfa9d9d4f5ad": {
      "model_module": "@jupyter-widgets/controls",
      "model_module_version": "1.5.0",
      "model_name": "ProgressStyleModel",
      "state": {
       "description_width": "initial"
      }
     },
     "9d12c6d2dd9344f99d9f84dc0507563f": {
      "model_module": "@jupyter-widgets/controls",
      "model_module_version": "1.5.0",
      "model_name": "ProgressStyleModel",
      "state": {
       "description_width": "initial"
      }
     },
     "9d7c795ac6e24783879327cd43c61df7": {
      "model_module": "@jupyter-widgets/controls",
      "model_module_version": "1.5.0",
      "model_name": "DescriptionStyleModel",
      "state": {
       "description_width": ""
      }
     },
     "9e0e7387c43f4c33a3cde01de0ec6197": {
      "model_module": "@jupyter-widgets/controls",
      "model_module_version": "1.5.0",
      "model_name": "ProgressStyleModel",
      "state": {
       "description_width": "initial"
      }
     },
     "9e2cd995e31e4e37910906e51b6d07c2": {
      "model_module": "@jupyter-widgets/controls",
      "model_module_version": "1.5.0",
      "model_name": "ProgressStyleModel",
      "state": {
       "description_width": "initial"
      }
     },
     "9e343ae9477242cdb3805717e70ff860": {
      "model_module": "@jupyter-widgets/base",
      "model_module_version": "1.2.0",
      "model_name": "LayoutModel",
      "state": {}
     },
     "9e5d93a461744f8a8ac29c21dac9e510": {
      "model_module": "@jupyter-widgets/controls",
      "model_module_version": "1.5.0",
      "model_name": "ProgressStyleModel",
      "state": {
       "description_width": "initial"
      }
     },
     "9e5f3dd1a02941d78327b5322334c3dc": {
      "model_module": "@jupyter-widgets/controls",
      "model_module_version": "1.5.0",
      "model_name": "IntProgressModel",
      "state": {
       "description": "Epoch 42",
       "layout": "IPY_MODEL_ea698dd1e9af4c449078972cd75b19e6",
       "max": 83176,
       "style": "IPY_MODEL_73b033a97a2a4984812b4e2842ad17d1",
       "value": 83176
      }
     },
     "9e6256dc0e4d4406a77a444f89b1593f": {
      "model_module": "@jupyter-widgets/base",
      "model_module_version": "1.2.0",
      "model_name": "LayoutModel",
      "state": {}
     },
     "9e83edae22b342f8b331ffad62d5cc90": {
      "model_module": "@jupyter-widgets/controls",
      "model_module_version": "1.5.0",
      "model_name": "DescriptionStyleModel",
      "state": {
       "description_width": ""
      }
     },
     "9f4985e2a9c1407d8cef2c72d463355a": {
      "model_module": "@jupyter-widgets/controls",
      "model_module_version": "1.5.0",
      "model_name": "ProgressStyleModel",
      "state": {
       "description_width": "initial"
      }
     },
     "9fcd28a99d3e4142b5ff998617c19205": {
      "model_module": "@jupyter-widgets/base",
      "model_module_version": "1.2.0",
      "model_name": "LayoutModel",
      "state": {}
     },
     "9fcf7c69511c44b1bb3016f9a5da097e": {
      "model_module": "@jupyter-widgets/controls",
      "model_module_version": "1.5.0",
      "model_name": "ProgressStyleModel",
      "state": {
       "description_width": "initial"
      }
     },
     "9fe17994795d4304b7d0a6f26178cdbd": {
      "model_module": "@jupyter-widgets/controls",
      "model_module_version": "1.5.0",
      "model_name": "ProgressStyleModel",
      "state": {
       "description_width": "initial"
      }
     },
     "a0510748621c4dda87ea8dc175b333a5": {
      "model_module": "@jupyter-widgets/controls",
      "model_module_version": "1.5.0",
      "model_name": "DescriptionStyleModel",
      "state": {
       "description_width": ""
      }
     },
     "a0e577b2b20a47eb9aa34f67904b728e": {
      "model_module": "@jupyter-widgets/base",
      "model_module_version": "1.2.0",
      "model_name": "LayoutModel",
      "state": {}
     },
     "a0f65a02ff904317bda80d9e4bc3924d": {
      "model_module": "@jupyter-widgets/controls",
      "model_module_version": "1.5.0",
      "model_name": "DescriptionStyleModel",
      "state": {
       "description_width": ""
      }
     },
     "a108f5b1772d4fcdaf41ebf7965d306b": {
      "model_module": "@jupyter-widgets/controls",
      "model_module_version": "1.5.0",
      "model_name": "ProgressStyleModel",
      "state": {
       "description_width": "initial"
      }
     },
     "a13736f23dd4425893995642c73c9906": {
      "model_module": "@jupyter-widgets/controls",
      "model_module_version": "1.5.0",
      "model_name": "ProgressStyleModel",
      "state": {
       "description_width": "initial"
      }
     },
     "a16d3eb67e7d460fa4e5ddeb18ea611e": {
      "model_module": "@jupyter-widgets/controls",
      "model_module_version": "1.5.0",
      "model_name": "HTMLModel",
      "state": {
       "layout": "IPY_MODEL_81395e26c6094a1cbffdba65ccf5de1b",
       "style": "IPY_MODEL_80cb7019bccb403abb3341036f1252d8",
       "value": "[loss: 0.037, accuracy: 0.988, val_loss: 0.057, val_accuracy: 0.984] : 100% 83176/83176 [00:24&lt;00:00, 1179.78it/s]"
      }
     },
     "a1a47fe8f67049caa6a2ca1526a62e0c": {
      "model_module": "@jupyter-widgets/controls",
      "model_module_version": "1.5.0",
      "model_name": "ProgressStyleModel",
      "state": {
       "description_width": "initial"
      }
     },
     "a224cea67dc4413ab63264572c7d72f4": {
      "model_module": "@jupyter-widgets/base",
      "model_module_version": "1.2.0",
      "model_name": "LayoutModel",
      "state": {}
     },
     "a26cd77d3f0e475b8766e0b4ba7c34e1": {
      "model_module": "@jupyter-widgets/controls",
      "model_module_version": "1.5.0",
      "model_name": "ProgressStyleModel",
      "state": {
       "description_width": "initial"
      }
     },
     "a2d6eb9a9bd0490f936f9f8485cd58cf": {
      "model_module": "@jupyter-widgets/controls",
      "model_module_version": "1.5.0",
      "model_name": "ProgressStyleModel",
      "state": {
       "description_width": "initial"
      }
     },
     "a2ecc2a4cbda48a29656f3043762443a": {
      "model_module": "@jupyter-widgets/controls",
      "model_module_version": "1.5.0",
      "model_name": "ProgressStyleModel",
      "state": {
       "description_width": "initial"
      }
     },
     "a2f04245adc149b7ac5d33343c360381": {
      "model_module": "@jupyter-widgets/base",
      "model_module_version": "1.2.0",
      "model_name": "LayoutModel",
      "state": {}
     },
     "a363f167e1bc4668b410c45cf9ac38f3": {
      "model_module": "@jupyter-widgets/base",
      "model_module_version": "1.2.0",
      "model_name": "LayoutModel",
      "state": {}
     },
     "a37d9b415dfd44659678f599efb0c899": {
      "model_module": "@jupyter-widgets/base",
      "model_module_version": "1.2.0",
      "model_name": "LayoutModel",
      "state": {}
     },
     "a39636d8e0f4436490177dabb0c341d8": {
      "model_module": "@jupyter-widgets/base",
      "model_module_version": "1.2.0",
      "model_name": "LayoutModel",
      "state": {}
     },
     "a412f3b05a5542d8a76d7a47171b528c": {
      "model_module": "@jupyter-widgets/controls",
      "model_module_version": "1.5.0",
      "model_name": "DescriptionStyleModel",
      "state": {
       "description_width": ""
      }
     },
     "a4e00e405e1b418699625fdff6dd0ce9": {
      "model_module": "@jupyter-widgets/controls",
      "model_module_version": "1.5.0",
      "model_name": "IntProgressModel",
      "state": {
       "description": "Epoch 63",
       "layout": "IPY_MODEL_f26c0425944845d6a6925ce6f9174bbe",
       "max": 83176,
       "style": "IPY_MODEL_11e906f5a3544b3a9c52908c5d62dd5b",
       "value": 83176
      }
     },
     "a508487a2b6b4ab68b3012f18af8dff8": {
      "model_module": "@jupyter-widgets/controls",
      "model_module_version": "1.5.0",
      "model_name": "HTMLModel",
      "state": {
       "layout": "IPY_MODEL_4a7522bf59fb41ef9e05eed71f91b57d",
       "style": "IPY_MODEL_52ca4c5095754ac2a1bd3d771182058b",
       "value": "[loss: 0.025, accuracy: 0.992, val_loss: 0.054, val_accuracy: 0.987] : 100% 83176/83176 [00:26&lt;00:00, 1087.53it/s]"
      }
     },
     "a51ee661d01e4d8e8fdd49f507a8b354": {
      "model_module": "@jupyter-widgets/controls",
      "model_module_version": "1.5.0",
      "model_name": "IntProgressModel",
      "state": {
       "description": "Epoch 86",
       "layout": "IPY_MODEL_0723354c2a9447db8fc59b715515bca2",
       "max": 83176,
       "style": "IPY_MODEL_c5e1297833844e0da7158d2d84899c95",
       "value": 83176
      }
     },
     "a525c736395342ce9f77572da1f4f6b5": {
      "model_module": "@jupyter-widgets/controls",
      "model_module_version": "1.5.0",
      "model_name": "DescriptionStyleModel",
      "state": {
       "description_width": ""
      }
     },
     "a643ff25bf89434daeb538231e8361dd": {
      "model_module": "@jupyter-widgets/base",
      "model_module_version": "1.2.0",
      "model_name": "LayoutModel",
      "state": {}
     },
     "a6cf883ddad445808112133d09b81701": {
      "model_module": "@jupyter-widgets/base",
      "model_module_version": "1.2.0",
      "model_name": "LayoutModel",
      "state": {}
     },
     "a7cb58a8cfba494781d8d24c3a04370a": {
      "model_module": "@jupyter-widgets/controls",
      "model_module_version": "1.5.0",
      "model_name": "IntProgressModel",
      "state": {
       "description": "Epoch 126",
       "layout": "IPY_MODEL_b3da913da1e14ddfaf6efd83e4e02931",
       "max": 83176,
       "style": "IPY_MODEL_cc0305362a3c48f3b059753214763814",
       "value": 83176
      }
     },
     "a7d00cbd573f4862af9601914d3dd761": {
      "model_module": "@jupyter-widgets/controls",
      "model_module_version": "1.5.0",
      "model_name": "HTMLModel",
      "state": {
       "layout": "IPY_MODEL_dd7cb243592b4f97bdea0eddea8b4c99",
       "style": "IPY_MODEL_26fd68a6f12d430c95a607be48cb841a",
       "value": "[loss: 0.070, accuracy: 0.979, val_loss: 0.084, val_accuracy: 0.975] : 100% 83176/83176 [00:25&lt;00:00, 654.23it/s]"
      }
     },
     "a7d954a2672740d18656af179f474bb2": {
      "model_module": "@jupyter-widgets/base",
      "model_module_version": "1.2.0",
      "model_name": "LayoutModel",
      "state": {}
     },
     "a807903c8cd5434b821fecc6ce3e8a15": {
      "model_module": "@jupyter-widgets/base",
      "model_module_version": "1.2.0",
      "model_name": "LayoutModel",
      "state": {}
     },
     "a829c6ff0a9a4a3faf7637a549938bdb": {
      "model_module": "@jupyter-widgets/controls",
      "model_module_version": "1.5.0",
      "model_name": "HTMLModel",
      "state": {
       "layout": "IPY_MODEL_45022e62e89846a2b893575fd9201b07",
       "style": "IPY_MODEL_54ad1b4c4d694fb8a137a55532837a95",
       "value": "[loss: 0.021, accuracy: 0.993, val_loss: 0.054, val_accuracy: 0.987] : 100% 83176/83176 [00:26&lt;00:00, 1076.74it/s]"
      }
     },
     "a868590abc7744cfbf164fad9686e3c0": {
      "model_module": "@jupyter-widgets/controls",
      "model_module_version": "1.5.0",
      "model_name": "ProgressStyleModel",
      "state": {
       "description_width": "initial"
      }
     },
     "a86a798a222148f28492b6cf37d5d7fc": {
      "model_module": "@jupyter-widgets/base",
      "model_module_version": "1.2.0",
      "model_name": "LayoutModel",
      "state": {}
     },
     "a86bc5ea78444bb5a6db20d7bc02266c": {
      "model_module": "@jupyter-widgets/base",
      "model_module_version": "1.2.0",
      "model_name": "LayoutModel",
      "state": {}
     },
     "a8c469d9e9e349078c2f9ce053e57406": {
      "model_module": "@jupyter-widgets/base",
      "model_module_version": "1.2.0",
      "model_name": "LayoutModel",
      "state": {}
     },
     "a8f87ecca9534f6db9855f73f7b3d339": {
      "model_module": "@jupyter-widgets/controls",
      "model_module_version": "1.5.0",
      "model_name": "IntProgressModel",
      "state": {
       "description": "Epoch 9",
       "layout": "IPY_MODEL_c29598e2fd6b4e719f048dbe0fdf8b6b",
       "max": 83176,
       "style": "IPY_MODEL_879997ebbba64b11a1b0bf7baed6c677",
       "value": 83176
      }
     },
     "a949c3960fdf499a8da0080e6bdfab0c": {
      "model_module": "@jupyter-widgets/controls",
      "model_module_version": "1.5.0",
      "model_name": "ProgressStyleModel",
      "state": {
       "description_width": "initial"
      }
     },
     "a94ec3038f3e47f2b4b13d992bd45246": {
      "model_module": "@jupyter-widgets/controls",
      "model_module_version": "1.5.0",
      "model_name": "HTMLModel",
      "state": {
       "layout": "IPY_MODEL_24da311631df49a0b3a83c284c77a4a0",
       "style": "IPY_MODEL_3224f04d6e8b43bf8401c6d65982272d",
       "value": "[loss: 0.182, accuracy: 0.949, val_loss: 0.195, val_accuracy: 0.945] : 100% 83176/83176 [00:24&lt;00:00, 668.92it/s]"
      }
     },
     "a9b4305c76534153b007595dbf044457": {
      "model_module": "@jupyter-widgets/controls",
      "model_module_version": "1.5.0",
      "model_name": "HTMLModel",
      "state": {
       "layout": "IPY_MODEL_b24b6c2ada264cd4a734980454a3330d",
       "style": "IPY_MODEL_3fbb901ecd6e40da8c98845c0caaf378",
       "value": "[loss: 0.030, accuracy: 0.990, val_loss: 0.055, val_accuracy: 0.986] : 100% 83176/83176 [00:24&lt;00:00, 438.65it/s]"
      }
     },
     "a9d971f3aa1c4e3eba6171f1d475803a": {
      "model_module": "@jupyter-widgets/controls",
      "model_module_version": "1.5.0",
      "model_name": "DescriptionStyleModel",
      "state": {
       "description_width": ""
      }
     },
     "aa04490b6a26420c81be2b2844e23da6": {
      "model_module": "@jupyter-widgets/base",
      "model_module_version": "1.2.0",
      "model_name": "LayoutModel",
      "state": {}
     },
     "aa2a4466594f49acbccbd383e07beb80": {
      "model_module": "@jupyter-widgets/controls",
      "model_module_version": "1.5.0",
      "model_name": "HTMLModel",
      "state": {
       "layout": "IPY_MODEL_875e28ea5f3e42fa8f78889a5f89bc53",
       "style": "IPY_MODEL_5dd8efe4a8244800a5dcdf630ecf2961",
       "value": "[loss: 0.038, accuracy: 0.988, val_loss: 0.059, val_accuracy: 0.984] : 100% 83176/83176 [00:24&lt;00:00, 981.18it/s]"
      }
     },
     "aa64e43163a7447d8e5a833781e6a24c": {
      "model_module": "@jupyter-widgets/base",
      "model_module_version": "1.2.0",
      "model_name": "LayoutModel",
      "state": {}
     },
     "aa6d063877ec4fceb7a84ac2a8c2cfaa": {
      "model_module": "@jupyter-widgets/base",
      "model_module_version": "1.2.0",
      "model_name": "LayoutModel",
      "state": {}
     },
     "aa7d2a40ac48493082262baf520917fe": {
      "model_module": "@jupyter-widgets/controls",
      "model_module_version": "1.5.0",
      "model_name": "DescriptionStyleModel",
      "state": {
       "description_width": ""
      }
     },
     "aa84d7739bc6490e949b0db4ff8572f3": {
      "model_module": "@jupyter-widgets/controls",
      "model_module_version": "1.5.0",
      "model_name": "HTMLModel",
      "state": {
       "layout": "IPY_MODEL_12819e1642b64e0f81274b16613bcbb4",
       "style": "IPY_MODEL_0081bb073d1e48c3ae30028571b7903c",
       "value": "[loss: 0.024, accuracy: 0.992, val_loss: 0.058, val_accuracy: 0.984] : 100% 83176/83176 [00:26&lt;00:00, 1057.21it/s]"
      }
     },
     "ab491dccb50c43db970ba96d2e5b6267": {
      "model_module": "@jupyter-widgets/controls",
      "model_module_version": "1.5.0",
      "model_name": "IntProgressModel",
      "state": {
       "description": "Epoch 32",
       "layout": "IPY_MODEL_352fe81454e343a29b6fbb81744a39ad",
       "max": 83176,
       "style": "IPY_MODEL_3b27ab62c0a846a28b4a753a74bd40ed",
       "value": 83176
      }
     },
     "ab4eee9e20d2418a87b34828270db51a": {
      "model_module": "@jupyter-widgets/base",
      "model_module_version": "1.2.0",
      "model_name": "LayoutModel",
      "state": {}
     },
     "acbdeded20254d45a30f18a34d31f734": {
      "model_module": "@jupyter-widgets/controls",
      "model_module_version": "1.5.0",
      "model_name": "IntProgressModel",
      "state": {
       "description": "Epoch 111",
       "layout": "IPY_MODEL_e4ab77b7fd3545728dd4529be464348b",
       "max": 83176,
       "style": "IPY_MODEL_2f1e2a02788b456a812a6e8ca0d1d654",
       "value": 83176
      }
     },
     "ace8de3d4ef84881947952e0721be38c": {
      "model_module": "@jupyter-widgets/controls",
      "model_module_version": "1.5.0",
      "model_name": "ProgressStyleModel",
      "state": {
       "description_width": "initial"
      }
     },
     "ad5a949eb4fd4241946d0df07c687545": {
      "model_module": "@jupyter-widgets/base",
      "model_module_version": "1.2.0",
      "model_name": "LayoutModel",
      "state": {}
     },
     "ad681231fa1e4d24ba6787473fecd019": {
      "model_module": "@jupyter-widgets/base",
      "model_module_version": "1.2.0",
      "model_name": "LayoutModel",
      "state": {}
     },
     "ae71b162b0244f838cbac02f6f6e1c96": {
      "model_module": "@jupyter-widgets/controls",
      "model_module_version": "1.5.0",
      "model_name": "IntProgressModel",
      "state": {
       "description": "Epoch 82",
       "layout": "IPY_MODEL_eb9b4f0658e6425599ae64f1f86658f3",
       "max": 83176,
       "style": "IPY_MODEL_f118f47de417496f8cc1d358a24d397e",
       "value": 83176
      }
     },
     "aeb7b2420a2a44b095c280cb6f0582bd": {
      "model_module": "@jupyter-widgets/controls",
      "model_module_version": "1.5.0",
      "model_name": "DescriptionStyleModel",
      "state": {
       "description_width": ""
      }
     },
     "aec48855efed48c99d718b9abb08008f": {
      "model_module": "@jupyter-widgets/base",
      "model_module_version": "1.2.0",
      "model_name": "LayoutModel",
      "state": {}
     },
     "aeeddf3c63ed458a831d7f56c0c47f84": {
      "model_module": "@jupyter-widgets/base",
      "model_module_version": "1.2.0",
      "model_name": "LayoutModel",
      "state": {}
     },
     "af67c7da8dd84c559e0dfa90e1163b52": {
      "model_module": "@jupyter-widgets/base",
      "model_module_version": "1.2.0",
      "model_name": "LayoutModel",
      "state": {}
     },
     "af82669d2f3348e6a34afc7bf4db6183": {
      "model_module": "@jupyter-widgets/controls",
      "model_module_version": "1.5.0",
      "model_name": "DescriptionStyleModel",
      "state": {
       "description_width": ""
      }
     },
     "af9f5976c06e4d1785426b66be4d5d0e": {
      "model_module": "@jupyter-widgets/base",
      "model_module_version": "1.2.0",
      "model_name": "LayoutModel",
      "state": {}
     },
     "aff6e2d02adc4b51b5ad2a81d4337603": {
      "model_module": "@jupyter-widgets/controls",
      "model_module_version": "1.5.0",
      "model_name": "HTMLModel",
      "state": {
       "layout": "IPY_MODEL_deb1f2ddbf75412a80e97c5958e96d18",
       "style": "IPY_MODEL_98c588705e9b4bd58b597acbbe4ebd9f",
       "value": "[loss: 0.034, accuracy: 0.989, val_loss: 0.063, val_accuracy: 0.985] : 100% 83176/83176 [00:25&lt;00:00, 1279.92it/s]"
      }
     },
     "b00d2d15aa8c4aac8f1bd823461284b8": {
      "model_module": "@jupyter-widgets/base",
      "model_module_version": "1.2.0",
      "model_name": "LayoutModel",
      "state": {}
     },
     "b028f19471f94adcb0950d3c59a65b67": {
      "model_module": "@jupyter-widgets/controls",
      "model_module_version": "1.5.0",
      "model_name": "DescriptionStyleModel",
      "state": {
       "description_width": ""
      }
     },
     "b029b152c3854a0c85412074dcf975d9": {
      "model_module": "@jupyter-widgets/base",
      "model_module_version": "1.2.0",
      "model_name": "LayoutModel",
      "state": {}
     },
     "b0aaeed38362493e9e7ba88bd3398c16": {
      "model_module": "@jupyter-widgets/controls",
      "model_module_version": "1.5.0",
      "model_name": "HTMLModel",
      "state": {
       "layout": "IPY_MODEL_342a0763a0424b0ab85335869cc82928",
       "style": "IPY_MODEL_9c13cff24adb4ad1b128f8c1b4c3c55e",
       "value": "[loss: 0.039, accuracy: 0.987, val_loss: 0.059, val_accuracy: 0.982] : 100% 83176/83176 [00:24&lt;00:00, 1449.02it/s]"
      }
     },
     "b0b9f3eca44049bc80b0621a1647fe32": {
      "model_module": "@jupyter-widgets/controls",
      "model_module_version": "1.5.0",
      "model_name": "ProgressStyleModel",
      "state": {
       "description_width": "initial"
      }
     },
     "b0f586b314054d44856c6cebb9abb6ea": {
      "model_module": "@jupyter-widgets/base",
      "model_module_version": "1.2.0",
      "model_name": "LayoutModel",
      "state": {}
     },
     "b14dbe7fba6843f9a793e0d0d51bee8c": {
      "model_module": "@jupyter-widgets/controls",
      "model_module_version": "1.5.0",
      "model_name": "HTMLModel",
      "state": {
       "layout": "IPY_MODEL_7aa06d60454b46d1b7a60d62bf21afd7",
       "style": "IPY_MODEL_502cb6b3df1d47fd966de8ae22d6aea1",
       "value": "[loss: 0.031, accuracy: 0.990, val_loss: 0.064, val_accuracy: 0.983] : 100% 83176/83176 [00:24&lt;00:00, 1154.95it/s]"
      }
     },
     "b152e9a3bbad45a387764a8c53bd5fcc": {
      "model_module": "@jupyter-widgets/base",
      "model_module_version": "1.2.0",
      "model_name": "LayoutModel",
      "state": {}
     },
     "b16cf85dbc544941be67ac072c5ecaae": {
      "model_module": "@jupyter-widgets/base",
      "model_module_version": "1.2.0",
      "model_name": "LayoutModel",
      "state": {}
     },
     "b17fa412a1ea458abed762171a28b547": {
      "model_module": "@jupyter-widgets/controls",
      "model_module_version": "1.5.0",
      "model_name": "ProgressStyleModel",
      "state": {
       "description_width": "initial"
      }
     },
     "b18db0504ab642c0a029bfd46c84d117": {
      "model_module": "@jupyter-widgets/controls",
      "model_module_version": "1.5.0",
      "model_name": "HTMLModel",
      "state": {
       "layout": "IPY_MODEL_b68721040a9a4c2bb5e10b055eb9b99e",
       "style": "IPY_MODEL_78f695bc2d664e3e85e487a78a5b5fa2",
       "value": "[loss: 0.067, accuracy: 0.980, val_loss: 0.084, val_accuracy: 0.976] : 100% 83176/83176 [00:24&lt;00:00, 851.47it/s]"
      }
     },
     "b1b099822d71443988c9dde4db44fc17": {
      "model_module": "@jupyter-widgets/base",
      "model_module_version": "1.2.0",
      "model_name": "LayoutModel",
      "state": {}
     },
     "b1f966dbf69342b7a72e1515d2a9cad5": {
      "model_module": "@jupyter-widgets/base",
      "model_module_version": "1.2.0",
      "model_name": "LayoutModel",
      "state": {}
     },
     "b21208f40dd045c5b213faa63e014bbf": {
      "model_module": "@jupyter-widgets/controls",
      "model_module_version": "1.5.0",
      "model_name": "IntProgressModel",
      "state": {
       "description": "Epoch 123",
       "layout": "IPY_MODEL_20fb7870dbd948a8b65fbfefd62873bb",
       "max": 83176,
       "style": "IPY_MODEL_eed6029de81b449c86c23d7bcea983c1",
       "value": 83176
      }
     },
     "b24b6c2ada264cd4a734980454a3330d": {
      "model_module": "@jupyter-widgets/base",
      "model_module_version": "1.2.0",
      "model_name": "LayoutModel",
      "state": {}
     },
     "b24e3e399c7d4f408e3b4aec8acd7feb": {
      "model_module": "@jupyter-widgets/base",
      "model_module_version": "1.2.0",
      "model_name": "LayoutModel",
      "state": {}
     },
     "b2b21ac4093d4c67875927f54d2da929": {
      "model_module": "@jupyter-widgets/base",
      "model_module_version": "1.2.0",
      "model_name": "LayoutModel",
      "state": {}
     },
     "b2c9803035214fe6a06b0c169426af77": {
      "model_module": "@jupyter-widgets/base",
      "model_module_version": "1.2.0",
      "model_name": "LayoutModel",
      "state": {}
     },
     "b2cc7a882050442ca01577eed144abeb": {
      "model_module": "@jupyter-widgets/controls",
      "model_module_version": "1.5.0",
      "model_name": "ProgressStyleModel",
      "state": {
       "description_width": "initial"
      }
     },
     "b308b3f5e22a4bf7a07f5a2e02d1f0d5": {
      "model_module": "@jupyter-widgets/controls",
      "model_module_version": "1.5.0",
      "model_name": "DescriptionStyleModel",
      "state": {
       "description_width": ""
      }
     },
     "b3196504b8d34db0a8fed2e47936d388": {
      "model_module": "@jupyter-widgets/base",
      "model_module_version": "1.2.0",
      "model_name": "LayoutModel",
      "state": {}
     },
     "b35b3e921dc94a2babfc61f19c3a8725": {
      "model_module": "@jupyter-widgets/controls",
      "model_module_version": "1.5.0",
      "model_name": "HTMLModel",
      "state": {
       "layout": "IPY_MODEL_f722f19b10ef4632ab32b49ebdaafff8",
       "style": "IPY_MODEL_19f4bce712fb451e9b2d7bf1b1eb19f8",
       "value": "[loss: 0.024, accuracy: 0.992, val_loss: 0.061, val_accuracy: 0.986] : 100% 83176/83176 [00:26&lt;00:00, 1090.63it/s]"
      }
     },
     "b3da913da1e14ddfaf6efd83e4e02931": {
      "model_module": "@jupyter-widgets/base",
      "model_module_version": "1.2.0",
      "model_name": "LayoutModel",
      "state": {}
     },
     "b3e1527fa9404f339fa26b8855a6ef52": {
      "model_module": "@jupyter-widgets/base",
      "model_module_version": "1.2.0",
      "model_name": "LayoutModel",
      "state": {}
     },
     "b4c2dbd6a572404c8b9926a5768b950e": {
      "model_module": "@jupyter-widgets/controls",
      "model_module_version": "1.5.0",
      "model_name": "IntProgressModel",
      "state": {
       "description": "Epoch 93",
       "layout": "IPY_MODEL_eb725976ab614861934798d9144f4ed6",
       "max": 83176,
       "style": "IPY_MODEL_572cfcc9ffb24c729f7ce0b90eab7047",
       "value": 83176
      }
     },
     "b55b6ac63b5045f09402a89bc6919e62": {
      "model_module": "@jupyter-widgets/controls",
      "model_module_version": "1.5.0",
      "model_name": "HTMLModel",
      "state": {
       "layout": "IPY_MODEL_123f31e5b93a4b7b9425cfb93c8602e2",
       "style": "IPY_MODEL_13d6c252525540368611b46856a1615f",
       "value": "[loss: 0.019, accuracy: 0.993, val_loss: 0.069, val_accuracy: 0.985] : 100% 83176/83176 [00:26&lt;00:00, 1092.21it/s]"
      }
     },
     "b6134b3aa10143dcbd1f568e94b7b146": {
      "model_module": "@jupyter-widgets/base",
      "model_module_version": "1.2.0",
      "model_name": "LayoutModel",
      "state": {}
     },
     "b64addddb9ed441ebe567589fc54f70b": {
      "model_module": "@jupyter-widgets/controls",
      "model_module_version": "1.5.0",
      "model_name": "HTMLModel",
      "state": {
       "layout": "IPY_MODEL_73abc674c3f04e8db21046756b1734bd",
       "style": "IPY_MODEL_bafc4f6b3d7447b08d35d6bffb1ae9ca",
       "value": "[loss: 0.485, accuracy: 0.856, val_loss: 0.494, val_accuracy: 0.847] : 100% 83176/83176 [00:24&lt;00:00, 660.37it/s]"
      }
     },
     "b68721040a9a4c2bb5e10b055eb9b99e": {
      "model_module": "@jupyter-widgets/base",
      "model_module_version": "1.2.0",
      "model_name": "LayoutModel",
      "state": {}
     },
     "b6dccfc9b8d04acbbed0b891601b37fb": {
      "model_module": "@jupyter-widgets/controls",
      "model_module_version": "1.5.0",
      "model_name": "IntProgressModel",
      "state": {
       "description": "Epoch 138",
       "layout": "IPY_MODEL_d3f3f8b0a99b4f478d0c8fae701375e8",
       "max": 83176,
       "style": "IPY_MODEL_440b54295269485697899d60d3514f17",
       "value": 83176
      }
     },
     "b7037d7c5a24455c9a7ee69275d6e7fe": {
      "model_module": "@jupyter-widgets/controls",
      "model_module_version": "1.5.0",
      "model_name": "DescriptionStyleModel",
      "state": {
       "description_width": ""
      }
     },
     "b74bd994ba0f4d778c4e8bde1a76fb9c": {
      "model_module": "@jupyter-widgets/base",
      "model_module_version": "1.2.0",
      "model_name": "LayoutModel",
      "state": {}
     },
     "b79a2f519b824dad95be8d3948bf647d": {
      "model_module": "@jupyter-widgets/controls",
      "model_module_version": "1.5.0",
      "model_name": "HTMLModel",
      "state": {
       "layout": "IPY_MODEL_7dfdc916f33a40709bca601b71f0a488",
       "style": "IPY_MODEL_50eea15fee5d42ed961e9240fcf437e9",
       "value": "[loss: 0.049, accuracy: 0.985, val_loss: 0.072, val_accuracy: 0.980] : 100% 83176/83176 [00:24&lt;00:00, 867.27it/s]"
      }
     },
     "b7a9482a16be49328a7074bdfe7026e2": {
      "model_module": "@jupyter-widgets/controls",
      "model_module_version": "1.5.0",
      "model_name": "ProgressStyleModel",
      "state": {
       "description_width": "initial"
      }
     },
     "b7ab0de29e014f75b546d216102536d2": {
      "model_module": "@jupyter-widgets/base",
      "model_module_version": "1.2.0",
      "model_name": "LayoutModel",
      "state": {}
     },
     "b7ace96339c24495bd05ade9047f86a9": {
      "model_module": "@jupyter-widgets/base",
      "model_module_version": "1.2.0",
      "model_name": "LayoutModel",
      "state": {}
     },
     "b7efcd6371eb4aababb2130e427cb459": {
      "model_module": "@jupyter-widgets/base",
      "model_module_version": "1.2.0",
      "model_name": "LayoutModel",
      "state": {}
     },
     "b8343870c550486bb86b0b1513037ceb": {
      "model_module": "@jupyter-widgets/base",
      "model_module_version": "1.2.0",
      "model_name": "LayoutModel",
      "state": {}
     },
     "b84be23b22fa484f8d997356b14eddc7": {
      "model_module": "@jupyter-widgets/controls",
      "model_module_version": "1.5.0",
      "model_name": "IntProgressModel",
      "state": {
       "description": "Epoch 90",
       "layout": "IPY_MODEL_1fe9cf210cab498c985bc5555d0d3413",
       "max": 83176,
       "style": "IPY_MODEL_f0e5675a2ed642c6b3e496ad7dec0661",
       "value": 83176
      }
     },
     "b8ea33e6610c4461b6a7bf7fb51694f0": {
      "model_module": "@jupyter-widgets/controls",
      "model_module_version": "1.5.0",
      "model_name": "DescriptionStyleModel",
      "state": {
       "description_width": ""
      }
     },
     "b946209eb7024c9cae9446e8455e3a6d": {
      "model_module": "@jupyter-widgets/base",
      "model_module_version": "1.2.0",
      "model_name": "LayoutModel",
      "state": {}
     },
     "b9ab0c076bc54c13b6a92405da5785b6": {
      "model_module": "@jupyter-widgets/base",
      "model_module_version": "1.2.0",
      "model_name": "LayoutModel",
      "state": {}
     },
     "ba068f43a7f3409e971438989b964c6f": {
      "model_module": "@jupyter-widgets/base",
      "model_module_version": "1.2.0",
      "model_name": "LayoutModel",
      "state": {}
     },
     "baa6f1eb783d44e79cc13cdef47e28ba": {
      "model_module": "@jupyter-widgets/controls",
      "model_module_version": "1.5.0",
      "model_name": "IntProgressModel",
      "state": {
       "description": "Epoch 118",
       "layout": "IPY_MODEL_730c0937cb394fc18883b0a2dbc0d761",
       "max": 83176,
       "style": "IPY_MODEL_9fe17994795d4304b7d0a6f26178cdbd",
       "value": 83176
      }
     },
     "bafc4f6b3d7447b08d35d6bffb1ae9ca": {
      "model_module": "@jupyter-widgets/controls",
      "model_module_version": "1.5.0",
      "model_name": "DescriptionStyleModel",
      "state": {
       "description_width": ""
      }
     },
     "bc43c8153ff24c30a9d047c2ae80db11": {
      "model_module": "@jupyter-widgets/base",
      "model_module_version": "1.2.0",
      "model_name": "LayoutModel",
      "state": {}
     },
     "bc96a37d508f4cd09a8b93731d802d8d": {
      "model_module": "@jupyter-widgets/base",
      "model_module_version": "1.2.0",
      "model_name": "LayoutModel",
      "state": {}
     },
     "bccc2d235e134842941ecfeb4e90d248": {
      "model_module": "@jupyter-widgets/controls",
      "model_module_version": "1.5.0",
      "model_name": "HTMLModel",
      "state": {
       "layout": "IPY_MODEL_888284caa9c94b92972242ffbdf4a652",
       "style": "IPY_MODEL_fa6368e1ea2a408fb93ad50715c166f1",
       "value": "[loss: 0.029, accuracy: 0.991, val_loss: 0.052, val_accuracy: 0.987] : 100% 83176/83176 [00:24&lt;00:00, 1016.58it/s]"
      }
     },
     "bd2f74ce4690402e8d7de6fe2b1507b7": {
      "model_module": "@jupyter-widgets/base",
      "model_module_version": "1.2.0",
      "model_name": "LayoutModel",
      "state": {}
     },
     "bd562463a3f74e878c4ff5369dc0393f": {
      "model_module": "@jupyter-widgets/base",
      "model_module_version": "1.2.0",
      "model_name": "LayoutModel",
      "state": {}
     },
     "bd6985d401bf4aa7840736c07ce208e6": {
      "model_module": "@jupyter-widgets/controls",
      "model_module_version": "1.5.0",
      "model_name": "ProgressStyleModel",
      "state": {
       "description_width": "initial"
      }
     },
     "bdacdcc1eccc486aa067e03f1e8d2698": {
      "model_module": "@jupyter-widgets/controls",
      "model_module_version": "1.5.0",
      "model_name": "DescriptionStyleModel",
      "state": {
       "description_width": ""
      }
     },
     "bde2ac74c3bd43d38964bc4e213dad86": {
      "model_module": "@jupyter-widgets/controls",
      "model_module_version": "1.5.0",
      "model_name": "HTMLModel",
      "state": {
       "layout": "IPY_MODEL_28b50eda83194f539d5f41bc7916306d",
       "style": "IPY_MODEL_a9d971f3aa1c4e3eba6171f1d475803a",
       "value": "[loss: 0.029, accuracy: 0.991, val_loss: 0.057, val_accuracy: 0.985] : 100% 83176/83176 [00:24&lt;00:00, 1006.21it/s]"
      }
     },
     "bdfab6c17de44d498e7e13ece61b78f2": {
      "model_module": "@jupyter-widgets/controls",
      "model_module_version": "1.5.0",
      "model_name": "IntProgressModel",
      "state": {
       "description": "Epoch 24",
       "layout": "IPY_MODEL_b8343870c550486bb86b0b1513037ceb",
       "max": 83176,
       "style": "IPY_MODEL_33ab617f710e4fdd81bde6fb3ba663ad",
       "value": 83176
      }
     },
     "be1a406fabf94d13ad5bc693accc812e": {
      "model_module": "@jupyter-widgets/controls",
      "model_module_version": "1.5.0",
      "model_name": "HTMLModel",
      "state": {
       "layout": "IPY_MODEL_4d74425b80ee4a009f444411ae70c1f1",
       "style": "IPY_MODEL_51f93a148ec641678ad500cb7a0f06dd",
       "value": "[loss: 0.059, accuracy: 0.982, val_loss: 0.074, val_accuracy: 0.978] : 100% 83176/83176 [00:24&lt;00:00, 1024.76it/s]"
      }
     },
     "be4d8291055944c190b92bf1ac4624af": {
      "model_module": "@jupyter-widgets/controls",
      "model_module_version": "1.5.0",
      "model_name": "IntProgressModel",
      "state": {
       "description": "Epoch 17",
       "layout": "IPY_MODEL_616d655f488047088a360aa60f313e05",
       "max": 83176,
       "style": "IPY_MODEL_df14978c49664982a2b1e7b28a32c58f",
       "value": 83176
      }
     },
     "be797cab6c444497bf19fa1143cb38f7": {
      "model_module": "@jupyter-widgets/controls",
      "model_module_version": "1.5.0",
      "model_name": "IntProgressModel",
      "state": {
       "description": "Epoch 103",
       "layout": "IPY_MODEL_b946209eb7024c9cae9446e8455e3a6d",
       "max": 83176,
       "style": "IPY_MODEL_08975540d29f4d74a994f00bd18633e1",
       "value": 83176
      }
     },
     "be81ac32303b45758d2f91dd5076b433": {
      "model_module": "@jupyter-widgets/controls",
      "model_module_version": "1.5.0",
      "model_name": "IntProgressModel",
      "state": {
       "description": "Epoch 0",
       "layout": "IPY_MODEL_1acd8905362f49b58db55dae44cd4d19",
       "max": 83176,
       "style": "IPY_MODEL_cc9abe6a209244548f39708e712fb498",
       "value": 83176
      }
     },
     "bee975c4a4c940a2a66e018009ebabb7": {
      "model_module": "@jupyter-widgets/controls",
      "model_module_version": "1.5.0",
      "model_name": "DescriptionStyleModel",
      "state": {
       "description_width": ""
      }
     },
     "bf0c847b9d224fbd827588854c517526": {
      "model_module": "@jupyter-widgets/base",
      "model_module_version": "1.2.0",
      "model_name": "LayoutModel",
      "state": {}
     },
     "bf44f2f385ed40e287916c96c1c15027": {
      "model_module": "@jupyter-widgets/controls",
      "model_module_version": "1.5.0",
      "model_name": "HTMLModel",
      "state": {
       "layout": "IPY_MODEL_74da1d8196b642b69d059b218e14c945",
       "style": "IPY_MODEL_6bf49d9fb23042c1aa41439a6720bff5",
       "value": "[loss: 0.121, accuracy: 0.966, val_loss: 0.137, val_accuracy: 0.962] : 100% 83176/83176 [00:24&lt;00:00, 436.22it/s]"
      }
     },
     "bf536e54b14d4b208e3c5cf63a69d2e6": {
      "model_module": "@jupyter-widgets/controls",
      "model_module_version": "1.5.0",
      "model_name": "DescriptionStyleModel",
      "state": {
       "description_width": ""
      }
     },
     "bfbd401193fb43ebabce8572fe6a6fb4": {
      "model_module": "@jupyter-widgets/controls",
      "model_module_version": "1.5.0",
      "model_name": "DescriptionStyleModel",
      "state": {
       "description_width": ""
      }
     },
     "c005a51481114e8a8070e1c0daa13c4c": {
      "model_module": "@jupyter-widgets/controls",
      "model_module_version": "1.5.0",
      "model_name": "DescriptionStyleModel",
      "state": {
       "description_width": ""
      }
     },
     "c011ed7fe4734919948b3542e1049d40": {
      "model_module": "@jupyter-widgets/base",
      "model_module_version": "1.2.0",
      "model_name": "LayoutModel",
      "state": {}
     },
     "c031e9e16a1442bcb3a496c3f3884279": {
      "model_module": "@jupyter-widgets/controls",
      "model_module_version": "1.5.0",
      "model_name": "IntProgressModel",
      "state": {
       "description": "Epoch 105",
       "layout": "IPY_MODEL_bc96a37d508f4cd09a8b93731d802d8d",
       "max": 83176,
       "style": "IPY_MODEL_b17fa412a1ea458abed762171a28b547",
       "value": 83176
      }
     },
     "c046ce6ead9344f9922147917329d86e": {
      "model_module": "@jupyter-widgets/controls",
      "model_module_version": "1.5.0",
      "model_name": "HBoxModel",
      "state": {
       "children": [
        "IPY_MODEL_f822578cf2aa47ccb13872a1f432c3d4",
        "IPY_MODEL_113365aab36544b79281f7b88030350c"
       ],
       "layout": "IPY_MODEL_81f2928e4982451ba91622e474e01118"
      }
     },
     "c08eacd78a5c4717a738c8045e949605": {
      "model_module": "@jupyter-widgets/base",
      "model_module_version": "1.2.0",
      "model_name": "LayoutModel",
      "state": {}
     },
     "c095064cc9c047d7bbd6200a58c76aea": {
      "model_module": "@jupyter-widgets/base",
      "model_module_version": "1.2.0",
      "model_name": "LayoutModel",
      "state": {}
     },
     "c0a9e927d01d407a9281877b7054d64c": {
      "model_module": "@jupyter-widgets/base",
      "model_module_version": "1.2.0",
      "model_name": "LayoutModel",
      "state": {}
     },
     "c0ea47aaf3a84958986146f48c11dc5b": {
      "model_module": "@jupyter-widgets/base",
      "model_module_version": "1.2.0",
      "model_name": "LayoutModel",
      "state": {}
     },
     "c100b7abe8744e43b7fff0a0b6a1ffbd": {
      "model_module": "@jupyter-widgets/base",
      "model_module_version": "1.2.0",
      "model_name": "LayoutModel",
      "state": {}
     },
     "c167d52c0714403aae1327fac1ea07dd": {
      "model_module": "@jupyter-widgets/base",
      "model_module_version": "1.2.0",
      "model_name": "LayoutModel",
      "state": {}
     },
     "c16c913da9374432b84de80b4f646e2d": {
      "model_module": "@jupyter-widgets/base",
      "model_module_version": "1.2.0",
      "model_name": "LayoutModel",
      "state": {}
     },
     "c1b9fa6ac7d545ffbdaef09263fef447": {
      "model_module": "@jupyter-widgets/controls",
      "model_module_version": "1.5.0",
      "model_name": "ProgressStyleModel",
      "state": {
       "description_width": "initial"
      }
     },
     "c1c725348b1e4fc6b294b8495b845564": {
      "model_module": "@jupyter-widgets/controls",
      "model_module_version": "1.5.0",
      "model_name": "DescriptionStyleModel",
      "state": {
       "description_width": ""
      }
     },
     "c21368f16af84902be2a6d71b6562051": {
      "model_module": "@jupyter-widgets/controls",
      "model_module_version": "1.5.0",
      "model_name": "HTMLModel",
      "state": {
       "layout": "IPY_MODEL_4fd6fecc510843e5a8c2f2237f587944",
       "style": "IPY_MODEL_781f9ac06036412d9b74c8b69ecca9b9",
       "value": "[loss: 0.026, accuracy: 0.992, val_loss: 0.058, val_accuracy: 0.984] : 100% 83176/83176 [00:24&lt;00:00, 423.97it/s]"
      }
     },
     "c22b200d34f4468c8d15fef5b19a6611": {
      "model_module": "@jupyter-widgets/controls",
      "model_module_version": "1.5.0",
      "model_name": "ProgressStyleModel",
      "state": {
       "description_width": "initial"
      }
     },
     "c255fd09f48f4ef1a4c95e699a21fd76": {
      "model_module": "@jupyter-widgets/base",
      "model_module_version": "1.2.0",
      "model_name": "LayoutModel",
      "state": {}
     },
     "c267db947c384bae93ac53a81b8ecee2": {
      "model_module": "@jupyter-widgets/base",
      "model_module_version": "1.2.0",
      "model_name": "LayoutModel",
      "state": {}
     },
     "c29598e2fd6b4e719f048dbe0fdf8b6b": {
      "model_module": "@jupyter-widgets/base",
      "model_module_version": "1.2.0",
      "model_name": "LayoutModel",
      "state": {}
     },
     "c2a41b1e3cc84b089e2ad8eac7f72a0f": {
      "model_module": "@jupyter-widgets/base",
      "model_module_version": "1.2.0",
      "model_name": "LayoutModel",
      "state": {}
     },
     "c2ba0213971e490fbb320a9bf9ae79cf": {
      "model_module": "@jupyter-widgets/controls",
      "model_module_version": "1.5.0",
      "model_name": "IntProgressModel",
      "state": {
       "description": "Epoch 49",
       "layout": "IPY_MODEL_88eda3f638994960bebe0bf81ad4eeec",
       "max": 83176,
       "style": "IPY_MODEL_ebac4f7a25934cb786588bb6100ac406",
       "value": 83176
      }
     },
     "c32432bdbe6244aa80368a02b88264aa": {
      "model_module": "@jupyter-widgets/controls",
      "model_module_version": "1.5.0",
      "model_name": "IntProgressModel",
      "state": {
       "description": "Epoch 55",
       "layout": "IPY_MODEL_1a2356a796394b7cb9e41be270d71cc7",
       "max": 83176,
       "style": "IPY_MODEL_a1a47fe8f67049caa6a2ca1526a62e0c",
       "value": 83176
      }
     },
     "c4bcd3d57c744ddd89bca47fc28650fd": {
      "model_module": "@jupyter-widgets/base",
      "model_module_version": "1.2.0",
      "model_name": "LayoutModel",
      "state": {}
     },
     "c4ca81cfc48f4db3a33e61b12f70d6d4": {
      "model_module": "@jupyter-widgets/base",
      "model_module_version": "1.2.0",
      "model_name": "LayoutModel",
      "state": {}
     },
     "c4d6e413669e4765b6d5760a3bfb19ed": {
      "model_module": "@jupyter-widgets/base",
      "model_module_version": "1.2.0",
      "model_name": "LayoutModel",
      "state": {}
     },
     "c508b37da7254b0eb195948881f4471e": {
      "model_module": "@jupyter-widgets/base",
      "model_module_version": "1.2.0",
      "model_name": "LayoutModel",
      "state": {}
     },
     "c5561316c6134173b16c513803f03d10": {
      "model_module": "@jupyter-widgets/base",
      "model_module_version": "1.2.0",
      "model_name": "LayoutModel",
      "state": {}
     },
     "c557d8f4df00488386889ae5bce038b6": {
      "model_module": "@jupyter-widgets/controls",
      "model_module_version": "1.5.0",
      "model_name": "ProgressStyleModel",
      "state": {
       "description_width": "initial"
      }
     },
     "c59096d1a3704678857ccfc11279ce9f": {
      "model_module": "@jupyter-widgets/base",
      "model_module_version": "1.2.0",
      "model_name": "LayoutModel",
      "state": {}
     },
     "c5dbd96488c64515b55f5d09416bb9c3": {
      "model_module": "@jupyter-widgets/base",
      "model_module_version": "1.2.0",
      "model_name": "LayoutModel",
      "state": {}
     },
     "c5e1297833844e0da7158d2d84899c95": {
      "model_module": "@jupyter-widgets/controls",
      "model_module_version": "1.5.0",
      "model_name": "ProgressStyleModel",
      "state": {
       "description_width": "initial"
      }
     },
     "c61b11bf92d54f02ac5f9fd2f3e327eb": {
      "model_module": "@jupyter-widgets/base",
      "model_module_version": "1.2.0",
      "model_name": "LayoutModel",
      "state": {}
     },
     "c6bccee258884ea0a229c234ed2141c6": {
      "model_module": "@jupyter-widgets/controls",
      "model_module_version": "1.5.0",
      "model_name": "HTMLModel",
      "state": {
       "layout": "IPY_MODEL_c2a41b1e3cc84b089e2ad8eac7f72a0f",
       "style": "IPY_MODEL_b8ea33e6610c4461b6a7bf7fb51694f0",
       "value": "[loss: 0.033, accuracy: 0.989, val_loss: 0.060, val_accuracy: 0.985] : 100% 83176/83176 [00:25&lt;00:00, 155.07it/s]"
      }
     },
     "c6c5c59f0dd44526ba0a5483ee87e721": {
      "model_module": "@jupyter-widgets/controls",
      "model_module_version": "1.5.0",
      "model_name": "IntProgressModel",
      "state": {
       "description": "Epoch 12",
       "layout": "IPY_MODEL_b00d2d15aa8c4aac8f1bd823461284b8",
       "max": 83176,
       "style": "IPY_MODEL_28adb1b6c17c423ea972fda3489cd415",
       "value": 83176
      }
     },
     "c6d6c0c5c5e7442ea607547a9ae64141": {
      "model_module": "@jupyter-widgets/controls",
      "model_module_version": "1.5.0",
      "model_name": "DescriptionStyleModel",
      "state": {
       "description_width": ""
      }
     },
     "c6e69c65958b48c3a39773cae1852982": {
      "model_module": "@jupyter-widgets/controls",
      "model_module_version": "1.5.0",
      "model_name": "DescriptionStyleModel",
      "state": {
       "description_width": ""
      }
     },
     "c707b8ba5ec74336aa2c612d8b26d51f": {
      "model_module": "@jupyter-widgets/controls",
      "model_module_version": "1.5.0",
      "model_name": "DescriptionStyleModel",
      "state": {
       "description_width": ""
      }
     },
     "c77b1730dffa43cb8277a7a5ef37906a": {
      "model_module": "@jupyter-widgets/controls",
      "model_module_version": "1.5.0",
      "model_name": "HTMLModel",
      "state": {
       "layout": "IPY_MODEL_2fe57a558a0b49efb6781aa201522d6f",
       "style": "IPY_MODEL_542f1bc4d9284c64b87a489e2ae27269",
       "value": "[loss: 0.025, accuracy: 0.992, val_loss: 0.065, val_accuracy: 0.984] : 100% 83176/83176 [00:26&lt;00:00, 1104.91it/s]"
      }
     },
     "c8129450cab24e4a81d6d83c350f1bf2": {
      "model_module": "@jupyter-widgets/base",
      "model_module_version": "1.2.0",
      "model_name": "LayoutModel",
      "state": {}
     },
     "c81abe8d18254d8cbdc7ab9913532894": {
      "model_module": "@jupyter-widgets/base",
      "model_module_version": "1.2.0",
      "model_name": "LayoutModel",
      "state": {}
     },
     "c821f16098a5486da1003ee4fa20e1d4": {
      "model_module": "@jupyter-widgets/base",
      "model_module_version": "1.2.0",
      "model_name": "LayoutModel",
      "state": {}
     },
     "c88f1a5efae8490cbbf29af9efa061a0": {
      "model_module": "@jupyter-widgets/base",
      "model_module_version": "1.2.0",
      "model_name": "LayoutModel",
      "state": {}
     },
     "c8aa58cf023646ce8dd75529277f8647": {
      "model_module": "@jupyter-widgets/controls",
      "model_module_version": "1.5.0",
      "model_name": "HTMLModel",
      "state": {
       "layout": "IPY_MODEL_e12a4658d07e4aacbfb1d40d0cb1656b",
       "style": "IPY_MODEL_4b392fe387ae4996b098356eceafa569",
       "value": "[loss: 0.019, accuracy: 0.994, val_loss: 0.062, val_accuracy: 0.984] : 100% 83176/83176 [00:26&lt;00:00, 922.41it/s]"
      }
     },
     "c8b5685f51b34195b20a4c40bbd384ec": {
      "model_module": "@jupyter-widgets/controls",
      "model_module_version": "1.5.0",
      "model_name": "ProgressStyleModel",
      "state": {
       "description_width": "initial"
      }
     },
     "c8bb84b100e74331b818c801432590bd": {
      "model_module": "@jupyter-widgets/base",
      "model_module_version": "1.2.0",
      "model_name": "LayoutModel",
      "state": {}
     },
     "c9cd27a99beb43628b57efaf60e7ccf1": {
      "model_module": "@jupyter-widgets/base",
      "model_module_version": "1.2.0",
      "model_name": "LayoutModel",
      "state": {}
     },
     "c9d19aae702646af88b9547abbcf064b": {
      "model_module": "@jupyter-widgets/base",
      "model_module_version": "1.2.0",
      "model_name": "LayoutModel",
      "state": {}
     },
     "ca0b2846a0e5471f9f20916e532eff1b": {
      "model_module": "@jupyter-widgets/base",
      "model_module_version": "1.2.0",
      "model_name": "LayoutModel",
      "state": {}
     },
     "ca4529b9dad048368be9b3a3ef4decaa": {
      "model_module": "@jupyter-widgets/controls",
      "model_module_version": "1.5.0",
      "model_name": "HTMLModel",
      "state": {
       "layout": "IPY_MODEL_09fd46d2bd4f4217931033ec3e5fccaf",
       "style": "IPY_MODEL_cc6898e5e3c1448eb5853af13dc96555",
       "value": "[loss: 0.069, accuracy: 0.980, val_loss: 0.089, val_accuracy: 0.974] : 100% 83176/83176 [00:24&lt;00:00, 1311.14it/s]"
      }
     },
     "cab4eada546f4bb4ae4d03451da07fa6": {
      "model_module": "@jupyter-widgets/controls",
      "model_module_version": "1.5.0",
      "model_name": "ProgressStyleModel",
      "state": {
       "description_width": "initial"
      }
     },
     "cc0305362a3c48f3b059753214763814": {
      "model_module": "@jupyter-widgets/controls",
      "model_module_version": "1.5.0",
      "model_name": "ProgressStyleModel",
      "state": {
       "description_width": "initial"
      }
     },
     "cc1ee80ca1b74538bdc87da1dee3d90d": {
      "model_module": "@jupyter-widgets/base",
      "model_module_version": "1.2.0",
      "model_name": "LayoutModel",
      "state": {}
     },
     "cc450652534447488da60c9cff0d10a8": {
      "model_module": "@jupyter-widgets/base",
      "model_module_version": "1.2.0",
      "model_name": "LayoutModel",
      "state": {}
     },
     "cc6898e5e3c1448eb5853af13dc96555": {
      "model_module": "@jupyter-widgets/controls",
      "model_module_version": "1.5.0",
      "model_name": "DescriptionStyleModel",
      "state": {
       "description_width": ""
      }
     },
     "cc879274f43442a79cd9055b46872b9c": {
      "model_module": "@jupyter-widgets/controls",
      "model_module_version": "1.5.0",
      "model_name": "HTMLModel",
      "state": {
       "layout": "IPY_MODEL_dd6afa6ffa044525a6349a9be51cd0e4",
       "style": "IPY_MODEL_4a9650fdfe714c37819cab352d59d50f",
       "value": "[loss: 0.084, accuracy: 0.976, val_loss: 0.091, val_accuracy: 0.975] : 100% 83176/83176 [00:24&lt;00:00, 859.23it/s]"
      }
     },
     "cc8e8c27e69b47cdaf9ae2f73a26ecf6": {
      "model_module": "@jupyter-widgets/base",
      "model_module_version": "1.2.0",
      "model_name": "LayoutModel",
      "state": {}
     },
     "cc9abe6a209244548f39708e712fb498": {
      "model_module": "@jupyter-widgets/controls",
      "model_module_version": "1.5.0",
      "model_name": "ProgressStyleModel",
      "state": {
       "description_width": "initial"
      }
     },
     "cce1b73d794d433b9c9295e4846ada28": {
      "model_module": "@jupyter-widgets/controls",
      "model_module_version": "1.5.0",
      "model_name": "ProgressStyleModel",
      "state": {
       "description_width": "initial"
      }
     },
     "cd22752b2f1045d09cc2710a4882aaaa": {
      "model_module": "@jupyter-widgets/controls",
      "model_module_version": "1.5.0",
      "model_name": "IntProgressModel",
      "state": {
       "description": "Epoch 41",
       "layout": "IPY_MODEL_fc40a1cf10c04615b7b36ec53e422cd3",
       "max": 83176,
       "style": "IPY_MODEL_a949c3960fdf499a8da0080e6bdfab0c",
       "value": 83176
      }
     },
     "cd29ee61b869449b8661146e8fe1e1c1": {
      "model_module": "@jupyter-widgets/controls",
      "model_module_version": "1.5.0",
      "model_name": "IntProgressModel",
      "state": {
       "description": "Epoch 64",
       "layout": "IPY_MODEL_e34bb17564e84d2cbc4007f0fda64486",
       "max": 83176,
       "style": "IPY_MODEL_2e26e52955a043799f9af96c92abbba5",
       "value": 83176
      }
     },
     "cd2fb54738314c558127b7cdb81d65ed": {
      "model_module": "@jupyter-widgets/controls",
      "model_module_version": "1.5.0",
      "model_name": "DescriptionStyleModel",
      "state": {
       "description_width": ""
      }
     },
     "cd34f4c386054483ac5301ee6db60491": {
      "model_module": "@jupyter-widgets/base",
      "model_module_version": "1.2.0",
      "model_name": "LayoutModel",
      "state": {}
     },
     "cdb5c7b9758049fdbbd5c2718e1a1400": {
      "model_module": "@jupyter-widgets/base",
      "model_module_version": "1.2.0",
      "model_name": "LayoutModel",
      "state": {}
     },
     "ce6647ebc88e42bea1d0ff47450e115a": {
      "model_module": "@jupyter-widgets/base",
      "model_module_version": "1.2.0",
      "model_name": "LayoutModel",
      "state": {}
     },
     "cf32b2dff4244c2181d3da560a61e55a": {
      "model_module": "@jupyter-widgets/base",
      "model_module_version": "1.2.0",
      "model_name": "LayoutModel",
      "state": {}
     },
     "cf5136cb0bf64267aec9f2b16ccf0c63": {
      "model_module": "@jupyter-widgets/controls",
      "model_module_version": "1.5.0",
      "model_name": "DescriptionStyleModel",
      "state": {
       "description_width": ""
      }
     },
     "cfbc0aeaee8e4b1796f56e6a90241b12": {
      "model_module": "@jupyter-widgets/base",
      "model_module_version": "1.2.0",
      "model_name": "LayoutModel",
      "state": {}
     },
     "d0a61edb35714100b3d265a84f0269d3": {
      "model_module": "@jupyter-widgets/base",
      "model_module_version": "1.2.0",
      "model_name": "LayoutModel",
      "state": {}
     },
     "d0c21114ee204981af581149cbdda41a": {
      "model_module": "@jupyter-widgets/controls",
      "model_module_version": "1.5.0",
      "model_name": "HTMLModel",
      "state": {
       "layout": "IPY_MODEL_355b1b00bf834b10ba25a788855ac97f",
       "style": "IPY_MODEL_d531922c0c0b410fb3c2fc689ed4aa6f",
       "value": "[loss: 0.053, accuracy: 0.983, val_loss: 0.062, val_accuracy: 0.982] : 100% 83176/83176 [00:24&lt;00:00, 1182.18it/s]"
      }
     },
     "d1475e99c86c4b0a8e1a141250e60fe2": {
      "model_module": "@jupyter-widgets/base",
      "model_module_version": "1.2.0",
      "model_name": "LayoutModel",
      "state": {}
     },
     "d18350edfe0441859fd1de52a085f7a7": {
      "model_module": "@jupyter-widgets/controls",
      "model_module_version": "1.5.0",
      "model_name": "IntProgressModel",
      "state": {
       "description": "Epoch 95",
       "layout": "IPY_MODEL_4dac72147ba645dca2f1569fd1dd0de0",
       "max": 83176,
       "style": "IPY_MODEL_ace8de3d4ef84881947952e0721be38c",
       "value": 83176
      }
     },
     "d1b8bd6c85304744982cd11481465b8e": {
      "model_module": "@jupyter-widgets/controls",
      "model_module_version": "1.5.0",
      "model_name": "IntProgressModel",
      "state": {
       "description": "Epoch 125",
       "layout": "IPY_MODEL_95e4e811680d45e3b66a57a2ab7dd5a1",
       "max": 83176,
       "style": "IPY_MODEL_4d2099cf4d334fc1bb0269a06964090f",
       "value": 83176
      }
     },
     "d269394694e245368e5d96cf41ea4794": {
      "model_module": "@jupyter-widgets/controls",
      "model_module_version": "1.5.0",
      "model_name": "HTMLModel",
      "state": {
       "layout": "IPY_MODEL_534a5dc1b8224d4b80caa8ff516dfbb0",
       "style": "IPY_MODEL_51de3f9fcb904d6294b4055dd199b6ea",
       "value": "[loss: 0.023, accuracy: 0.992, val_loss: 0.059, val_accuracy: 0.987] : 100% 83176/83176 [00:26&lt;00:00, 1100.95it/s]"
      }
     },
     "d28bc6b6f5c6467a8b28977c821fe5ca": {
      "model_module": "@jupyter-widgets/base",
      "model_module_version": "1.2.0",
      "model_name": "LayoutModel",
      "state": {}
     },
     "d2a6a76072eb47e2abcd5c910fee23b4": {
      "model_module": "@jupyter-widgets/controls",
      "model_module_version": "1.5.0",
      "model_name": "ProgressStyleModel",
      "state": {
       "description_width": "initial"
      }
     },
     "d2b0c5d1b0f64486997d04265698bf37": {
      "model_module": "@jupyter-widgets/base",
      "model_module_version": "1.2.0",
      "model_name": "LayoutModel",
      "state": {}
     },
     "d2e743d06487487bb95c8cc627515502": {
      "model_module": "@jupyter-widgets/base",
      "model_module_version": "1.2.0",
      "model_name": "LayoutModel",
      "state": {}
     },
     "d2f52e3c55104e6e91e957a68792495c": {
      "model_module": "@jupyter-widgets/controls",
      "model_module_version": "1.5.0",
      "model_name": "ProgressStyleModel",
      "state": {
       "description_width": "initial"
      }
     },
     "d2f9d324e09f4e7aa10f533e230a009d": {
      "model_module": "@jupyter-widgets/controls",
      "model_module_version": "1.5.0",
      "model_name": "DescriptionStyleModel",
      "state": {
       "description_width": ""
      }
     },
     "d36a7fb15ae846998b6d9ca7718f7cfe": {
      "model_module": "@jupyter-widgets/controls",
      "model_module_version": "1.5.0",
      "model_name": "DescriptionStyleModel",
      "state": {
       "description_width": ""
      }
     },
     "d3c71bc1574a401e80e3a48992049375": {
      "model_module": "@jupyter-widgets/base",
      "model_module_version": "1.2.0",
      "model_name": "LayoutModel",
      "state": {}
     },
     "d3f3f8b0a99b4f478d0c8fae701375e8": {
      "model_module": "@jupyter-widgets/base",
      "model_module_version": "1.2.0",
      "model_name": "LayoutModel",
      "state": {}
     },
     "d42751126dde4ed78e2dc0f79c16f837": {
      "model_module": "@jupyter-widgets/controls",
      "model_module_version": "1.5.0",
      "model_name": "HTMLModel",
      "state": {
       "layout": "IPY_MODEL_907ffa12b38b4916862274a1e20ea4bb",
       "style": "IPY_MODEL_a412f3b05a5542d8a76d7a47171b528c",
       "value": "[loss: 0.027, accuracy: 0.991, val_loss: 0.059, val_accuracy: 0.985] : 100% 83176/83176 [00:25&lt;00:00, 137.88it/s]"
      }
     },
     "d45ed4918334470e8dbc874cb3a91a5f": {
      "model_module": "@jupyter-widgets/base",
      "model_module_version": "1.2.0",
      "model_name": "LayoutModel",
      "state": {}
     },
     "d4a3a65ad9aa4d5399093f560fb7c1a7": {
      "model_module": "@jupyter-widgets/controls",
      "model_module_version": "1.5.0",
      "model_name": "DescriptionStyleModel",
      "state": {
       "description_width": ""
      }
     },
     "d4b84b8f64f5411f8b20e8d85c8e4514": {
      "model_module": "@jupyter-widgets/controls",
      "model_module_version": "1.5.0",
      "model_name": "HTMLModel",
      "state": {
       "layout": "IPY_MODEL_1906cb909b304568bf752978a5929572",
       "style": "IPY_MODEL_b7037d7c5a24455c9a7ee69275d6e7fe",
       "value": "[loss: 0.037, accuracy: 0.988, val_loss: 0.058, val_accuracy: 0.983] : 100% 83176/83176 [00:24&lt;00:00, 1189.67it/s]"
      }
     },
     "d508678de22e4535a06c8efd4f4cc846": {
      "model_module": "@jupyter-widgets/controls",
      "model_module_version": "1.5.0",
      "model_name": "DescriptionStyleModel",
      "state": {
       "description_width": ""
      }
     },
     "d521d835361d4e64bc8c92806b9743fd": {
      "model_module": "@jupyter-widgets/controls",
      "model_module_version": "1.5.0",
      "model_name": "DescriptionStyleModel",
      "state": {
       "description_width": ""
      }
     },
     "d52efadbf7fe4cc0b817b5c88e4c8a2f": {
      "model_module": "@jupyter-widgets/controls",
      "model_module_version": "1.5.0",
      "model_name": "DescriptionStyleModel",
      "state": {
       "description_width": ""
      }
     },
     "d531922c0c0b410fb3c2fc689ed4aa6f": {
      "model_module": "@jupyter-widgets/controls",
      "model_module_version": "1.5.0",
      "model_name": "DescriptionStyleModel",
      "state": {
       "description_width": ""
      }
     },
     "d5fcd06049b1429aae9140e705c61781": {
      "model_module": "@jupyter-widgets/controls",
      "model_module_version": "1.5.0",
      "model_name": "IntProgressModel",
      "state": {
       "description": "Epoch 88",
       "layout": "IPY_MODEL_9e6256dc0e4d4406a77a444f89b1593f",
       "max": 83176,
       "style": "IPY_MODEL_5a9eeb726e76483faa6c31d71a7a6646",
       "value": 83176
      }
     },
     "d6008f015de74451b299aa779baf7705": {
      "model_module": "@jupyter-widgets/base",
      "model_module_version": "1.2.0",
      "model_name": "LayoutModel",
      "state": {}
     },
     "d6269acdac724af08627b6c4891e4b79": {
      "model_module": "@jupyter-widgets/controls",
      "model_module_version": "1.5.0",
      "model_name": "DescriptionStyleModel",
      "state": {
       "description_width": ""
      }
     },
     "d6ec171ebb014041ab0c03c3a5ac2b5c": {
      "model_module": "@jupyter-widgets/base",
      "model_module_version": "1.2.0",
      "model_name": "LayoutModel",
      "state": {}
     },
     "d6ed2654a728471d971348b80e22b5cf": {
      "model_module": "@jupyter-widgets/base",
      "model_module_version": "1.2.0",
      "model_name": "LayoutModel",
      "state": {}
     },
     "d6f48cc61d214a6688a54602b6377bc4": {
      "model_module": "@jupyter-widgets/controls",
      "model_module_version": "1.5.0",
      "model_name": "ProgressStyleModel",
      "state": {
       "description_width": "initial"
      }
     },
     "d79dcf82e58b46cf8315b73d02938a4a": {
      "model_module": "@jupyter-widgets/controls",
      "model_module_version": "1.5.0",
      "model_name": "DescriptionStyleModel",
      "state": {
       "description_width": ""
      }
     },
     "d7b2320ec0734654905c7f122cb7d80d": {
      "model_module": "@jupyter-widgets/base",
      "model_module_version": "1.2.0",
      "model_name": "LayoutModel",
      "state": {}
     },
     "d7c8ceef0e4d4d0789d8d7f8f2e090e9": {
      "model_module": "@jupyter-widgets/base",
      "model_module_version": "1.2.0",
      "model_name": "LayoutModel",
      "state": {}
     },
     "d8095852f5e9407ab9f7f345a73459e3": {
      "model_module": "@jupyter-widgets/controls",
      "model_module_version": "1.5.0",
      "model_name": "DescriptionStyleModel",
      "state": {
       "description_width": ""
      }
     },
     "d82ef4e05f2a43d9b8c682b2a8b8fcfe": {
      "model_module": "@jupyter-widgets/controls",
      "model_module_version": "1.5.0",
      "model_name": "DescriptionStyleModel",
      "state": {
       "description_width": ""
      }
     },
     "da5d4bebafb54c18bf0badd6826d47f8": {
      "model_module": "@jupyter-widgets/controls",
      "model_module_version": "1.5.0",
      "model_name": "ProgressStyleModel",
      "state": {
       "description_width": "initial"
      }
     },
     "da6fa9aa03ae4283ab2bb1fc07693bce": {
      "model_module": "@jupyter-widgets/controls",
      "model_module_version": "1.5.0",
      "model_name": "ProgressStyleModel",
      "state": {
       "description_width": "initial"
      }
     },
     "da77e987d20042b48d0075881bf00501": {
      "model_module": "@jupyter-widgets/controls",
      "model_module_version": "1.5.0",
      "model_name": "ProgressStyleModel",
      "state": {
       "description_width": "initial"
      }
     },
     "da9e743ce93b420295cc94057a755592": {
      "model_module": "@jupyter-widgets/base",
      "model_module_version": "1.2.0",
      "model_name": "LayoutModel",
      "state": {}
     },
     "dace618ee2c14638b2c8e68f3c10af93": {
      "model_module": "@jupyter-widgets/controls",
      "model_module_version": "1.5.0",
      "model_name": "ProgressStyleModel",
      "state": {
       "description_width": "initial"
      }
     },
     "db43eb56d62b4ea687b4cee51bf4ec71": {
      "model_module": "@jupyter-widgets/controls",
      "model_module_version": "1.5.0",
      "model_name": "HTMLModel",
      "state": {
       "layout": "IPY_MODEL_efaa3450421e496dac151b6df995b2d5",
       "style": "IPY_MODEL_40c4ac9fa75141e1b4172b28a4b98e4e",
       "value": "[loss: 0.050, accuracy: 0.985, val_loss: 0.072, val_accuracy: 0.979] : 100% 83176/83176 [00:24&lt;00:00, 158.21it/s]"
      }
     },
     "db539b2023d94c2db22b545b3ce0fdff": {
      "model_module": "@jupyter-widgets/base",
      "model_module_version": "1.2.0",
      "model_name": "LayoutModel",
      "state": {}
     },
     "dbfe70bf2d9b45dcbd1042f78b81a482": {
      "model_module": "@jupyter-widgets/base",
      "model_module_version": "1.2.0",
      "model_name": "LayoutModel",
      "state": {}
     },
     "dc07a4ba8d2447fe9a12036b64dfd2ea": {
      "model_module": "@jupyter-widgets/controls",
      "model_module_version": "1.5.0",
      "model_name": "HTMLModel",
      "state": {
       "layout": "IPY_MODEL_2530242b886643e4b46f1cc595a1acdb",
       "style": "IPY_MODEL_1af383b4fe84487c80d9f2b1d006e2e0",
       "value": "[loss: 0.029, accuracy: 0.990, val_loss: 0.053, val_accuracy: 0.986] : 100% 83176/83176 [00:24&lt;00:00, 819.11it/s]"
      }
     },
     "dc41a6bdfb82452090f3828f5656aed5": {
      "model_module": "@jupyter-widgets/controls",
      "model_module_version": "1.5.0",
      "model_name": "HTMLModel",
      "state": {
       "layout": "IPY_MODEL_f20fc39932e140b38b994b77909af1eb",
       "style": "IPY_MODEL_7cada89b46734cf08abe6608f7f243f1",
       "value": "[loss: 0.021, accuracy: 0.993, val_loss: 0.061, val_accuracy: 0.985] : 100% 83176/83176 [00:26&lt;00:00, 1090.90it/s]"
      }
     },
     "dc593611c11f426f92b0ad4204dad316": {
      "model_module": "@jupyter-widgets/controls",
      "model_module_version": "1.5.0",
      "model_name": "HTMLModel",
      "state": {
       "layout": "IPY_MODEL_6190c906ad26434ba5297daabec9dc46",
       "style": "IPY_MODEL_0ec4111e51004eec9014c7304c11c3a3",
       "value": "[loss: 0.234, accuracy: 0.934, val_loss: 0.264, val_accuracy: 0.930] : 100% 83176/83176 [00:24&lt;00:00, 661.33it/s]"
      }
     },
     "dcbbedea1ff943d3a60179872f7c7f6a": {
      "model_module": "@jupyter-widgets/base",
      "model_module_version": "1.2.0",
      "model_name": "LayoutModel",
      "state": {}
     },
     "dce3dbf669ae486fa902dd2b81e74c25": {
      "model_module": "@jupyter-widgets/base",
      "model_module_version": "1.2.0",
      "model_name": "LayoutModel",
      "state": {}
     },
     "dd1e17e992694d31bb4892a4efff05db": {
      "model_module": "@jupyter-widgets/controls",
      "model_module_version": "1.5.0",
      "model_name": "HTMLModel",
      "state": {
       "layout": "IPY_MODEL_6933c3c9324f48ae93efcd3d5696f3f5",
       "style": "IPY_MODEL_7f7c8b58a0e24a278015f5b31d0a4e42",
       "value": "[loss: 0.143, accuracy: 0.960, val_loss: 0.152, val_accuracy: 0.957] : 100% 83176/83176 [00:25&lt;00:00, 646.90it/s]"
      }
     },
     "dd6afa6ffa044525a6349a9be51cd0e4": {
      "model_module": "@jupyter-widgets/base",
      "model_module_version": "1.2.0",
      "model_name": "LayoutModel",
      "state": {}
     },
     "dd7cb243592b4f97bdea0eddea8b4c99": {
      "model_module": "@jupyter-widgets/base",
      "model_module_version": "1.2.0",
      "model_name": "LayoutModel",
      "state": {}
     },
     "de39ae7f345e4f3487a9ff342b8e08b8": {
      "model_module": "@jupyter-widgets/controls",
      "model_module_version": "1.5.0",
      "model_name": "HTMLModel",
      "state": {
       "layout": "IPY_MODEL_a363f167e1bc4668b410c45cf9ac38f3",
       "style": "IPY_MODEL_932e69bc50ca4c548da8fbfa080a5c5f",
       "value": "[loss: 0.170, accuracy: 0.951, val_loss: 0.178, val_accuracy: 0.948] : 100% 83176/83176 [00:24&lt;00:00, 160.88it/s]"
      }
     },
     "de55b85cf00a4613b3b9a0c329a36578": {
      "model_module": "@jupyter-widgets/base",
      "model_module_version": "1.2.0",
      "model_name": "LayoutModel",
      "state": {}
     },
     "deb1f2ddbf75412a80e97c5958e96d18": {
      "model_module": "@jupyter-widgets/base",
      "model_module_version": "1.2.0",
      "model_name": "LayoutModel",
      "state": {}
     },
     "ded26016f5d64185851516e3d6b22311": {
      "model_module": "@jupyter-widgets/controls",
      "model_module_version": "1.5.0",
      "model_name": "IntProgressModel",
      "state": {
       "description": "Epoch 107",
       "layout": "IPY_MODEL_5b2550ad6ccb4272bcc76f85facaf6e0",
       "max": 83176,
       "style": "IPY_MODEL_811d7ee8734f4485917d683b7c9648eb",
       "value": 83176
      }
     },
     "df14978c49664982a2b1e7b28a32c58f": {
      "model_module": "@jupyter-widgets/controls",
      "model_module_version": "1.5.0",
      "model_name": "ProgressStyleModel",
      "state": {
       "description_width": "initial"
      }
     },
     "df1877a65f684a67ad44c1477021d54b": {
      "model_module": "@jupyter-widgets/base",
      "model_module_version": "1.2.0",
      "model_name": "LayoutModel",
      "state": {}
     },
     "dfaf93f62d5d4bd6b18e419a9d3646c9": {
      "model_module": "@jupyter-widgets/base",
      "model_module_version": "1.2.0",
      "model_name": "LayoutModel",
      "state": {}
     },
     "dfb2e5cf17ca4e0098dea23a5c4e0cde": {
      "model_module": "@jupyter-widgets/base",
      "model_module_version": "1.2.0",
      "model_name": "LayoutModel",
      "state": {}
     },
     "dfbd9c1698fc4e1ca4a23fb6e0fd76db": {
      "model_module": "@jupyter-widgets/base",
      "model_module_version": "1.2.0",
      "model_name": "LayoutModel",
      "state": {}
     },
     "dfdf918eed0f4716b23e5ebcd55ce212": {
      "model_module": "@jupyter-widgets/controls",
      "model_module_version": "1.5.0",
      "model_name": "IntProgressModel",
      "state": {
       "description": "Epoch 56",
       "layout": "IPY_MODEL_b24e3e399c7d4f408e3b4aec8acd7feb",
       "max": 83176,
       "style": "IPY_MODEL_62422ba82d3541cc94ec00b4cc143ecd",
       "value": 83176
      }
     },
     "e125362d8e8c4a82b94ac3137c90b789": {
      "model_module": "@jupyter-widgets/controls",
      "model_module_version": "1.5.0",
      "model_name": "ProgressStyleModel",
      "state": {
       "description_width": "initial"
      }
     },
     "e12a4658d07e4aacbfb1d40d0cb1656b": {
      "model_module": "@jupyter-widgets/base",
      "model_module_version": "1.2.0",
      "model_name": "LayoutModel",
      "state": {}
     },
     "e147973611d84204850bf1471b0ad1f4": {
      "model_module": "@jupyter-widgets/controls",
      "model_module_version": "1.5.0",
      "model_name": "HTMLModel",
      "state": {
       "layout": "IPY_MODEL_0685452d4c3e44479a402a328df21c20",
       "style": "IPY_MODEL_ec3429a2e5144b1ab41c40238dd110c2",
       "value": "[loss: 0.144, accuracy: 0.960, val_loss: 0.143, val_accuracy: 0.960] : 100% 83176/83176 [00:24&lt;00:00, 1051.04it/s]"
      }
     },
     "e15e64b9dd534df793a88f29d1b4cfdb": {
      "model_module": "@jupyter-widgets/base",
      "model_module_version": "1.2.0",
      "model_name": "LayoutModel",
      "state": {}
     },
     "e18027c4eab543a383e2efdb0eaca957": {
      "model_module": "@jupyter-widgets/base",
      "model_module_version": "1.2.0",
      "model_name": "LayoutModel",
      "state": {}
     },
     "e25c0783eb7d4b7796f3cab98ee4e1f9": {
      "model_module": "@jupyter-widgets/base",
      "model_module_version": "1.2.0",
      "model_name": "LayoutModel",
      "state": {}
     },
     "e263e221491c46819cce920738617e22": {
      "model_module": "@jupyter-widgets/base",
      "model_module_version": "1.2.0",
      "model_name": "LayoutModel",
      "state": {}
     },
     "e27b89b8973d48ceb99a647bf8c99ce7": {
      "model_module": "@jupyter-widgets/controls",
      "model_module_version": "1.5.0",
      "model_name": "IntProgressModel",
      "state": {
       "description": "Epoch 140",
       "layout": "IPY_MODEL_6339161be55f4ef2ae97cd24ae50ee8a",
       "max": 83176,
       "style": "IPY_MODEL_c1b9fa6ac7d545ffbdaef09263fef447",
       "value": 83176
      }
     },
     "e28a54e3817d4c93affd2816d1d5e8db": {
      "model_module": "@jupyter-widgets/controls",
      "model_module_version": "1.5.0",
      "model_name": "IntProgressModel",
      "state": {
       "description": "Epoch 29",
       "layout": "IPY_MODEL_91a74e5518aa4166a08c6e3c6ca8227b",
       "max": 83176,
       "style": "IPY_MODEL_d2a6a76072eb47e2abcd5c910fee23b4",
       "value": 83176
      }
     },
     "e2b14c7ae4594c1eb28d61e40133add1": {
      "model_module": "@jupyter-widgets/base",
      "model_module_version": "1.2.0",
      "model_name": "LayoutModel",
      "state": {}
     },
     "e2b3e6f93eab4b2bbd211336b3d75a62": {
      "model_module": "@jupyter-widgets/controls",
      "model_module_version": "1.5.0",
      "model_name": "IntProgressModel",
      "state": {
       "description": "Epoch 75",
       "layout": "IPY_MODEL_8de53be870a64c3a9c41ef8eaee509a9",
       "max": 83176,
       "style": "IPY_MODEL_1ac2138694c74c8694c281c11759476c",
       "value": 83176
      }
     },
     "e34bb17564e84d2cbc4007f0fda64486": {
      "model_module": "@jupyter-widgets/base",
      "model_module_version": "1.2.0",
      "model_name": "LayoutModel",
      "state": {}
     },
     "e3a0a02fd8334634a28d67ed275289c1": {
      "model_module": "@jupyter-widgets/base",
      "model_module_version": "1.2.0",
      "model_name": "LayoutModel",
      "state": {}
     },
     "e3cf68dbe0764236b7f1541852613716": {
      "model_module": "@jupyter-widgets/controls",
      "model_module_version": "1.5.0",
      "model_name": "ProgressStyleModel",
      "state": {
       "description_width": "initial"
      }
     },
     "e3e54cfcd2004510993f3d2c80a7ff66": {
      "model_module": "@jupyter-widgets/base",
      "model_module_version": "1.2.0",
      "model_name": "LayoutModel",
      "state": {}
     },
     "e44b7f26d7f24056b807c7cf3782517c": {
      "model_module": "@jupyter-widgets/base",
      "model_module_version": "1.2.0",
      "model_name": "LayoutModel",
      "state": {}
     },
     "e45c572b0fbf4d4aa68b46955a9d5ce7": {
      "model_module": "@jupyter-widgets/controls",
      "model_module_version": "1.5.0",
      "model_name": "HTMLModel",
      "state": {
       "layout": "IPY_MODEL_12bc5f09384c4187ad9a97e5140406a2",
       "style": "IPY_MODEL_27bfc06b7eb247419a481cafeff67ce4",
       "value": "[loss: 0.052, accuracy: 0.984, val_loss: 0.067, val_accuracy: 0.982] : 100% 83176/83176 [00:24&lt;00:00, 1423.34it/s]"
      }
     },
     "e4711b5fe5944b0fbc64f9a25e91ce4a": {
      "model_module": "@jupyter-widgets/controls",
      "model_module_version": "1.5.0",
      "model_name": "ProgressStyleModel",
      "state": {
       "description_width": "initial"
      }
     },
     "e4ab77b7fd3545728dd4529be464348b": {
      "model_module": "@jupyter-widgets/base",
      "model_module_version": "1.2.0",
      "model_name": "LayoutModel",
      "state": {}
     },
     "e4c1048a9f1748f1bf6ed8114041e39b": {
      "model_module": "@jupyter-widgets/base",
      "model_module_version": "1.2.0",
      "model_name": "LayoutModel",
      "state": {}
     },
     "e4c273b056e44b3398d7924d9fdad361": {
      "model_module": "@jupyter-widgets/base",
      "model_module_version": "1.2.0",
      "model_name": "LayoutModel",
      "state": {}
     },
     "e57547a27f304259adce6e4aab804ed7": {
      "model_module": "@jupyter-widgets/controls",
      "model_module_version": "1.5.0",
      "model_name": "DescriptionStyleModel",
      "state": {
       "description_width": ""
      }
     },
     "e5dff3b85b12406183556b6981af6506": {
      "model_module": "@jupyter-widgets/base",
      "model_module_version": "1.2.0",
      "model_name": "LayoutModel",
      "state": {}
     },
     "e5f811334ca749dd8235f30590ae3fb8": {
      "model_module": "@jupyter-widgets/controls",
      "model_module_version": "1.5.0",
      "model_name": "HTMLModel",
      "state": {
       "layout": "IPY_MODEL_71558367df524d2caa9d48aae07f621a",
       "style": "IPY_MODEL_6630847bd5d04c4b8e61b1bc0a2bf716",
       "value": "[loss: 0.102, accuracy: 0.971, val_loss: 0.108, val_accuracy: 0.971] : 100% 83176/83176 [00:24&lt;00:00, 1336.95it/s]"
      }
     },
     "e68b4e14b5a54d1d90167197b29fc569": {
      "model_module": "@jupyter-widgets/controls",
      "model_module_version": "1.5.0",
      "model_name": "HTMLModel",
      "state": {
       "layout": "IPY_MODEL_ec4f2abdaca94c1ea1f6f4a2a40b877d",
       "style": "IPY_MODEL_3836d3bdb4ef441ca4b06653c84853f7",
       "value": "[loss: 0.093, accuracy: 0.973, val_loss: 0.096, val_accuracy: 0.975] : 100% 83176/83176 [00:24&lt;00:00, 440.37it/s]"
      }
     },
     "e6974a88ad4d43a7a8ccf8377c14548d": {
      "model_module": "@jupyter-widgets/base",
      "model_module_version": "1.2.0",
      "model_name": "LayoutModel",
      "state": {}
     },
     "e699665266f043e5bb63f9b22d18fc81": {
      "model_module": "@jupyter-widgets/base",
      "model_module_version": "1.2.0",
      "model_name": "LayoutModel",
      "state": {}
     },
     "e6e85f7b1e9d4d9cbfcecf149e2ef90a": {
      "model_module": "@jupyter-widgets/controls",
      "model_module_version": "1.5.0",
      "model_name": "DescriptionStyleModel",
      "state": {
       "description_width": ""
      }
     },
     "e789d24b76154223b592cec687e5e627": {
      "model_module": "@jupyter-widgets/base",
      "model_module_version": "1.2.0",
      "model_name": "LayoutModel",
      "state": {}
     },
     "e7eba74216064e5bb4eed699f728ba92": {
      "model_module": "@jupyter-widgets/base",
      "model_module_version": "1.2.0",
      "model_name": "LayoutModel",
      "state": {}
     },
     "e87c5fd6d70f40b094f8f7890ebcb179": {
      "model_module": "@jupyter-widgets/base",
      "model_module_version": "1.2.0",
      "model_name": "LayoutModel",
      "state": {}
     },
     "e8cf6083784542d4a9f2ae39ef22161f": {
      "model_module": "@jupyter-widgets/controls",
      "model_module_version": "1.5.0",
      "model_name": "IntProgressModel",
      "state": {
       "description": "Epoch 6",
       "layout": "IPY_MODEL_c267db947c384bae93ac53a81b8ecee2",
       "max": 83176,
       "style": "IPY_MODEL_cab4eada546f4bb4ae4d03451da07fa6",
       "value": 83176
      }
     },
     "e95f82b8a0964d61a4a80e91e435c8c1": {
      "model_module": "@jupyter-widgets/base",
      "model_module_version": "1.2.0",
      "model_name": "LayoutModel",
      "state": {}
     },
     "e967988ab40042c3a03fde805e20133b": {
      "model_module": "@jupyter-widgets/base",
      "model_module_version": "1.2.0",
      "model_name": "LayoutModel",
      "state": {}
     },
     "e9986a42d78b4f39b3403bee2972fda6": {
      "model_module": "@jupyter-widgets/controls",
      "model_module_version": "1.5.0",
      "model_name": "HTMLModel",
      "state": {
       "layout": "IPY_MODEL_4cf141ff4fc7405c977cc676fcfbff79",
       "style": "IPY_MODEL_0cfbff0761e5453ca574895fe6ff540c",
       "value": "[loss: 0.028, accuracy: 0.991, val_loss: 0.057, val_accuracy: 0.986] : 100% 83176/83176 [00:26&lt;00:00, 1070.96it/s]"
      }
     },
     "ea175b6a4ef940dd8f445c974344e7e1": {
      "model_module": "@jupyter-widgets/base",
      "model_module_version": "1.2.0",
      "model_name": "LayoutModel",
      "state": {}
     },
     "ea3e4e7f234546aab65844e9ddf411bc": {
      "model_module": "@jupyter-widgets/controls",
      "model_module_version": "1.5.0",
      "model_name": "HTMLModel",
      "state": {
       "layout": "IPY_MODEL_193d9b00b480455a95b3454ea3800682",
       "style": "IPY_MODEL_aa7d2a40ac48493082262baf520917fe",
       "value": "[loss: 0.035, accuracy: 0.989, val_loss: 0.055, val_accuracy: 0.984] : 100% 83176/83176 [00:24&lt;00:00, 1156.99it/s]"
      }
     },
     "ea698dd1e9af4c449078972cd75b19e6": {
      "model_module": "@jupyter-widgets/base",
      "model_module_version": "1.2.0",
      "model_name": "LayoutModel",
      "state": {}
     },
     "eaba8b618cb34e76baf9e1f25c299461": {
      "model_module": "@jupyter-widgets/controls",
      "model_module_version": "1.5.0",
      "model_name": "DescriptionStyleModel",
      "state": {
       "description_width": ""
      }
     },
     "eb3dbb2971f244a286605597af39c71f": {
      "model_module": "@jupyter-widgets/base",
      "model_module_version": "1.2.0",
      "model_name": "LayoutModel",
      "state": {}
     },
     "eb4377aa25c347258f1e81bb51e9f820": {
      "model_module": "@jupyter-widgets/controls",
      "model_module_version": "1.5.0",
      "model_name": "HTMLModel",
      "state": {
       "layout": "IPY_MODEL_c100b7abe8744e43b7fff0a0b6a1ffbd",
       "style": "IPY_MODEL_0850fb8b79ac4078a54fb1d4bf8f0974",
       "value": "[loss: 0.113, accuracy: 0.969, val_loss: 0.117, val_accuracy: 0.968] : 100% 83176/83176 [00:24&lt;00:00, 623.29it/s]"
      }
     },
     "eb4f14f1c2d7437da727f7dbc3a81e90": {
      "model_module": "@jupyter-widgets/base",
      "model_module_version": "1.2.0",
      "model_name": "LayoutModel",
      "state": {}
     },
     "eb725976ab614861934798d9144f4ed6": {
      "model_module": "@jupyter-widgets/base",
      "model_module_version": "1.2.0",
      "model_name": "LayoutModel",
      "state": {}
     },
     "eb9b4f0658e6425599ae64f1f86658f3": {
      "model_module": "@jupyter-widgets/base",
      "model_module_version": "1.2.0",
      "model_name": "LayoutModel",
      "state": {}
     },
     "eb9c856f8fe94272b3210c0aa7591b74": {
      "model_module": "@jupyter-widgets/base",
      "model_module_version": "1.2.0",
      "model_name": "LayoutModel",
      "state": {}
     },
     "ebac4f7a25934cb786588bb6100ac406": {
      "model_module": "@jupyter-widgets/controls",
      "model_module_version": "1.5.0",
      "model_name": "ProgressStyleModel",
      "state": {
       "description_width": "initial"
      }
     },
     "ec3429a2e5144b1ab41c40238dd110c2": {
      "model_module": "@jupyter-widgets/controls",
      "model_module_version": "1.5.0",
      "model_name": "DescriptionStyleModel",
      "state": {
       "description_width": ""
      }
     },
     "ec4f2abdaca94c1ea1f6f4a2a40b877d": {
      "model_module": "@jupyter-widgets/base",
      "model_module_version": "1.2.0",
      "model_name": "LayoutModel",
      "state": {}
     },
     "ec5b91c0b6d34d7b9747543ce42ff673": {
      "model_module": "@jupyter-widgets/controls",
      "model_module_version": "1.5.0",
      "model_name": "DescriptionStyleModel",
      "state": {
       "description_width": ""
      }
     },
     "ec98aec65bbd4a48b2607be09155fd85": {
      "model_module": "@jupyter-widgets/controls",
      "model_module_version": "1.5.0",
      "model_name": "IntProgressModel",
      "state": {
       "description": "Epoch 79",
       "layout": "IPY_MODEL_04f0e52fb6ea435380a1fc76c12206bc",
       "max": 83176,
       "style": "IPY_MODEL_e125362d8e8c4a82b94ac3137c90b789",
       "value": 83176
      }
     },
     "ed01f619b9654b549a95c7101a9a3a19": {
      "model_module": "@jupyter-widgets/base",
      "model_module_version": "1.2.0",
      "model_name": "LayoutModel",
      "state": {}
     },
     "ed0aef30f469433d99bc5216fe07130d": {
      "model_module": "@jupyter-widgets/controls",
      "model_module_version": "1.5.0",
      "model_name": "HTMLModel",
      "state": {
       "layout": "IPY_MODEL_58dfde6b99b34d08a934e53d85053931",
       "style": "IPY_MODEL_d52efadbf7fe4cc0b817b5c88e4c8a2f",
       "value": "[loss: 0.020, accuracy: 0.993, val_loss: 0.059, val_accuracy: 0.987] : 100% 83176/83176 [00:27&lt;00:00, 1054.77it/s]"
      }
     },
     "ed36fceb16c84ee6a0c311e71827ab92": {
      "model_module": "@jupyter-widgets/controls",
      "model_module_version": "1.5.0",
      "model_name": "IntProgressModel",
      "state": {
       "description": "Epoch 85",
       "layout": "IPY_MODEL_52465caf070e4e4486c9bc68cb01533c",
       "max": 83176,
       "style": "IPY_MODEL_9e5d93a461744f8a8ac29c21dac9e510",
       "value": 83176
      }
     },
     "ee2065259c9347f4ac2ef48b575b3c09": {
      "model_module": "@jupyter-widgets/base",
      "model_module_version": "1.2.0",
      "model_name": "LayoutModel",
      "state": {}
     },
     "ee2a8cbe2d894d2aa97d52d9d6159b92": {
      "model_module": "@jupyter-widgets/controls",
      "model_module_version": "1.5.0",
      "model_name": "HTMLModel",
      "state": {
       "layout": "IPY_MODEL_95dba0afc299480ba8285b01c30a1281",
       "style": "IPY_MODEL_73c50dcf6e484372b0b37327bdb3b9dd",
       "value": "[loss: 0.023, accuracy: 0.992, val_loss: 0.064, val_accuracy: 0.984] : 100% 83176/83176 [00:26&lt;00:00, 1088.98it/s]"
      }
     },
     "eed6029de81b449c86c23d7bcea983c1": {
      "model_module": "@jupyter-widgets/controls",
      "model_module_version": "1.5.0",
      "model_name": "ProgressStyleModel",
      "state": {
       "description_width": "initial"
      }
     },
     "eedc9bca0a824cbcb632d71541c15e41": {
      "model_module": "@jupyter-widgets/base",
      "model_module_version": "1.2.0",
      "model_name": "LayoutModel",
      "state": {}
     },
     "ef259be93ad94d8da170462bf52620a9": {
      "model_module": "@jupyter-widgets/controls",
      "model_module_version": "1.5.0",
      "model_name": "DescriptionStyleModel",
      "state": {
       "description_width": ""
      }
     },
     "ef8ff7bfc9134a90a5c618e20cfabce7": {
      "model_module": "@jupyter-widgets/base",
      "model_module_version": "1.2.0",
      "model_name": "LayoutModel",
      "state": {}
     },
     "ef9c99789e224a8dbed615d7b77f61cd": {
      "model_module": "@jupyter-widgets/controls",
      "model_module_version": "1.5.0",
      "model_name": "ProgressStyleModel",
      "state": {
       "description_width": "initial"
      }
     },
     "efaa3450421e496dac151b6df995b2d5": {
      "model_module": "@jupyter-widgets/base",
      "model_module_version": "1.2.0",
      "model_name": "LayoutModel",
      "state": {}
     },
     "f03af3bbfe8649ff8d6afd31781e2a58": {
      "model_module": "@jupyter-widgets/base",
      "model_module_version": "1.2.0",
      "model_name": "LayoutModel",
      "state": {}
     },
     "f058dfc21a1a484681254cdb651c2e2d": {
      "model_module": "@jupyter-widgets/controls",
      "model_module_version": "1.5.0",
      "model_name": "ProgressStyleModel",
      "state": {
       "description_width": "initial"
      }
     },
     "f09166ebb44944348d03ac62330e7c12": {
      "model_module": "@jupyter-widgets/controls",
      "model_module_version": "1.5.0",
      "model_name": "ProgressStyleModel",
      "state": {
       "description_width": "initial"
      }
     },
     "f0b8d0e922e74535b8ba5e15f165cdb2": {
      "model_module": "@jupyter-widgets/controls",
      "model_module_version": "1.5.0",
      "model_name": "ProgressStyleModel",
      "state": {
       "description_width": "initial"
      }
     },
     "f0e2ff7aeebe40e58c653399ed831944": {
      "model_module": "@jupyter-widgets/controls",
      "model_module_version": "1.5.0",
      "model_name": "HTMLModel",
      "state": {
       "layout": "IPY_MODEL_a224cea67dc4413ab63264572c7d72f4",
       "style": "IPY_MODEL_891ad701f66744139c2db933d88e0e9a",
       "value": "[loss: 0.075, accuracy: 0.978, val_loss: 0.086, val_accuracy: 0.976] : 100% 83176/83176 [00:24&lt;00:00, 1148.10it/s]"
      }
     },
     "f0e5675a2ed642c6b3e496ad7dec0661": {
      "model_module": "@jupyter-widgets/controls",
      "model_module_version": "1.5.0",
      "model_name": "ProgressStyleModel",
      "state": {
       "description_width": "initial"
      }
     },
     "f0ed76ede3cf464f896f95a002f6fa17": {
      "model_module": "@jupyter-widgets/controls",
      "model_module_version": "1.5.0",
      "model_name": "IntProgressModel",
      "state": {
       "description": "Epoch 91",
       "layout": "IPY_MODEL_d2b0c5d1b0f64486997d04265698bf37",
       "max": 83176,
       "style": "IPY_MODEL_3a32e59776204792be94fd720e42a596",
       "value": 83176
      }
     },
     "f0fcf258978248ac81954825160dc8de": {
      "model_module": "@jupyter-widgets/controls",
      "model_module_version": "1.5.0",
      "model_name": "ProgressStyleModel",
      "state": {
       "description_width": "initial"
      }
     },
     "f118f47de417496f8cc1d358a24d397e": {
      "model_module": "@jupyter-widgets/controls",
      "model_module_version": "1.5.0",
      "model_name": "ProgressStyleModel",
      "state": {
       "description_width": "initial"
      }
     },
     "f1204f3867dd4dc8bd9877657040fdcb": {
      "model_module": "@jupyter-widgets/base",
      "model_module_version": "1.2.0",
      "model_name": "LayoutModel",
      "state": {}
     },
     "f18f9357a0f64be5bea8a4517b8c2706": {
      "model_module": "@jupyter-widgets/controls",
      "model_module_version": "1.5.0",
      "model_name": "ProgressStyleModel",
      "state": {
       "description_width": "initial"
      }
     },
     "f1cb31b12e584becbf2e4a18aaf5a23d": {
      "model_module": "@jupyter-widgets/base",
      "model_module_version": "1.2.0",
      "model_name": "LayoutModel",
      "state": {}
     },
     "f20fc39932e140b38b994b77909af1eb": {
      "model_module": "@jupyter-widgets/base",
      "model_module_version": "1.2.0",
      "model_name": "LayoutModel",
      "state": {}
     },
     "f2265d868c114b63a8a519777085c061": {
      "model_module": "@jupyter-widgets/base",
      "model_module_version": "1.2.0",
      "model_name": "LayoutModel",
      "state": {}
     },
     "f26c0425944845d6a6925ce6f9174bbe": {
      "model_module": "@jupyter-widgets/base",
      "model_module_version": "1.2.0",
      "model_name": "LayoutModel",
      "state": {}
     },
     "f2d020e4d5d74fceb4f09776b4f5b2a4": {
      "model_module": "@jupyter-widgets/controls",
      "model_module_version": "1.5.0",
      "model_name": "IntProgressModel",
      "state": {
       "description": "Epoch 109",
       "layout": "IPY_MODEL_47a52d1f9f0549709d9711ff8c340eb6",
       "max": 83176,
       "style": "IPY_MODEL_839307f31f664feabad58cbcfcaa9786",
       "value": 83176
      }
     },
     "f2f2f185cca644ce928204bd24ee43f7": {
      "model_module": "@jupyter-widgets/controls",
      "model_module_version": "1.5.0",
      "model_name": "ProgressStyleModel",
      "state": {
       "description_width": "initial"
      }
     },
     "f310ca359bf544c7b889060b9d73e1d2": {
      "model_module": "@jupyter-widgets/controls",
      "model_module_version": "1.5.0",
      "model_name": "ProgressStyleModel",
      "state": {
       "description_width": "initial"
      }
     },
     "f33a048a74084baab15cb8d789463803": {
      "model_module": "@jupyter-widgets/controls",
      "model_module_version": "1.5.0",
      "model_name": "DescriptionStyleModel",
      "state": {
       "description_width": ""
      }
     },
     "f40fbdce78c44d5b8b55e4a4e9039674": {
      "model_module": "@jupyter-widgets/controls",
      "model_module_version": "1.5.0",
      "model_name": "HTMLModel",
      "state": {
       "layout": "IPY_MODEL_3f338c05fd834df2a31238ad59c081bb",
       "style": "IPY_MODEL_e57547a27f304259adce6e4aab804ed7",
       "value": "[loss: 0.028, accuracy: 0.991, val_loss: 0.053, val_accuracy: 0.985] : 100% 83176/83176 [00:25&lt;00:00, 147.54it/s]"
      }
     },
     "f41c50440bdf4ae2acbe7c4c182d6596": {
      "model_module": "@jupyter-widgets/controls",
      "model_module_version": "1.5.0",
      "model_name": "IntProgressModel",
      "state": {
       "description": "Epoch 113",
       "layout": "IPY_MODEL_6329df2856f24a57bcfcb42e6111d384",
       "max": 83176,
       "style": "IPY_MODEL_98578f6d6f344e6facfaa5ba177eefef",
       "value": 83176
      }
     },
     "f43eab00e5b6466394f0a1dafaf8abef": {
      "model_module": "@jupyter-widgets/controls",
      "model_module_version": "1.5.0",
      "model_name": "ProgressStyleModel",
      "state": {
       "description_width": "initial"
      }
     },
     "f4b717054ec746a7bc84c71203286052": {
      "model_module": "@jupyter-widgets/controls",
      "model_module_version": "1.5.0",
      "model_name": "DescriptionStyleModel",
      "state": {
       "description_width": ""
      }
     },
     "f4d49cb4289847eb8f54c1137b69fd11": {
      "model_module": "@jupyter-widgets/controls",
      "model_module_version": "1.5.0",
      "model_name": "IntProgressModel",
      "state": {
       "description": "Epoch 5",
       "layout": "IPY_MODEL_c61b11bf92d54f02ac5f9fd2f3e327eb",
       "max": 83176,
       "style": "IPY_MODEL_a2d6eb9a9bd0490f936f9f8485cd58cf",
       "value": 83176
      }
     },
     "f58c9dd9be444546a3f32a3baec9469d": {
      "model_module": "@jupyter-widgets/controls",
      "model_module_version": "1.5.0",
      "model_name": "HTMLModel",
      "state": {
       "layout": "IPY_MODEL_7460bf284cc04e9e943b924a0eea4d75",
       "style": "IPY_MODEL_c005a51481114e8a8070e1c0daa13c4c",
       "value": "[loss: 0.032, accuracy: 0.989, val_loss: 0.056, val_accuracy: 0.985] : 100% 83176/83176 [00:24&lt;00:00, 619.13it/s]"
      }
     },
     "f58f840bb204479aad51b856ae6ad306": {
      "model_module": "@jupyter-widgets/base",
      "model_module_version": "1.2.0",
      "model_name": "LayoutModel",
      "state": {}
     },
     "f596700a7afc43d28a756a8f5e6791e3": {
      "model_module": "@jupyter-widgets/controls",
      "model_module_version": "1.5.0",
      "model_name": "DescriptionStyleModel",
      "state": {
       "description_width": ""
      }
     },
     "f59aef4143b34fc18d6d43a393870ad9": {
      "model_module": "@jupyter-widgets/controls",
      "model_module_version": "1.5.0",
      "model_name": "HTMLModel",
      "state": {
       "layout": "IPY_MODEL_83b9163526c04f03844f3466a5467f0d",
       "style": "IPY_MODEL_cd2fb54738314c558127b7cdb81d65ed",
       "value": "[loss: 0.024, accuracy: 0.992, val_loss: 0.059, val_accuracy: 0.987] : 100% 83176/83176 [00:26&lt;00:00, 1094.87it/s]"
      }
     },
     "f6c4c2a63a684c92aefd0f1c08df7c96": {
      "model_module": "@jupyter-widgets/controls",
      "model_module_version": "1.5.0",
      "model_name": "HTMLModel",
      "state": {
       "layout": "IPY_MODEL_bf0c847b9d224fbd827588854c517526",
       "style": "IPY_MODEL_26fea5aa639a4ba3a5fab22d58d5025c",
       "value": "[loss: 0.054, accuracy: 0.984, val_loss: 0.068, val_accuracy: 0.980] : 100% 83176/83176 [00:24&lt;00:00, 412.46it/s]"
      }
     },
     "f6cb989701da4f2e9cb3780e6d039b09": {
      "model_module": "@jupyter-widgets/controls",
      "model_module_version": "1.5.0",
      "model_name": "DescriptionStyleModel",
      "state": {
       "description_width": ""
      }
     },
     "f6cbe39e32064a879e6cdb7d7fc05023": {
      "model_module": "@jupyter-widgets/base",
      "model_module_version": "1.2.0",
      "model_name": "LayoutModel",
      "state": {}
     },
     "f6da5509810445debb8c9a5242f5d40d": {
      "model_module": "@jupyter-widgets/controls",
      "model_module_version": "1.5.0",
      "model_name": "IntProgressModel",
      "state": {
       "description": "Epoch 142",
       "layout": "IPY_MODEL_8aa5b2b3f45d4b9ba82eec3f9f87611d",
       "max": 83176,
       "style": "IPY_MODEL_988b067018d04c9aacdc7ba9e3184748",
       "value": 83176
      }
     },
     "f6e74a4e25724013a2c4745682023704": {
      "model_module": "@jupyter-widgets/controls",
      "model_module_version": "1.5.0",
      "model_name": "ProgressStyleModel",
      "state": {
       "description_width": "initial"
      }
     },
     "f722f19b10ef4632ab32b49ebdaafff8": {
      "model_module": "@jupyter-widgets/base",
      "model_module_version": "1.2.0",
      "model_name": "LayoutModel",
      "state": {}
     },
     "f7acb5b4aa2c400d991d7ab45b3ba95a": {
      "model_module": "@jupyter-widgets/controls",
      "model_module_version": "1.5.0",
      "model_name": "IntProgressModel",
      "state": {
       "description": "Epoch 98",
       "layout": "IPY_MODEL_eedc9bca0a824cbcb632d71541c15e41",
       "max": 83176,
       "style": "IPY_MODEL_a2ecc2a4cbda48a29656f3043762443a",
       "value": 83176
      }
     },
     "f7b87378c0d04baf8a00faeca34edf9c": {
      "model_module": "@jupyter-widgets/base",
      "model_module_version": "1.2.0",
      "model_name": "LayoutModel",
      "state": {}
     },
     "f7c430645b1d48e7937b9152552eecaa": {
      "model_module": "@jupyter-widgets/controls",
      "model_module_version": "1.5.0",
      "model_name": "DescriptionStyleModel",
      "state": {
       "description_width": ""
      }
     },
     "f8005f2b62cb418198db4e3578b7e218": {
      "model_module": "@jupyter-widgets/controls",
      "model_module_version": "1.5.0",
      "model_name": "ProgressStyleModel",
      "state": {
       "description_width": "initial"
      }
     },
     "f81dae9265e144b380e03e1ff49f78d8": {
      "model_module": "@jupyter-widgets/controls",
      "model_module_version": "1.5.0",
      "model_name": "IntProgressModel",
      "state": {
       "description": "Epoch 89",
       "layout": "IPY_MODEL_c9cd27a99beb43628b57efaf60e7ccf1",
       "max": 83176,
       "style": "IPY_MODEL_54256a71e6e34bbca59b96349e6e9344",
       "value": 83176
      }
     },
     "f822578cf2aa47ccb13872a1f432c3d4": {
      "model_module": "@jupyter-widgets/controls",
      "model_module_version": "1.5.0",
      "model_name": "IntProgressModel",
      "state": {
       "bar_style": "danger",
       "description": "Training",
       "layout": "IPY_MODEL_600c8194424a4dbcb93faf809ff143f1",
       "max": 300,
       "style": "IPY_MODEL_31038da5b3b14fffb3d60759d9481238",
       "value": 144
      }
     },
     "f82d533bd5954c988a1e88fc6f8b8b5e": {
      "model_module": "@jupyter-widgets/controls",
      "model_module_version": "1.5.0",
      "model_name": "HTMLModel",
      "state": {
       "layout": "IPY_MODEL_4c7e7b8607ae4829a067a08bb1642e61",
       "style": "IPY_MODEL_2b2cb60aee2240858b340be067e33d56",
       "value": "[loss: 0.021, accuracy: 0.993, val_loss: 0.062, val_accuracy: 0.987] : 100% 83176/83176 [00:26&lt;00:00, 1083.43it/s]"
      }
     },
     "f8818a0a0d3b4a688b7af642b9d8e290": {
      "model_module": "@jupyter-widgets/controls",
      "model_module_version": "1.5.0",
      "model_name": "IntProgressModel",
      "state": {
       "description": "Epoch 84",
       "layout": "IPY_MODEL_cd34f4c386054483ac5301ee6db60491",
       "max": 83176,
       "style": "IPY_MODEL_53a798e080234c4a94c85e9ce1f362ee",
       "value": 83176
      }
     },
     "f8c05a64392c4cda9b1874fed62ca866": {
      "model_module": "@jupyter-widgets/base",
      "model_module_version": "1.2.0",
      "model_name": "LayoutModel",
      "state": {}
     },
     "f9b18600261449d1a898aba128a130a0": {
      "model_module": "@jupyter-widgets/controls",
      "model_module_version": "1.5.0",
      "model_name": "HTMLModel",
      "state": {
       "layout": "IPY_MODEL_1a11f41d79c34302a3ff77a292febdb7",
       "style": "IPY_MODEL_221d492cbe7a4232b97615c8e5303193",
       "value": "[loss: 0.033, accuracy: 0.989, val_loss: 0.056, val_accuracy: 0.986] : 100% 83176/83176 [00:24&lt;00:00, 431.77it/s]"
      }
     },
     "fa4e47300e4a413aaee1ebcb725be299": {
      "model_module": "@jupyter-widgets/base",
      "model_module_version": "1.2.0",
      "model_name": "LayoutModel",
      "state": {}
     },
     "fa6368e1ea2a408fb93ad50715c166f1": {
      "model_module": "@jupyter-widgets/controls",
      "model_module_version": "1.5.0",
      "model_name": "DescriptionStyleModel",
      "state": {
       "description_width": ""
      }
     },
     "fa73c02db4ea4bd1ae7367ded127adc5": {
      "model_module": "@jupyter-widgets/controls",
      "model_module_version": "1.5.0",
      "model_name": "IntProgressModel",
      "state": {
       "description": "Epoch 43",
       "layout": "IPY_MODEL_dfaf93f62d5d4bd6b18e419a9d3646c9",
       "max": 83176,
       "style": "IPY_MODEL_3852d2e42b2f4939be6eea62a5f21581",
       "value": 83176
      }
     },
     "faccad35e9e64dd88c7517bead68bc99": {
      "model_module": "@jupyter-widgets/controls",
      "model_module_version": "1.5.0",
      "model_name": "IntProgressModel",
      "state": {
       "description": "Epoch 60",
       "layout": "IPY_MODEL_c81abe8d18254d8cbdc7ab9913532894",
       "max": 83176,
       "style": "IPY_MODEL_47a37bcf95e84a15a84ade2a81fafa4f",
       "value": 83176
      }
     },
     "fae377b71b4b48059829eded261f7d28": {
      "model_module": "@jupyter-widgets/controls",
      "model_module_version": "1.5.0",
      "model_name": "IntProgressModel",
      "state": {
       "description": "Epoch 8",
       "layout": "IPY_MODEL_5f924d6603b74d20abbb6568420188ae",
       "max": 83176,
       "style": "IPY_MODEL_79159405ff2d4b888583a9b719431d17",
       "value": 83176
      }
     },
     "fb126cdae99d428592f59866da2fb8eb": {
      "model_module": "@jupyter-widgets/controls",
      "model_module_version": "1.5.0",
      "model_name": "HTMLModel",
      "state": {
       "layout": "IPY_MODEL_d45ed4918334470e8dbc874cb3a91a5f",
       "style": "IPY_MODEL_55740a7da8424b94951f0a762b034805",
       "value": "[loss: 0.019, accuracy: 0.993, val_loss: 0.061, val_accuracy: 0.987] : 100% 83176/83176 [00:26&lt;00:00, 1071.18it/s]"
      }
     },
     "fb83e41f72734e1d9d3794d2cbfeb25c": {
      "model_module": "@jupyter-widgets/base",
      "model_module_version": "1.2.0",
      "model_name": "LayoutModel",
      "state": {}
     },
     "fc40a1cf10c04615b7b36ec53e422cd3": {
      "model_module": "@jupyter-widgets/base",
      "model_module_version": "1.2.0",
      "model_name": "LayoutModel",
      "state": {}
     },
     "fd8f9dffca7f4d12b4753493ac9ee60f": {
      "model_module": "@jupyter-widgets/controls",
      "model_module_version": "1.5.0",
      "model_name": "ProgressStyleModel",
      "state": {
       "description_width": "initial"
      }
     },
     "fda02ad0163846a18ee26471304c643c": {
      "model_module": "@jupyter-widgets/base",
      "model_module_version": "1.2.0",
      "model_name": "LayoutModel",
      "state": {}
     },
     "fde95f4213ce4af085f0d05f049f9ba6": {
      "model_module": "@jupyter-widgets/controls",
      "model_module_version": "1.5.0",
      "model_name": "HTMLModel",
      "state": {
       "layout": "IPY_MODEL_488c4b7f9eb540408a7c682501c82613",
       "style": "IPY_MODEL_37faeddbe9dc4feb9b4551eff1c160b2",
       "value": "[loss: 0.021, accuracy: 0.993, val_loss: 0.062, val_accuracy: 0.985] : 100% 83176/83176 [00:26&lt;00:00, 1094.62it/s]"
      }
     },
     "fe0b5242dd7c48658803f72f66fad377": {
      "model_module": "@jupyter-widgets/base",
      "model_module_version": "1.2.0",
      "model_name": "LayoutModel",
      "state": {}
     },
     "fe20cf4775cc4ab895618f2d08d17655": {
      "model_module": "@jupyter-widgets/controls",
      "model_module_version": "1.5.0",
      "model_name": "ProgressStyleModel",
      "state": {
       "description_width": "initial"
      }
     },
     "fe21ac63ff9443ae937624a8fb929764": {
      "model_module": "@jupyter-widgets/controls",
      "model_module_version": "1.5.0",
      "model_name": "HTMLModel",
      "state": {
       "layout": "IPY_MODEL_44516bda763e4049a9077bbbbe7245ed",
       "style": "IPY_MODEL_20554f387c9848299d33a840d7e278c8",
       "value": "[loss: 0.064, accuracy: 0.981, val_loss: 0.076, val_accuracy: 0.979] : 100% 83176/83176 [00:24&lt;00:00, 1038.71it/s]"
      }
     },
     "fe3d641b00ac45f788498a415d9e1b82": {
      "model_module": "@jupyter-widgets/base",
      "model_module_version": "1.2.0",
      "model_name": "LayoutModel",
      "state": {}
     },
     "fe73ef4e30cb475fad7f3ba61f19edba": {
      "model_module": "@jupyter-widgets/controls",
      "model_module_version": "1.5.0",
      "model_name": "IntProgressModel",
      "state": {
       "description": "Epoch 134",
       "layout": "IPY_MODEL_c9d19aae702646af88b9547abbcf064b",
       "max": 83176,
       "style": "IPY_MODEL_a108f5b1772d4fcdaf41ebf7965d306b",
       "value": 83176
      }
     },
     "fe9a54a8de8f4d1bbb09582cbeb02fe7": {
      "model_module": "@jupyter-widgets/base",
      "model_module_version": "1.2.0",
      "model_name": "LayoutModel",
      "state": {}
     },
     "fee747eb0a564cfab88a8a87c0d3aad0": {
      "model_module": "@jupyter-widgets/base",
      "model_module_version": "1.2.0",
      "model_name": "LayoutModel",
      "state": {}
     },
     "fefb1246011d477a99622ce99015bb4b": {
      "model_module": "@jupyter-widgets/controls",
      "model_module_version": "1.5.0",
      "model_name": "ProgressStyleModel",
      "state": {
       "description_width": "initial"
      }
     },
     "ff44f96be3cb41b89c54124f00b05e5f": {
      "model_module": "@jupyter-widgets/controls",
      "model_module_version": "1.5.0",
      "model_name": "ProgressStyleModel",
      "state": {
       "description_width": "initial"
      }
     },
     "ff81a39103054309b0d64067bc7c5b9a": {
      "model_module": "@jupyter-widgets/base",
      "model_module_version": "1.2.0",
      "model_name": "LayoutModel",
      "state": {}
     }
    },
    "version_major": 2,
    "version_minor": 0
   }
  }
 },
 "nbformat": 4,
 "nbformat_minor": 2
}
