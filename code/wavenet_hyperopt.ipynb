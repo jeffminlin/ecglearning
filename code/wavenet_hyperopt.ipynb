{
 "cells": [
  {
   "cell_type": "markdown",
   "metadata": {},
   "source": [
    "## Hyperperameter optimization of WaveNet\n",
    "\n",
    "We're going to train a full, regularized CNN architecture with some automatic hyperperameter optimization using `hyperas` (a wrapper for `hyperopt`)."
   ]
  },
  {
   "cell_type": "code",
   "execution_count": 1,
   "metadata": {},
   "outputs": [
    {
     "name": "stderr",
     "output_type": "stream",
     "text": [
      "Using TensorFlow backend.\n"
     ]
    },
    {
     "name": "stdout",
     "output_type": "stream",
     "text": [
      "\n",
      "Train set\n",
      "Count of each class\n",
      "Classes\n",
      "0.0    72471\n",
      "1.0     2223\n",
      "2.0     5788\n",
      "3.0      641\n",
      "4.0     6431\n",
      "dtype: int64\n",
      "\n",
      "Test set\n",
      "Count of each class\n",
      "Classes\n",
      "0.0    18118\n",
      "1.0      556\n",
      "2.0     1448\n",
      "3.0      162\n",
      "4.0     1608\n",
      "dtype: int64\n"
     ]
    }
   ],
   "source": [
    "import logging\n",
    "import numpy as np\n",
    "import tensorflow as tf\n",
    "\n",
    "from tensorflow.keras import layers\n",
    "from tensorflow.keras import regularizers\n",
    "\n",
    "from hyperopt import Trials, STATUS_OK, tpe\n",
    "from hyperopt.pyll.base import scope\n",
    "from hyperas import optim\n",
    "from hyperas.distributions import choice, uniform, quniform\n",
    "from hyperas.utils import eval_hyperopt_space\n",
    "\n",
    "import tools.train as train\n",
    "import tools.models as models\n",
    "import tools.plot as plot\n",
    "\n",
    "# Suppress tensorflow warnings about internal deprecations\n",
    "logger = tf.get_logger()\n",
    "logger.setLevel(logging.ERROR)\n",
    "\n",
    "## Count data\n",
    "files = (\"../data/mitbih_train.csv\", \"../data/mitbih_test.csv\")\n",
    "inputs, labels, sparse_labels, df = train.preprocess(*files, fft=False)\n",
    "# Add a dimension for \"channels\"\n",
    "for key in inputs:\n",
    "    inputs[key] = tf.expand_dims(inputs[key], axis=2)\n",
    "train.class_count(df)"
   ]
  },
  {
   "cell_type": "code",
   "execution_count": 2,
   "metadata": {},
   "outputs": [
    {
     "name": "stdout",
     "output_type": "stream",
     "text": [
      "100%|█████████████████████████████████████████████████████████████████████████████████████████████| 50/50 [7:05:41<00:00, 599.02s/it, best loss: -0.982782244682312]\n"
     ]
    }
   ],
   "source": [
    "# functions for hyperas\n",
    "def data():\n",
    "    ## Read in data\n",
    "    files = (\"../data/mitbih_train.csv\", \"../data/mitbih_test.csv\")\n",
    "    inputs, labels, sparse_labels, df = train.preprocess(*files, fft=False)\n",
    "    # Add a dimension for \"channels\"\n",
    "    for key in inputs:\n",
    "        inputs[key] = tf.expand_dims(inputs[key], axis=2)\n",
    "    \n",
    "    return inputs, labels\n",
    "\n",
    "def create_model(inputs, labels):\n",
    "    \n",
    "    nblocks = {{quniform(3.5, 20.5, 1)}}\n",
    "    nfilters = {{quniform(31.5, 128.5, 1)}}\n",
    "    batch_size = {{quniform(49.5, 500.5, 1)}}\n",
    "    l1_reg = {{uniform(0, 0.1)}}\n",
    "    l2_reg = {{uniform(0, 0.1)}}\n",
    "    \n",
    "    dilation_limit = {{quniform(0.5, inputs[\"train\"].shape[1], 1)}}\n",
    "    \n",
    "    # Start\n",
    "    layerlist_res = [(\"conv\", {\"filters\": int(nfilters), \"width\": 1, \"padding\": \"causal\"})]\n",
    "\n",
    "    # Residual blocks\n",
    "    models.add_res_blocks(int(nblocks), int(nfilters), dilation_limit, layerlist_res)\n",
    "\n",
    "    # End\n",
    "    layerlist_res.extend([\n",
    "        (layers.Activation(\"relu\"),),\n",
    "        (\"conv\", {\"filters\": int(nfilters), \"width\": 1, \"padding\": \"causal\"}),\n",
    "        (\"conv\", {\"filters\": 1, \"width\": 1, \"padding\": \"causal\"}),\n",
    "        (layers.Dropout({{uniform(0, 1)}}),)\n",
    "    ])\n",
    "\n",
    "    config = {\n",
    "        \"optimizer\": \"Nadam\",\n",
    "        \"loss\": \"sparse_categorical_crossentropy\",\n",
    "        \"batch_size\": int(batch_size),\n",
    "        \"val_split\": 0.4,\n",
    "        \"epochs\": 8,\n",
    "        \"verbose\": 0,\n",
    "        \"patience\": 5,\n",
    "        \"weighted_metrics\": [\"accuracy\"],\n",
    "        \"regularizer\": regularizers.l1_l2(l1=l1_reg, l2=l2_reg),\n",
    "     }\n",
    "\n",
    "    inputsize = inputs[\"train\"].shape[1]\n",
    "    ncategories = labels[\"train\"].shape[1]\n",
    "    model_res = models.create_conv1d(inputsize, layerlist_res, ncategories, config)\n",
    "    history = train.train(model_res, inputs, sparse_labels, config)\n",
    "    \n",
    "    # get the lowest validation loss of the training epochs\n",
    "    validation_acc = np.amax(history.history['val_accuracy_1'])\n",
    "    return {'loss': -validation_acc, 'status': STATUS_OK, 'model': model_res}\n",
    "\n",
    "best_run, best_model, space = optim.minimize(\n",
    "    model=create_model,\n",
    "    data=data,\n",
    "    algo=tpe.suggest,\n",
    "    max_evals=50,\n",
    "    eval_space=True,\n",
    "    return_space=True,\n",
    "    trials=Trials(),\n",
    "    notebook_name='wavenet_hyperopt',\n",
    "    verbose=False,\n",
    ")"
   ]
  },
  {
   "cell_type": "code",
   "execution_count": 3,
   "metadata": {},
   "outputs": [
    {
     "name": "stdout",
     "output_type": "stream",
     "text": [
      "Chosen hyperparameters from the best-trained model\n",
      "{'Dropout': 0.11849011630764406, 'batch_size': 127.0, 'dilation_limit': 23.0, 'l1_reg': 0.00020208366862898815, 'l1_reg_1': 0.0268783897138795, 'nblocks': 12.0, 'nfilters': 76.0}\n",
      "Train acc of best performing model after 15 epochs: 0.98377\n",
      "Test acc of best performing model after 15 epochs: 0.9782112\n",
      "Confusion matrix, without normalization\n",
      "[[17965    90    49     3    11]\n",
      " [  128   417    10     0     1]\n",
      " [   44     0  1393     8     3]\n",
      " [   39     1    21   101     0]\n",
      " [   43     4    22     0  1539]]\n"
     ]
    },
    {
     "data": {
      "image/png": "[encoded data removed]",
      "text/plain": [
       "<Figure size 432x288 with 2 Axes>"
      ]
     },
     "metadata": {
      "needs_background": "light"
     },
     "output_type": "display_data"
    }
   ],
   "source": [
    "print(\"Chosen hyperparameters from the best-trained model\")\n",
    "print(best_run)\n",
    "\n",
    "print(\n",
    "    \"Train acc of best performing model after 10 epochs:\",\n",
    "    best_model.evaluate(inputs[\"train\"], sparse_labels[\"train\"], verbose=0)[1],\n",
    ")\n",
    "print(\n",
    "    \"Test acc of best performing model after 10 epochs:\",\n",
    "    best_model.evaluate(inputs[\"test\"], sparse_labels[\"test\"], verbose=0)[1],\n",
    ")\n",
    "\n",
    "test_pred = np.argmax(best_model.predict(inputs[\"test\"]), axis=1)\n",
    "plot.plot_cm(\n",
    "    sparse_labels[\"test\"],\n",
    "    test_pred,\n",
    "    classes=np.arange(5),\n",
    "    normalize=True,\n",
    "    norm_fmt=\".3f\",\n",
    ")"
   ]
  }
 ],
 "metadata": {
  "kernelspec": {
   "display_name": "Python 3",
   "language": "python",
   "name": "python3"
  },
  "language_info": {
   "codemirror_mode": {
    "name": "ipython",
    "version": 3
   },
   "file_extension": ".py",
   "mimetype": "text/x-python",
   "name": "python",
   "nbconvert_exporter": "python",
   "pygments_lexer": "ipython3",
   "version": "3.7.3"
  }
 },
 "nbformat": 4,
 "nbformat_minor": 2
}
