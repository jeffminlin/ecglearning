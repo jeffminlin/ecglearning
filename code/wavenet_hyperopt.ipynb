{
 "cells": [
  {
   "cell_type": "markdown",
   "metadata": {},
   "source": [
    "## Hyperperameter optimization of WaveNet\n",
    "\n",
    "We're going to train a full, regularized CNN architecture with some automatic hyperperameter optimization using `hyperas` (a wrapper for `hyperopt`)."
   ]
  },
  {
   "cell_type": "code",
   "execution_count": 1,
   "metadata": {},
   "outputs": [
    {
     "name": "stdout",
     "output_type": "stream",
     "text": [
      "\n",
      "Train set\n",
      "Count of each class\n",
      "Classes\n",
      "0.0    72471\n",
      "1.0     2223\n",
      "2.0     5788\n",
      "3.0      641\n",
      "4.0     6431\n",
      "dtype: int64\n",
      "\n",
      "Test set\n",
      "Count of each class\n",
      "Classes\n",
      "0.0    18118\n",
      "1.0      556\n",
      "2.0     1448\n",
      "3.0      162\n",
      "4.0     1608\n",
      "dtype: int64\n"
     ]
    }
   ],
   "source": [
    "import logging\n",
    "import numpy as np\n",
    "import tensorflow as tf\n",
    "\n",
    "from tensorflow.keras import layers\n",
    "\n",
    "from hyperopt import Trials, STATUS_OK, tpe\n",
    "from hyperopt.pyll.base import scope\n",
    "from hyperas import optim\n",
    "from hyperas.distributions import choice, uniform, quniform\n",
    "from hyperas.utils import eval_hyperopt_space\n",
    "\n",
    "import tools.train as train\n",
    "import tools.models as models\n",
    "import tools.plot as plot\n",
    "\n",
    "# Suppress tensorflow warnings about internal deprecations\n",
    "logger = tf.get_logger()\n",
    "logger.setLevel(logging.ERROR)\n",
    "\n",
    "## Count data\n",
    "files = (\"../data/mitbih_train.csv\", \"../data/mitbih_test.csv\")\n",
    "inputs, labels, sparse_labels, df = train.preprocess(*files, fft=False)\n",
    "# Add a dimension for \"channels\"\n",
    "for key in inputs:\n",
    "    inputs[key] = tf.expand_dims(inputs[key], axis=2)\n",
    "train.class_count(df)"
   ]
  },
  {
   "cell_type": "code",
   "execution_count": 2,
   "metadata": {},
   "outputs": [
    {
     "name": "stdout",
     "output_type": "stream",
     "text": [
      "100%|█████████████████████████████████████████████████████████████████████████████████████████████████████████████████████████████████████████████████████████████████████| 20/20 [1:08:33<00:00, 193.14s/it, best loss: 0.0427956142372487]\n"
     ]
    }
   ],
   "source": [
    "# functions for hyperas\n",
    "def data():\n",
    "    ## Read in data\n",
    "    files = (\"../data/mitbih_train.csv\", \"../data/mitbih_test.csv\")\n",
    "    inputs, labels, sparse_labels, df = train.preprocess(*files, fft=False)\n",
    "    # Add a dimension for \"channels\"\n",
    "    for key in inputs:\n",
    "        inputs[key] = tf.expand_dims(inputs[key], axis=2)\n",
    "    \n",
    "    return inputs, labels\n",
    "\n",
    "def create_model(inputs, labels):\n",
    "    \n",
    "    nblocks = int({{quniform(3.5, 8.5, 1)}})\n",
    "    nfilters = int({{quniform(31.5, 64.5, 1)}})\n",
    "    optimizer = {{choice([\"Nadam\", \"sgd\"])}}\n",
    "    batch_size = int({{quniform(49.5, 200.5, 1)}})\n",
    "    \n",
    "    dilation_limit = inputs[\"train\"].shape[1]\n",
    "    \n",
    "    # Start\n",
    "    layerlist_res = [(\"conv\", {\"filters\": nfilters, \"width\": 1, \"padding\": \"causal\"})]\n",
    "\n",
    "    # Residual blocks\n",
    "    models.add_res_blocks(nblocks, nfilters, dilation_limit, layerlist_res)\n",
    "\n",
    "    # End\n",
    "    layerlist_res.extend([\n",
    "        (layers.Activation(\"relu\"),),\n",
    "        (\"conv\", {\"filters\": nfilters, \"width\": 1, \"padding\": \"causal\"}),\n",
    "        (\"conv\", {\"filters\": 1, \"width\": 1, \"padding\": \"causal\"}),\n",
    "        (layers.Dropout({{uniform(0, 1)}}),)\n",
    "    ])\n",
    "\n",
    "    config = {\"optimizer\": optimizer,\n",
    "              \"loss\": \"categorical_crossentropy\",\n",
    "              \"batch_size\": batch_size,\n",
    "              \"val_split\": 0.05,\n",
    "              \"epochs\": 10,\n",
    "              \"verbose\": 0,\n",
    "              \"patience\": 20}\n",
    "\n",
    "    inputsize = inputs[\"train\"].shape[1]\n",
    "    ncategories = labels[\"train\"].shape[1]\n",
    "    model_res = models.create_conv1d(inputsize, layerlist_res, ncategories)\n",
    "    history = train.train(model_res, inputs, labels, config)\n",
    "    \n",
    "    # get the lowest validation loss of the training epochs\n",
    "    validation_loss = np.amin(history.history['val_loss'])\n",
    "    return {'loss': validation_loss, 'status': STATUS_OK, 'model': model_res}\n",
    "\n",
    "best_run, best_model, space = optim.minimize(\n",
    "    model=create_model,\n",
    "    data=data,\n",
    "    algo=tpe.suggest,\n",
    "    max_evals=20,\n",
    "    eval_space=True,\n",
    "    return_space=True,\n",
    "    trials=Trials(),\n",
    "    notebook_name='wavenet',\n",
    "    verbose=False,\n",
    ")"
   ]
  },
  {
   "cell_type": "code",
   "execution_count": 3,
   "metadata": {},
   "outputs": [
    {
     "name": "stdout",
     "output_type": "stream",
     "text": [
      "Chosen hyperparameters from the best-trained model\n",
      "{'Dropout': 0.3207527760045966, 'int': 7.0, 'int_1': 54.0, 'int_2': 82.0, 'optimizer': 'Nadam'}\n",
      "Train acc of best performing model after 10 epochs: 0.9877676\n",
      "Test acc of best performing model after 10 epochs: 0.9831902\n",
      "Confusion matrix, without normalization\n",
      "[[18027    37    38     3    13]\n",
      " [  137   410     8     0     1]\n",
      " [   46     0  1394     6     2]\n",
      " [   28     0    23   111     0]\n",
      " [   17     2     7     0  1582]]\n"
     ]
    },
    {
     "data": {
      "image/png": "[encoded data removed]",
      "text/plain": [
       "<Figure size 432x288 with 2 Axes>"
      ]
     },
     "metadata": {
      "needs_background": "light"
     },
     "output_type": "display_data"
    }
   ],
   "source": [
    "print(\"Chosen hyperparameters from the best-trained model\")\n",
    "print(best_run)\n",
    "\n",
    "print(\n",
    "    \"Train acc of best performing model after 10 epochs:\",\n",
    "    best_model.evaluate(inputs[\"train\"], labels[\"train\"], verbose=0)[1],\n",
    ")\n",
    "print(\n",
    "    \"Test acc of best performing model after 10 epochs:\",\n",
    "    best_model.evaluate(inputs[\"test\"], labels[\"test\"], verbose=0)[1],\n",
    ")\n",
    "\n",
    "test_pred = np.argmax(best_model.predict(inputs[\"test\"]), axis=1)\n",
    "plot.plot_cm(sparse_labels[\"test\"], test_pred, classes=np.arange(5), normalize=True)"
   ]
  }
 ],
 "metadata": {
  "kernelspec": {
   "display_name": "Python 3",
   "language": "python",
   "name": "python3"
  },
  "language_info": {
   "codemirror_mode": {
    "name": "ipython",
    "version": 3
   },
   "file_extension": ".py",
   "mimetype": "text/x-python",
   "name": "python",
   "nbconvert_exporter": "python",
   "pygments_lexer": "ipython3",
   "version": "3.7.3"
  }
 },
 "nbformat": 4,
 "nbformat_minor": 2
}
