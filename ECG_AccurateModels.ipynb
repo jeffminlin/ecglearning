{
 "cells": [
  {
   "cell_type": "code",
   "execution_count": 1,
   "metadata": {},
   "outputs": [],
   "source": [
    "import pandas as pd\n",
    "file_mit_test = 'mitbih_test.csv'\n",
    "file_mit_train = 'mitbih_train.csv'\n",
    "file_ptbdb_ab = 'ptbdb_abnormal.csv'\n",
    "file_ptbdb_no = 'ptbdb_normal.csv'\n",
    "\n",
    "df_mit_test = pd.read_csv(file_mit_test, header=None)\n",
    "df_mit_train = pd.read_csv(file_mit_train, header=None)\n",
    "df_ptbdb_ab = pd.read_csv(file_ptbdb_ab, header=None)\n",
    "df_ptbdb_no = pd.read_csv(file_ptbdb_no, header=None)\n",
    "\n",
    "import numpy as np\n",
    "import matplotlib.pyplot as plt\n",
    "%matplotlib inline\n",
    "X_train = df_mit_train.iloc[:,:-1]\n",
    "Y_train = df_mit_train.iloc[:,-1]\n",
    "X_test = df_mit_test.iloc[:,:-1]\n",
    "Y_test = df_mit_test.iloc[:,-1]"
   ]
  },
  {
   "cell_type": "code",
   "execution_count": 3,
   "metadata": {},
   "outputs": [
    {
     "name": "stdout",
     "output_type": "stream",
     "text": [
      "k-nearest neighbors score: 0.9746939521286314\n"
     ]
    }
   ],
   "source": [
    "# (1) k-nearest neighbors\n",
    "from sklearn.neighbors import KNeighborsClassifier\n",
    "clf = KNeighborsClassifier(n_neighbors=2)\n",
    "clf.fit(X_train,Y_train)\n",
    "print('k-nearest neighbors score:', clf.score(X_test, Y_test))\n",
    "# score of the k-nearest neighbors is 0.9747 with two neighbors "
   ]
  },
  {
   "cell_type": "code",
   "execution_count": 15,
   "metadata": {},
   "outputs": [
    {
     "name": "stdout",
     "output_type": "stream",
     "text": [
      "Accuracy on training set: 1.000\n",
      "Accuracy on test set: 0.953\n"
     ]
    }
   ],
   "source": [
    "# (6) decision trees\n",
    "from sklearn.tree import DecisionTreeClassifier\n",
    "tree = DecisionTreeClassifier(random_state=0)\n",
    "tree.fit(X_train,Y_train)\n",
    "print(\"Accuracy on training set: {:.3f}\".format(tree.score(X_train, Y_train)))\n",
    "print(\"Accuracy on test set: {:.3f}\".format(tree.score(X_test, Y_test)))\n",
    "# Accuracy on test set: 0.953"
   ]
  },
  {
   "cell_type": "code",
   "execution_count": 18,
   "metadata": {},
   "outputs": [
    {
     "name": "stdout",
     "output_type": "stream",
     "text": [
      "Accuracy on training set: 0.983\n",
      "Accuracy on test set: 0.957\n"
     ]
    }
   ],
   "source": [
    "# (8) Random Forest\n",
    "from sklearn.ensemble import RandomForestClassifier\n",
    "forest = RandomForestClassifier(n_estimators=2, random_state=5)\n",
    "forest.fit(X_train, Y_train)\n",
    "print(\"Accuracy on training set: {:.3f}\".format(forest.score(X_train, Y_train)))\n",
    "print(\"Accuracy on test set: {:.3f}\".format(forest.score(X_test, Y_test)))\n",
    "# Accuracy on test set: 0.957"
   ]
  },
  {
   "cell_type": "code",
   "execution_count": 19,
   "metadata": {},
   "outputs": [
    {
     "name": "stdout",
     "output_type": "stream",
     "text": [
      "Accuracy on training set: 0.997\n",
      "Accuracy on test set: 0.972\n"
     ]
    }
   ],
   "source": [
    "forest1 = RandomForestClassifier(n_estimators=10, random_state=5)\n",
    "forest1.fit(X_train, Y_train)\n",
    "print(\"Accuracy on training set: {:.3f}\".format(forest1.score(X_train, Y_train)))\n",
    "print(\"Accuracy on test set: {:.3f}\".format(forest1.score(X_test, Y_test)))\n",
    "#Accuracy on test set: 0.972"
   ]
  },
  {
   "cell_type": "code",
   "execution_count": 20,
   "metadata": {},
   "outputs": [
    {
     "name": "stdout",
     "output_type": "stream",
     "text": [
      "Accuracy on training set: 0.969\n",
      "Accuracy on test set: 0.964\n"
     ]
    }
   ],
   "source": [
    "# (9) Gradient Boosted Regression Trees\n",
    "from sklearn.ensemble import GradientBoostingClassifier\n",
    "gbrt = GradientBoostingClassifier(random_state=0)\n",
    "gbrt.fit(X_train, Y_train)\n",
    "print(\"Accuracy on training set: {:.3f}\".format(gbrt.score(X_train, Y_train)))\n",
    "print(\"Accuracy on test set: {:.3f}\".format(gbrt.score(X_test, Y_test)))\n",
    "#Accuracy on test set: 0.964"
   ]
  },
  {
   "cell_type": "code",
   "execution_count": 24,
   "metadata": {},
   "outputs": [
    {
     "name": "stdout",
     "output_type": "stream",
     "text": [
      "Accuracy on training set: 0.952\n",
      "Accuracy on test set: 0.949\n"
     ]
    }
   ],
   "source": [
    "# one hidden layer\n",
    "mlp1 = MLPClassifier(solver='lbfgs', random_state=0,hidden_layer_sizes=[10]).fit(X_train, Y_train)\n",
    "print(\"Accuracy on training set: {:.3f}\".format(mlp1.score(X_train, Y_train)))\n",
    "print(\"Accuracy on test set: {:.3f}\".format(mlp1.score(X_test, Y_test)))\n",
    "#Accuracy on test set: 0.949"
   ]
  },
  {
   "cell_type": "code",
   "execution_count": 25,
   "metadata": {},
   "outputs": [
    {
     "name": "stdout",
     "output_type": "stream",
     "text": [
      "Accuracy on training set: 0.962\n",
      "Accuracy on test set: 0.959\n"
     ]
    }
   ],
   "source": [
    "# two hidden layers\n",
    "mlp2 = MLPClassifier(solver='lbfgs', random_state=0,hidden_layer_sizes=[10,10]).fit(X_train, Y_train)\n",
    "print(\"Accuracy on training set: {:.3f}\".format(mlp2.score(X_train, Y_train)))\n",
    "print(\"Accuracy on test set: {:.3f}\".format(mlp2.score(X_test, Y_test)))\n",
    "#Accuracy on test set: 0.959"
   ]
  },
  {
   "cell_type": "code",
   "execution_count": 26,
   "metadata": {},
   "outputs": [
    {
     "name": "stdout",
     "output_type": "stream",
     "text": [
      "Accuracy on training set: 0.966\n",
      "Accuracy on test set: 0.964\n"
     ]
    }
   ],
   "source": [
    "# two hidden layers with tanh nonlinearity\n",
    "mlp2tanh = MLPClassifier(solver='lbfgs', activation='tanh', random_state=0,hidden_layer_sizes=[10,10]).fit(X_train, Y_train)\n",
    "print(\"Accuracy on training set: {:.3f}\".format(mlp2tanh.score(X_train, Y_train)))\n",
    "print(\"Accuracy on test set: {:.3f}\".format(mlp2tanh.score(X_test, Y_test)))\n",
    "#Accuracy on test set: 0.964"
   ]
  }
 ],
 "metadata": {
  "kernelspec": {
   "display_name": "Python 3",
   "language": "python",
   "name": "python3"
  },
  "language_info": {
   "codemirror_mode": {
    "name": "ipython",
    "version": 3
   },
   "file_extension": ".py",
   "mimetype": "text/x-python",
   "name": "python",
   "nbconvert_exporter": "python",
   "pygments_lexer": "ipython3",
   "version": "3.7.3"
  }
 },
 "nbformat": 4,
 "nbformat_minor": 2
}
